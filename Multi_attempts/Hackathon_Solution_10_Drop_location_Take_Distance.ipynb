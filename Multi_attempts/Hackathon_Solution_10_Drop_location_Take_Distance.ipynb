{
 "cells": [
  {
   "cell_type": "markdown",
   "id": "usual-cause",
   "metadata": {},
   "source": [
    "train.csv :\n",
    "·      area_type: The type of the house area feature 'total_sqft' specifies.\n",
    "·      availability: The availability date or availability status of the property.\n",
    "·      location: The locality of the property in Bengaluru city.\n",
    "·      size: The size of the housing property in BHK (or Bedrooms etc.,).\n",
    "·      society: The name of the Apartment. This name is encrypted for confidentiality.\n",
    "·      total_sqft: The 'area_type' area of the property.\n",
    "·      bath: Number of bathrooms available in the house.\n",
    "·      balcony: Number of balcony/balconies the house has.\n",
    "·      price: Price of the housing property in Lakhs. (target feature)\n",
    " \n",
    "The `test.csv` dataset contains similar information to train.csv but does not disclose the “price” feature. The price has to be predicted through your model.\n",
    " \n",
    "avg_rent.csv :\n",
    "·      location : The locality of the property in the bengaluru city.\n",
    "·      avg_2bhk_rent : Average rent of two BHK flat in that location\n",
    " \n",
    " \n",
    "dist_from_city_centre.csv : \n",
    "·      location : The locality of the property in the bengaluru city.\n",
    "·      dist_from_city : Distance of the location from city center"
   ]
  },
  {
   "cell_type": "code",
   "execution_count": 1631,
   "id": "macro-scottish",
   "metadata": {},
   "outputs": [],
   "source": [
    "import numpy as np\n",
    "import re\n",
    "import pandas as pd \n",
    "import matplotlib\n",
    "import matplotlib.pyplot as plt\n",
    "import seaborn as sns\n",
    "plt.style.use('fivethirtyeight')\n",
    "matplotlib.rcParams['font.family'] = \"Arial\"\n",
    "\n",
    "%matplotlib inline\n",
    "import collections\n",
    "import itertools\n",
    "import scipy.stats as stats\n",
    "from scipy.stats import norm\n",
    "from scipy.special import boxcox1p\n",
    "import statsmodels\n",
    "import statsmodels.api as sm\n",
    "from statsmodels.stats.outliers_influence import variance_inflation_factor\n",
    "#print(statsmodels.__version__)\n",
    "from sklearn.preprocessing import scale, StandardScaler, RobustScaler, OneHotEncoder\n",
    "from sklearn.compose import ColumnTransformer\n",
    "from sklearn.model_selection import train_test_split, cross_val_score, GridSearchCV, KFold, StratifiedKFold, RandomizedSearchCV\n",
    "from sklearn.linear_model import Ridge, RidgeCV, Lasso, LassoCV, LinearRegression, ElasticNet\n",
    "from sklearn.metrics import mean_squared_error, r2_score\n",
    "from sklearn.gaussian_process import GaussianProcessRegressor\n",
    "from sklearn.ensemble import RandomForestRegressor, GradientBoostingRegressor\n",
    "from sklearn.utils import resample\n",
    "\n",
    "from sklearn.model_selection import ShuffleSplit\n",
    "from sklearn.linear_model import Lasso\n",
    "from sklearn.tree import DecisionTreeRegressor\n",
    "from statsmodels.tools.eval_measures import rmse\n",
    "\n",
    "import warnings\n",
    "\n",
    "warnings.filterwarnings(\"ignore\")"
   ]
  },
  {
   "cell_type": "code",
   "execution_count": 1632,
   "id": "turned-restriction",
   "metadata": {},
   "outputs": [
    {
     "data": {
      "text/html": [
       "<div>\n",
       "<style scoped>\n",
       "    .dataframe tbody tr th:only-of-type {\n",
       "        vertical-align: middle;\n",
       "    }\n",
       "\n",
       "    .dataframe tbody tr th {\n",
       "        vertical-align: top;\n",
       "    }\n",
       "\n",
       "    .dataframe thead th {\n",
       "        text-align: right;\n",
       "    }\n",
       "</style>\n",
       "<table border=\"1\" class=\"dataframe\">\n",
       "  <thead>\n",
       "    <tr style=\"text-align: right;\">\n",
       "      <th></th>\n",
       "      <th>location</th>\n",
       "      <th>avg_2bhk_rent</th>\n",
       "    </tr>\n",
       "  </thead>\n",
       "  <tbody>\n",
       "    <tr>\n",
       "      <th>0</th>\n",
       "      <td>Krishnarajapura</td>\n",
       "      <td>11954</td>\n",
       "    </tr>\n",
       "    <tr>\n",
       "      <th>1</th>\n",
       "      <td>Sarjapur</td>\n",
       "      <td>45000</td>\n",
       "    </tr>\n",
       "    <tr>\n",
       "      <th>2</th>\n",
       "      <td>Whitefield Hope Farm Junction</td>\n",
       "      <td>26370</td>\n",
       "    </tr>\n",
       "    <tr>\n",
       "      <th>3</th>\n",
       "      <td>Devanahalli</td>\n",
       "      <td>17302</td>\n",
       "    </tr>\n",
       "    <tr>\n",
       "      <th>4</th>\n",
       "      <td>Whitefield</td>\n",
       "      <td>14981</td>\n",
       "    </tr>\n",
       "  </tbody>\n",
       "</table>\n",
       "</div>"
      ],
      "text/plain": [
       "                        location  avg_2bhk_rent\n",
       "0                Krishnarajapura          11954\n",
       "1                       Sarjapur          45000\n",
       "2  Whitefield Hope Farm Junction          26370\n",
       "3                    Devanahalli          17302\n",
       "4                     Whitefield          14981"
      ]
     },
     "execution_count": 1632,
     "metadata": {},
     "output_type": "execute_result"
    }
   ],
   "source": [
    "df = pd.read_csv(\"train.csv\")\n",
    "df_rent = pd.read_csv(\"avg_rent.csv\")\n",
    "df_dist = pd.read_csv(\"dist_from_city_centre.csv\")\n",
    "df_test = pd.read_csv(\"test.csv\")\n",
    "df_rent.head()"
   ]
  },
  {
   "cell_type": "code",
   "execution_count": 1633,
   "id": "indirect-selling",
   "metadata": {},
   "outputs": [],
   "source": [
    "import geopandas as gpd\n",
    "import geopy\n",
    "from geopy.geocoders import Nominatim\n",
    "from geopy.extra.rate_limiter import RateLimiter"
   ]
  },
  {
   "cell_type": "code",
   "execution_count": 1634,
   "id": "aging-abortion",
   "metadata": {},
   "outputs": [
    {
     "ename": "KeyboardInterrupt",
     "evalue": "",
     "output_type": "error",
     "traceback": [
      "\u001b[0;31m---------------------------------------------------------------------------\u001b[0m",
      "\u001b[0;31mKeyboardInterrupt\u001b[0m                         Traceback (most recent call last)",
      "\u001b[0;32m<ipython-input-1634-97e658ea0aeb>\u001b[0m in \u001b[0;36m<module>\u001b[0;34m\u001b[0m\n\u001b[1;32m      4\u001b[0m \u001b[0;34m\u001b[0m\u001b[0m\n\u001b[1;32m      5\u001b[0m \u001b[0mdf\u001b[0m\u001b[0;34m[\u001b[0m\u001b[0;34m'location_city'\u001b[0m\u001b[0;34m]\u001b[0m \u001b[0;34m=\u001b[0m \u001b[0mdf\u001b[0m\u001b[0;34m[\u001b[0m\u001b[0;34m'location'\u001b[0m\u001b[0;34m]\u001b[0m\u001b[0;34m.\u001b[0m\u001b[0mapply\u001b[0m\u001b[0;34m(\u001b[0m\u001b[0;32mlambda\u001b[0m \u001b[0mx\u001b[0m\u001b[0;34m:\u001b[0m \u001b[0mstr\u001b[0m\u001b[0;34m(\u001b[0m\u001b[0mx\u001b[0m\u001b[0;34m)\u001b[0m \u001b[0;34m+\u001b[0m \u001b[0;34m\", Bangalore, Karnataka, India\"\u001b[0m\u001b[0;34m)\u001b[0m\u001b[0;34m\u001b[0m\u001b[0;34m\u001b[0m\u001b[0m\n\u001b[0;32m----> 6\u001b[0;31m \u001b[0mdf\u001b[0m\u001b[0;34m[\u001b[0m\u001b[0;34m'loc-lat'\u001b[0m\u001b[0;34m]\u001b[0m \u001b[0;34m=\u001b[0m \u001b[0mdf\u001b[0m\u001b[0;34m[\u001b[0m\u001b[0;34m'location_city'\u001b[0m\u001b[0;34m]\u001b[0m\u001b[0;34m.\u001b[0m\u001b[0mapply\u001b[0m\u001b[0;34m(\u001b[0m\u001b[0mgeocode\u001b[0m\u001b[0;34m)\u001b[0m\u001b[0;34m.\u001b[0m\u001b[0mlatitude\u001b[0m\u001b[0;34m\u001b[0m\u001b[0;34m\u001b[0m\u001b[0m\n\u001b[0m\u001b[1;32m      7\u001b[0m \u001b[0mdf\u001b[0m\u001b[0;34m[\u001b[0m\u001b[0;34m'loc-long'\u001b[0m\u001b[0;34m]\u001b[0m \u001b[0;34m=\u001b[0m \u001b[0mdf\u001b[0m\u001b[0;34m[\u001b[0m\u001b[0;34m'location_city'\u001b[0m\u001b[0;34m]\u001b[0m\u001b[0;34m.\u001b[0m\u001b[0mapply\u001b[0m\u001b[0;34m(\u001b[0m\u001b[0mgeocode\u001b[0m\u001b[0;34m)\u001b[0m\u001b[0;34m.\u001b[0m\u001b[0mlongitude\u001b[0m\u001b[0;34m\u001b[0m\u001b[0;34m\u001b[0m\u001b[0m\n\u001b[1;32m      8\u001b[0m \u001b[0mdf\u001b[0m\u001b[0;34m.\u001b[0m\u001b[0mhead\u001b[0m\u001b[0;34m(\u001b[0m\u001b[0;34m)\u001b[0m\u001b[0;34m\u001b[0m\u001b[0;34m\u001b[0m\u001b[0m\n",
      "\u001b[0;32m~/opt/miniconda3/lib/python3.7/site-packages/pandas/core/series.py\u001b[0m in \u001b[0;36mapply\u001b[0;34m(self, func, convert_dtype, args, **kwds)\u001b[0m\n\u001b[1;32m   4136\u001b[0m             \u001b[0;32melse\u001b[0m\u001b[0;34m:\u001b[0m\u001b[0;34m\u001b[0m\u001b[0;34m\u001b[0m\u001b[0m\n\u001b[1;32m   4137\u001b[0m                 \u001b[0mvalues\u001b[0m \u001b[0;34m=\u001b[0m \u001b[0mself\u001b[0m\u001b[0;34m.\u001b[0m\u001b[0mastype\u001b[0m\u001b[0;34m(\u001b[0m\u001b[0mobject\u001b[0m\u001b[0;34m)\u001b[0m\u001b[0;34m.\u001b[0m\u001b[0m_values\u001b[0m\u001b[0;34m\u001b[0m\u001b[0;34m\u001b[0m\u001b[0m\n\u001b[0;32m-> 4138\u001b[0;31m                 \u001b[0mmapped\u001b[0m \u001b[0;34m=\u001b[0m \u001b[0mlib\u001b[0m\u001b[0;34m.\u001b[0m\u001b[0mmap_infer\u001b[0m\u001b[0;34m(\u001b[0m\u001b[0mvalues\u001b[0m\u001b[0;34m,\u001b[0m \u001b[0mf\u001b[0m\u001b[0;34m,\u001b[0m \u001b[0mconvert\u001b[0m\u001b[0;34m=\u001b[0m\u001b[0mconvert_dtype\u001b[0m\u001b[0;34m)\u001b[0m\u001b[0;34m\u001b[0m\u001b[0;34m\u001b[0m\u001b[0m\n\u001b[0m\u001b[1;32m   4139\u001b[0m \u001b[0;34m\u001b[0m\u001b[0m\n\u001b[1;32m   4140\u001b[0m         \u001b[0;32mif\u001b[0m \u001b[0mlen\u001b[0m\u001b[0;34m(\u001b[0m\u001b[0mmapped\u001b[0m\u001b[0;34m)\u001b[0m \u001b[0;32mand\u001b[0m \u001b[0misinstance\u001b[0m\u001b[0;34m(\u001b[0m\u001b[0mmapped\u001b[0m\u001b[0;34m[\u001b[0m\u001b[0;36m0\u001b[0m\u001b[0;34m]\u001b[0m\u001b[0;34m,\u001b[0m \u001b[0mSeries\u001b[0m\u001b[0;34m)\u001b[0m\u001b[0;34m:\u001b[0m\u001b[0;34m\u001b[0m\u001b[0;34m\u001b[0m\u001b[0m\n",
      "\u001b[0;32mpandas/_libs/lib.pyx\u001b[0m in \u001b[0;36mpandas._libs.lib.map_infer\u001b[0;34m()\u001b[0m\n",
      "\u001b[0;32m~/opt/miniconda3/lib/python3.7/site-packages/geopy/extra/rate_limiter.py\u001b[0m in \u001b[0;36m__call__\u001b[0;34m(self, *args, **kwargs)\u001b[0m\n\u001b[1;32m    272\u001b[0m             \u001b[0mself\u001b[0m\u001b[0;34m.\u001b[0m\u001b[0m_acquire_request_slot\u001b[0m\u001b[0;34m(\u001b[0m\u001b[0;34m)\u001b[0m\u001b[0;34m\u001b[0m\u001b[0;34m\u001b[0m\u001b[0m\n\u001b[1;32m    273\u001b[0m             \u001b[0;32mtry\u001b[0m\u001b[0;34m:\u001b[0m\u001b[0;34m\u001b[0m\u001b[0;34m\u001b[0m\u001b[0m\n\u001b[0;32m--> 274\u001b[0;31m                 \u001b[0mres\u001b[0m \u001b[0;34m=\u001b[0m \u001b[0mself\u001b[0m\u001b[0;34m.\u001b[0m\u001b[0mfunc\u001b[0m\u001b[0;34m(\u001b[0m\u001b[0;34m*\u001b[0m\u001b[0margs\u001b[0m\u001b[0;34m,\u001b[0m \u001b[0;34m**\u001b[0m\u001b[0mkwargs\u001b[0m\u001b[0;34m)\u001b[0m\u001b[0;34m\u001b[0m\u001b[0;34m\u001b[0m\u001b[0m\n\u001b[0m\u001b[1;32m    275\u001b[0m                 \u001b[0;32mif\u001b[0m \u001b[0minspect\u001b[0m\u001b[0;34m.\u001b[0m\u001b[0misawaitable\u001b[0m\u001b[0;34m(\u001b[0m\u001b[0mres\u001b[0m\u001b[0;34m)\u001b[0m\u001b[0;34m:\u001b[0m\u001b[0;34m\u001b[0m\u001b[0;34m\u001b[0m\u001b[0m\n\u001b[1;32m    276\u001b[0m                     raise ValueError(\n",
      "\u001b[0;32m~/opt/miniconda3/lib/python3.7/site-packages/geopy/geocoders/nominatim.py\u001b[0m in \u001b[0;36mgeocode\u001b[0;34m(self, query, exactly_one, timeout, limit, addressdetails, language, geometry, extratags, country_codes, viewbox, bounded, featuretype, namedetails)\u001b[0m\n\u001b[1;32m    295\u001b[0m         \u001b[0mlogger\u001b[0m\u001b[0;34m.\u001b[0m\u001b[0mdebug\u001b[0m\u001b[0;34m(\u001b[0m\u001b[0;34m\"%s.geocode: %s\"\u001b[0m\u001b[0;34m,\u001b[0m \u001b[0mself\u001b[0m\u001b[0;34m.\u001b[0m\u001b[0m__class__\u001b[0m\u001b[0;34m.\u001b[0m\u001b[0m__name__\u001b[0m\u001b[0;34m,\u001b[0m \u001b[0murl\u001b[0m\u001b[0;34m)\u001b[0m\u001b[0;34m\u001b[0m\u001b[0;34m\u001b[0m\u001b[0m\n\u001b[1;32m    296\u001b[0m         \u001b[0mcallback\u001b[0m \u001b[0;34m=\u001b[0m \u001b[0mpartial\u001b[0m\u001b[0;34m(\u001b[0m\u001b[0mself\u001b[0m\u001b[0;34m.\u001b[0m\u001b[0m_parse_json\u001b[0m\u001b[0;34m,\u001b[0m \u001b[0mexactly_one\u001b[0m\u001b[0;34m=\u001b[0m\u001b[0mexactly_one\u001b[0m\u001b[0;34m)\u001b[0m\u001b[0;34m\u001b[0m\u001b[0;34m\u001b[0m\u001b[0m\n\u001b[0;32m--> 297\u001b[0;31m         \u001b[0;32mreturn\u001b[0m \u001b[0mself\u001b[0m\u001b[0;34m.\u001b[0m\u001b[0m_call_geocoder\u001b[0m\u001b[0;34m(\u001b[0m\u001b[0murl\u001b[0m\u001b[0;34m,\u001b[0m \u001b[0mcallback\u001b[0m\u001b[0;34m,\u001b[0m \u001b[0mtimeout\u001b[0m\u001b[0;34m=\u001b[0m\u001b[0mtimeout\u001b[0m\u001b[0;34m)\u001b[0m\u001b[0;34m\u001b[0m\u001b[0;34m\u001b[0m\u001b[0m\n\u001b[0m\u001b[1;32m    298\u001b[0m \u001b[0;34m\u001b[0m\u001b[0m\n\u001b[1;32m    299\u001b[0m     def reverse(\n",
      "\u001b[0;32m~/opt/miniconda3/lib/python3.7/site-packages/geopy/geocoders/base.py\u001b[0m in \u001b[0;36m_call_geocoder\u001b[0;34m(self, url, callback, timeout, is_json, headers)\u001b[0m\n\u001b[1;32m    366\u001b[0m         \u001b[0;32mtry\u001b[0m\u001b[0;34m:\u001b[0m\u001b[0;34m\u001b[0m\u001b[0;34m\u001b[0m\u001b[0m\n\u001b[1;32m    367\u001b[0m             \u001b[0;32mif\u001b[0m \u001b[0mis_json\u001b[0m\u001b[0;34m:\u001b[0m\u001b[0;34m\u001b[0m\u001b[0;34m\u001b[0m\u001b[0m\n\u001b[0;32m--> 368\u001b[0;31m                 \u001b[0mresult\u001b[0m \u001b[0;34m=\u001b[0m \u001b[0mself\u001b[0m\u001b[0;34m.\u001b[0m\u001b[0madapter\u001b[0m\u001b[0;34m.\u001b[0m\u001b[0mget_json\u001b[0m\u001b[0;34m(\u001b[0m\u001b[0murl\u001b[0m\u001b[0;34m,\u001b[0m \u001b[0mtimeout\u001b[0m\u001b[0;34m=\u001b[0m\u001b[0mtimeout\u001b[0m\u001b[0;34m,\u001b[0m \u001b[0mheaders\u001b[0m\u001b[0;34m=\u001b[0m\u001b[0mreq_headers\u001b[0m\u001b[0;34m)\u001b[0m\u001b[0;34m\u001b[0m\u001b[0;34m\u001b[0m\u001b[0m\n\u001b[0m\u001b[1;32m    369\u001b[0m             \u001b[0;32melse\u001b[0m\u001b[0;34m:\u001b[0m\u001b[0;34m\u001b[0m\u001b[0;34m\u001b[0m\u001b[0m\n\u001b[1;32m    370\u001b[0m                 \u001b[0mresult\u001b[0m \u001b[0;34m=\u001b[0m \u001b[0mself\u001b[0m\u001b[0;34m.\u001b[0m\u001b[0madapter\u001b[0m\u001b[0;34m.\u001b[0m\u001b[0mget_text\u001b[0m\u001b[0;34m(\u001b[0m\u001b[0murl\u001b[0m\u001b[0;34m,\u001b[0m \u001b[0mtimeout\u001b[0m\u001b[0;34m=\u001b[0m\u001b[0mtimeout\u001b[0m\u001b[0;34m,\u001b[0m \u001b[0mheaders\u001b[0m\u001b[0;34m=\u001b[0m\u001b[0mreq_headers\u001b[0m\u001b[0;34m)\u001b[0m\u001b[0;34m\u001b[0m\u001b[0;34m\u001b[0m\u001b[0m\n",
      "\u001b[0;32m~/opt/miniconda3/lib/python3.7/site-packages/geopy/adapters.py\u001b[0m in \u001b[0;36mget_json\u001b[0;34m(self, url, timeout, headers)\u001b[0m\n\u001b[1;32m    436\u001b[0m \u001b[0;34m\u001b[0m\u001b[0m\n\u001b[1;32m    437\u001b[0m     \u001b[0;32mdef\u001b[0m \u001b[0mget_json\u001b[0m\u001b[0;34m(\u001b[0m\u001b[0mself\u001b[0m\u001b[0;34m,\u001b[0m \u001b[0murl\u001b[0m\u001b[0;34m,\u001b[0m \u001b[0;34m*\u001b[0m\u001b[0;34m,\u001b[0m \u001b[0mtimeout\u001b[0m\u001b[0;34m,\u001b[0m \u001b[0mheaders\u001b[0m\u001b[0;34m)\u001b[0m\u001b[0;34m:\u001b[0m\u001b[0;34m\u001b[0m\u001b[0;34m\u001b[0m\u001b[0m\n\u001b[0;32m--> 438\u001b[0;31m         \u001b[0mresp\u001b[0m \u001b[0;34m=\u001b[0m \u001b[0mself\u001b[0m\u001b[0;34m.\u001b[0m\u001b[0m_request\u001b[0m\u001b[0;34m(\u001b[0m\u001b[0murl\u001b[0m\u001b[0;34m,\u001b[0m \u001b[0mtimeout\u001b[0m\u001b[0;34m=\u001b[0m\u001b[0mtimeout\u001b[0m\u001b[0;34m,\u001b[0m \u001b[0mheaders\u001b[0m\u001b[0;34m=\u001b[0m\u001b[0mheaders\u001b[0m\u001b[0;34m)\u001b[0m\u001b[0;34m\u001b[0m\u001b[0;34m\u001b[0m\u001b[0m\n\u001b[0m\u001b[1;32m    439\u001b[0m         \u001b[0;32mtry\u001b[0m\u001b[0;34m:\u001b[0m\u001b[0;34m\u001b[0m\u001b[0;34m\u001b[0m\u001b[0m\n\u001b[1;32m    440\u001b[0m             \u001b[0;32mreturn\u001b[0m \u001b[0mresp\u001b[0m\u001b[0;34m.\u001b[0m\u001b[0mjson\u001b[0m\u001b[0;34m(\u001b[0m\u001b[0;34m)\u001b[0m\u001b[0;34m\u001b[0m\u001b[0;34m\u001b[0m\u001b[0m\n",
      "\u001b[0;32m~/opt/miniconda3/lib/python3.7/site-packages/geopy/adapters.py\u001b[0m in \u001b[0;36m_request\u001b[0;34m(self, url, timeout, headers)\u001b[0m\n\u001b[1;32m    446\u001b[0m     \u001b[0;32mdef\u001b[0m \u001b[0m_request\u001b[0m\u001b[0;34m(\u001b[0m\u001b[0mself\u001b[0m\u001b[0;34m,\u001b[0m \u001b[0murl\u001b[0m\u001b[0;34m,\u001b[0m \u001b[0;34m*\u001b[0m\u001b[0;34m,\u001b[0m \u001b[0mtimeout\u001b[0m\u001b[0;34m,\u001b[0m \u001b[0mheaders\u001b[0m\u001b[0;34m)\u001b[0m\u001b[0;34m:\u001b[0m\u001b[0;34m\u001b[0m\u001b[0;34m\u001b[0m\u001b[0m\n\u001b[1;32m    447\u001b[0m         \u001b[0;32mtry\u001b[0m\u001b[0;34m:\u001b[0m\u001b[0;34m\u001b[0m\u001b[0;34m\u001b[0m\u001b[0m\n\u001b[0;32m--> 448\u001b[0;31m             \u001b[0mresp\u001b[0m \u001b[0;34m=\u001b[0m \u001b[0mself\u001b[0m\u001b[0;34m.\u001b[0m\u001b[0msession\u001b[0m\u001b[0;34m.\u001b[0m\u001b[0mget\u001b[0m\u001b[0;34m(\u001b[0m\u001b[0murl\u001b[0m\u001b[0;34m,\u001b[0m \u001b[0mtimeout\u001b[0m\u001b[0;34m=\u001b[0m\u001b[0mtimeout\u001b[0m\u001b[0;34m,\u001b[0m \u001b[0mheaders\u001b[0m\u001b[0;34m=\u001b[0m\u001b[0mheaders\u001b[0m\u001b[0;34m)\u001b[0m\u001b[0;34m\u001b[0m\u001b[0;34m\u001b[0m\u001b[0m\n\u001b[0m\u001b[1;32m    449\u001b[0m         \u001b[0;32mexcept\u001b[0m \u001b[0mException\u001b[0m \u001b[0;32mas\u001b[0m \u001b[0merror\u001b[0m\u001b[0;34m:\u001b[0m\u001b[0;34m\u001b[0m\u001b[0;34m\u001b[0m\u001b[0m\n\u001b[1;32m    450\u001b[0m             \u001b[0mmessage\u001b[0m \u001b[0;34m=\u001b[0m \u001b[0mstr\u001b[0m\u001b[0;34m(\u001b[0m\u001b[0merror\u001b[0m\u001b[0;34m)\u001b[0m\u001b[0;34m\u001b[0m\u001b[0;34m\u001b[0m\u001b[0m\n",
      "\u001b[0;32m~/opt/miniconda3/lib/python3.7/site-packages/requests/sessions.py\u001b[0m in \u001b[0;36mget\u001b[0;34m(self, url, **kwargs)\u001b[0m\n\u001b[1;32m    541\u001b[0m \u001b[0;34m\u001b[0m\u001b[0m\n\u001b[1;32m    542\u001b[0m         \u001b[0mkwargs\u001b[0m\u001b[0;34m.\u001b[0m\u001b[0msetdefault\u001b[0m\u001b[0;34m(\u001b[0m\u001b[0;34m'allow_redirects'\u001b[0m\u001b[0;34m,\u001b[0m \u001b[0;32mTrue\u001b[0m\u001b[0;34m)\u001b[0m\u001b[0;34m\u001b[0m\u001b[0;34m\u001b[0m\u001b[0m\n\u001b[0;32m--> 543\u001b[0;31m         \u001b[0;32mreturn\u001b[0m \u001b[0mself\u001b[0m\u001b[0;34m.\u001b[0m\u001b[0mrequest\u001b[0m\u001b[0;34m(\u001b[0m\u001b[0;34m'GET'\u001b[0m\u001b[0;34m,\u001b[0m \u001b[0murl\u001b[0m\u001b[0;34m,\u001b[0m \u001b[0;34m**\u001b[0m\u001b[0mkwargs\u001b[0m\u001b[0;34m)\u001b[0m\u001b[0;34m\u001b[0m\u001b[0;34m\u001b[0m\u001b[0m\n\u001b[0m\u001b[1;32m    544\u001b[0m \u001b[0;34m\u001b[0m\u001b[0m\n\u001b[1;32m    545\u001b[0m     \u001b[0;32mdef\u001b[0m \u001b[0moptions\u001b[0m\u001b[0;34m(\u001b[0m\u001b[0mself\u001b[0m\u001b[0;34m,\u001b[0m \u001b[0murl\u001b[0m\u001b[0;34m,\u001b[0m \u001b[0;34m**\u001b[0m\u001b[0mkwargs\u001b[0m\u001b[0;34m)\u001b[0m\u001b[0;34m:\u001b[0m\u001b[0;34m\u001b[0m\u001b[0;34m\u001b[0m\u001b[0m\n",
      "\u001b[0;32m~/opt/miniconda3/lib/python3.7/site-packages/requests/sessions.py\u001b[0m in \u001b[0;36mrequest\u001b[0;34m(self, method, url, params, data, headers, cookies, files, auth, timeout, allow_redirects, proxies, hooks, stream, verify, cert, json)\u001b[0m\n\u001b[1;32m    528\u001b[0m         }\n\u001b[1;32m    529\u001b[0m         \u001b[0msend_kwargs\u001b[0m\u001b[0;34m.\u001b[0m\u001b[0mupdate\u001b[0m\u001b[0;34m(\u001b[0m\u001b[0msettings\u001b[0m\u001b[0;34m)\u001b[0m\u001b[0;34m\u001b[0m\u001b[0;34m\u001b[0m\u001b[0m\n\u001b[0;32m--> 530\u001b[0;31m         \u001b[0mresp\u001b[0m \u001b[0;34m=\u001b[0m \u001b[0mself\u001b[0m\u001b[0;34m.\u001b[0m\u001b[0msend\u001b[0m\u001b[0;34m(\u001b[0m\u001b[0mprep\u001b[0m\u001b[0;34m,\u001b[0m \u001b[0;34m**\u001b[0m\u001b[0msend_kwargs\u001b[0m\u001b[0;34m)\u001b[0m\u001b[0;34m\u001b[0m\u001b[0;34m\u001b[0m\u001b[0m\n\u001b[0m\u001b[1;32m    531\u001b[0m \u001b[0;34m\u001b[0m\u001b[0m\n\u001b[1;32m    532\u001b[0m         \u001b[0;32mreturn\u001b[0m \u001b[0mresp\u001b[0m\u001b[0;34m\u001b[0m\u001b[0;34m\u001b[0m\u001b[0m\n",
      "\u001b[0;32m~/opt/miniconda3/lib/python3.7/site-packages/requests/sessions.py\u001b[0m in \u001b[0;36msend\u001b[0;34m(self, request, **kwargs)\u001b[0m\n\u001b[1;32m    641\u001b[0m \u001b[0;34m\u001b[0m\u001b[0m\n\u001b[1;32m    642\u001b[0m         \u001b[0;31m# Send the request\u001b[0m\u001b[0;34m\u001b[0m\u001b[0;34m\u001b[0m\u001b[0;34m\u001b[0m\u001b[0m\n\u001b[0;32m--> 643\u001b[0;31m         \u001b[0mr\u001b[0m \u001b[0;34m=\u001b[0m \u001b[0madapter\u001b[0m\u001b[0;34m.\u001b[0m\u001b[0msend\u001b[0m\u001b[0;34m(\u001b[0m\u001b[0mrequest\u001b[0m\u001b[0;34m,\u001b[0m \u001b[0;34m**\u001b[0m\u001b[0mkwargs\u001b[0m\u001b[0;34m)\u001b[0m\u001b[0;34m\u001b[0m\u001b[0;34m\u001b[0m\u001b[0m\n\u001b[0m\u001b[1;32m    644\u001b[0m \u001b[0;34m\u001b[0m\u001b[0m\n\u001b[1;32m    645\u001b[0m         \u001b[0;31m# Total elapsed time of the request (approximately)\u001b[0m\u001b[0;34m\u001b[0m\u001b[0;34m\u001b[0m\u001b[0;34m\u001b[0m\u001b[0m\n",
      "\u001b[0;32m~/opt/miniconda3/lib/python3.7/site-packages/requests/adapters.py\u001b[0m in \u001b[0;36msend\u001b[0;34m(self, request, stream, timeout, verify, cert, proxies)\u001b[0m\n\u001b[1;32m    447\u001b[0m                     \u001b[0mdecode_content\u001b[0m\u001b[0;34m=\u001b[0m\u001b[0;32mFalse\u001b[0m\u001b[0;34m,\u001b[0m\u001b[0;34m\u001b[0m\u001b[0;34m\u001b[0m\u001b[0m\n\u001b[1;32m    448\u001b[0m                     \u001b[0mretries\u001b[0m\u001b[0;34m=\u001b[0m\u001b[0mself\u001b[0m\u001b[0;34m.\u001b[0m\u001b[0mmax_retries\u001b[0m\u001b[0;34m,\u001b[0m\u001b[0;34m\u001b[0m\u001b[0;34m\u001b[0m\u001b[0m\n\u001b[0;32m--> 449\u001b[0;31m                     \u001b[0mtimeout\u001b[0m\u001b[0;34m=\u001b[0m\u001b[0mtimeout\u001b[0m\u001b[0;34m\u001b[0m\u001b[0;34m\u001b[0m\u001b[0m\n\u001b[0m\u001b[1;32m    450\u001b[0m                 )\n\u001b[1;32m    451\u001b[0m \u001b[0;34m\u001b[0m\u001b[0m\n",
      "\u001b[0;32m~/opt/miniconda3/lib/python3.7/site-packages/urllib3/connectionpool.py\u001b[0m in \u001b[0;36murlopen\u001b[0;34m(self, method, url, body, headers, retries, redirect, assert_same_host, timeout, pool_timeout, release_conn, chunked, body_pos, **response_kw)\u001b[0m\n\u001b[1;32m    675\u001b[0m                 \u001b[0mbody\u001b[0m\u001b[0;34m=\u001b[0m\u001b[0mbody\u001b[0m\u001b[0;34m,\u001b[0m\u001b[0;34m\u001b[0m\u001b[0;34m\u001b[0m\u001b[0m\n\u001b[1;32m    676\u001b[0m                 \u001b[0mheaders\u001b[0m\u001b[0;34m=\u001b[0m\u001b[0mheaders\u001b[0m\u001b[0;34m,\u001b[0m\u001b[0;34m\u001b[0m\u001b[0;34m\u001b[0m\u001b[0m\n\u001b[0;32m--> 677\u001b[0;31m                 \u001b[0mchunked\u001b[0m\u001b[0;34m=\u001b[0m\u001b[0mchunked\u001b[0m\u001b[0;34m,\u001b[0m\u001b[0;34m\u001b[0m\u001b[0;34m\u001b[0m\u001b[0m\n\u001b[0m\u001b[1;32m    678\u001b[0m             )\n\u001b[1;32m    679\u001b[0m \u001b[0;34m\u001b[0m\u001b[0m\n",
      "\u001b[0;32m~/opt/miniconda3/lib/python3.7/site-packages/urllib3/connectionpool.py\u001b[0m in \u001b[0;36m_make_request\u001b[0;34m(self, conn, method, url, timeout, chunked, **httplib_request_kw)\u001b[0m\n\u001b[1;32m    424\u001b[0m                     \u001b[0;31m# Python 3 (including for exceptions like SystemExit).\u001b[0m\u001b[0;34m\u001b[0m\u001b[0;34m\u001b[0m\u001b[0;34m\u001b[0m\u001b[0m\n\u001b[1;32m    425\u001b[0m                     \u001b[0;31m# Otherwise it looks like a bug in the code.\u001b[0m\u001b[0;34m\u001b[0m\u001b[0;34m\u001b[0m\u001b[0;34m\u001b[0m\u001b[0m\n\u001b[0;32m--> 426\u001b[0;31m                     \u001b[0msix\u001b[0m\u001b[0;34m.\u001b[0m\u001b[0mraise_from\u001b[0m\u001b[0;34m(\u001b[0m\u001b[0me\u001b[0m\u001b[0;34m,\u001b[0m \u001b[0;32mNone\u001b[0m\u001b[0;34m)\u001b[0m\u001b[0;34m\u001b[0m\u001b[0;34m\u001b[0m\u001b[0m\n\u001b[0m\u001b[1;32m    427\u001b[0m         \u001b[0;32mexcept\u001b[0m \u001b[0;34m(\u001b[0m\u001b[0mSocketTimeout\u001b[0m\u001b[0;34m,\u001b[0m \u001b[0mBaseSSLError\u001b[0m\u001b[0;34m,\u001b[0m \u001b[0mSocketError\u001b[0m\u001b[0;34m)\u001b[0m \u001b[0;32mas\u001b[0m \u001b[0me\u001b[0m\u001b[0;34m:\u001b[0m\u001b[0;34m\u001b[0m\u001b[0;34m\u001b[0m\u001b[0m\n\u001b[1;32m    428\u001b[0m             \u001b[0mself\u001b[0m\u001b[0;34m.\u001b[0m\u001b[0m_raise_timeout\u001b[0m\u001b[0;34m(\u001b[0m\u001b[0merr\u001b[0m\u001b[0;34m=\u001b[0m\u001b[0me\u001b[0m\u001b[0;34m,\u001b[0m \u001b[0murl\u001b[0m\u001b[0;34m=\u001b[0m\u001b[0murl\u001b[0m\u001b[0;34m,\u001b[0m \u001b[0mtimeout_value\u001b[0m\u001b[0;34m=\u001b[0m\u001b[0mread_timeout\u001b[0m\u001b[0;34m)\u001b[0m\u001b[0;34m\u001b[0m\u001b[0;34m\u001b[0m\u001b[0m\n",
      "\u001b[0;32m~/opt/miniconda3/lib/python3.7/site-packages/urllib3/packages/six.py\u001b[0m in \u001b[0;36mraise_from\u001b[0;34m(value, from_value)\u001b[0m\n",
      "\u001b[0;32m~/opt/miniconda3/lib/python3.7/site-packages/urllib3/connectionpool.py\u001b[0m in \u001b[0;36m_make_request\u001b[0;34m(self, conn, method, url, timeout, chunked, **httplib_request_kw)\u001b[0m\n\u001b[1;32m    419\u001b[0m                 \u001b[0;31m# Python 3\u001b[0m\u001b[0;34m\u001b[0m\u001b[0;34m\u001b[0m\u001b[0;34m\u001b[0m\u001b[0m\n\u001b[1;32m    420\u001b[0m                 \u001b[0;32mtry\u001b[0m\u001b[0;34m:\u001b[0m\u001b[0;34m\u001b[0m\u001b[0;34m\u001b[0m\u001b[0m\n\u001b[0;32m--> 421\u001b[0;31m                     \u001b[0mhttplib_response\u001b[0m \u001b[0;34m=\u001b[0m \u001b[0mconn\u001b[0m\u001b[0;34m.\u001b[0m\u001b[0mgetresponse\u001b[0m\u001b[0;34m(\u001b[0m\u001b[0;34m)\u001b[0m\u001b[0;34m\u001b[0m\u001b[0;34m\u001b[0m\u001b[0m\n\u001b[0m\u001b[1;32m    422\u001b[0m                 \u001b[0;32mexcept\u001b[0m \u001b[0mBaseException\u001b[0m \u001b[0;32mas\u001b[0m \u001b[0me\u001b[0m\u001b[0;34m:\u001b[0m\u001b[0;34m\u001b[0m\u001b[0;34m\u001b[0m\u001b[0m\n\u001b[1;32m    423\u001b[0m                     \u001b[0;31m# Remove the TypeError from the exception chain in\u001b[0m\u001b[0;34m\u001b[0m\u001b[0;34m\u001b[0m\u001b[0;34m\u001b[0m\u001b[0m\n",
      "\u001b[0;32m~/opt/miniconda3/lib/python3.7/http/client.py\u001b[0m in \u001b[0;36mgetresponse\u001b[0;34m(self)\u001b[0m\n\u001b[1;32m   1367\u001b[0m         \u001b[0;32mtry\u001b[0m\u001b[0;34m:\u001b[0m\u001b[0;34m\u001b[0m\u001b[0;34m\u001b[0m\u001b[0m\n\u001b[1;32m   1368\u001b[0m             \u001b[0;32mtry\u001b[0m\u001b[0;34m:\u001b[0m\u001b[0;34m\u001b[0m\u001b[0;34m\u001b[0m\u001b[0m\n\u001b[0;32m-> 1369\u001b[0;31m                 \u001b[0mresponse\u001b[0m\u001b[0;34m.\u001b[0m\u001b[0mbegin\u001b[0m\u001b[0;34m(\u001b[0m\u001b[0;34m)\u001b[0m\u001b[0;34m\u001b[0m\u001b[0;34m\u001b[0m\u001b[0m\n\u001b[0m\u001b[1;32m   1370\u001b[0m             \u001b[0;32mexcept\u001b[0m \u001b[0mConnectionError\u001b[0m\u001b[0;34m:\u001b[0m\u001b[0;34m\u001b[0m\u001b[0;34m\u001b[0m\u001b[0m\n\u001b[1;32m   1371\u001b[0m                 \u001b[0mself\u001b[0m\u001b[0;34m.\u001b[0m\u001b[0mclose\u001b[0m\u001b[0;34m(\u001b[0m\u001b[0;34m)\u001b[0m\u001b[0;34m\u001b[0m\u001b[0;34m\u001b[0m\u001b[0m\n",
      "\u001b[0;32m~/opt/miniconda3/lib/python3.7/http/client.py\u001b[0m in \u001b[0;36mbegin\u001b[0;34m(self)\u001b[0m\n\u001b[1;32m    308\u001b[0m         \u001b[0;31m# read until we get a non-100 response\u001b[0m\u001b[0;34m\u001b[0m\u001b[0;34m\u001b[0m\u001b[0;34m\u001b[0m\u001b[0m\n\u001b[1;32m    309\u001b[0m         \u001b[0;32mwhile\u001b[0m \u001b[0;32mTrue\u001b[0m\u001b[0;34m:\u001b[0m\u001b[0;34m\u001b[0m\u001b[0;34m\u001b[0m\u001b[0m\n\u001b[0;32m--> 310\u001b[0;31m             \u001b[0mversion\u001b[0m\u001b[0;34m,\u001b[0m \u001b[0mstatus\u001b[0m\u001b[0;34m,\u001b[0m \u001b[0mreason\u001b[0m \u001b[0;34m=\u001b[0m \u001b[0mself\u001b[0m\u001b[0;34m.\u001b[0m\u001b[0m_read_status\u001b[0m\u001b[0;34m(\u001b[0m\u001b[0;34m)\u001b[0m\u001b[0;34m\u001b[0m\u001b[0;34m\u001b[0m\u001b[0m\n\u001b[0m\u001b[1;32m    311\u001b[0m             \u001b[0;32mif\u001b[0m \u001b[0mstatus\u001b[0m \u001b[0;34m!=\u001b[0m \u001b[0mCONTINUE\u001b[0m\u001b[0;34m:\u001b[0m\u001b[0;34m\u001b[0m\u001b[0;34m\u001b[0m\u001b[0m\n\u001b[1;32m    312\u001b[0m                 \u001b[0;32mbreak\u001b[0m\u001b[0;34m\u001b[0m\u001b[0;34m\u001b[0m\u001b[0m\n",
      "\u001b[0;32m~/opt/miniconda3/lib/python3.7/http/client.py\u001b[0m in \u001b[0;36m_read_status\u001b[0;34m(self)\u001b[0m\n\u001b[1;32m    269\u001b[0m \u001b[0;34m\u001b[0m\u001b[0m\n\u001b[1;32m    270\u001b[0m     \u001b[0;32mdef\u001b[0m \u001b[0m_read_status\u001b[0m\u001b[0;34m(\u001b[0m\u001b[0mself\u001b[0m\u001b[0;34m)\u001b[0m\u001b[0;34m:\u001b[0m\u001b[0;34m\u001b[0m\u001b[0;34m\u001b[0m\u001b[0m\n\u001b[0;32m--> 271\u001b[0;31m         \u001b[0mline\u001b[0m \u001b[0;34m=\u001b[0m \u001b[0mstr\u001b[0m\u001b[0;34m(\u001b[0m\u001b[0mself\u001b[0m\u001b[0;34m.\u001b[0m\u001b[0mfp\u001b[0m\u001b[0;34m.\u001b[0m\u001b[0mreadline\u001b[0m\u001b[0;34m(\u001b[0m\u001b[0m_MAXLINE\u001b[0m \u001b[0;34m+\u001b[0m \u001b[0;36m1\u001b[0m\u001b[0;34m)\u001b[0m\u001b[0;34m,\u001b[0m \u001b[0;34m\"iso-8859-1\"\u001b[0m\u001b[0;34m)\u001b[0m\u001b[0;34m\u001b[0m\u001b[0;34m\u001b[0m\u001b[0m\n\u001b[0m\u001b[1;32m    272\u001b[0m         \u001b[0;32mif\u001b[0m \u001b[0mlen\u001b[0m\u001b[0;34m(\u001b[0m\u001b[0mline\u001b[0m\u001b[0;34m)\u001b[0m \u001b[0;34m>\u001b[0m \u001b[0m_MAXLINE\u001b[0m\u001b[0;34m:\u001b[0m\u001b[0;34m\u001b[0m\u001b[0;34m\u001b[0m\u001b[0m\n\u001b[1;32m    273\u001b[0m             \u001b[0;32mraise\u001b[0m \u001b[0mLineTooLong\u001b[0m\u001b[0;34m(\u001b[0m\u001b[0;34m\"status line\"\u001b[0m\u001b[0;34m)\u001b[0m\u001b[0;34m\u001b[0m\u001b[0;34m\u001b[0m\u001b[0m\n",
      "\u001b[0;32m~/opt/miniconda3/lib/python3.7/socket.py\u001b[0m in \u001b[0;36mreadinto\u001b[0;34m(self, b)\u001b[0m\n\u001b[1;32m    587\u001b[0m         \u001b[0;32mwhile\u001b[0m \u001b[0;32mTrue\u001b[0m\u001b[0;34m:\u001b[0m\u001b[0;34m\u001b[0m\u001b[0;34m\u001b[0m\u001b[0m\n\u001b[1;32m    588\u001b[0m             \u001b[0;32mtry\u001b[0m\u001b[0;34m:\u001b[0m\u001b[0;34m\u001b[0m\u001b[0;34m\u001b[0m\u001b[0m\n\u001b[0;32m--> 589\u001b[0;31m                 \u001b[0;32mreturn\u001b[0m \u001b[0mself\u001b[0m\u001b[0;34m.\u001b[0m\u001b[0m_sock\u001b[0m\u001b[0;34m.\u001b[0m\u001b[0mrecv_into\u001b[0m\u001b[0;34m(\u001b[0m\u001b[0mb\u001b[0m\u001b[0;34m)\u001b[0m\u001b[0;34m\u001b[0m\u001b[0;34m\u001b[0m\u001b[0m\n\u001b[0m\u001b[1;32m    590\u001b[0m             \u001b[0;32mexcept\u001b[0m \u001b[0mtimeout\u001b[0m\u001b[0;34m:\u001b[0m\u001b[0;34m\u001b[0m\u001b[0;34m\u001b[0m\u001b[0m\n\u001b[1;32m    591\u001b[0m                 \u001b[0mself\u001b[0m\u001b[0;34m.\u001b[0m\u001b[0m_timeout_occurred\u001b[0m \u001b[0;34m=\u001b[0m \u001b[0;32mTrue\u001b[0m\u001b[0;34m\u001b[0m\u001b[0;34m\u001b[0m\u001b[0m\n",
      "\u001b[0;32m~/opt/miniconda3/lib/python3.7/ssl.py\u001b[0m in \u001b[0;36mrecv_into\u001b[0;34m(self, buffer, nbytes, flags)\u001b[0m\n\u001b[1;32m   1069\u001b[0m                   \u001b[0;34m\"non-zero flags not allowed in calls to recv_into() on %s\"\u001b[0m \u001b[0;34m%\u001b[0m\u001b[0;34m\u001b[0m\u001b[0;34m\u001b[0m\u001b[0m\n\u001b[1;32m   1070\u001b[0m                   self.__class__)\n\u001b[0;32m-> 1071\u001b[0;31m             \u001b[0;32mreturn\u001b[0m \u001b[0mself\u001b[0m\u001b[0;34m.\u001b[0m\u001b[0mread\u001b[0m\u001b[0;34m(\u001b[0m\u001b[0mnbytes\u001b[0m\u001b[0;34m,\u001b[0m \u001b[0mbuffer\u001b[0m\u001b[0;34m)\u001b[0m\u001b[0;34m\u001b[0m\u001b[0;34m\u001b[0m\u001b[0m\n\u001b[0m\u001b[1;32m   1072\u001b[0m         \u001b[0;32melse\u001b[0m\u001b[0;34m:\u001b[0m\u001b[0;34m\u001b[0m\u001b[0;34m\u001b[0m\u001b[0m\n\u001b[1;32m   1073\u001b[0m             \u001b[0;32mreturn\u001b[0m \u001b[0msuper\u001b[0m\u001b[0;34m(\u001b[0m\u001b[0;34m)\u001b[0m\u001b[0;34m.\u001b[0m\u001b[0mrecv_into\u001b[0m\u001b[0;34m(\u001b[0m\u001b[0mbuffer\u001b[0m\u001b[0;34m,\u001b[0m \u001b[0mnbytes\u001b[0m\u001b[0;34m,\u001b[0m \u001b[0mflags\u001b[0m\u001b[0;34m)\u001b[0m\u001b[0;34m\u001b[0m\u001b[0;34m\u001b[0m\u001b[0m\n",
      "\u001b[0;32m~/opt/miniconda3/lib/python3.7/ssl.py\u001b[0m in \u001b[0;36mread\u001b[0;34m(self, len, buffer)\u001b[0m\n\u001b[1;32m    927\u001b[0m         \u001b[0;32mtry\u001b[0m\u001b[0;34m:\u001b[0m\u001b[0;34m\u001b[0m\u001b[0;34m\u001b[0m\u001b[0m\n\u001b[1;32m    928\u001b[0m             \u001b[0;32mif\u001b[0m \u001b[0mbuffer\u001b[0m \u001b[0;32mis\u001b[0m \u001b[0;32mnot\u001b[0m \u001b[0;32mNone\u001b[0m\u001b[0;34m:\u001b[0m\u001b[0;34m\u001b[0m\u001b[0;34m\u001b[0m\u001b[0m\n\u001b[0;32m--> 929\u001b[0;31m                 \u001b[0;32mreturn\u001b[0m \u001b[0mself\u001b[0m\u001b[0;34m.\u001b[0m\u001b[0m_sslobj\u001b[0m\u001b[0;34m.\u001b[0m\u001b[0mread\u001b[0m\u001b[0;34m(\u001b[0m\u001b[0mlen\u001b[0m\u001b[0;34m,\u001b[0m \u001b[0mbuffer\u001b[0m\u001b[0;34m)\u001b[0m\u001b[0;34m\u001b[0m\u001b[0;34m\u001b[0m\u001b[0m\n\u001b[0m\u001b[1;32m    930\u001b[0m             \u001b[0;32melse\u001b[0m\u001b[0;34m:\u001b[0m\u001b[0;34m\u001b[0m\u001b[0;34m\u001b[0m\u001b[0m\n\u001b[1;32m    931\u001b[0m                 \u001b[0;32mreturn\u001b[0m \u001b[0mself\u001b[0m\u001b[0;34m.\u001b[0m\u001b[0m_sslobj\u001b[0m\u001b[0;34m.\u001b[0m\u001b[0mread\u001b[0m\u001b[0;34m(\u001b[0m\u001b[0mlen\u001b[0m\u001b[0;34m)\u001b[0m\u001b[0;34m\u001b[0m\u001b[0;34m\u001b[0m\u001b[0m\n",
      "\u001b[0;31mKeyboardInterrupt\u001b[0m: "
     ]
    }
   ],
   "source": [
    "locator = Nominatim(user_agent=\"myGeocoder\")\n",
    "# 1 - conveneint function to delay between geocoding calls\n",
    "geocode = RateLimiter(locator.geocode)\n",
    "\n",
    "df['location_city'] = df['location'].apply(lambda x: str(x) + \", Bangalore, Karnataka, India\")\n",
    "df.head()"
   ]
  },
  {
   "cell_type": "code",
   "execution_count": null,
   "id": "graphic-basics",
   "metadata": {},
   "outputs": [],
   "source": [
    "d"
   ]
  },
  {
   "cell_type": "code",
   "execution_count": null,
   "id": "controversial-north",
   "metadata": {},
   "outputs": [],
   "source": [
    "df.head()"
   ]
  },
  {
   "cell_type": "code",
   "execution_count": 1500,
   "id": "armed-kennedy",
   "metadata": {},
   "outputs": [
    {
     "data": {
      "text/plain": [
       "ID                 0\n",
       "area_type          0\n",
       "availability       0\n",
       "location           0\n",
       "size               2\n",
       "society         1074\n",
       "total_sqft         0\n",
       "bath               8\n",
       "balcony          105\n",
       "dtype: int64"
      ]
     },
     "execution_count": 1500,
     "metadata": {},
     "output_type": "execute_result"
    }
   ],
   "source": [
    "df_test.isna().sum()"
   ]
  },
  {
   "cell_type": "code",
   "execution_count": 1501,
   "id": "wanted-board",
   "metadata": {},
   "outputs": [
    {
     "data": {
      "text/plain": [
       "ID                 0\n",
       "area_type          0\n",
       "availability       0\n",
       "location           1\n",
       "size              14\n",
       "society         4428\n",
       "total_sqft         0\n",
       "bath              65\n",
       "balcony          504\n",
       "price              0\n",
       "dtype: int64"
      ]
     },
     "execution_count": 1501,
     "metadata": {},
     "output_type": "execute_result"
    }
   ],
   "source": [
    "df.isna().sum()"
   ]
  },
  {
   "cell_type": "code",
   "execution_count": 1502,
   "id": "composed-collaboration",
   "metadata": {},
   "outputs": [
    {
     "name": "stdout",
     "output_type": "stream",
     "text": [
      "2400 961 627\n",
      "334\n"
     ]
    }
   ],
   "source": [
    "df_t = df.copy()\n",
    "df_t['loc_soc'] = df_t['location'] + \"-\" + df_t['society']\n",
    "train_loc_soc = set(df_t['loc_soc'].unique())\n",
    "df_test_t = df_test.copy()\n",
    "df_test_t['loc_soc'] = df_test_t['location'] + \"-\" + df_test_t['society']\n",
    "test_loc_soc = set(df_test_t['loc_soc'].unique())\n",
    "\n",
    "print(len(train_loc_soc), len(test_loc_soc), len(train_loc_soc.intersection(test_loc_soc)))\n",
    "print(len(test_loc_soc) - len(train_loc_soc.intersection(test_loc_soc)))"
   ]
  },
  {
   "cell_type": "code",
   "execution_count": 1503,
   "id": "stock-whole",
   "metadata": {},
   "outputs": [
    {
     "name": "stdout",
     "output_type": "stream",
     "text": [
      "0\n"
     ]
    },
    {
     "data": {
      "text/plain": [
       "(2365, 956, 632)"
      ]
     },
     "execution_count": 1503,
     "metadata": {},
     "output_type": "execute_result"
    }
   ],
   "source": [
    "test_soc = set(df_test.society.unique())\n",
    "train_soc = set(df.society.unique())\n",
    "common_soc = train_soc.intersection(test_soc)\n",
    "print(len(train_soc.intersection(test_soc) - test_soc))\n",
    "len(train_soc), len(test_soc), len(train_soc.intersection(test_soc))\n"
   ]
  },
  {
   "cell_type": "markdown",
   "id": "fluid-atmosphere",
   "metadata": {},
   "source": [
    "This concludes that all the societies in Test are in Train"
   ]
  },
  {
   "cell_type": "code",
   "execution_count": 1504,
   "id": "discrete-correlation",
   "metadata": {},
   "outputs": [],
   "source": [
    "# Encoding Availability\n",
    "df['availability'] = df['availability'].apply(lambda x: 1 if x==\"Ready To Move\" else 0)"
   ]
  },
  {
   "cell_type": "markdown",
   "id": "loaded-original",
   "metadata": {},
   "source": [
    "## PRELIMINARY CLEAN-UPS"
   ]
  },
  {
   "cell_type": "code",
   "execution_count": 1505,
   "id": "small-civilization",
   "metadata": {},
   "outputs": [
    {
     "data": {
      "text/plain": [
       "2.0    4069\n",
       "1.0    3894\n",
       "3.0    1342\n",
       "0.0     847\n",
       "Name: balcony, dtype: int64"
      ]
     },
     "execution_count": 1505,
     "metadata": {},
     "output_type": "execute_result"
    }
   ],
   "source": [
    "df.balcony.value_counts()"
   ]
  },
  {
   "cell_type": "code",
   "execution_count": 1506,
   "id": "integral-briefing",
   "metadata": {},
   "outputs": [
    {
     "data": {
      "text/plain": [
       "<AxesSubplot:xlabel='size', ylabel='balcony'>"
      ]
     },
     "execution_count": 1506,
     "metadata": {},
     "output_type": "execute_result"
    },
    {
     "data": {
      "image/png": "[encoded data removed]",
      "text/plain": [
       "<Figure size 432x288 with 1 Axes>"
      ]
     },
     "metadata": {
      "needs_background": "light"
     },
     "output_type": "display_data"
    }
   ],
   "source": [
    "sns.scatterplot(x=df['size'], y=df.balcony)"
   ]
  },
  {
   "cell_type": "code",
   "execution_count": 1507,
   "id": "enabling-manufacturer",
   "metadata": {},
   "outputs": [
    {
     "data": {
      "text/html": [
       "<div>\n",
       "<style scoped>\n",
       "    .dataframe tbody tr th:only-of-type {\n",
       "        vertical-align: middle;\n",
       "    }\n",
       "\n",
       "    .dataframe tbody tr th {\n",
       "        vertical-align: top;\n",
       "    }\n",
       "\n",
       "    .dataframe thead th {\n",
       "        text-align: right;\n",
       "    }\n",
       "</style>\n",
       "<table border=\"1\" class=\"dataframe\">\n",
       "  <thead>\n",
       "    <tr style=\"text-align: right;\">\n",
       "      <th></th>\n",
       "      <th>ID</th>\n",
       "      <th>area_type</th>\n",
       "      <th>availability</th>\n",
       "      <th>location</th>\n",
       "      <th>size</th>\n",
       "      <th>society</th>\n",
       "      <th>total_sqft</th>\n",
       "      <th>bath</th>\n",
       "      <th>balcony</th>\n",
       "      <th>price</th>\n",
       "    </tr>\n",
       "  </thead>\n",
       "  <tbody>\n",
       "    <tr>\n",
       "      <th>6</th>\n",
       "      <td>6</td>\n",
       "      <td>Super built-up  Area</td>\n",
       "      <td>0</td>\n",
       "      <td>Old Airport Road</td>\n",
       "      <td>4 BHK</td>\n",
       "      <td>Jaades</td>\n",
       "      <td>2732</td>\n",
       "      <td>4.0</td>\n",
       "      <td>NaN</td>\n",
       "      <td>204.00</td>\n",
       "    </tr>\n",
       "    <tr>\n",
       "      <th>7</th>\n",
       "      <td>7</td>\n",
       "      <td>Super built-up  Area</td>\n",
       "      <td>1</td>\n",
       "      <td>Rajaji Nagar</td>\n",
       "      <td>4 BHK</td>\n",
       "      <td>Brway G</td>\n",
       "      <td>3300</td>\n",
       "      <td>4.0</td>\n",
       "      <td>NaN</td>\n",
       "      <td>600.00</td>\n",
       "    </tr>\n",
       "    <tr>\n",
       "      <th>9</th>\n",
       "      <td>9</td>\n",
       "      <td>Plot  Area</td>\n",
       "      <td>1</td>\n",
       "      <td>Gandhi Bazar</td>\n",
       "      <td>6 Bedroom</td>\n",
       "      <td>NaN</td>\n",
       "      <td>1020</td>\n",
       "      <td>6.0</td>\n",
       "      <td>NaN</td>\n",
       "      <td>370.00</td>\n",
       "    </tr>\n",
       "    <tr>\n",
       "      <th>34</th>\n",
       "      <td>34</td>\n",
       "      <td>Built-up  Area</td>\n",
       "      <td>1</td>\n",
       "      <td>Kasturi Nagar</td>\n",
       "      <td>3 BHK</td>\n",
       "      <td>Kantsce</td>\n",
       "      <td>1925</td>\n",
       "      <td>3.0</td>\n",
       "      <td>NaN</td>\n",
       "      <td>125.00</td>\n",
       "    </tr>\n",
       "    <tr>\n",
       "      <th>40</th>\n",
       "      <td>40</td>\n",
       "      <td>Built-up  Area</td>\n",
       "      <td>1</td>\n",
       "      <td>Murugeshpalya</td>\n",
       "      <td>2 BHK</td>\n",
       "      <td>Gentson</td>\n",
       "      <td>1296</td>\n",
       "      <td>2.0</td>\n",
       "      <td>NaN</td>\n",
       "      <td>81.00</td>\n",
       "    </tr>\n",
       "    <tr>\n",
       "      <th>...</th>\n",
       "      <td>...</td>\n",
       "      <td>...</td>\n",
       "      <td>...</td>\n",
       "      <td>...</td>\n",
       "      <td>...</td>\n",
       "      <td>...</td>\n",
       "      <td>...</td>\n",
       "      <td>...</td>\n",
       "      <td>...</td>\n",
       "      <td>...</td>\n",
       "    </tr>\n",
       "    <tr>\n",
       "      <th>10560</th>\n",
       "      <td>10560</td>\n",
       "      <td>Built-up  Area</td>\n",
       "      <td>1</td>\n",
       "      <td>HSR Layout</td>\n",
       "      <td>5 Bedroom</td>\n",
       "      <td>NaN</td>\n",
       "      <td>4200</td>\n",
       "      <td>5.0</td>\n",
       "      <td>NaN</td>\n",
       "      <td>245.00</td>\n",
       "    </tr>\n",
       "    <tr>\n",
       "      <th>10561</th>\n",
       "      <td>10561</td>\n",
       "      <td>Super built-up  Area</td>\n",
       "      <td>1</td>\n",
       "      <td>Thubarahalli</td>\n",
       "      <td>3 BHK</td>\n",
       "      <td>Asnts a</td>\n",
       "      <td>1540</td>\n",
       "      <td>3.0</td>\n",
       "      <td>NaN</td>\n",
       "      <td>90.00</td>\n",
       "    </tr>\n",
       "    <tr>\n",
       "      <th>10593</th>\n",
       "      <td>10593</td>\n",
       "      <td>Built-up  Area</td>\n",
       "      <td>1</td>\n",
       "      <td>Marathahalli</td>\n",
       "      <td>4 Bedroom</td>\n",
       "      <td>Vemes H</td>\n",
       "      <td>3090</td>\n",
       "      <td>4.0</td>\n",
       "      <td>NaN</td>\n",
       "      <td>350.00</td>\n",
       "    </tr>\n",
       "    <tr>\n",
       "      <th>10634</th>\n",
       "      <td>10634</td>\n",
       "      <td>Plot  Area</td>\n",
       "      <td>0</td>\n",
       "      <td>Rajankunte</td>\n",
       "      <td>NaN</td>\n",
       "      <td>NaN</td>\n",
       "      <td>1575</td>\n",
       "      <td>NaN</td>\n",
       "      <td>NaN</td>\n",
       "      <td>31.11</td>\n",
       "    </tr>\n",
       "    <tr>\n",
       "      <th>10649</th>\n",
       "      <td>10649</td>\n",
       "      <td>Plot  Area</td>\n",
       "      <td>1</td>\n",
       "      <td>Banashankari Stage III</td>\n",
       "      <td>9 Bedroom</td>\n",
       "      <td>NaN</td>\n",
       "      <td>1560</td>\n",
       "      <td>9.0</td>\n",
       "      <td>NaN</td>\n",
       "      <td>200.00</td>\n",
       "    </tr>\n",
       "  </tbody>\n",
       "</table>\n",
       "<p>504 rows × 10 columns</p>\n",
       "</div>"
      ],
      "text/plain": [
       "          ID             area_type  availability                location  \\\n",
       "6          6  Super built-up  Area             0        Old Airport Road   \n",
       "7          7  Super built-up  Area             1            Rajaji Nagar   \n",
       "9          9            Plot  Area             1            Gandhi Bazar   \n",
       "34        34        Built-up  Area             1           Kasturi Nagar   \n",
       "40        40        Built-up  Area             1           Murugeshpalya   \n",
       "...      ...                   ...           ...                     ...   \n",
       "10560  10560        Built-up  Area             1              HSR Layout   \n",
       "10561  10561  Super built-up  Area             1            Thubarahalli   \n",
       "10593  10593        Built-up  Area             1            Marathahalli   \n",
       "10634  10634            Plot  Area             0              Rajankunte   \n",
       "10649  10649            Plot  Area             1  Banashankari Stage III   \n",
       "\n",
       "            size  society total_sqft  bath  balcony   price  \n",
       "6          4 BHK  Jaades        2732   4.0      NaN  204.00  \n",
       "7          4 BHK  Brway G       3300   4.0      NaN  600.00  \n",
       "9      6 Bedroom      NaN       1020   6.0      NaN  370.00  \n",
       "34         3 BHK  Kantsce       1925   3.0      NaN  125.00  \n",
       "40         2 BHK  Gentson       1296   2.0      NaN   81.00  \n",
       "...          ...      ...        ...   ...      ...     ...  \n",
       "10560  5 Bedroom      NaN       4200   5.0      NaN  245.00  \n",
       "10561      3 BHK  Asnts a       1540   3.0      NaN   90.00  \n",
       "10593  4 Bedroom  Vemes H       3090   4.0      NaN  350.00  \n",
       "10634        NaN      NaN       1575   NaN      NaN   31.11  \n",
       "10649  9 Bedroom      NaN       1560   9.0      NaN  200.00  \n",
       "\n",
       "[504 rows x 10 columns]"
      ]
     },
     "execution_count": 1507,
     "metadata": {},
     "output_type": "execute_result"
    }
   ],
   "source": [
    "df[df['balcony'].isna()]"
   ]
  },
  {
   "cell_type": "code",
   "execution_count": 1508,
   "id": "minor-marker",
   "metadata": {},
   "outputs": [],
   "source": [
    "# Dropping the ID column for its redundancy\n",
    "# Getting rid of society to avoid imputing huge amount of null values\n",
    "# Availability doesnt much determine the price of a house\n",
    "df.drop(columns=[\"ID\", \"society\", \"area_type\"], axis=1, inplace=True)"
   ]
  },
  {
   "cell_type": "code",
   "execution_count": 1509,
   "id": "angry-nightlife",
   "metadata": {},
   "outputs": [
    {
     "data": {
      "text/plain": [
       "availability      0\n",
       "location          1\n",
       "size             14\n",
       "total_sqft        0\n",
       "bath             65\n",
       "balcony         504\n",
       "price             0\n",
       "dtype: int64"
      ]
     },
     "execution_count": 1509,
     "metadata": {},
     "output_type": "execute_result"
    }
   ],
   "source": [
    "df.isna().sum()"
   ]
  },
  {
   "cell_type": "code",
   "execution_count": 1510,
   "id": "phantom-finland",
   "metadata": {},
   "outputs": [
    {
     "data": {
      "text/plain": [
       "Whitefield                  433\n",
       "Sarjapur  Road              303\n",
       "Electronic City             234\n",
       "Kanakpura Road              217\n",
       "Thanisandra                 178\n",
       "                           ... \n",
       "Aishwarya Crystal Layout      1\n",
       "Sector 3 HSR Layout           1\n",
       "T C Palya main Road           1\n",
       "S R Layout                    1\n",
       "5th block Koramangala         1\n",
       "Name: location, Length: 1197, dtype: int64"
      ]
     },
     "execution_count": 1510,
     "metadata": {},
     "output_type": "execute_result"
    }
   ],
   "source": [
    "df['location'].value_counts()"
   ]
  },
  {
   "cell_type": "code",
   "execution_count": 1511,
   "id": "smart-german",
   "metadata": {},
   "outputs": [],
   "source": [
    "# Replacing 1 NaN in location with mode of the dataset\n",
    "df['location'] = df['location'].fillna('Whitefield')"
   ]
  },
  {
   "cell_type": "code",
   "execution_count": 1512,
   "id": "accredited-lawsuit",
   "metadata": {},
   "outputs": [
    {
     "data": {
      "text/plain": [
       "2 BHK         4146\n",
       "3 BHK         3425\n",
       "4 Bedroom      659\n",
       "4 BHK          478\n",
       "3 Bedroom      446\n",
       "1 BHK          435\n",
       "2 Bedroom      281\n",
       "5 Bedroom      232\n",
       "6 Bedroom      154\n",
       "1 Bedroom       88\n",
       "8 Bedroom       65\n",
       "7 Bedroom       65\n",
       "5 BHK           50\n",
       "9 Bedroom       41\n",
       "6 BHK           21\n",
       "1 RK            13\n",
       "7 BHK           12\n",
       "10 Bedroom       8\n",
       "9 BHK            7\n",
       "8 BHK            3\n",
       "11 Bedroom       2\n",
       "10 BHK           2\n",
       "11 BHK           2\n",
       "14 BHK           1\n",
       "43 Bedroom       1\n",
       "19 BHK           1\n",
       "16 BHK           1\n",
       "27 BHK           1\n",
       "13 BHK           1\n",
       "12 Bedroom       1\n",
       "Name: size, dtype: int64"
      ]
     },
     "execution_count": 1512,
     "metadata": {},
     "output_type": "execute_result"
    }
   ],
   "source": [
    "# Replacing Size with highest occuring categorical value\n",
    "df['size'].value_counts()"
   ]
  },
  {
   "cell_type": "code",
   "execution_count": 1513,
   "id": "pacific-fusion",
   "metadata": {},
   "outputs": [],
   "source": [
    "df['size'] = df['size'].fillna('2 BHK')\n",
    "\n",
    "# Creating 3 additional columns\n",
    "df['hall'] = np.nan\n",
    "df['kitchen'] = np.nan\n",
    "df['room_count'] = np.nan"
   ]
  },
  {
   "cell_type": "code",
   "execution_count": 1514,
   "id": "august-camping",
   "metadata": {},
   "outputs": [],
   "source": [
    "# We are splitting the values in size into 3 columns:  Hall | Kitchen | Room_Count\n",
    "# This is important as 1RK is different from 1 BHK\n",
    "\n",
    "\n",
    "def split_size(df, index, size):\n",
    "    df.loc[index, 'room_count'] = str(size).split()[0]\n",
    "    if str(size).split()[1] == \"BHK\":\n",
    "        df.loc[index, 'hall'] = 1\n",
    "        df.loc[index, 'kitchen'] = 1\n",
    "    elif str(size).split()[1] == \"RK\":\n",
    "        df.loc[index, 'hall'] = 0\n",
    "        df.loc[index, 'kitchen'] = 1\n",
    "    else:\n",
    "        df.loc[index, 'hall'] = 0\n",
    "        df.loc[index, 'kitchen'] = 0\n",
    "    \n"
   ]
  },
  {
   "cell_type": "code",
   "execution_count": 1515,
   "id": "developing-incident",
   "metadata": {},
   "outputs": [
    {
     "data": {
      "text/html": [
       "<div>\n",
       "<style scoped>\n",
       "    .dataframe tbody tr th:only-of-type {\n",
       "        vertical-align: middle;\n",
       "    }\n",
       "\n",
       "    .dataframe tbody tr th {\n",
       "        vertical-align: top;\n",
       "    }\n",
       "\n",
       "    .dataframe thead th {\n",
       "        text-align: right;\n",
       "    }\n",
       "</style>\n",
       "<table border=\"1\" class=\"dataframe\">\n",
       "  <thead>\n",
       "    <tr style=\"text-align: right;\">\n",
       "      <th></th>\n",
       "      <th>availability</th>\n",
       "      <th>location</th>\n",
       "      <th>size</th>\n",
       "      <th>total_sqft</th>\n",
       "      <th>bath</th>\n",
       "      <th>balcony</th>\n",
       "      <th>price</th>\n",
       "      <th>hall</th>\n",
       "      <th>kitchen</th>\n",
       "      <th>room_count</th>\n",
       "    </tr>\n",
       "  </thead>\n",
       "  <tbody>\n",
       "    <tr>\n",
       "      <th>0</th>\n",
       "      <td>0</td>\n",
       "      <td>Electronic City Phase II</td>\n",
       "      <td>2 BHK</td>\n",
       "      <td>1056</td>\n",
       "      <td>2.0</td>\n",
       "      <td>1.0</td>\n",
       "      <td>39.07</td>\n",
       "      <td>1.0</td>\n",
       "      <td>1.0</td>\n",
       "      <td>2</td>\n",
       "    </tr>\n",
       "    <tr>\n",
       "      <th>1</th>\n",
       "      <td>1</td>\n",
       "      <td>Chikka Tirupathi</td>\n",
       "      <td>4 Bedroom</td>\n",
       "      <td>2600</td>\n",
       "      <td>5.0</td>\n",
       "      <td>3.0</td>\n",
       "      <td>120.00</td>\n",
       "      <td>0.0</td>\n",
       "      <td>0.0</td>\n",
       "      <td>4</td>\n",
       "    </tr>\n",
       "    <tr>\n",
       "      <th>2</th>\n",
       "      <td>1</td>\n",
       "      <td>Uttarahalli</td>\n",
       "      <td>3 BHK</td>\n",
       "      <td>1440</td>\n",
       "      <td>2.0</td>\n",
       "      <td>3.0</td>\n",
       "      <td>62.00</td>\n",
       "      <td>1.0</td>\n",
       "      <td>1.0</td>\n",
       "      <td>3</td>\n",
       "    </tr>\n",
       "    <tr>\n",
       "      <th>3</th>\n",
       "      <td>1</td>\n",
       "      <td>Lingadheeranahalli</td>\n",
       "      <td>3 BHK</td>\n",
       "      <td>1521</td>\n",
       "      <td>3.0</td>\n",
       "      <td>1.0</td>\n",
       "      <td>95.00</td>\n",
       "      <td>1.0</td>\n",
       "      <td>1.0</td>\n",
       "      <td>3</td>\n",
       "    </tr>\n",
       "    <tr>\n",
       "      <th>4</th>\n",
       "      <td>1</td>\n",
       "      <td>Kothanur</td>\n",
       "      <td>2 BHK</td>\n",
       "      <td>1200</td>\n",
       "      <td>2.0</td>\n",
       "      <td>1.0</td>\n",
       "      <td>51.00</td>\n",
       "      <td>1.0</td>\n",
       "      <td>1.0</td>\n",
       "      <td>2</td>\n",
       "    </tr>\n",
       "  </tbody>\n",
       "</table>\n",
       "</div>"
      ],
      "text/plain": [
       "   availability                  location       size total_sqft  bath  \\\n",
       "0             0  Electronic City Phase II      2 BHK       1056   2.0   \n",
       "1             1          Chikka Tirupathi  4 Bedroom       2600   5.0   \n",
       "2             1               Uttarahalli      3 BHK       1440   2.0   \n",
       "3             1        Lingadheeranahalli      3 BHK       1521   3.0   \n",
       "4             1                  Kothanur      2 BHK       1200   2.0   \n",
       "\n",
       "   balcony   price  hall  kitchen room_count  \n",
       "0      1.0   39.07   1.0      1.0          2  \n",
       "1      3.0  120.00   0.0      0.0          4  \n",
       "2      3.0   62.00   1.0      1.0          3  \n",
       "3      1.0   95.00   1.0      1.0          3  \n",
       "4      1.0   51.00   1.0      1.0          2  "
      ]
     },
     "execution_count": 1515,
     "metadata": {},
     "output_type": "execute_result"
    }
   ],
   "source": [
    "for index, row in df.iterrows():\n",
    "    split_size(df, index, df.loc[index, 'size'])\n",
    "\n",
    "df.head()"
   ]
  },
  {
   "cell_type": "code",
   "execution_count": 1516,
   "id": "suburban-nightmare",
   "metadata": {},
   "outputs": [],
   "source": [
    "df[['price','room_count']] = df[['price','room_count']].astype(float)"
   ]
  },
  {
   "cell_type": "code",
   "execution_count": 1517,
   "id": "located-heating",
   "metadata": {},
   "outputs": [
    {
     "data": {
      "text/plain": [
       "(10632, 10)"
      ]
     },
     "execution_count": 1517,
     "metadata": {},
     "output_type": "execute_result"
    }
   ],
   "source": [
    "# For all rows where room_count is greater than 10, lets drop them\n",
    "# Also our Test data has only rooms till 10.\n",
    "df = df[df['room_count']<=10]\n",
    "df = df[df['size']!='1 RK']\n",
    "df.shape"
   ]
  },
  {
   "cell_type": "code",
   "execution_count": 1518,
   "id": "skilled-haiti",
   "metadata": {},
   "outputs": [
    {
     "data": {
      "text/plain": [
       "2.0"
      ]
     },
     "execution_count": 1518,
     "metadata": {},
     "output_type": "execute_result"
    }
   ],
   "source": [
    "df['bath'].median()"
   ]
  },
  {
   "cell_type": "code",
   "execution_count": 1519,
   "id": "roman-ranking",
   "metadata": {},
   "outputs": [
    {
     "data": {
      "text/html": [
       "<div>\n",
       "<style scoped>\n",
       "    .dataframe tbody tr th:only-of-type {\n",
       "        vertical-align: middle;\n",
       "    }\n",
       "\n",
       "    .dataframe tbody tr th {\n",
       "        vertical-align: top;\n",
       "    }\n",
       "\n",
       "    .dataframe thead th {\n",
       "        text-align: right;\n",
       "    }\n",
       "</style>\n",
       "<table border=\"1\" class=\"dataframe\">\n",
       "  <thead>\n",
       "    <tr style=\"text-align: right;\">\n",
       "      <th></th>\n",
       "      <th>bath</th>\n",
       "    </tr>\n",
       "    <tr>\n",
       "      <th>size</th>\n",
       "      <th></th>\n",
       "    </tr>\n",
       "  </thead>\n",
       "  <tbody>\n",
       "    <tr>\n",
       "      <th>1 BHK</th>\n",
       "      <td>1.0</td>\n",
       "    </tr>\n",
       "    <tr>\n",
       "      <th>1 Bedroom</th>\n",
       "      <td>1.0</td>\n",
       "    </tr>\n",
       "    <tr>\n",
       "      <th>10 BHK</th>\n",
       "      <td>12.0</td>\n",
       "    </tr>\n",
       "    <tr>\n",
       "      <th>10 Bedroom</th>\n",
       "      <td>10.0</td>\n",
       "    </tr>\n",
       "    <tr>\n",
       "      <th>2 BHK</th>\n",
       "      <td>2.0</td>\n",
       "    </tr>\n",
       "    <tr>\n",
       "      <th>2 Bedroom</th>\n",
       "      <td>2.0</td>\n",
       "    </tr>\n",
       "    <tr>\n",
       "      <th>3 BHK</th>\n",
       "      <td>3.0</td>\n",
       "    </tr>\n",
       "    <tr>\n",
       "      <th>3 Bedroom</th>\n",
       "      <td>3.0</td>\n",
       "    </tr>\n",
       "    <tr>\n",
       "      <th>4 BHK</th>\n",
       "      <td>4.0</td>\n",
       "    </tr>\n",
       "    <tr>\n",
       "      <th>4 Bedroom</th>\n",
       "      <td>4.0</td>\n",
       "    </tr>\n",
       "    <tr>\n",
       "      <th>5 BHK</th>\n",
       "      <td>5.0</td>\n",
       "    </tr>\n",
       "    <tr>\n",
       "      <th>5 Bedroom</th>\n",
       "      <td>5.0</td>\n",
       "    </tr>\n",
       "    <tr>\n",
       "      <th>6 BHK</th>\n",
       "      <td>6.0</td>\n",
       "    </tr>\n",
       "    <tr>\n",
       "      <th>6 Bedroom</th>\n",
       "      <td>6.0</td>\n",
       "    </tr>\n",
       "    <tr>\n",
       "      <th>7 BHK</th>\n",
       "      <td>7.0</td>\n",
       "    </tr>\n",
       "    <tr>\n",
       "      <th>7 Bedroom</th>\n",
       "      <td>7.0</td>\n",
       "    </tr>\n",
       "    <tr>\n",
       "      <th>8 BHK</th>\n",
       "      <td>6.0</td>\n",
       "    </tr>\n",
       "    <tr>\n",
       "      <th>8 Bedroom</th>\n",
       "      <td>8.0</td>\n",
       "    </tr>\n",
       "    <tr>\n",
       "      <th>9 BHK</th>\n",
       "      <td>9.0</td>\n",
       "    </tr>\n",
       "    <tr>\n",
       "      <th>9 Bedroom</th>\n",
       "      <td>9.0</td>\n",
       "    </tr>\n",
       "  </tbody>\n",
       "</table>\n",
       "</div>"
      ],
      "text/plain": [
       "            bath\n",
       "size            \n",
       "1 BHK        1.0\n",
       "1 Bedroom    1.0\n",
       "10 BHK      12.0\n",
       "10 Bedroom  10.0\n",
       "2 BHK        2.0\n",
       "2 Bedroom    2.0\n",
       "3 BHK        3.0\n",
       "3 Bedroom    3.0\n",
       "4 BHK        4.0\n",
       "4 Bedroom    4.0\n",
       "5 BHK        5.0\n",
       "5 Bedroom    5.0\n",
       "6 BHK        6.0\n",
       "6 Bedroom    6.0\n",
       "7 BHK        7.0\n",
       "7 Bedroom    7.0\n",
       "8 BHK        6.0\n",
       "8 Bedroom    8.0\n",
       "9 BHK        9.0\n",
       "9 Bedroom    9.0"
      ]
     },
     "execution_count": 1519,
     "metadata": {},
     "output_type": "execute_result"
    }
   ],
   "source": [
    "median_bath_df = pd.DataFrame(df.groupby('size')['bath'].median())\n",
    "median_bath_df"
   ]
  },
  {
   "cell_type": "code",
   "execution_count": 1520,
   "id": "velvet-packet",
   "metadata": {},
   "outputs": [],
   "source": [
    "# Filling the NaN values in bath with corresponding median for the respective room size\n",
    "for index, row in df.iterrows():\n",
    "    if np.isnan(df.loc[index, 'bath']):\n",
    "        df.loc[index, 'bath'] = median_bath_df.loc[df.loc[index,'size']].values[0]"
   ]
  },
  {
   "cell_type": "code",
   "execution_count": 1521,
   "id": "anonymous-armor",
   "metadata": {},
   "outputs": [
    {
     "data": {
      "text/html": [
       "<div>\n",
       "<style scoped>\n",
       "    .dataframe tbody tr th:only-of-type {\n",
       "        vertical-align: middle;\n",
       "    }\n",
       "\n",
       "    .dataframe tbody tr th {\n",
       "        vertical-align: top;\n",
       "    }\n",
       "\n",
       "    .dataframe thead th {\n",
       "        text-align: right;\n",
       "    }\n",
       "</style>\n",
       "<table border=\"1\" class=\"dataframe\">\n",
       "  <thead>\n",
       "    <tr style=\"text-align: right;\">\n",
       "      <th></th>\n",
       "      <th>balcony</th>\n",
       "    </tr>\n",
       "    <tr>\n",
       "      <th>size</th>\n",
       "      <th></th>\n",
       "    </tr>\n",
       "  </thead>\n",
       "  <tbody>\n",
       "    <tr>\n",
       "      <th>1 BHK</th>\n",
       "      <td>1.0</td>\n",
       "    </tr>\n",
       "    <tr>\n",
       "      <th>1 Bedroom</th>\n",
       "      <td>0.0</td>\n",
       "    </tr>\n",
       "    <tr>\n",
       "      <th>10 BHK</th>\n",
       "      <td>NaN</td>\n",
       "    </tr>\n",
       "    <tr>\n",
       "      <th>10 Bedroom</th>\n",
       "      <td>3.0</td>\n",
       "    </tr>\n",
       "    <tr>\n",
       "      <th>2 BHK</th>\n",
       "      <td>1.0</td>\n",
       "    </tr>\n",
       "    <tr>\n",
       "      <th>2 Bedroom</th>\n",
       "      <td>1.0</td>\n",
       "    </tr>\n",
       "    <tr>\n",
       "      <th>3 BHK</th>\n",
       "      <td>2.0</td>\n",
       "    </tr>\n",
       "    <tr>\n",
       "      <th>3 Bedroom</th>\n",
       "      <td>1.0</td>\n",
       "    </tr>\n",
       "    <tr>\n",
       "      <th>4 BHK</th>\n",
       "      <td>2.0</td>\n",
       "    </tr>\n",
       "    <tr>\n",
       "      <th>4 Bedroom</th>\n",
       "      <td>2.0</td>\n",
       "    </tr>\n",
       "    <tr>\n",
       "      <th>5 BHK</th>\n",
       "      <td>2.0</td>\n",
       "    </tr>\n",
       "    <tr>\n",
       "      <th>5 Bedroom</th>\n",
       "      <td>2.0</td>\n",
       "    </tr>\n",
       "    <tr>\n",
       "      <th>6 BHK</th>\n",
       "      <td>2.0</td>\n",
       "    </tr>\n",
       "    <tr>\n",
       "      <th>6 Bedroom</th>\n",
       "      <td>2.0</td>\n",
       "    </tr>\n",
       "    <tr>\n",
       "      <th>7 BHK</th>\n",
       "      <td>3.0</td>\n",
       "    </tr>\n",
       "    <tr>\n",
       "      <th>7 Bedroom</th>\n",
       "      <td>2.0</td>\n",
       "    </tr>\n",
       "    <tr>\n",
       "      <th>8 BHK</th>\n",
       "      <td>3.0</td>\n",
       "    </tr>\n",
       "    <tr>\n",
       "      <th>8 Bedroom</th>\n",
       "      <td>2.0</td>\n",
       "    </tr>\n",
       "    <tr>\n",
       "      <th>9 BHK</th>\n",
       "      <td>3.0</td>\n",
       "    </tr>\n",
       "    <tr>\n",
       "      <th>9 Bedroom</th>\n",
       "      <td>2.0</td>\n",
       "    </tr>\n",
       "  </tbody>\n",
       "</table>\n",
       "</div>"
      ],
      "text/plain": [
       "            balcony\n",
       "size               \n",
       "1 BHK           1.0\n",
       "1 Bedroom       0.0\n",
       "10 BHK          NaN\n",
       "10 Bedroom      3.0\n",
       "2 BHK           1.0\n",
       "2 Bedroom       1.0\n",
       "3 BHK           2.0\n",
       "3 Bedroom       1.0\n",
       "4 BHK           2.0\n",
       "4 Bedroom       2.0\n",
       "5 BHK           2.0\n",
       "5 Bedroom       2.0\n",
       "6 BHK           2.0\n",
       "6 Bedroom       2.0\n",
       "7 BHK           3.0\n",
       "7 Bedroom       2.0\n",
       "8 BHK           3.0\n",
       "8 Bedroom       2.0\n",
       "9 BHK           3.0\n",
       "9 Bedroom       2.0"
      ]
     },
     "execution_count": 1521,
     "metadata": {},
     "output_type": "execute_result"
    }
   ],
   "source": [
    "# Replacing all the NaN values in balcony witht the median of the subgroup based on number of rooms\n",
    "balcony_df = pd.DataFrame(df.groupby('size')['balcony'].median())\n",
    "balcony_df"
   ]
  },
  {
   "cell_type": "code",
   "execution_count": 1522,
   "id": "fresh-invitation",
   "metadata": {},
   "outputs": [],
   "source": [
    "# We can see that for properties with higher the bedroom size dont have bath. And most of our NaN are for bedrooms\n",
    "# > 10. Setting all NaN as 0\n",
    "balcony_df.fillna(0, inplace=True)"
   ]
  },
  {
   "cell_type": "code",
   "execution_count": 1523,
   "id": "occasional-england",
   "metadata": {},
   "outputs": [
    {
     "data": {
      "text/html": [
       "<div>\n",
       "<style scoped>\n",
       "    .dataframe tbody tr th:only-of-type {\n",
       "        vertical-align: middle;\n",
       "    }\n",
       "\n",
       "    .dataframe tbody tr th {\n",
       "        vertical-align: top;\n",
       "    }\n",
       "\n",
       "    .dataframe thead th {\n",
       "        text-align: right;\n",
       "    }\n",
       "</style>\n",
       "<table border=\"1\" class=\"dataframe\">\n",
       "  <thead>\n",
       "    <tr style=\"text-align: right;\">\n",
       "      <th></th>\n",
       "      <th>availability</th>\n",
       "      <th>location</th>\n",
       "      <th>size</th>\n",
       "      <th>total_sqft</th>\n",
       "      <th>bath</th>\n",
       "      <th>balcony</th>\n",
       "      <th>price</th>\n",
       "      <th>hall</th>\n",
       "      <th>kitchen</th>\n",
       "      <th>room_count</th>\n",
       "    </tr>\n",
       "  </thead>\n",
       "  <tbody>\n",
       "    <tr>\n",
       "      <th>0</th>\n",
       "      <td>0</td>\n",
       "      <td>Electronic City Phase II</td>\n",
       "      <td>2 BHK</td>\n",
       "      <td>1056</td>\n",
       "      <td>2.0</td>\n",
       "      <td>1.0</td>\n",
       "      <td>39.07</td>\n",
       "      <td>1.0</td>\n",
       "      <td>1.0</td>\n",
       "      <td>2.0</td>\n",
       "    </tr>\n",
       "    <tr>\n",
       "      <th>1</th>\n",
       "      <td>1</td>\n",
       "      <td>Chikka Tirupathi</td>\n",
       "      <td>4 Bedroom</td>\n",
       "      <td>2600</td>\n",
       "      <td>5.0</td>\n",
       "      <td>3.0</td>\n",
       "      <td>120.00</td>\n",
       "      <td>0.0</td>\n",
       "      <td>0.0</td>\n",
       "      <td>4.0</td>\n",
       "    </tr>\n",
       "    <tr>\n",
       "      <th>2</th>\n",
       "      <td>1</td>\n",
       "      <td>Uttarahalli</td>\n",
       "      <td>3 BHK</td>\n",
       "      <td>1440</td>\n",
       "      <td>2.0</td>\n",
       "      <td>3.0</td>\n",
       "      <td>62.00</td>\n",
       "      <td>1.0</td>\n",
       "      <td>1.0</td>\n",
       "      <td>3.0</td>\n",
       "    </tr>\n",
       "    <tr>\n",
       "      <th>3</th>\n",
       "      <td>1</td>\n",
       "      <td>Lingadheeranahalli</td>\n",
       "      <td>3 BHK</td>\n",
       "      <td>1521</td>\n",
       "      <td>3.0</td>\n",
       "      <td>1.0</td>\n",
       "      <td>95.00</td>\n",
       "      <td>1.0</td>\n",
       "      <td>1.0</td>\n",
       "      <td>3.0</td>\n",
       "    </tr>\n",
       "    <tr>\n",
       "      <th>4</th>\n",
       "      <td>1</td>\n",
       "      <td>Kothanur</td>\n",
       "      <td>2 BHK</td>\n",
       "      <td>1200</td>\n",
       "      <td>2.0</td>\n",
       "      <td>1.0</td>\n",
       "      <td>51.00</td>\n",
       "      <td>1.0</td>\n",
       "      <td>1.0</td>\n",
       "      <td>2.0</td>\n",
       "    </tr>\n",
       "  </tbody>\n",
       "</table>\n",
       "</div>"
      ],
      "text/plain": [
       "   availability                  location       size total_sqft  bath  \\\n",
       "0             0  Electronic City Phase II      2 BHK       1056   2.0   \n",
       "1             1          Chikka Tirupathi  4 Bedroom       2600   5.0   \n",
       "2             1               Uttarahalli      3 BHK       1440   2.0   \n",
       "3             1        Lingadheeranahalli      3 BHK       1521   3.0   \n",
       "4             1                  Kothanur      2 BHK       1200   2.0   \n",
       "\n",
       "   balcony   price  hall  kitchen  room_count  \n",
       "0      1.0   39.07   1.0      1.0         2.0  \n",
       "1      3.0  120.00   0.0      0.0         4.0  \n",
       "2      3.0   62.00   1.0      1.0         3.0  \n",
       "3      1.0   95.00   1.0      1.0         3.0  \n",
       "4      1.0   51.00   1.0      1.0         2.0  "
      ]
     },
     "execution_count": 1523,
     "metadata": {},
     "output_type": "execute_result"
    }
   ],
   "source": [
    "# Filling NaN values with corresponding mean for the respective room size\n",
    "for index, row in df.iterrows():\n",
    "    if np.isnan(df.loc[index, 'balcony']):\n",
    "        df.loc[index, 'balcony'] = balcony_df.loc[df.loc[index,'size']].values[0]\n",
    "df.head()"
   ]
  },
  {
   "cell_type": "code",
   "execution_count": 1524,
   "id": "constant-commerce",
   "metadata": {},
   "outputs": [
    {
     "data": {
      "text/plain": [
       "availability    0\n",
       "location        0\n",
       "size            0\n",
       "total_sqft      0\n",
       "bath            0\n",
       "balcony         0\n",
       "price           0\n",
       "hall            0\n",
       "kitchen         0\n",
       "room_count      0\n",
       "dtype: int64"
      ]
     },
     "execution_count": 1524,
     "metadata": {},
     "output_type": "execute_result"
    }
   ],
   "source": [
    "df.isna().sum()"
   ]
  },
  {
   "cell_type": "code",
   "execution_count": 1525,
   "id": "streaming-foundation",
   "metadata": {},
   "outputs": [
    {
     "data": {
      "text/plain": [
       "availability    0\n",
       "location        0\n",
       "size            0\n",
       "total_sqft      0\n",
       "bath            0\n",
       "balcony         0\n",
       "price           0\n",
       "hall            0\n",
       "kitchen         0\n",
       "room_count      0\n",
       "dtype: int64"
      ]
     },
     "execution_count": 1525,
     "metadata": {},
     "output_type": "execute_result"
    }
   ],
   "source": [
    "df.dropna(inplace=True)\n",
    "df.isna().sum()"
   ]
  },
  {
   "cell_type": "code",
   "execution_count": 1526,
   "id": "individual-country",
   "metadata": {},
   "outputs": [
    {
     "data": {
      "text/plain": [
       "(10632, 10)"
      ]
     },
     "execution_count": 1526,
     "metadata": {},
     "output_type": "execute_result"
    }
   ],
   "source": [
    "df.shape"
   ]
  },
  {
   "cell_type": "code",
   "execution_count": 1527,
   "id": "center-chapel",
   "metadata": {},
   "outputs": [
    {
     "data": {
      "text/plain": [
       "2 BHK         4160\n",
       "3 BHK         3425\n",
       "4 Bedroom      659\n",
       "4 BHK          478\n",
       "3 Bedroom      446\n",
       "1 BHK          435\n",
       "2 Bedroom      281\n",
       "5 Bedroom      232\n",
       "6 Bedroom      154\n",
       "1 Bedroom       88\n",
       "7 Bedroom       65\n",
       "8 Bedroom       65\n",
       "5 BHK           50\n",
       "9 Bedroom       41\n",
       "6 BHK           21\n",
       "7 BHK           12\n",
       "10 Bedroom       8\n",
       "9 BHK            7\n",
       "8 BHK            3\n",
       "10 BHK           2\n",
       "Name: size, dtype: int64"
      ]
     },
     "execution_count": 1527,
     "metadata": {},
     "output_type": "execute_result"
    }
   ],
   "source": [
    "df['size'].value_counts()"
   ]
  },
  {
   "cell_type": "code",
   "execution_count": 1528,
   "id": "visible-jurisdiction",
   "metadata": {
    "scrolled": true
   },
   "outputs": [
    {
     "data": {
      "text/html": [
       "<div>\n",
       "<style scoped>\n",
       "    .dataframe tbody tr th:only-of-type {\n",
       "        vertical-align: middle;\n",
       "    }\n",
       "\n",
       "    .dataframe tbody tr th {\n",
       "        vertical-align: top;\n",
       "    }\n",
       "\n",
       "    .dataframe thead th {\n",
       "        text-align: right;\n",
       "    }\n",
       "</style>\n",
       "<table border=\"1\" class=\"dataframe\">\n",
       "  <thead>\n",
       "    <tr style=\"text-align: right;\">\n",
       "      <th></th>\n",
       "      <th>availability</th>\n",
       "      <th>location</th>\n",
       "      <th>size</th>\n",
       "      <th>total_sqft</th>\n",
       "      <th>bath</th>\n",
       "      <th>balcony</th>\n",
       "      <th>price</th>\n",
       "      <th>hall</th>\n",
       "      <th>kitchen</th>\n",
       "      <th>room_count</th>\n",
       "      <th>total_sqft_is_alphanumeric</th>\n",
       "    </tr>\n",
       "  </thead>\n",
       "  <tbody>\n",
       "    <tr>\n",
       "      <th>410</th>\n",
       "      <td>1</td>\n",
       "      <td>Kengeri</td>\n",
       "      <td>1 BHK</td>\n",
       "      <td>34.46Sq. Meter</td>\n",
       "      <td>1.0</td>\n",
       "      <td>0.0</td>\n",
       "      <td>18.5</td>\n",
       "      <td>1.0</td>\n",
       "      <td>1.0</td>\n",
       "      <td>1.0</td>\n",
       "      <td>True</td>\n",
       "    </tr>\n",
       "    <tr>\n",
       "      <th>648</th>\n",
       "      <td>1</td>\n",
       "      <td>Arekere</td>\n",
       "      <td>9 Bedroom</td>\n",
       "      <td>4125Perch</td>\n",
       "      <td>9.0</td>\n",
       "      <td>2.0</td>\n",
       "      <td>265.0</td>\n",
       "      <td>0.0</td>\n",
       "      <td>0.0</td>\n",
       "      <td>9.0</td>\n",
       "      <td>True</td>\n",
       "    </tr>\n",
       "    <tr>\n",
       "      <th>775</th>\n",
       "      <td>1</td>\n",
       "      <td>Basavanagara</td>\n",
       "      <td>1 BHK</td>\n",
       "      <td>1000Sq. Meter</td>\n",
       "      <td>2.0</td>\n",
       "      <td>1.0</td>\n",
       "      <td>93.0</td>\n",
       "      <td>1.0</td>\n",
       "      <td>1.0</td>\n",
       "      <td>1.0</td>\n",
       "      <td>True</td>\n",
       "    </tr>\n",
       "    <tr>\n",
       "      <th>872</th>\n",
       "      <td>1</td>\n",
       "      <td>Singapura Village</td>\n",
       "      <td>2 BHK</td>\n",
       "      <td>1100Sq. Yards</td>\n",
       "      <td>2.0</td>\n",
       "      <td>1.0</td>\n",
       "      <td>45.0</td>\n",
       "      <td>1.0</td>\n",
       "      <td>1.0</td>\n",
       "      <td>2.0</td>\n",
       "      <td>True</td>\n",
       "    </tr>\n",
       "    <tr>\n",
       "      <th>1019</th>\n",
       "      <td>0</td>\n",
       "      <td>Marathi Layout</td>\n",
       "      <td>1 Bedroom</td>\n",
       "      <td>5.31Acres</td>\n",
       "      <td>1.0</td>\n",
       "      <td>0.0</td>\n",
       "      <td>110.0</td>\n",
       "      <td>0.0</td>\n",
       "      <td>0.0</td>\n",
       "      <td>1.0</td>\n",
       "      <td>True</td>\n",
       "    </tr>\n",
       "  </tbody>\n",
       "</table>\n",
       "</div>"
      ],
      "text/plain": [
       "      availability           location       size      total_sqft  bath  \\\n",
       "410              1            Kengeri      1 BHK  34.46Sq. Meter   1.0   \n",
       "648              1            Arekere  9 Bedroom       4125Perch   9.0   \n",
       "775              1       Basavanagara      1 BHK   1000Sq. Meter   2.0   \n",
       "872              1  Singapura Village      2 BHK   1100Sq. Yards   2.0   \n",
       "1019             0     Marathi Layout  1 Bedroom       5.31Acres   1.0   \n",
       "\n",
       "      balcony  price  hall  kitchen  room_count  total_sqft_is_alphanumeric  \n",
       "410       0.0   18.5   1.0      1.0         1.0                        True  \n",
       "648       2.0  265.0   0.0      0.0         9.0                        True  \n",
       "775       1.0   93.0   1.0      1.0         1.0                        True  \n",
       "872       1.0   45.0   1.0      1.0         2.0                        True  \n",
       "1019      0.0  110.0   0.0      0.0         1.0                        True  "
      ]
     },
     "execution_count": 1528,
     "metadata": {},
     "output_type": "execute_result"
    }
   ],
   "source": [
    "# Finding all the rows in total_sqft which contain different units\n",
    "df['total_sqft_is_alphanumeric'] = list(map(lambda x: re.search(r'[a-zA-Z]',x) != None, df['total_sqft']))\n",
    "df.loc[df['total_sqft_is_alphanumeric']==True].head()"
   ]
  },
  {
   "cell_type": "markdown",
   "id": "professional-wagner",
   "metadata": {},
   "source": [
    "We can see that there are multiple units which are used here:\n",
    "SqMeter/Acres/SqYards/Grounds/Cents/Guntha/Perch\n",
    "\n",
    "Using calculators from https://housing.com/calculators/ground-to-square-feet\n",
    "* 1 Ground =  2400.352024 sq.ft\n",
    "* 1 Perch = 272.25 sq.ft\n",
    "* 1 acre = 43560.00001 sq.ft\n",
    "* 1 Guntha = 1089 sq.ft\n",
    "* 1 sq.yards = 9.000000878 sq.ft\n",
    "* 1 sq.meters = 10.76391042 sq.ft\n",
    "* 1 Cents = 435.56 sq.ft"
   ]
  },
  {
   "cell_type": "code",
   "execution_count": 1529,
   "id": "noble-brook",
   "metadata": {},
   "outputs": [],
   "source": [
    "def return_in_sq_ft(value, units):\n",
    "    units = units.lower()\n",
    "    value=float(value)\n",
    "    if units==\"grounds\":\n",
    "        return value*2400.352024\n",
    "    elif units==\"perch\":\n",
    "        return value*272.25\n",
    "    elif units==\"acres\":\n",
    "        return value*43560.00001\n",
    "    elif units==\"guntha\":\n",
    "        return value*1089\n",
    "    elif units==\"sq.yards\":\n",
    "        return value*9.000000878\n",
    "    elif units==\"sq.meter\":\n",
    "        return value*10.76391042\n",
    "    elif units==\"cents\":\n",
    "        return value*435.56\n",
    "    else:\n",
    "        print(f\"{units} not FOUND\")\n",
    "\n",
    "def units_in_sq_ft(value):\n",
    "    if re.search(r'[a-zA-Z]',value) != None:\n",
    "        \n",
    "        s_arr = re.findall(r'\\d+[.]?\\d*|[A-Za-z.]+', value)\n",
    "        return return_in_sq_ft(s_arr[0], \"\".join(s_arr[1:]))\n",
    "    elif value.find(\"-\")!=-1:\n",
    "        return (float(value.split(\"-\")[0])+float(value.split(\"-\")[1]))/2\n",
    "    else:\n",
    "        return float(value)\n",
    "\n",
    "df[\"total_sqft\"] = df[\"total_sqft\"].apply(units_in_sq_ft)"
   ]
  },
  {
   "cell_type": "code",
   "execution_count": 1530,
   "id": "cheap-disability",
   "metadata": {},
   "outputs": [],
   "source": [
    "df.drop(columns=[\"total_sqft_is_alphanumeric\"], inplace=True)"
   ]
  },
  {
   "cell_type": "code",
   "execution_count": 1531,
   "id": "every-february",
   "metadata": {},
   "outputs": [
    {
     "data": {
      "text/plain": [
       "2.0     4441\n",
       "3.0     3871\n",
       "4.0     1137\n",
       "1.0      523\n",
       "5.0      282\n",
       "6.0      175\n",
       "7.0       77\n",
       "8.0       68\n",
       "9.0       48\n",
       "10.0      10\n",
       "Name: room_count, dtype: int64"
      ]
     },
     "execution_count": 1531,
     "metadata": {},
     "output_type": "execute_result"
    }
   ],
   "source": [
    "df.room_count.value_counts()"
   ]
  },
  {
   "cell_type": "code",
   "execution_count": 1532,
   "id": "vocational-eclipse",
   "metadata": {},
   "outputs": [
    {
     "name": "stdout",
     "output_type": "stream",
     "text": [
      "total_sqft\n",
      "1100.0 1680.0\n",
      "price\n",
      "50.0 120.0\n",
      "room_count\n",
      "2.0 3.0\n"
     ]
    },
    {
     "data": {
      "text/plain": [
       "<AxesSubplot:>"
      ]
     },
     "execution_count": 1532,
     "metadata": {},
     "output_type": "execute_result"
    },
    {
     "data": {
      "image/png": "[encoded data removed]",
      "text/plain": [
       "<Figure size 432x288 with 1 Axes>"
      ]
     },
     "metadata": {
      "needs_background": "light"
     },
     "output_type": "display_data"
    }
   ],
   "source": [
    "# Getting rid of the outliers from originally numeric column\n",
    "df_o = df[['total_sqft','price','room_count']]\n",
    "for col in df_o.columns:\n",
    "    tempdata = df_o.sort_values(by=col)[col]\n",
    "    print(col)\n",
    "    q1,q3 = tempdata.quantile([0.25,0.75])\n",
    "    print(q1,q3)\n",
    "    IQR = q1-q3\n",
    "    lr = q1-1.5*IQR\n",
    "    ur = q3+1.5*IQR\n",
    "    # Replacing the values \n",
    "    df_o[col].apply(lambda x: x if x <= ur else ur)\n",
    "    df_o[col].apply(lambda x: x if x >= lr else lr)\n",
    "\n",
    "sns.boxplot(data=df_o)"
   ]
  },
  {
   "cell_type": "code",
   "execution_count": 1533,
   "id": "tight-immunology",
   "metadata": {},
   "outputs": [
    {
     "data": {
      "text/html": [
       "<div>\n",
       "<style scoped>\n",
       "    .dataframe tbody tr th:only-of-type {\n",
       "        vertical-align: middle;\n",
       "    }\n",
       "\n",
       "    .dataframe tbody tr th {\n",
       "        vertical-align: top;\n",
       "    }\n",
       "\n",
       "    .dataframe thead th {\n",
       "        text-align: right;\n",
       "    }\n",
       "</style>\n",
       "<table border=\"1\" class=\"dataframe\">\n",
       "  <thead>\n",
       "    <tr style=\"text-align: right;\">\n",
       "      <th></th>\n",
       "      <th>total_sqft</th>\n",
       "      <th>price</th>\n",
       "      <th>room_count</th>\n",
       "    </tr>\n",
       "  </thead>\n",
       "  <tbody>\n",
       "    <tr>\n",
       "      <th>0</th>\n",
       "      <td>1056.0</td>\n",
       "      <td>39.07</td>\n",
       "      <td>2.0</td>\n",
       "    </tr>\n",
       "    <tr>\n",
       "      <th>1</th>\n",
       "      <td>2600.0</td>\n",
       "      <td>120.00</td>\n",
       "      <td>4.0</td>\n",
       "    </tr>\n",
       "    <tr>\n",
       "      <th>2</th>\n",
       "      <td>1440.0</td>\n",
       "      <td>62.00</td>\n",
       "      <td>3.0</td>\n",
       "    </tr>\n",
       "    <tr>\n",
       "      <th>3</th>\n",
       "      <td>1521.0</td>\n",
       "      <td>95.00</td>\n",
       "      <td>3.0</td>\n",
       "    </tr>\n",
       "    <tr>\n",
       "      <th>4</th>\n",
       "      <td>1200.0</td>\n",
       "      <td>51.00</td>\n",
       "      <td>2.0</td>\n",
       "    </tr>\n",
       "  </tbody>\n",
       "</table>\n",
       "</div>"
      ],
      "text/plain": [
       "   total_sqft   price  room_count\n",
       "0      1056.0   39.07         2.0\n",
       "1      2600.0  120.00         4.0\n",
       "2      1440.0   62.00         3.0\n",
       "3      1521.0   95.00         3.0\n",
       "4      1200.0   51.00         2.0"
      ]
     },
     "execution_count": 1533,
     "metadata": {},
     "output_type": "execute_result"
    }
   ],
   "source": [
    "df_o.head()"
   ]
  },
  {
   "cell_type": "code",
   "execution_count": 1534,
   "id": "binding-spring",
   "metadata": {},
   "outputs": [
    {
     "data": {
      "text/html": [
       "<div>\n",
       "<style scoped>\n",
       "    .dataframe tbody tr th:only-of-type {\n",
       "        vertical-align: middle;\n",
       "    }\n",
       "\n",
       "    .dataframe tbody tr th {\n",
       "        vertical-align: top;\n",
       "    }\n",
       "\n",
       "    .dataframe thead th {\n",
       "        text-align: right;\n",
       "    }\n",
       "</style>\n",
       "<table border=\"1\" class=\"dataframe\">\n",
       "  <thead>\n",
       "    <tr style=\"text-align: right;\">\n",
       "      <th></th>\n",
       "      <th>availability</th>\n",
       "      <th>location</th>\n",
       "      <th>size</th>\n",
       "      <th>bath</th>\n",
       "      <th>balcony</th>\n",
       "      <th>hall</th>\n",
       "      <th>kitchen</th>\n",
       "      <th>total_sqft</th>\n",
       "      <th>price</th>\n",
       "      <th>room_count</th>\n",
       "    </tr>\n",
       "  </thead>\n",
       "  <tbody>\n",
       "    <tr>\n",
       "      <th>0</th>\n",
       "      <td>0</td>\n",
       "      <td>Electronic City Phase II</td>\n",
       "      <td>2 BHK</td>\n",
       "      <td>2.0</td>\n",
       "      <td>1.0</td>\n",
       "      <td>1.0</td>\n",
       "      <td>1.0</td>\n",
       "      <td>1056.0</td>\n",
       "      <td>39.07</td>\n",
       "      <td>2.0</td>\n",
       "    </tr>\n",
       "    <tr>\n",
       "      <th>1</th>\n",
       "      <td>1</td>\n",
       "      <td>Chikka Tirupathi</td>\n",
       "      <td>4 Bedroom</td>\n",
       "      <td>5.0</td>\n",
       "      <td>3.0</td>\n",
       "      <td>0.0</td>\n",
       "      <td>0.0</td>\n",
       "      <td>2600.0</td>\n",
       "      <td>120.00</td>\n",
       "      <td>4.0</td>\n",
       "    </tr>\n",
       "    <tr>\n",
       "      <th>2</th>\n",
       "      <td>1</td>\n",
       "      <td>Uttarahalli</td>\n",
       "      <td>3 BHK</td>\n",
       "      <td>2.0</td>\n",
       "      <td>3.0</td>\n",
       "      <td>1.0</td>\n",
       "      <td>1.0</td>\n",
       "      <td>1440.0</td>\n",
       "      <td>62.00</td>\n",
       "      <td>3.0</td>\n",
       "    </tr>\n",
       "    <tr>\n",
       "      <th>3</th>\n",
       "      <td>1</td>\n",
       "      <td>Lingadheeranahalli</td>\n",
       "      <td>3 BHK</td>\n",
       "      <td>3.0</td>\n",
       "      <td>1.0</td>\n",
       "      <td>1.0</td>\n",
       "      <td>1.0</td>\n",
       "      <td>1521.0</td>\n",
       "      <td>95.00</td>\n",
       "      <td>3.0</td>\n",
       "    </tr>\n",
       "    <tr>\n",
       "      <th>4</th>\n",
       "      <td>1</td>\n",
       "      <td>Kothanur</td>\n",
       "      <td>2 BHK</td>\n",
       "      <td>2.0</td>\n",
       "      <td>1.0</td>\n",
       "      <td>1.0</td>\n",
       "      <td>1.0</td>\n",
       "      <td>1200.0</td>\n",
       "      <td>51.00</td>\n",
       "      <td>2.0</td>\n",
       "    </tr>\n",
       "  </tbody>\n",
       "</table>\n",
       "</div>"
      ],
      "text/plain": [
       "   availability                  location       size  bath  balcony  hall  \\\n",
       "0             0  Electronic City Phase II      2 BHK   2.0      1.0   1.0   \n",
       "1             1          Chikka Tirupathi  4 Bedroom   5.0      3.0   0.0   \n",
       "2             1               Uttarahalli      3 BHK   2.0      3.0   1.0   \n",
       "3             1        Lingadheeranahalli      3 BHK   3.0      1.0   1.0   \n",
       "4             1                  Kothanur      2 BHK   2.0      1.0   1.0   \n",
       "\n",
       "   kitchen  total_sqft   price  room_count  \n",
       "0      1.0      1056.0   39.07         2.0  \n",
       "1      0.0      2600.0  120.00         4.0  \n",
       "2      1.0      1440.0   62.00         3.0  \n",
       "3      1.0      1521.0   95.00         3.0  \n",
       "4      1.0      1200.0   51.00         2.0  "
      ]
     },
     "execution_count": 1534,
     "metadata": {},
     "output_type": "execute_result"
    }
   ],
   "source": [
    "df.drop(columns=['total_sqft','price','room_count'], inplace=True)\n",
    "df = pd.concat([df, df_o], axis=1)\n",
    "df.head()"
   ]
  },
  {
   "cell_type": "markdown",
   "id": "falling-rider",
   "metadata": {},
   "source": [
    "### Adding per square-feet price"
   ]
  },
  {
   "cell_type": "code",
   "execution_count": 1535,
   "id": "referenced-translation",
   "metadata": {},
   "outputs": [
    {
     "data": {
      "text/html": [
       "<div>\n",
       "<style scoped>\n",
       "    .dataframe tbody tr th:only-of-type {\n",
       "        vertical-align: middle;\n",
       "    }\n",
       "\n",
       "    .dataframe tbody tr th {\n",
       "        vertical-align: top;\n",
       "    }\n",
       "\n",
       "    .dataframe thead th {\n",
       "        text-align: right;\n",
       "    }\n",
       "</style>\n",
       "<table border=\"1\" class=\"dataframe\">\n",
       "  <thead>\n",
       "    <tr style=\"text-align: right;\">\n",
       "      <th></th>\n",
       "      <th>availability</th>\n",
       "      <th>location</th>\n",
       "      <th>size</th>\n",
       "      <th>bath</th>\n",
       "      <th>balcony</th>\n",
       "      <th>hall</th>\n",
       "      <th>kitchen</th>\n",
       "      <th>total_sqft</th>\n",
       "      <th>price</th>\n",
       "      <th>room_count</th>\n",
       "      <th>price_per_square_ft</th>\n",
       "    </tr>\n",
       "  </thead>\n",
       "  <tbody>\n",
       "    <tr>\n",
       "      <th>0</th>\n",
       "      <td>0</td>\n",
       "      <td>Electronic City Phase II</td>\n",
       "      <td>2 BHK</td>\n",
       "      <td>2.0</td>\n",
       "      <td>1.0</td>\n",
       "      <td>1.0</td>\n",
       "      <td>1.0</td>\n",
       "      <td>1056.0</td>\n",
       "      <td>39.07</td>\n",
       "      <td>2.0</td>\n",
       "      <td>36998.106061</td>\n",
       "    </tr>\n",
       "    <tr>\n",
       "      <th>1</th>\n",
       "      <td>1</td>\n",
       "      <td>Chikka Tirupathi</td>\n",
       "      <td>4 Bedroom</td>\n",
       "      <td>5.0</td>\n",
       "      <td>3.0</td>\n",
       "      <td>0.0</td>\n",
       "      <td>0.0</td>\n",
       "      <td>2600.0</td>\n",
       "      <td>120.00</td>\n",
       "      <td>4.0</td>\n",
       "      <td>46153.846154</td>\n",
       "    </tr>\n",
       "    <tr>\n",
       "      <th>2</th>\n",
       "      <td>1</td>\n",
       "      <td>Uttarahalli</td>\n",
       "      <td>3 BHK</td>\n",
       "      <td>2.0</td>\n",
       "      <td>3.0</td>\n",
       "      <td>1.0</td>\n",
       "      <td>1.0</td>\n",
       "      <td>1440.0</td>\n",
       "      <td>62.00</td>\n",
       "      <td>3.0</td>\n",
       "      <td>43055.555556</td>\n",
       "    </tr>\n",
       "    <tr>\n",
       "      <th>3</th>\n",
       "      <td>1</td>\n",
       "      <td>Lingadheeranahalli</td>\n",
       "      <td>3 BHK</td>\n",
       "      <td>3.0</td>\n",
       "      <td>1.0</td>\n",
       "      <td>1.0</td>\n",
       "      <td>1.0</td>\n",
       "      <td>1521.0</td>\n",
       "      <td>95.00</td>\n",
       "      <td>3.0</td>\n",
       "      <td>62458.908613</td>\n",
       "    </tr>\n",
       "    <tr>\n",
       "      <th>4</th>\n",
       "      <td>1</td>\n",
       "      <td>Kothanur</td>\n",
       "      <td>2 BHK</td>\n",
       "      <td>2.0</td>\n",
       "      <td>1.0</td>\n",
       "      <td>1.0</td>\n",
       "      <td>1.0</td>\n",
       "      <td>1200.0</td>\n",
       "      <td>51.00</td>\n",
       "      <td>2.0</td>\n",
       "      <td>42500.000000</td>\n",
       "    </tr>\n",
       "  </tbody>\n",
       "</table>\n",
       "</div>"
      ],
      "text/plain": [
       "   availability                  location       size  bath  balcony  hall  \\\n",
       "0             0  Electronic City Phase II      2 BHK   2.0      1.0   1.0   \n",
       "1             1          Chikka Tirupathi  4 Bedroom   5.0      3.0   0.0   \n",
       "2             1               Uttarahalli      3 BHK   2.0      3.0   1.0   \n",
       "3             1        Lingadheeranahalli      3 BHK   3.0      1.0   1.0   \n",
       "4             1                  Kothanur      2 BHK   2.0      1.0   1.0   \n",
       "\n",
       "   kitchen  total_sqft   price  room_count  price_per_square_ft  \n",
       "0      1.0      1056.0   39.07         2.0         36998.106061  \n",
       "1      0.0      2600.0  120.00         4.0         46153.846154  \n",
       "2      1.0      1440.0   62.00         3.0         43055.555556  \n",
       "3      1.0      1521.0   95.00         3.0         62458.908613  \n",
       "4      1.0      1200.0   51.00         2.0         42500.000000  "
      ]
     },
     "execution_count": 1535,
     "metadata": {},
     "output_type": "execute_result"
    }
   ],
   "source": [
    "df['price_per_square_ft'] = (df['price']*1000000)/df['total_sqft']\n",
    "df.head()"
   ]
  },
  {
   "cell_type": "code",
   "execution_count": 1536,
   "id": "opening-workplace",
   "metadata": {},
   "outputs": [
    {
     "data": {
      "text/html": [
       "<div>\n",
       "<style scoped>\n",
       "    .dataframe tbody tr th:only-of-type {\n",
       "        vertical-align: middle;\n",
       "    }\n",
       "\n",
       "    .dataframe tbody tr th {\n",
       "        vertical-align: top;\n",
       "    }\n",
       "\n",
       "    .dataframe thead th {\n",
       "        text-align: right;\n",
       "    }\n",
       "</style>\n",
       "<table border=\"1\" class=\"dataframe\">\n",
       "  <thead>\n",
       "    <tr style=\"text-align: right;\">\n",
       "      <th></th>\n",
       "      <th>availability</th>\n",
       "      <th>location</th>\n",
       "      <th>size</th>\n",
       "      <th>bath</th>\n",
       "      <th>balcony</th>\n",
       "      <th>hall</th>\n",
       "      <th>kitchen</th>\n",
       "      <th>total_sqft</th>\n",
       "      <th>price</th>\n",
       "      <th>room_count</th>\n",
       "      <th>price_per_square_ft</th>\n",
       "      <th>room_size</th>\n",
       "    </tr>\n",
       "  </thead>\n",
       "  <tbody>\n",
       "    <tr>\n",
       "      <th>0</th>\n",
       "      <td>0</td>\n",
       "      <td>Electronic City Phase II</td>\n",
       "      <td>2 BHK</td>\n",
       "      <td>2.0</td>\n",
       "      <td>1.0</td>\n",
       "      <td>1.0</td>\n",
       "      <td>1.0</td>\n",
       "      <td>1056.0</td>\n",
       "      <td>39.07</td>\n",
       "      <td>2.0</td>\n",
       "      <td>36998.106061</td>\n",
       "      <td>1.0</td>\n",
       "    </tr>\n",
       "    <tr>\n",
       "      <th>1</th>\n",
       "      <td>1</td>\n",
       "      <td>Chikka Tirupathi</td>\n",
       "      <td>4 Bedroom</td>\n",
       "      <td>5.0</td>\n",
       "      <td>3.0</td>\n",
       "      <td>0.0</td>\n",
       "      <td>0.0</td>\n",
       "      <td>2600.0</td>\n",
       "      <td>120.00</td>\n",
       "      <td>4.0</td>\n",
       "      <td>46153.846154</td>\n",
       "      <td>1.0</td>\n",
       "    </tr>\n",
       "    <tr>\n",
       "      <th>2</th>\n",
       "      <td>1</td>\n",
       "      <td>Uttarahalli</td>\n",
       "      <td>3 BHK</td>\n",
       "      <td>2.0</td>\n",
       "      <td>3.0</td>\n",
       "      <td>1.0</td>\n",
       "      <td>1.0</td>\n",
       "      <td>1440.0</td>\n",
       "      <td>62.00</td>\n",
       "      <td>3.0</td>\n",
       "      <td>43055.555556</td>\n",
       "      <td>1.0</td>\n",
       "    </tr>\n",
       "    <tr>\n",
       "      <th>3</th>\n",
       "      <td>1</td>\n",
       "      <td>Lingadheeranahalli</td>\n",
       "      <td>3 BHK</td>\n",
       "      <td>3.0</td>\n",
       "      <td>1.0</td>\n",
       "      <td>1.0</td>\n",
       "      <td>1.0</td>\n",
       "      <td>1521.0</td>\n",
       "      <td>95.00</td>\n",
       "      <td>3.0</td>\n",
       "      <td>62458.908613</td>\n",
       "      <td>1.0</td>\n",
       "    </tr>\n",
       "    <tr>\n",
       "      <th>4</th>\n",
       "      <td>1</td>\n",
       "      <td>Kothanur</td>\n",
       "      <td>2 BHK</td>\n",
       "      <td>2.0</td>\n",
       "      <td>1.0</td>\n",
       "      <td>1.0</td>\n",
       "      <td>1.0</td>\n",
       "      <td>1200.0</td>\n",
       "      <td>51.00</td>\n",
       "      <td>2.0</td>\n",
       "      <td>42500.000000</td>\n",
       "      <td>1.0</td>\n",
       "    </tr>\n",
       "  </tbody>\n",
       "</table>\n",
       "</div>"
      ],
      "text/plain": [
       "   availability                  location       size  bath  balcony  hall  \\\n",
       "0             0  Electronic City Phase II      2 BHK   2.0      1.0   1.0   \n",
       "1             1          Chikka Tirupathi  4 Bedroom   5.0      3.0   0.0   \n",
       "2             1               Uttarahalli      3 BHK   2.0      3.0   1.0   \n",
       "3             1        Lingadheeranahalli      3 BHK   3.0      1.0   1.0   \n",
       "4             1                  Kothanur      2 BHK   2.0      1.0   1.0   \n",
       "\n",
       "   kitchen  total_sqft   price  room_count  price_per_square_ft  room_size  \n",
       "0      1.0      1056.0   39.07         2.0         36998.106061        1.0  \n",
       "1      0.0      2600.0  120.00         4.0         46153.846154        1.0  \n",
       "2      1.0      1440.0   62.00         3.0         43055.555556        1.0  \n",
       "3      1.0      1521.0   95.00         3.0         62458.908613        1.0  \n",
       "4      1.0      1200.0   51.00         2.0         42500.000000        1.0  "
      ]
     },
     "execution_count": 1536,
     "metadata": {},
     "output_type": "execute_result"
    }
   ],
   "source": [
    "# Adding another categorical variable for big and small rooms\n",
    "df['room_size'] = np.nan\n",
    "\n",
    "for index, row in df.iterrows():\n",
    "    if df.loc[index,'total_sqft']/df.loc[index,'room_count'] < 300:\n",
    "        df.loc[index, 'room_size'] = 0\n",
    "    else:\n",
    "        df.loc[index, 'room_size'] = 1\n",
    "\n",
    "df.head()"
   ]
  },
  {
   "cell_type": "markdown",
   "id": "weekly-moscow",
   "metadata": {},
   "source": [
    "### Finding all the unique Locations"
   ]
  },
  {
   "cell_type": "code",
   "execution_count": 1537,
   "id": "pediatric-remove",
   "metadata": {},
   "outputs": [
    {
     "data": {
      "text/plain": [
       "(10048, 12)"
      ]
     },
     "execution_count": 1537,
     "metadata": {},
     "output_type": "execute_result"
    }
   ],
   "source": [
    "# Erasing the outliers from each group of locations\n",
    "def remove_pps_outliers(df):\n",
    "    df_out=pd.DataFrame()\n",
    "    for key,subdf in df.groupby('location'):\n",
    "        m=np.mean(subdf.price_per_square_ft)\n",
    "        st=np.std(subdf.price_per_square_ft)\n",
    "        reduced_df=subdf[(subdf.price_per_square_ft>(m-3*st))& (subdf.price_per_square_ft<(m+3*st))]\n",
    "        df_out=pd.concat([df_out,reduced_df],ignore_index=True)\n",
    "    return df_out\n",
    "df_2=remove_pps_outliers(df)\n",
    "df_2.shape"
   ]
  },
  {
   "cell_type": "code",
   "execution_count": 1538,
   "id": "continuous-continuity",
   "metadata": {},
   "outputs": [
    {
     "data": {
      "text/plain": [
       "Text(0, 0.5, 'Count')"
      ]
     },
     "execution_count": 1538,
     "metadata": {},
     "output_type": "execute_result"
    },
    {
     "data": {
      "image/png": "[encoded data removed]",
      "text/plain": [
       "<Figure size 432x288 with 1 Axes>"
      ]
     },
     "metadata": {
      "needs_background": "light"
     },
     "output_type": "display_data"
    }
   ],
   "source": [
    "sns.histplot(df_2['price_per_square_ft'])\n",
    "plt.ylabel('Count')"
   ]
  },
  {
   "cell_type": "code",
   "execution_count": 1539,
   "id": "shaped-lunch",
   "metadata": {},
   "outputs": [
    {
     "data": {
      "text/plain": [
       "Text(0, 0.5, 'Count')"
      ]
     },
     "execution_count": 1539,
     "metadata": {},
     "output_type": "execute_result"
    },
    {
     "data": {
      "image/png": "[encoded data removed]",
      "text/plain": [
       "<Figure size 432x288 with 1 Axes>"
      ]
     },
     "metadata": {
      "needs_background": "light"
     },
     "output_type": "display_data"
    }
   ],
   "source": [
    "sns.histplot(df_2['bath'])\n",
    "plt.ylabel('Count')"
   ]
  },
  {
   "cell_type": "code",
   "execution_count": 1540,
   "id": "swiss-melbourne",
   "metadata": {},
   "outputs": [
    {
     "data": {
      "text/html": [
       "<div>\n",
       "<style scoped>\n",
       "    .dataframe tbody tr th:only-of-type {\n",
       "        vertical-align: middle;\n",
       "    }\n",
       "\n",
       "    .dataframe tbody tr th {\n",
       "        vertical-align: top;\n",
       "    }\n",
       "\n",
       "    .dataframe thead th {\n",
       "        text-align: right;\n",
       "    }\n",
       "</style>\n",
       "<table border=\"1\" class=\"dataframe\">\n",
       "  <thead>\n",
       "    <tr style=\"text-align: right;\">\n",
       "      <th></th>\n",
       "      <th>availability</th>\n",
       "      <th>location</th>\n",
       "      <th>size</th>\n",
       "      <th>bath</th>\n",
       "      <th>balcony</th>\n",
       "      <th>hall</th>\n",
       "      <th>kitchen</th>\n",
       "      <th>total_sqft</th>\n",
       "      <th>price</th>\n",
       "      <th>room_count</th>\n",
       "      <th>price_per_square_ft</th>\n",
       "      <th>room_size</th>\n",
       "    </tr>\n",
       "  </thead>\n",
       "  <tbody>\n",
       "    <tr>\n",
       "      <th>0</th>\n",
       "      <td>1</td>\n",
       "      <td>Devarabeesana Halli</td>\n",
       "      <td>2 BHK</td>\n",
       "      <td>2.0</td>\n",
       "      <td>1.0</td>\n",
       "      <td>1.0</td>\n",
       "      <td>1.0</td>\n",
       "      <td>1100.0</td>\n",
       "      <td>70.0</td>\n",
       "      <td>2.0</td>\n",
       "      <td>63636.363636</td>\n",
       "      <td>1.0</td>\n",
       "    </tr>\n",
       "    <tr>\n",
       "      <th>1</th>\n",
       "      <td>1</td>\n",
       "      <td>Devarabeesana Halli</td>\n",
       "      <td>3 BHK</td>\n",
       "      <td>3.0</td>\n",
       "      <td>2.0</td>\n",
       "      <td>1.0</td>\n",
       "      <td>1.0</td>\n",
       "      <td>1672.0</td>\n",
       "      <td>150.0</td>\n",
       "      <td>3.0</td>\n",
       "      <td>89712.918660</td>\n",
       "      <td>1.0</td>\n",
       "    </tr>\n",
       "    <tr>\n",
       "      <th>2</th>\n",
       "      <td>1</td>\n",
       "      <td>Devarabeesana Halli</td>\n",
       "      <td>3 BHK</td>\n",
       "      <td>3.0</td>\n",
       "      <td>3.0</td>\n",
       "      <td>1.0</td>\n",
       "      <td>1.0</td>\n",
       "      <td>1750.0</td>\n",
       "      <td>149.0</td>\n",
       "      <td>3.0</td>\n",
       "      <td>85142.857143</td>\n",
       "      <td>1.0</td>\n",
       "    </tr>\n",
       "    <tr>\n",
       "      <th>3</th>\n",
       "      <td>1</td>\n",
       "      <td>Devarabeesana Halli</td>\n",
       "      <td>3 BHK</td>\n",
       "      <td>3.0</td>\n",
       "      <td>2.0</td>\n",
       "      <td>1.0</td>\n",
       "      <td>1.0</td>\n",
       "      <td>1670.0</td>\n",
       "      <td>160.0</td>\n",
       "      <td>3.0</td>\n",
       "      <td>95808.383234</td>\n",
       "      <td>1.0</td>\n",
       "    </tr>\n",
       "    <tr>\n",
       "      <th>4</th>\n",
       "      <td>1</td>\n",
       "      <td>Devarabeesana Halli</td>\n",
       "      <td>3 BHK</td>\n",
       "      <td>3.0</td>\n",
       "      <td>2.0</td>\n",
       "      <td>1.0</td>\n",
       "      <td>1.0</td>\n",
       "      <td>1750.0</td>\n",
       "      <td>150.0</td>\n",
       "      <td>3.0</td>\n",
       "      <td>85714.285714</td>\n",
       "      <td>1.0</td>\n",
       "    </tr>\n",
       "  </tbody>\n",
       "</table>\n",
       "</div>"
      ],
      "text/plain": [
       "   availability              location   size  bath  balcony  hall  kitchen  \\\n",
       "0             1   Devarabeesana Halli  2 BHK   2.0      1.0   1.0      1.0   \n",
       "1             1   Devarabeesana Halli  3 BHK   3.0      2.0   1.0      1.0   \n",
       "2             1   Devarabeesana Halli  3 BHK   3.0      3.0   1.0      1.0   \n",
       "3             1   Devarabeesana Halli  3 BHK   3.0      2.0   1.0      1.0   \n",
       "4             1   Devarabeesana Halli  3 BHK   3.0      2.0   1.0      1.0   \n",
       "\n",
       "   total_sqft  price  room_count  price_per_square_ft  room_size  \n",
       "0      1100.0   70.0         2.0         63636.363636        1.0  \n",
       "1      1672.0  150.0         3.0         89712.918660        1.0  \n",
       "2      1750.0  149.0         3.0         85142.857143        1.0  \n",
       "3      1670.0  160.0         3.0         95808.383234        1.0  \n",
       "4      1750.0  150.0         3.0         85714.285714        1.0  "
      ]
     },
     "execution_count": 1540,
     "metadata": {},
     "output_type": "execute_result"
    }
   ],
   "source": [
    "df_2.head()"
   ]
  },
  {
   "cell_type": "markdown",
   "id": "hired-proceeding",
   "metadata": {},
   "source": [
    "## CHECKING FOR OUTLIERS"
   ]
  },
  {
   "cell_type": "code",
   "execution_count": 1541,
   "id": "circular-damages",
   "metadata": {},
   "outputs": [
    {
     "data": {
      "text/plain": [
       "<AxesSubplot:xlabel='price'>"
      ]
     },
     "execution_count": 1541,
     "metadata": {},
     "output_type": "execute_result"
    },
    {
     "data": {
      "image/png": "[encoded data removed]",
      "text/plain": [
       "<Figure size 432x288 with 1 Axes>"
      ]
     },
     "metadata": {
      "needs_background": "light"
     },
     "output_type": "display_data"
    }
   ],
   "source": [
    "# First checking the target column\n",
    "sns.boxplot(df_2['price'])"
   ]
  },
  {
   "cell_type": "markdown",
   "id": "accomplished-politics",
   "metadata": {},
   "source": [
    "We are keeping the outliers for price, as we might be needed to predict such cases in Test Data"
   ]
  },
  {
   "cell_type": "code",
   "execution_count": 1542,
   "id": "pediatric-sculpture",
   "metadata": {},
   "outputs": [
    {
     "data": {
      "image/png": "[encoded data removed]",
      "text/plain": [
       "<Figure size 1080x720 with 1 Axes>"
      ]
     },
     "metadata": {
      "needs_background": "light"
     },
     "output_type": "display_data"
    },
    {
     "data": {
      "image/png": "[encoded data removed]",
      "text/plain": [
       "<Figure size 1080x720 with 1 Axes>"
      ]
     },
     "metadata": {
      "needs_background": "light"
     },
     "output_type": "display_data"
    }
   ],
   "source": [
    "def plot_multiple_size_with_price(size_1, size_2, location, df):\n",
    "    bhk_first = df[(df['location']==location) & (df['room_count']==size_1)]\n",
    "    big_bhk_first = bhk_first[bhk_first['room_size']==1]\n",
    "    small_bhk_first = bhk_first[bhk_first['room_size']==0]\n",
    "    bhk_second = df[(df['location']==location) & (df['room_count']==size_2)]\n",
    "    big_bhk_second = bhk_second[bhk_second['room_size']==1]\n",
    "    small_bhk_second = bhk_second[bhk_second['room_size']==0]\n",
    "    matplotlib.rcParams['figure.figsize'] = (15,10)\n",
    "    plt.scatter(big_bhk_first.total_sqft,big_bhk_first.price,color='blue',label=str(size_1)+\" BHK\", s=50)\n",
    "    plt.scatter(big_bhk_second.total_sqft,big_bhk_second.price,marker='+',color='red',label=str(size_2)+\" BHK\", s=50)\n",
    "    \n",
    "    plt.xlabel(\"Total Square Feet Area - Big HOUSES\")\n",
    "    plt.ylabel(\"Price (Lakh Indian Rupees)\")\n",
    "    plt.title(location)\n",
    "    plt.legend()\n",
    "    plt.show()\n",
    "    \n",
    "    matplotlib.rcParams['figure.figsize'] = (15,10)\n",
    "    plt.scatter(small_bhk_first.total_sqft,small_bhk_first.price,color='blue',label=str(size_1)+\" BHK\", s=50)\n",
    "    plt.scatter(small_bhk_second.total_sqft,small_bhk_second.price,marker='+',color='red',label=str(size_2)+\" BHK\", s=50)\n",
    "    \n",
    "    plt.xlabel(\"Total Square Feet Area - Small HOUSES\")\n",
    "    plt.ylabel(\"Price (Lakh Indian Rupees)\")\n",
    "    plt.title(location)\n",
    "    plt.legend()\n",
    "    plt.show()\n",
    "    \n",
    "    \n",
    "\n",
    "plot_multiple_size_with_price(1,2, \"Whitefield\", df_2)"
   ]
  },
  {
   "cell_type": "code",
   "execution_count": 1543,
   "id": "palestinian-construction",
   "metadata": {},
   "outputs": [
    {
     "data": {
      "image/png": "[encoded data removed]",
      "text/plain": [
       "<Figure size 1080x720 with 1 Axes>"
      ]
     },
     "metadata": {
      "needs_background": "light"
     },
     "output_type": "display_data"
    },
    {
     "data": {
      "image/png": "[encoded data removed]",
      "text/plain": [
       "<Figure size 1080x720 with 1 Axes>"
      ]
     },
     "metadata": {
      "needs_background": "light"
     },
     "output_type": "display_data"
    }
   ],
   "source": [
    "plot_multiple_size_with_price(2,3, \"Whitefield\", df_2)"
   ]
  },
  {
   "cell_type": "code",
   "execution_count": 1544,
   "id": "medium-optimization",
   "metadata": {},
   "outputs": [
    {
     "data": {
      "image/png": "[encoded data removed]",
      "text/plain": [
       "<Figure size 1080x720 with 1 Axes>"
      ]
     },
     "metadata": {
      "needs_background": "light"
     },
     "output_type": "display_data"
    },
    {
     "data": {
      "image/png": "[encoded data removed]",
      "text/plain": [
       "<Figure size 1080x720 with 1 Axes>"
      ]
     },
     "metadata": {
      "needs_background": "light"
     },
     "output_type": "display_data"
    }
   ],
   "source": [
    "plot_multiple_size_with_price(3,4, \"Hebbal\", df_2)"
   ]
  },
  {
   "cell_type": "markdown",
   "id": "thorough-scene",
   "metadata": {},
   "source": [
    "In a location, when the square feet increases as well as the number of rooms increase, still certain houses with lower space and room number are priced higher than larger houses. Those rows need to be removed. We will find the mean price of a house of a particular size. And if the per square foot rate of the house is less than mean of smaller size house, then we will get rid of it."
   ]
  },
  {
   "cell_type": "code",
   "execution_count": 1545,
   "id": "occupied-asthma",
   "metadata": {},
   "outputs": [
    {
     "data": {
      "text/plain": [
       "(10048, 12)"
      ]
     },
     "execution_count": 1545,
     "metadata": {},
     "output_type": "execute_result"
    }
   ],
   "source": [
    "def remove_irregularly_priced_houses(df):\n",
    "    exclusion_indices = np.array([])\n",
    "    for location, location_df in df.groupby('location'):\n",
    "        bhk_stats = {}\n",
    "        for size, size_df in location_df.groupby(['room_count']):\n",
    "            bhk_stats[size] = {\n",
    "                'mean': np.mean(size_df.price_per_square_ft),\n",
    "                'std': np.std(size_df.price_per_square_ft),\n",
    "                'count': size_df.shape[0]\n",
    "            }\n",
    "        for size, size_df in location_df.groupby('size'):\n",
    "            stats = bhk_stats.get(size-1)\n",
    "            if stats and stats['count'] > 5:\n",
    "                exclusion_indices = np.append(exclusion_indices, size_df[size_df.price_per_square_ft<(stats['mean'])].index.values)\n",
    "    return df.drop(exclusion_indices, axis='index')\n",
    "\n",
    "# df_3 = remove_irregularly_priced_houses(df_2)\n",
    "df_3 = df_2.copy()\n",
    "df_3.shape"
   ]
  },
  {
   "cell_type": "code",
   "execution_count": 1546,
   "id": "conservative-movie",
   "metadata": {},
   "outputs": [
    {
     "data": {
      "image/png": "[encoded data removed]",
      "text/plain": [
       "<Figure size 1080x720 with 1 Axes>"
      ]
     },
     "metadata": {
      "needs_background": "light"
     },
     "output_type": "display_data"
    },
    {
     "data": {
      "image/png": "[encoded data removed]",
      "text/plain": [
       "<Figure size 1080x720 with 1 Axes>"
      ]
     },
     "metadata": {
      "needs_background": "light"
     },
     "output_type": "display_data"
    }
   ],
   "source": [
    "plot_multiple_size_with_price(2,3, \"Hebbal\", df_3)"
   ]
  },
  {
   "cell_type": "markdown",
   "id": "applicable-jordan",
   "metadata": {},
   "source": [
    "We can see that the number of 3 BHKs with lesser price-per-square-feet as compared to 2 BHK are removed."
   ]
  },
  {
   "cell_type": "markdown",
   "id": "necessary-crazy",
   "metadata": {},
   "source": [
    "## Doing PREPROCESSING"
   ]
  },
  {
   "cell_type": "code",
   "execution_count": 1547,
   "id": "referenced-endorsement",
   "metadata": {},
   "outputs": [
    {
     "data": {
      "text/html": [
       "<div>\n",
       "<style scoped>\n",
       "    .dataframe tbody tr th:only-of-type {\n",
       "        vertical-align: middle;\n",
       "    }\n",
       "\n",
       "    .dataframe tbody tr th {\n",
       "        vertical-align: top;\n",
       "    }\n",
       "\n",
       "    .dataframe thead th {\n",
       "        text-align: right;\n",
       "    }\n",
       "</style>\n",
       "<table border=\"1\" class=\"dataframe\">\n",
       "  <thead>\n",
       "    <tr style=\"text-align: right;\">\n",
       "      <th></th>\n",
       "      <th>availability</th>\n",
       "      <th>bath</th>\n",
       "      <th>balcony</th>\n",
       "      <th>hall</th>\n",
       "      <th>kitchen</th>\n",
       "      <th>total_sqft</th>\n",
       "      <th>room_count</th>\n",
       "      <th>price_per_square_ft</th>\n",
       "      <th>room_size</th>\n",
       "    </tr>\n",
       "  </thead>\n",
       "  <tbody>\n",
       "    <tr>\n",
       "      <th>0</th>\n",
       "      <td>1.0</td>\n",
       "      <td>0.076923</td>\n",
       "      <td>0.333333</td>\n",
       "      <td>1.0</td>\n",
       "      <td>1.0</td>\n",
       "      <td>0.000975</td>\n",
       "      <td>0.111111</td>\n",
       "      <td>0.002757</td>\n",
       "      <td>1.0</td>\n",
       "    </tr>\n",
       "    <tr>\n",
       "      <th>1</th>\n",
       "      <td>1.0</td>\n",
       "      <td>0.153846</td>\n",
       "      <td>0.666667</td>\n",
       "      <td>1.0</td>\n",
       "      <td>1.0</td>\n",
       "      <td>0.001484</td>\n",
       "      <td>0.222222</td>\n",
       "      <td>0.003890</td>\n",
       "      <td>1.0</td>\n",
       "    </tr>\n",
       "    <tr>\n",
       "      <th>2</th>\n",
       "      <td>1.0</td>\n",
       "      <td>0.153846</td>\n",
       "      <td>1.000000</td>\n",
       "      <td>1.0</td>\n",
       "      <td>1.0</td>\n",
       "      <td>0.001554</td>\n",
       "      <td>0.222222</td>\n",
       "      <td>0.003692</td>\n",
       "      <td>1.0</td>\n",
       "    </tr>\n",
       "    <tr>\n",
       "      <th>3</th>\n",
       "      <td>1.0</td>\n",
       "      <td>0.153846</td>\n",
       "      <td>0.666667</td>\n",
       "      <td>1.0</td>\n",
       "      <td>1.0</td>\n",
       "      <td>0.001483</td>\n",
       "      <td>0.222222</td>\n",
       "      <td>0.004155</td>\n",
       "      <td>1.0</td>\n",
       "    </tr>\n",
       "    <tr>\n",
       "      <th>4</th>\n",
       "      <td>1.0</td>\n",
       "      <td>0.153846</td>\n",
       "      <td>0.666667</td>\n",
       "      <td>1.0</td>\n",
       "      <td>1.0</td>\n",
       "      <td>0.001554</td>\n",
       "      <td>0.222222</td>\n",
       "      <td>0.003716</td>\n",
       "      <td>1.0</td>\n",
       "    </tr>\n",
       "  </tbody>\n",
       "</table>\n",
       "</div>"
      ],
      "text/plain": [
       "   availability      bath   balcony  hall  kitchen  total_sqft  room_count  \\\n",
       "0           1.0  0.076923  0.333333   1.0      1.0    0.000975    0.111111   \n",
       "1           1.0  0.153846  0.666667   1.0      1.0    0.001484    0.222222   \n",
       "2           1.0  0.153846  1.000000   1.0      1.0    0.001554    0.222222   \n",
       "3           1.0  0.153846  0.666667   1.0      1.0    0.001483    0.222222   \n",
       "4           1.0  0.153846  0.666667   1.0      1.0    0.001554    0.222222   \n",
       "\n",
       "   price_per_square_ft  room_size  \n",
       "0             0.002757        1.0  \n",
       "1             0.003890        1.0  \n",
       "2             0.003692        1.0  \n",
       "3             0.004155        1.0  \n",
       "4             0.003716        1.0  "
      ]
     },
     "execution_count": 1547,
     "metadata": {},
     "output_type": "execute_result"
    }
   ],
   "source": [
    "from sklearn import preprocessing\n",
    "\n",
    "df_2_num = df_2.select_dtypes(include=np.number)\n",
    "# Dropping the future target column from Scaling\n",
    "df_2_num.drop(columns=['price'], inplace=True)\n",
    "min_max_scaler = preprocessing.MinMaxScaler()\n",
    "df_2_num_scaled = min_max_scaler.fit_transform(df_2_num.values)\n",
    "scaled_df = pd.DataFrame(df_2_num_scaled, columns=df_2_num.columns, index=df_2_num.index)\n",
    "scaled_df.head()"
   ]
  },
  {
   "cell_type": "code",
   "execution_count": 1548,
   "id": "linear-engineer",
   "metadata": {},
   "outputs": [
    {
     "data": {
      "text/plain": [
       "0.111111    4300\n",
       "0.222222    3707\n",
       "0.333333    1013\n",
       "0.000000     499\n",
       "0.444444     239\n",
       "0.555556     131\n",
       "0.666667      59\n",
       "0.777778      50\n",
       "0.888889      41\n",
       "1.000000       9\n",
       "Name: room_count, dtype: int64"
      ]
     },
     "execution_count": 1548,
     "metadata": {},
     "output_type": "execute_result"
    }
   ],
   "source": [
    "scaled_df.room_count.value_counts()"
   ]
  },
  {
   "cell_type": "code",
   "execution_count": 1549,
   "id": "exciting-petite",
   "metadata": {},
   "outputs": [
    {
     "data": {
      "text/html": [
       "<div>\n",
       "<style scoped>\n",
       "    .dataframe tbody tr th:only-of-type {\n",
       "        vertical-align: middle;\n",
       "    }\n",
       "\n",
       "    .dataframe tbody tr th {\n",
       "        vertical-align: top;\n",
       "    }\n",
       "\n",
       "    .dataframe thead th {\n",
       "        text-align: right;\n",
       "    }\n",
       "</style>\n",
       "<table border=\"1\" class=\"dataframe\">\n",
       "  <thead>\n",
       "    <tr style=\"text-align: right;\">\n",
       "      <th></th>\n",
       "      <th>location</th>\n",
       "      <th>size</th>\n",
       "      <th>availability</th>\n",
       "      <th>bath</th>\n",
       "      <th>balcony</th>\n",
       "      <th>hall</th>\n",
       "      <th>kitchen</th>\n",
       "      <th>total_sqft</th>\n",
       "      <th>room_count</th>\n",
       "      <th>price_per_square_ft</th>\n",
       "      <th>room_size</th>\n",
       "      <th>price</th>\n",
       "    </tr>\n",
       "  </thead>\n",
       "  <tbody>\n",
       "    <tr>\n",
       "      <th>0</th>\n",
       "      <td>Devarabeesana Halli</td>\n",
       "      <td>2 BHK</td>\n",
       "      <td>1.0</td>\n",
       "      <td>0.076923</td>\n",
       "      <td>0.333333</td>\n",
       "      <td>1.0</td>\n",
       "      <td>1.0</td>\n",
       "      <td>0.000975</td>\n",
       "      <td>0.111111</td>\n",
       "      <td>0.002757</td>\n",
       "      <td>1.0</td>\n",
       "      <td>70.0</td>\n",
       "    </tr>\n",
       "    <tr>\n",
       "      <th>1</th>\n",
       "      <td>Devarabeesana Halli</td>\n",
       "      <td>3 BHK</td>\n",
       "      <td>1.0</td>\n",
       "      <td>0.153846</td>\n",
       "      <td>0.666667</td>\n",
       "      <td>1.0</td>\n",
       "      <td>1.0</td>\n",
       "      <td>0.001484</td>\n",
       "      <td>0.222222</td>\n",
       "      <td>0.003890</td>\n",
       "      <td>1.0</td>\n",
       "      <td>150.0</td>\n",
       "    </tr>\n",
       "    <tr>\n",
       "      <th>2</th>\n",
       "      <td>Devarabeesana Halli</td>\n",
       "      <td>3 BHK</td>\n",
       "      <td>1.0</td>\n",
       "      <td>0.153846</td>\n",
       "      <td>1.000000</td>\n",
       "      <td>1.0</td>\n",
       "      <td>1.0</td>\n",
       "      <td>0.001554</td>\n",
       "      <td>0.222222</td>\n",
       "      <td>0.003692</td>\n",
       "      <td>1.0</td>\n",
       "      <td>149.0</td>\n",
       "    </tr>\n",
       "    <tr>\n",
       "      <th>3</th>\n",
       "      <td>Devarabeesana Halli</td>\n",
       "      <td>3 BHK</td>\n",
       "      <td>1.0</td>\n",
       "      <td>0.153846</td>\n",
       "      <td>0.666667</td>\n",
       "      <td>1.0</td>\n",
       "      <td>1.0</td>\n",
       "      <td>0.001483</td>\n",
       "      <td>0.222222</td>\n",
       "      <td>0.004155</td>\n",
       "      <td>1.0</td>\n",
       "      <td>160.0</td>\n",
       "    </tr>\n",
       "    <tr>\n",
       "      <th>4</th>\n",
       "      <td>Devarabeesana Halli</td>\n",
       "      <td>3 BHK</td>\n",
       "      <td>1.0</td>\n",
       "      <td>0.153846</td>\n",
       "      <td>0.666667</td>\n",
       "      <td>1.0</td>\n",
       "      <td>1.0</td>\n",
       "      <td>0.001554</td>\n",
       "      <td>0.222222</td>\n",
       "      <td>0.003716</td>\n",
       "      <td>1.0</td>\n",
       "      <td>150.0</td>\n",
       "    </tr>\n",
       "  </tbody>\n",
       "</table>\n",
       "</div>"
      ],
      "text/plain": [
       "               location   size  availability      bath   balcony  hall  \\\n",
       "0   Devarabeesana Halli  2 BHK           1.0  0.076923  0.333333   1.0   \n",
       "1   Devarabeesana Halli  3 BHK           1.0  0.153846  0.666667   1.0   \n",
       "2   Devarabeesana Halli  3 BHK           1.0  0.153846  1.000000   1.0   \n",
       "3   Devarabeesana Halli  3 BHK           1.0  0.153846  0.666667   1.0   \n",
       "4   Devarabeesana Halli  3 BHK           1.0  0.153846  0.666667   1.0   \n",
       "\n",
       "   kitchen  total_sqft  room_count  price_per_square_ft  room_size  price  \n",
       "0      1.0    0.000975    0.111111             0.002757        1.0   70.0  \n",
       "1      1.0    0.001484    0.222222             0.003890        1.0  150.0  \n",
       "2      1.0    0.001554    0.222222             0.003692        1.0  149.0  \n",
       "3      1.0    0.001483    0.222222             0.004155        1.0  160.0  \n",
       "4      1.0    0.001554    0.222222             0.003716        1.0  150.0  "
      ]
     },
     "execution_count": 1549,
     "metadata": {},
     "output_type": "execute_result"
    }
   ],
   "source": [
    "df_2_normalized = pd.concat([df_2.select_dtypes(exclude=np.number), scaled_df, df_2['price']], axis=1)\n",
    "df_2_normalized.head()"
   ]
  },
  {
   "cell_type": "code",
   "execution_count": 1550,
   "id": "consolidated-throat",
   "metadata": {},
   "outputs": [],
   "source": [
    "df_2_normalized['location'] = df_2_normalized['location'].apply(lambda x: x.lower().strip().replace('  ', ' '))\n",
    "df_test['location'] = df_test['location'].apply(lambda x: x.lower().strip().replace('  ', ' '))\n",
    "df_dist['location'] = df_dist['location'].apply(lambda x: x.lower().strip().replace('  ', ' '))\n",
    "\n",
    "set_locations_train_data = set(df_2_normalized['location'].unique())\n",
    "set_locations_test_data = set(df_test['location'].unique())\n",
    "set_location_dist = set(df_dist['location'].unique())\n",
    "set_location_in_both_train_test_data = set_locations_test_data.intersection(set_locations_train_data)"
   ]
  },
  {
   "cell_type": "code",
   "execution_count": 1551,
   "id": "portuguese-insert",
   "metadata": {},
   "outputs": [
    {
     "name": "stdout",
     "output_type": "stream",
     "text": [
      "738\n"
     ]
    }
   ],
   "source": [
    "print(len(set_locations_train_data))"
   ]
  },
  {
   "cell_type": "code",
   "execution_count": 1552,
   "id": "regulation-douglas",
   "metadata": {},
   "outputs": [
    {
     "name": "stdout",
     "output_type": "stream",
     "text": [
      "669\n"
     ]
    }
   ],
   "source": [
    "print(len(set_locations_test_data))"
   ]
  },
  {
   "cell_type": "code",
   "execution_count": 1553,
   "id": "equivalent-repeat",
   "metadata": {},
   "outputs": [
    {
     "name": "stdout",
     "output_type": "stream",
     "text": [
      "494\n"
     ]
    }
   ],
   "source": [
    "print(len(set_location_in_both_train_test_data))"
   ]
  },
  {
   "cell_type": "markdown",
   "id": "extensive-referral",
   "metadata": {},
   "source": [
    "In order to have the same number of columns in both train and test data, we need to set any location which is not present in both train and test data as other"
   ]
  },
  {
   "cell_type": "code",
   "execution_count": 1554,
   "id": "handed-preliminary",
   "metadata": {},
   "outputs": [
    {
     "name": "stdout",
     "output_type": "stream",
     "text": [
      "495\n"
     ]
    }
   ],
   "source": [
    "# Setting the location which are in train as well as in test and setting the other locations as other\n",
    "df_2_normalized['location'] = df_2_normalized['location'].apply(lambda x: x if x in set_location_in_both_train_test_data else 'other')\n",
    "\n",
    "print(f\"{len(df_2_normalized['location'].unique())}\")"
   ]
  },
  {
   "cell_type": "code",
   "execution_count": 1555,
   "id": "caring-wrestling",
   "metadata": {},
   "outputs": [
    {
     "data": {
      "text/plain": [
       "427"
      ]
     },
     "execution_count": 1555,
     "metadata": {},
     "output_type": "execute_result"
    }
   ],
   "source": [
    "df_dist[\"location\"] = df_dist[\"location\"].apply(lambda x: x.lower().strip().replace('  ', ' '))\n",
    "len(set(df_dist[\"location\"].unique()).intersection(set_location_in_both_train_test_data))"
   ]
  },
  {
   "cell_type": "code",
   "execution_count": 1556,
   "id": "forced-spray",
   "metadata": {},
   "outputs": [],
   "source": [
    "# Setting the location distance from CITY Centre as well in df_2\n",
    "df_3 = df_2_normalized.copy()"
   ]
  },
  {
   "cell_type": "code",
   "execution_count": 1557,
   "id": "dated-lewis",
   "metadata": {},
   "outputs": [
    {
     "data": {
      "text/html": [
       "<div>\n",
       "<style scoped>\n",
       "    .dataframe tbody tr th:only-of-type {\n",
       "        vertical-align: middle;\n",
       "    }\n",
       "\n",
       "    .dataframe tbody tr th {\n",
       "        vertical-align: top;\n",
       "    }\n",
       "\n",
       "    .dataframe thead th {\n",
       "        text-align: right;\n",
       "    }\n",
       "</style>\n",
       "<table border=\"1\" class=\"dataframe\">\n",
       "  <thead>\n",
       "    <tr style=\"text-align: right;\">\n",
       "      <th></th>\n",
       "      <th>location</th>\n",
       "      <th>size</th>\n",
       "      <th>availability</th>\n",
       "      <th>bath</th>\n",
       "      <th>balcony</th>\n",
       "      <th>hall</th>\n",
       "      <th>kitchen</th>\n",
       "      <th>total_sqft</th>\n",
       "      <th>room_count</th>\n",
       "      <th>price_per_square_ft</th>\n",
       "      <th>room_size</th>\n",
       "      <th>price</th>\n",
       "    </tr>\n",
       "  </thead>\n",
       "  <tbody>\n",
       "    <tr>\n",
       "      <th>0</th>\n",
       "      <td>devarabeesana halli</td>\n",
       "      <td>2 BHK</td>\n",
       "      <td>1.0</td>\n",
       "      <td>0.076923</td>\n",
       "      <td>0.333333</td>\n",
       "      <td>1.0</td>\n",
       "      <td>1.0</td>\n",
       "      <td>0.000975</td>\n",
       "      <td>0.111111</td>\n",
       "      <td>0.002757</td>\n",
       "      <td>1.0</td>\n",
       "      <td>70.0</td>\n",
       "    </tr>\n",
       "    <tr>\n",
       "      <th>1</th>\n",
       "      <td>devarabeesana halli</td>\n",
       "      <td>3 BHK</td>\n",
       "      <td>1.0</td>\n",
       "      <td>0.153846</td>\n",
       "      <td>0.666667</td>\n",
       "      <td>1.0</td>\n",
       "      <td>1.0</td>\n",
       "      <td>0.001484</td>\n",
       "      <td>0.222222</td>\n",
       "      <td>0.003890</td>\n",
       "      <td>1.0</td>\n",
       "      <td>150.0</td>\n",
       "    </tr>\n",
       "    <tr>\n",
       "      <th>2</th>\n",
       "      <td>devarabeesana halli</td>\n",
       "      <td>3 BHK</td>\n",
       "      <td>1.0</td>\n",
       "      <td>0.153846</td>\n",
       "      <td>1.000000</td>\n",
       "      <td>1.0</td>\n",
       "      <td>1.0</td>\n",
       "      <td>0.001554</td>\n",
       "      <td>0.222222</td>\n",
       "      <td>0.003692</td>\n",
       "      <td>1.0</td>\n",
       "      <td>149.0</td>\n",
       "    </tr>\n",
       "    <tr>\n",
       "      <th>3</th>\n",
       "      <td>devarabeesana halli</td>\n",
       "      <td>3 BHK</td>\n",
       "      <td>1.0</td>\n",
       "      <td>0.153846</td>\n",
       "      <td>0.666667</td>\n",
       "      <td>1.0</td>\n",
       "      <td>1.0</td>\n",
       "      <td>0.001483</td>\n",
       "      <td>0.222222</td>\n",
       "      <td>0.004155</td>\n",
       "      <td>1.0</td>\n",
       "      <td>160.0</td>\n",
       "    </tr>\n",
       "    <tr>\n",
       "      <th>4</th>\n",
       "      <td>devarabeesana halli</td>\n",
       "      <td>3 BHK</td>\n",
       "      <td>1.0</td>\n",
       "      <td>0.153846</td>\n",
       "      <td>0.666667</td>\n",
       "      <td>1.0</td>\n",
       "      <td>1.0</td>\n",
       "      <td>0.001554</td>\n",
       "      <td>0.222222</td>\n",
       "      <td>0.003716</td>\n",
       "      <td>1.0</td>\n",
       "      <td>150.0</td>\n",
       "    </tr>\n",
       "  </tbody>\n",
       "</table>\n",
       "</div>"
      ],
      "text/plain": [
       "              location   size  availability      bath   balcony  hall  \\\n",
       "0  devarabeesana halli  2 BHK           1.0  0.076923  0.333333   1.0   \n",
       "1  devarabeesana halli  3 BHK           1.0  0.153846  0.666667   1.0   \n",
       "2  devarabeesana halli  3 BHK           1.0  0.153846  1.000000   1.0   \n",
       "3  devarabeesana halli  3 BHK           1.0  0.153846  0.666667   1.0   \n",
       "4  devarabeesana halli  3 BHK           1.0  0.153846  0.666667   1.0   \n",
       "\n",
       "   kitchen  total_sqft  room_count  price_per_square_ft  room_size  price  \n",
       "0      1.0    0.000975    0.111111             0.002757        1.0   70.0  \n",
       "1      1.0    0.001484    0.222222             0.003890        1.0  150.0  \n",
       "2      1.0    0.001554    0.222222             0.003692        1.0  149.0  \n",
       "3      1.0    0.001483    0.222222             0.004155        1.0  160.0  \n",
       "4      1.0    0.001554    0.222222             0.003716        1.0  150.0  "
      ]
     },
     "execution_count": 1557,
     "metadata": {},
     "output_type": "execute_result"
    }
   ],
   "source": [
    "df_3.head()"
   ]
  },
  {
   "cell_type": "code",
   "execution_count": 1558,
   "id": "responsible-scratch",
   "metadata": {},
   "outputs": [
    {
     "data": {
      "text/plain": [
       "<matplotlib.collections.LineCollection at 0x7f8f59fd0b10>"
      ]
     },
     "execution_count": 1558,
     "metadata": {},
     "output_type": "execute_result"
    },
    {
     "data": {
      "image/png": "[encoded data removed]",
      "text/plain": [
       "<Figure size 1080x720 with 1 Axes>"
      ]
     },
     "metadata": {
      "needs_background": "light"
     },
     "output_type": "display_data"
    }
   ],
   "source": [
    "sns.distplot(df_dist['dist_from_city'], kde=True)\n",
    "plt.vlines(x=df_dist['dist_from_city'].mean(), ymin=0, ymax=0.1, colors='r', linestyles='dashed')\n",
    "plt.vlines(x=df_dist['dist_from_city'].median(), ymin=0, ymax=0.1, colors='g', linestyles='dashed')"
   ]
  },
  {
   "cell_type": "code",
   "execution_count": 1559,
   "id": "wrapped-museum",
   "metadata": {},
   "outputs": [
    {
     "data": {
      "text/plain": [
       "location               0\n",
       "size                   0\n",
       "availability           0\n",
       "bath                   0\n",
       "balcony                0\n",
       "hall                   0\n",
       "kitchen                0\n",
       "total_sqft             0\n",
       "room_count             0\n",
       "price_per_square_ft    0\n",
       "room_size              0\n",
       "price                  0\n",
       "dtype: int64"
      ]
     },
     "execution_count": 1559,
     "metadata": {},
     "output_type": "execute_result"
    }
   ],
   "source": [
    "df_3.isna().sum()"
   ]
  },
  {
   "cell_type": "code",
   "execution_count": 1560,
   "id": "sealed-raising",
   "metadata": {},
   "outputs": [],
   "source": [
    "def min_max_scale(x, min_val, max_val):\n",
    "    return (x - min_val)/(max_val - min_val)\n",
    "\n",
    "def get_dist(location):\n",
    "    if location in df_dist['location'].unique():\n",
    "        return df_dist.loc[df_dist['location'] == location]['dist_from_city'].values[0]\n",
    "    else:\n",
    "        return df_dist['dist_from_city'].median()"
   ]
  },
  {
   "cell_type": "code",
   "execution_count": 1561,
   "id": "renewable-auditor",
   "metadata": {},
   "outputs": [
    {
     "data": {
      "text/html": [
       "<div>\n",
       "<style scoped>\n",
       "    .dataframe tbody tr th:only-of-type {\n",
       "        vertical-align: middle;\n",
       "    }\n",
       "\n",
       "    .dataframe tbody tr th {\n",
       "        vertical-align: top;\n",
       "    }\n",
       "\n",
       "    .dataframe thead th {\n",
       "        text-align: right;\n",
       "    }\n",
       "</style>\n",
       "<table border=\"1\" class=\"dataframe\">\n",
       "  <thead>\n",
       "    <tr style=\"text-align: right;\">\n",
       "      <th></th>\n",
       "      <th>location</th>\n",
       "      <th>size</th>\n",
       "      <th>availability</th>\n",
       "      <th>bath</th>\n",
       "      <th>balcony</th>\n",
       "      <th>hall</th>\n",
       "      <th>kitchen</th>\n",
       "      <th>total_sqft</th>\n",
       "      <th>room_count</th>\n",
       "      <th>price_per_square_ft</th>\n",
       "      <th>room_size</th>\n",
       "      <th>price</th>\n",
       "      <th>dist</th>\n",
       "    </tr>\n",
       "  </thead>\n",
       "  <tbody>\n",
       "    <tr>\n",
       "      <th>0</th>\n",
       "      <td>devarabeesana halli</td>\n",
       "      <td>2 BHK</td>\n",
       "      <td>1.0</td>\n",
       "      <td>0.076923</td>\n",
       "      <td>0.333333</td>\n",
       "      <td>1.0</td>\n",
       "      <td>1.0</td>\n",
       "      <td>0.000975</td>\n",
       "      <td>0.111111</td>\n",
       "      <td>0.002757</td>\n",
       "      <td>1.0</td>\n",
       "      <td>70.0</td>\n",
       "      <td>0.272926</td>\n",
       "    </tr>\n",
       "    <tr>\n",
       "      <th>1</th>\n",
       "      <td>devarabeesana halli</td>\n",
       "      <td>3 BHK</td>\n",
       "      <td>1.0</td>\n",
       "      <td>0.153846</td>\n",
       "      <td>0.666667</td>\n",
       "      <td>1.0</td>\n",
       "      <td>1.0</td>\n",
       "      <td>0.001484</td>\n",
       "      <td>0.222222</td>\n",
       "      <td>0.003890</td>\n",
       "      <td>1.0</td>\n",
       "      <td>150.0</td>\n",
       "      <td>0.272926</td>\n",
       "    </tr>\n",
       "    <tr>\n",
       "      <th>2</th>\n",
       "      <td>devarabeesana halli</td>\n",
       "      <td>3 BHK</td>\n",
       "      <td>1.0</td>\n",
       "      <td>0.153846</td>\n",
       "      <td>1.000000</td>\n",
       "      <td>1.0</td>\n",
       "      <td>1.0</td>\n",
       "      <td>0.001554</td>\n",
       "      <td>0.222222</td>\n",
       "      <td>0.003692</td>\n",
       "      <td>1.0</td>\n",
       "      <td>149.0</td>\n",
       "      <td>0.272926</td>\n",
       "    </tr>\n",
       "    <tr>\n",
       "      <th>3</th>\n",
       "      <td>devarabeesana halli</td>\n",
       "      <td>3 BHK</td>\n",
       "      <td>1.0</td>\n",
       "      <td>0.153846</td>\n",
       "      <td>0.666667</td>\n",
       "      <td>1.0</td>\n",
       "      <td>1.0</td>\n",
       "      <td>0.001483</td>\n",
       "      <td>0.222222</td>\n",
       "      <td>0.004155</td>\n",
       "      <td>1.0</td>\n",
       "      <td>160.0</td>\n",
       "      <td>0.272926</td>\n",
       "    </tr>\n",
       "    <tr>\n",
       "      <th>4</th>\n",
       "      <td>devarabeesana halli</td>\n",
       "      <td>3 BHK</td>\n",
       "      <td>1.0</td>\n",
       "      <td>0.153846</td>\n",
       "      <td>0.666667</td>\n",
       "      <td>1.0</td>\n",
       "      <td>1.0</td>\n",
       "      <td>0.001554</td>\n",
       "      <td>0.222222</td>\n",
       "      <td>0.003716</td>\n",
       "      <td>1.0</td>\n",
       "      <td>150.0</td>\n",
       "      <td>0.272926</td>\n",
       "    </tr>\n",
       "  </tbody>\n",
       "</table>\n",
       "</div>"
      ],
      "text/plain": [
       "              location   size  availability      bath   balcony  hall  \\\n",
       "0  devarabeesana halli  2 BHK           1.0  0.076923  0.333333   1.0   \n",
       "1  devarabeesana halli  3 BHK           1.0  0.153846  0.666667   1.0   \n",
       "2  devarabeesana halli  3 BHK           1.0  0.153846  1.000000   1.0   \n",
       "3  devarabeesana halli  3 BHK           1.0  0.153846  0.666667   1.0   \n",
       "4  devarabeesana halli  3 BHK           1.0  0.153846  0.666667   1.0   \n",
       "\n",
       "   kitchen  total_sqft  room_count  price_per_square_ft  room_size  price  \\\n",
       "0      1.0    0.000975    0.111111             0.002757        1.0   70.0   \n",
       "1      1.0    0.001484    0.222222             0.003890        1.0  150.0   \n",
       "2      1.0    0.001554    0.222222             0.003692        1.0  149.0   \n",
       "3      1.0    0.001483    0.222222             0.004155        1.0  160.0   \n",
       "4      1.0    0.001554    0.222222             0.003716        1.0  150.0   \n",
       "\n",
       "       dist  \n",
       "0  0.272926  \n",
       "1  0.272926  \n",
       "2  0.272926  \n",
       "3  0.272926  \n",
       "4  0.272926  "
      ]
     },
     "execution_count": 1561,
     "metadata": {},
     "output_type": "execute_result"
    }
   ],
   "source": [
    "df_3['dist'] = df_3['location'].apply(get_dist)\n",
    "# Doing min-max scaling on the dist column which is remaining\n",
    "min_val = df_3['dist'].min()\n",
    "max_val = df_3['dist'].max()\n",
    "\n",
    "df_3['dist'] = df_3['dist'].apply(min_max_scale, args=(min_val,max_val))\n",
    "df_3.head()"
   ]
  },
  {
   "cell_type": "code",
   "execution_count": 1562,
   "id": "devoted-bulgaria",
   "metadata": {},
   "outputs": [
    {
     "name": "stdout",
     "output_type": "stream",
     "text": [
      "('bath',)\n",
      "('balcony',)\n",
      "('total_sqft',)\n",
      "('dist',)\n",
      "0.2602926400360964 ('dist',)\n"
     ]
    },
    {
     "data": {
      "text/plain": [
       "Index(['bath', 'balcony', 'total_sqft', 'dist'], dtype='object')"
      ]
     },
     "execution_count": 1562,
     "metadata": {},
     "output_type": "execute_result"
    }
   ],
   "source": [
    "# Optimizing number of features in OLS model\n",
    "from itertools import combinations\n",
    "\n",
    "X_num = df_3.select_dtypes(include=np.number)\n",
    "X_num.drop(columns=[\"price\", \"availability\", \"price_per_square_ft\", \"hall\", \"kitchen\", \"room_count\", \"room_size\"], inplace=True)\n",
    "out = df_3[\"price\"]\n",
    "\n",
    "column_list = X_num.columns\n",
    "interactions = list(combinations(column_list, 1))\n",
    "\n",
    "interaction_dict = {}\n",
    "for interaction in interactions:\n",
    "    print(interaction)\n",
    "    int_2_cols = X_num.copy()\n",
    "    int_2_cols['int'] = int_2_cols[interaction[0]]\n",
    "    lr = LinearRegression()\n",
    "    lr.fit(int_2_cols, out)\n",
    "    interaction_dict[lr.score(int_2_cols, out)] = interaction\n",
    "\n",
    "top_5 = sorted(interaction_dict.keys(), reverse = True)[:5]\n",
    "for interaction in top_5:\n",
    "    print(interaction, interaction_dict[interaction])\n",
    "column_list"
   ]
  },
  {
   "cell_type": "code",
   "execution_count": 1563,
   "id": "greek-underground",
   "metadata": {},
   "outputs": [
    {
     "name": "stdout",
     "output_type": "stream",
     "text": [
      "0.2697542556863264 ('bath', 'dist')\n",
      "0.26451588412457616 ('bath', 'balcony')\n",
      "0.26277174876158305 ('bath', 'total_sqft')\n",
      "0.2619030655552935 ('balcony', 'dist')\n",
      "0.2605577934364631 ('total_sqft', 'dist')\n"
     ]
    },
    {
     "data": {
      "text/plain": [
       "Index(['bath', 'balcony', 'total_sqft', 'dist'], dtype='object')"
      ]
     },
     "execution_count": 1563,
     "metadata": {},
     "output_type": "execute_result"
    }
   ],
   "source": [
    "column_list = X_num.columns\n",
    "interactions = list(combinations(column_list, 2))\n",
    "\n",
    "interaction_dict = {}\n",
    "for interaction in interactions:\n",
    "    int_2_cols = X_num.copy()\n",
    "    int_2_cols['int'] = int_2_cols[interaction[0]] * int_2_cols[interaction[1]]\n",
    "    lr = LinearRegression()\n",
    "    lr.fit(int_2_cols, out)\n",
    "    interaction_dict[lr.score(int_2_cols, out)] = interaction\n",
    "\n",
    "top_5 = sorted(interaction_dict.keys(), reverse = True)[:5]\n",
    "for interaction in top_5:\n",
    "    print(interaction, interaction_dict[interaction])\n",
    "column_list"
   ]
  },
  {
   "cell_type": "code",
   "execution_count": 1564,
   "id": "bacterial-ottawa",
   "metadata": {},
   "outputs": [
    {
     "name": "stdout",
     "output_type": "stream",
     "text": [
      "0.2624650597088565 ('bath', 'total_sqft', 'dist')\n",
      "0.2617618704559598 ('bath', 'balcony', 'total_sqft')\n",
      "0.2617508221570244 ('bath', 'balcony', 'dist')\n",
      "0.2604624823554178 ('balcony', 'total_sqft', 'dist')\n"
     ]
    },
    {
     "data": {
      "text/plain": [
       "Index(['bath', 'balcony', 'total_sqft', 'dist'], dtype='object')"
      ]
     },
     "execution_count": 1564,
     "metadata": {},
     "output_type": "execute_result"
    }
   ],
   "source": [
    "# Optimizing number of features in OLS model\n",
    "column_list = X_num.columns\n",
    "interactions = list(combinations(column_list, 3))\n",
    "\n",
    "interaction_dict = {}\n",
    "for interaction in interactions:\n",
    "    int_2_cols = X_num.copy()\n",
    "    int_2_cols['int'] = int_2_cols[interaction[0]] * int_2_cols[interaction[1]] * int_2_cols[interaction[2]]\n",
    "    lr = LinearRegression()\n",
    "    lr.fit(int_2_cols, out)\n",
    "    interaction_dict[lr.score(int_2_cols, out)] = interaction\n",
    "\n",
    "top_5 = sorted(interaction_dict.keys(), reverse = True)[:5]\n",
    "for interaction in top_5:\n",
    "    print(interaction, interaction_dict[interaction])\n",
    "column_list"
   ]
  },
  {
   "cell_type": "code",
   "execution_count": 1565,
   "id": "immune-version",
   "metadata": {},
   "outputs": [
    {
     "name": "stdout",
     "output_type": "stream",
     "text": [
      "0.2617425059287831 ('bath', 'balcony', 'total_sqft', 'dist')\n"
     ]
    },
    {
     "data": {
      "text/plain": [
       "Index(['bath', 'balcony', 'total_sqft', 'dist'], dtype='object')"
      ]
     },
     "execution_count": 1565,
     "metadata": {},
     "output_type": "execute_result"
    }
   ],
   "source": [
    "# Taking combination of 4 columns\n",
    "column_list = X_num.columns\n",
    "interactions = list(combinations(column_list, 4))\n",
    "\n",
    "interaction_dict = {}\n",
    "for interaction in interactions:\n",
    "    int_2_cols = X_num.copy()\n",
    "    int_2_cols['int'] = int_2_cols[interaction[0]] * int_2_cols[interaction[1]] * int_2_cols[interaction[2]] * int_2_cols[interaction[3]]\n",
    "    lr = LinearRegression()\n",
    "    lr.fit(int_2_cols, out)\n",
    "    interaction_dict[lr.score(int_2_cols, out)] = interaction\n",
    "\n",
    "top_5 = sorted(interaction_dict.keys(), reverse = True)[:5]\n",
    "for interaction in top_5:\n",
    "    print(interaction, interaction_dict[interaction])\n",
    "column_list"
   ]
  },
  {
   "cell_type": "code",
   "execution_count": 1566,
   "id": "satisfactory-seafood",
   "metadata": {},
   "outputs": [],
   "source": [
    "# Taking combination of 5 columns\n",
    "column_list = X_num.columns\n",
    "interactions = list(combinations(column_list, 5))\n",
    "\n",
    "interaction_dict = {}\n",
    "for interaction in interactions:\n",
    "    int_2_cols = X_num.copy()\n",
    "    int_2_cols['int'] = int_2_cols[interaction[0]] * int_2_cols[interaction[1]] * int_2_cols[interaction[2]] * int_2_cols[interaction[3]] * int_2_cols[interaction[4]]\n",
    "    lr = LinearRegression()\n",
    "    lr.fit(int_2_cols, out)\n",
    "    interaction_dict[lr.score(int_2_cols, out)] = interaction\n",
    "\n",
    "top_5 = sorted(interaction_dict.keys(), reverse = True)[:5]\n",
    "for interaction in top_5:\n",
    "    print(interaction, interaction_dict[interaction])\n"
   ]
  },
  {
   "cell_type": "code",
   "execution_count": 1567,
   "id": "color-trustee",
   "metadata": {},
   "outputs": [
    {
     "data": {
      "text/plain": [
       "location               0\n",
       "size                   0\n",
       "availability           0\n",
       "bath                   0\n",
       "balcony                0\n",
       "hall                   0\n",
       "kitchen                0\n",
       "total_sqft             0\n",
       "room_count             0\n",
       "price_per_square_ft    0\n",
       "room_size              0\n",
       "price                  0\n",
       "dist                   0\n",
       "dtype: int64"
      ]
     },
     "execution_count": 1567,
     "metadata": {},
     "output_type": "execute_result"
    }
   ],
   "source": [
    "df_3.isna().sum()"
   ]
  },
  {
   "cell_type": "code",
   "execution_count": 1568,
   "id": "brief-onion",
   "metadata": {},
   "outputs": [],
   "source": [
    "df_3['interaction'] = df_3['bath'] * df_3['dist']"
   ]
  },
  {
   "cell_type": "code",
   "execution_count": 1569,
   "id": "suburban-marijuana",
   "metadata": {},
   "outputs": [
    {
     "data": {
      "text/html": [
       "<div>\n",
       "<style scoped>\n",
       "    .dataframe tbody tr th:only-of-type {\n",
       "        vertical-align: middle;\n",
       "    }\n",
       "\n",
       "    .dataframe tbody tr th {\n",
       "        vertical-align: top;\n",
       "    }\n",
       "\n",
       "    .dataframe thead th {\n",
       "        text-align: right;\n",
       "    }\n",
       "</style>\n",
       "<table border=\"1\" class=\"dataframe\">\n",
       "  <thead>\n",
       "    <tr style=\"text-align: right;\">\n",
       "      <th></th>\n",
       "      <th>location</th>\n",
       "      <th>size</th>\n",
       "      <th>availability</th>\n",
       "      <th>bath</th>\n",
       "      <th>balcony</th>\n",
       "      <th>hall</th>\n",
       "      <th>kitchen</th>\n",
       "      <th>total_sqft</th>\n",
       "      <th>room_count</th>\n",
       "      <th>price_per_square_ft</th>\n",
       "      <th>room_size</th>\n",
       "      <th>price</th>\n",
       "      <th>dist</th>\n",
       "      <th>interaction</th>\n",
       "    </tr>\n",
       "  </thead>\n",
       "  <tbody>\n",
       "    <tr>\n",
       "      <th>0</th>\n",
       "      <td>devarabeesana halli</td>\n",
       "      <td>2 BHK</td>\n",
       "      <td>1.0</td>\n",
       "      <td>0.076923</td>\n",
       "      <td>0.333333</td>\n",
       "      <td>1.0</td>\n",
       "      <td>1.0</td>\n",
       "      <td>0.000975</td>\n",
       "      <td>0.111111</td>\n",
       "      <td>0.002757</td>\n",
       "      <td>1.0</td>\n",
       "      <td>70.0</td>\n",
       "      <td>0.272926</td>\n",
       "      <td>0.020994</td>\n",
       "    </tr>\n",
       "    <tr>\n",
       "      <th>1</th>\n",
       "      <td>devarabeesana halli</td>\n",
       "      <td>3 BHK</td>\n",
       "      <td>1.0</td>\n",
       "      <td>0.153846</td>\n",
       "      <td>0.666667</td>\n",
       "      <td>1.0</td>\n",
       "      <td>1.0</td>\n",
       "      <td>0.001484</td>\n",
       "      <td>0.222222</td>\n",
       "      <td>0.003890</td>\n",
       "      <td>1.0</td>\n",
       "      <td>150.0</td>\n",
       "      <td>0.272926</td>\n",
       "      <td>0.041989</td>\n",
       "    </tr>\n",
       "    <tr>\n",
       "      <th>2</th>\n",
       "      <td>devarabeesana halli</td>\n",
       "      <td>3 BHK</td>\n",
       "      <td>1.0</td>\n",
       "      <td>0.153846</td>\n",
       "      <td>1.000000</td>\n",
       "      <td>1.0</td>\n",
       "      <td>1.0</td>\n",
       "      <td>0.001554</td>\n",
       "      <td>0.222222</td>\n",
       "      <td>0.003692</td>\n",
       "      <td>1.0</td>\n",
       "      <td>149.0</td>\n",
       "      <td>0.272926</td>\n",
       "      <td>0.041989</td>\n",
       "    </tr>\n",
       "    <tr>\n",
       "      <th>3</th>\n",
       "      <td>devarabeesana halli</td>\n",
       "      <td>3 BHK</td>\n",
       "      <td>1.0</td>\n",
       "      <td>0.153846</td>\n",
       "      <td>0.666667</td>\n",
       "      <td>1.0</td>\n",
       "      <td>1.0</td>\n",
       "      <td>0.001483</td>\n",
       "      <td>0.222222</td>\n",
       "      <td>0.004155</td>\n",
       "      <td>1.0</td>\n",
       "      <td>160.0</td>\n",
       "      <td>0.272926</td>\n",
       "      <td>0.041989</td>\n",
       "    </tr>\n",
       "    <tr>\n",
       "      <th>4</th>\n",
       "      <td>devarabeesana halli</td>\n",
       "      <td>3 BHK</td>\n",
       "      <td>1.0</td>\n",
       "      <td>0.153846</td>\n",
       "      <td>0.666667</td>\n",
       "      <td>1.0</td>\n",
       "      <td>1.0</td>\n",
       "      <td>0.001554</td>\n",
       "      <td>0.222222</td>\n",
       "      <td>0.003716</td>\n",
       "      <td>1.0</td>\n",
       "      <td>150.0</td>\n",
       "      <td>0.272926</td>\n",
       "      <td>0.041989</td>\n",
       "    </tr>\n",
       "  </tbody>\n",
       "</table>\n",
       "</div>"
      ],
      "text/plain": [
       "              location   size  availability      bath   balcony  hall  \\\n",
       "0  devarabeesana halli  2 BHK           1.0  0.076923  0.333333   1.0   \n",
       "1  devarabeesana halli  3 BHK           1.0  0.153846  0.666667   1.0   \n",
       "2  devarabeesana halli  3 BHK           1.0  0.153846  1.000000   1.0   \n",
       "3  devarabeesana halli  3 BHK           1.0  0.153846  0.666667   1.0   \n",
       "4  devarabeesana halli  3 BHK           1.0  0.153846  0.666667   1.0   \n",
       "\n",
       "   kitchen  total_sqft  room_count  price_per_square_ft  room_size  price  \\\n",
       "0      1.0    0.000975    0.111111             0.002757        1.0   70.0   \n",
       "1      1.0    0.001484    0.222222             0.003890        1.0  150.0   \n",
       "2      1.0    0.001554    0.222222             0.003692        1.0  149.0   \n",
       "3      1.0    0.001483    0.222222             0.004155        1.0  160.0   \n",
       "4      1.0    0.001554    0.222222             0.003716        1.0  150.0   \n",
       "\n",
       "       dist  interaction  \n",
       "0  0.272926     0.020994  \n",
       "1  0.272926     0.041989  \n",
       "2  0.272926     0.041989  \n",
       "3  0.272926     0.041989  \n",
       "4  0.272926     0.041989  "
      ]
     },
     "execution_count": 1569,
     "metadata": {},
     "output_type": "execute_result"
    }
   ],
   "source": [
    "df_3.head()"
   ]
  },
  {
   "cell_type": "code",
   "execution_count": 1570,
   "id": "indonesian-disclaimer",
   "metadata": {},
   "outputs": [
    {
     "data": {
      "text/html": [
       "<div>\n",
       "<style scoped>\n",
       "    .dataframe tbody tr th:only-of-type {\n",
       "        vertical-align: middle;\n",
       "    }\n",
       "\n",
       "    .dataframe tbody tr th {\n",
       "        vertical-align: top;\n",
       "    }\n",
       "\n",
       "    .dataframe thead th {\n",
       "        text-align: right;\n",
       "    }\n",
       "</style>\n",
       "<table border=\"1\" class=\"dataframe\">\n",
       "  <thead>\n",
       "    <tr style=\"text-align: right;\">\n",
       "      <th></th>\n",
       "      <th>availability</th>\n",
       "      <th>bath</th>\n",
       "      <th>balcony</th>\n",
       "      <th>total_sqft</th>\n",
       "      <th>price_per_square_ft</th>\n",
       "      <th>room_size</th>\n",
       "      <th>price</th>\n",
       "      <th>dist</th>\n",
       "      <th>interaction</th>\n",
       "      <th>size_1 BHK</th>\n",
       "      <th>...</th>\n",
       "      <th>size_5 BHK</th>\n",
       "      <th>size_5 Bedroom</th>\n",
       "      <th>size_6 BHK</th>\n",
       "      <th>size_6 Bedroom</th>\n",
       "      <th>size_7 BHK</th>\n",
       "      <th>size_7 Bedroom</th>\n",
       "      <th>size_8 BHK</th>\n",
       "      <th>size_8 Bedroom</th>\n",
       "      <th>size_9 BHK</th>\n",
       "      <th>size_9 Bedroom</th>\n",
       "    </tr>\n",
       "  </thead>\n",
       "  <tbody>\n",
       "    <tr>\n",
       "      <th>0</th>\n",
       "      <td>1.0</td>\n",
       "      <td>0.076923</td>\n",
       "      <td>0.333333</td>\n",
       "      <td>0.000975</td>\n",
       "      <td>0.002757</td>\n",
       "      <td>1.0</td>\n",
       "      <td>70.0</td>\n",
       "      <td>0.272926</td>\n",
       "      <td>0.020994</td>\n",
       "      <td>0</td>\n",
       "      <td>...</td>\n",
       "      <td>0</td>\n",
       "      <td>0</td>\n",
       "      <td>0</td>\n",
       "      <td>0</td>\n",
       "      <td>0</td>\n",
       "      <td>0</td>\n",
       "      <td>0</td>\n",
       "      <td>0</td>\n",
       "      <td>0</td>\n",
       "      <td>0</td>\n",
       "    </tr>\n",
       "    <tr>\n",
       "      <th>1</th>\n",
       "      <td>1.0</td>\n",
       "      <td>0.153846</td>\n",
       "      <td>0.666667</td>\n",
       "      <td>0.001484</td>\n",
       "      <td>0.003890</td>\n",
       "      <td>1.0</td>\n",
       "      <td>150.0</td>\n",
       "      <td>0.272926</td>\n",
       "      <td>0.041989</td>\n",
       "      <td>0</td>\n",
       "      <td>...</td>\n",
       "      <td>0</td>\n",
       "      <td>0</td>\n",
       "      <td>0</td>\n",
       "      <td>0</td>\n",
       "      <td>0</td>\n",
       "      <td>0</td>\n",
       "      <td>0</td>\n",
       "      <td>0</td>\n",
       "      <td>0</td>\n",
       "      <td>0</td>\n",
       "    </tr>\n",
       "    <tr>\n",
       "      <th>2</th>\n",
       "      <td>1.0</td>\n",
       "      <td>0.153846</td>\n",
       "      <td>1.000000</td>\n",
       "      <td>0.001554</td>\n",
       "      <td>0.003692</td>\n",
       "      <td>1.0</td>\n",
       "      <td>149.0</td>\n",
       "      <td>0.272926</td>\n",
       "      <td>0.041989</td>\n",
       "      <td>0</td>\n",
       "      <td>...</td>\n",
       "      <td>0</td>\n",
       "      <td>0</td>\n",
       "      <td>0</td>\n",
       "      <td>0</td>\n",
       "      <td>0</td>\n",
       "      <td>0</td>\n",
       "      <td>0</td>\n",
       "      <td>0</td>\n",
       "      <td>0</td>\n",
       "      <td>0</td>\n",
       "    </tr>\n",
       "    <tr>\n",
       "      <th>3</th>\n",
       "      <td>1.0</td>\n",
       "      <td>0.153846</td>\n",
       "      <td>0.666667</td>\n",
       "      <td>0.001483</td>\n",
       "      <td>0.004155</td>\n",
       "      <td>1.0</td>\n",
       "      <td>160.0</td>\n",
       "      <td>0.272926</td>\n",
       "      <td>0.041989</td>\n",
       "      <td>0</td>\n",
       "      <td>...</td>\n",
       "      <td>0</td>\n",
       "      <td>0</td>\n",
       "      <td>0</td>\n",
       "      <td>0</td>\n",
       "      <td>0</td>\n",
       "      <td>0</td>\n",
       "      <td>0</td>\n",
       "      <td>0</td>\n",
       "      <td>0</td>\n",
       "      <td>0</td>\n",
       "    </tr>\n",
       "    <tr>\n",
       "      <th>4</th>\n",
       "      <td>1.0</td>\n",
       "      <td>0.153846</td>\n",
       "      <td>0.666667</td>\n",
       "      <td>0.001554</td>\n",
       "      <td>0.003716</td>\n",
       "      <td>1.0</td>\n",
       "      <td>150.0</td>\n",
       "      <td>0.272926</td>\n",
       "      <td>0.041989</td>\n",
       "      <td>0</td>\n",
       "      <td>...</td>\n",
       "      <td>0</td>\n",
       "      <td>0</td>\n",
       "      <td>0</td>\n",
       "      <td>0</td>\n",
       "      <td>0</td>\n",
       "      <td>0</td>\n",
       "      <td>0</td>\n",
       "      <td>0</td>\n",
       "      <td>0</td>\n",
       "      <td>0</td>\n",
       "    </tr>\n",
       "  </tbody>\n",
       "</table>\n",
       "<p>5 rows × 29 columns</p>\n",
       "</div>"
      ],
      "text/plain": [
       "   availability      bath   balcony  total_sqft  price_per_square_ft  \\\n",
       "0           1.0  0.076923  0.333333    0.000975             0.002757   \n",
       "1           1.0  0.153846  0.666667    0.001484             0.003890   \n",
       "2           1.0  0.153846  1.000000    0.001554             0.003692   \n",
       "3           1.0  0.153846  0.666667    0.001483             0.004155   \n",
       "4           1.0  0.153846  0.666667    0.001554             0.003716   \n",
       "\n",
       "   room_size  price      dist  interaction  size_1 BHK  ...  size_5 BHK  \\\n",
       "0        1.0   70.0  0.272926     0.020994           0  ...           0   \n",
       "1        1.0  150.0  0.272926     0.041989           0  ...           0   \n",
       "2        1.0  149.0  0.272926     0.041989           0  ...           0   \n",
       "3        1.0  160.0  0.272926     0.041989           0  ...           0   \n",
       "4        1.0  150.0  0.272926     0.041989           0  ...           0   \n",
       "\n",
       "   size_5 Bedroom  size_6 BHK  size_6 Bedroom  size_7 BHK  size_7 Bedroom  \\\n",
       "0               0           0               0           0               0   \n",
       "1               0           0               0           0               0   \n",
       "2               0           0               0           0               0   \n",
       "3               0           0               0           0               0   \n",
       "4               0           0               0           0               0   \n",
       "\n",
       "   size_8 BHK  size_8 Bedroom  size_9 BHK  size_9 Bedroom  \n",
       "0           0               0           0               0  \n",
       "1           0               0           0               0  \n",
       "2           0               0           0               0  \n",
       "3           0               0           0               0  \n",
       "4           0               0           0               0  \n",
       "\n",
       "[5 rows x 29 columns]"
      ]
     },
     "execution_count": 1570,
     "metadata": {},
     "output_type": "execute_result"
    }
   ],
   "source": [
    "# Dummy encoding for location\n",
    "dummies = pd.get_dummies(data=df_3.drop(columns=['location']), columns=['size'])\n",
    "# dummies.drop(columns=['location_other'], inplace=True)\n",
    "dummies.drop(columns=[\"hall\",\"kitchen\",\"room_count\"], inplace=True)\n",
    "\n",
    "# Dropping a column which is not present in Test Data : 1 RK\n",
    "dummies.head()"
   ]
  },
  {
   "cell_type": "code",
   "execution_count": 1571,
   "id": "incredible-pointer",
   "metadata": {},
   "outputs": [
    {
     "data": {
      "text/html": [
       "<div>\n",
       "<style scoped>\n",
       "    .dataframe tbody tr th:only-of-type {\n",
       "        vertical-align: middle;\n",
       "    }\n",
       "\n",
       "    .dataframe tbody tr th {\n",
       "        vertical-align: top;\n",
       "    }\n",
       "\n",
       "    .dataframe thead th {\n",
       "        text-align: right;\n",
       "    }\n",
       "</style>\n",
       "<table border=\"1\" class=\"dataframe\">\n",
       "  <thead>\n",
       "    <tr style=\"text-align: right;\">\n",
       "      <th></th>\n",
       "      <th>availability</th>\n",
       "      <th>bath</th>\n",
       "      <th>balcony</th>\n",
       "      <th>total_sqft</th>\n",
       "      <th>price_per_square_ft</th>\n",
       "      <th>room_size</th>\n",
       "      <th>price</th>\n",
       "      <th>dist</th>\n",
       "      <th>interaction</th>\n",
       "      <th>size_1 BHK</th>\n",
       "      <th>...</th>\n",
       "      <th>size_5 BHK</th>\n",
       "      <th>size_5 Bedroom</th>\n",
       "      <th>size_6 BHK</th>\n",
       "      <th>size_6 Bedroom</th>\n",
       "      <th>size_7 BHK</th>\n",
       "      <th>size_7 Bedroom</th>\n",
       "      <th>size_8 BHK</th>\n",
       "      <th>size_8 Bedroom</th>\n",
       "      <th>size_9 BHK</th>\n",
       "      <th>size_9 Bedroom</th>\n",
       "    </tr>\n",
       "  </thead>\n",
       "  <tbody>\n",
       "    <tr>\n",
       "      <th>0</th>\n",
       "      <td>1.0</td>\n",
       "      <td>0.076923</td>\n",
       "      <td>0.333333</td>\n",
       "      <td>0.000975</td>\n",
       "      <td>0.002757</td>\n",
       "      <td>1.0</td>\n",
       "      <td>70.0</td>\n",
       "      <td>0.272926</td>\n",
       "      <td>0.020994</td>\n",
       "      <td>0</td>\n",
       "      <td>...</td>\n",
       "      <td>0</td>\n",
       "      <td>0</td>\n",
       "      <td>0</td>\n",
       "      <td>0</td>\n",
       "      <td>0</td>\n",
       "      <td>0</td>\n",
       "      <td>0</td>\n",
       "      <td>0</td>\n",
       "      <td>0</td>\n",
       "      <td>0</td>\n",
       "    </tr>\n",
       "    <tr>\n",
       "      <th>1</th>\n",
       "      <td>1.0</td>\n",
       "      <td>0.153846</td>\n",
       "      <td>0.666667</td>\n",
       "      <td>0.001484</td>\n",
       "      <td>0.003890</td>\n",
       "      <td>1.0</td>\n",
       "      <td>150.0</td>\n",
       "      <td>0.272926</td>\n",
       "      <td>0.041989</td>\n",
       "      <td>0</td>\n",
       "      <td>...</td>\n",
       "      <td>0</td>\n",
       "      <td>0</td>\n",
       "      <td>0</td>\n",
       "      <td>0</td>\n",
       "      <td>0</td>\n",
       "      <td>0</td>\n",
       "      <td>0</td>\n",
       "      <td>0</td>\n",
       "      <td>0</td>\n",
       "      <td>0</td>\n",
       "    </tr>\n",
       "    <tr>\n",
       "      <th>2</th>\n",
       "      <td>1.0</td>\n",
       "      <td>0.153846</td>\n",
       "      <td>1.000000</td>\n",
       "      <td>0.001554</td>\n",
       "      <td>0.003692</td>\n",
       "      <td>1.0</td>\n",
       "      <td>149.0</td>\n",
       "      <td>0.272926</td>\n",
       "      <td>0.041989</td>\n",
       "      <td>0</td>\n",
       "      <td>...</td>\n",
       "      <td>0</td>\n",
       "      <td>0</td>\n",
       "      <td>0</td>\n",
       "      <td>0</td>\n",
       "      <td>0</td>\n",
       "      <td>0</td>\n",
       "      <td>0</td>\n",
       "      <td>0</td>\n",
       "      <td>0</td>\n",
       "      <td>0</td>\n",
       "    </tr>\n",
       "    <tr>\n",
       "      <th>3</th>\n",
       "      <td>1.0</td>\n",
       "      <td>0.153846</td>\n",
       "      <td>0.666667</td>\n",
       "      <td>0.001483</td>\n",
       "      <td>0.004155</td>\n",
       "      <td>1.0</td>\n",
       "      <td>160.0</td>\n",
       "      <td>0.272926</td>\n",
       "      <td>0.041989</td>\n",
       "      <td>0</td>\n",
       "      <td>...</td>\n",
       "      <td>0</td>\n",
       "      <td>0</td>\n",
       "      <td>0</td>\n",
       "      <td>0</td>\n",
       "      <td>0</td>\n",
       "      <td>0</td>\n",
       "      <td>0</td>\n",
       "      <td>0</td>\n",
       "      <td>0</td>\n",
       "      <td>0</td>\n",
       "    </tr>\n",
       "    <tr>\n",
       "      <th>4</th>\n",
       "      <td>1.0</td>\n",
       "      <td>0.153846</td>\n",
       "      <td>0.666667</td>\n",
       "      <td>0.001554</td>\n",
       "      <td>0.003716</td>\n",
       "      <td>1.0</td>\n",
       "      <td>150.0</td>\n",
       "      <td>0.272926</td>\n",
       "      <td>0.041989</td>\n",
       "      <td>0</td>\n",
       "      <td>...</td>\n",
       "      <td>0</td>\n",
       "      <td>0</td>\n",
       "      <td>0</td>\n",
       "      <td>0</td>\n",
       "      <td>0</td>\n",
       "      <td>0</td>\n",
       "      <td>0</td>\n",
       "      <td>0</td>\n",
       "      <td>0</td>\n",
       "      <td>0</td>\n",
       "    </tr>\n",
       "  </tbody>\n",
       "</table>\n",
       "<p>5 rows × 29 columns</p>\n",
       "</div>"
      ],
      "text/plain": [
       "   availability      bath   balcony  total_sqft  price_per_square_ft  \\\n",
       "0           1.0  0.076923  0.333333    0.000975             0.002757   \n",
       "1           1.0  0.153846  0.666667    0.001484             0.003890   \n",
       "2           1.0  0.153846  1.000000    0.001554             0.003692   \n",
       "3           1.0  0.153846  0.666667    0.001483             0.004155   \n",
       "4           1.0  0.153846  0.666667    0.001554             0.003716   \n",
       "\n",
       "   room_size  price      dist  interaction  size_1 BHK  ...  size_5 BHK  \\\n",
       "0        1.0   70.0  0.272926     0.020994           0  ...           0   \n",
       "1        1.0  150.0  0.272926     0.041989           0  ...           0   \n",
       "2        1.0  149.0  0.272926     0.041989           0  ...           0   \n",
       "3        1.0  160.0  0.272926     0.041989           0  ...           0   \n",
       "4        1.0  150.0  0.272926     0.041989           0  ...           0   \n",
       "\n",
       "   size_5 Bedroom  size_6 BHK  size_6 Bedroom  size_7 BHK  size_7 Bedroom  \\\n",
       "0               0           0               0           0               0   \n",
       "1               0           0               0           0               0   \n",
       "2               0           0               0           0               0   \n",
       "3               0           0               0           0               0   \n",
       "4               0           0               0           0               0   \n",
       "\n",
       "   size_8 BHK  size_8 Bedroom  size_9 BHK  size_9 Bedroom  \n",
       "0           0               0           0               0  \n",
       "1           0               0           0               0  \n",
       "2           0               0           0               0  \n",
       "3           0               0           0               0  \n",
       "4           0               0           0               0  \n",
       "\n",
       "[5 rows x 29 columns]"
      ]
     },
     "execution_count": 1571,
     "metadata": {},
     "output_type": "execute_result"
    }
   ],
   "source": [
    "df_4 = dummies.copy()\n",
    "df_4.head()"
   ]
  },
  {
   "cell_type": "code",
   "execution_count": 1572,
   "id": "white-extension",
   "metadata": {},
   "outputs": [
    {
     "data": {
      "text/html": [
       "<div>\n",
       "<style scoped>\n",
       "    .dataframe tbody tr th:only-of-type {\n",
       "        vertical-align: middle;\n",
       "    }\n",
       "\n",
       "    .dataframe tbody tr th {\n",
       "        vertical-align: top;\n",
       "    }\n",
       "\n",
       "    .dataframe thead th {\n",
       "        text-align: right;\n",
       "    }\n",
       "</style>\n",
       "<table border=\"1\" class=\"dataframe\">\n",
       "  <thead>\n",
       "    <tr style=\"text-align: right;\">\n",
       "      <th></th>\n",
       "      <th>availability</th>\n",
       "      <th>bath</th>\n",
       "      <th>balcony</th>\n",
       "      <th>total_sqft</th>\n",
       "      <th>room_size</th>\n",
       "      <th>dist</th>\n",
       "      <th>interaction</th>\n",
       "      <th>size_1 BHK</th>\n",
       "      <th>size_1 Bedroom</th>\n",
       "      <th>size_10 BHK</th>\n",
       "      <th>...</th>\n",
       "      <th>size_5 BHK</th>\n",
       "      <th>size_5 Bedroom</th>\n",
       "      <th>size_6 BHK</th>\n",
       "      <th>size_6 Bedroom</th>\n",
       "      <th>size_7 BHK</th>\n",
       "      <th>size_7 Bedroom</th>\n",
       "      <th>size_8 BHK</th>\n",
       "      <th>size_8 Bedroom</th>\n",
       "      <th>size_9 BHK</th>\n",
       "      <th>size_9 Bedroom</th>\n",
       "    </tr>\n",
       "  </thead>\n",
       "  <tbody>\n",
       "    <tr>\n",
       "      <th>0</th>\n",
       "      <td>1.0</td>\n",
       "      <td>0.076923</td>\n",
       "      <td>0.333333</td>\n",
       "      <td>0.000975</td>\n",
       "      <td>1.0</td>\n",
       "      <td>0.272926</td>\n",
       "      <td>0.020994</td>\n",
       "      <td>0</td>\n",
       "      <td>0</td>\n",
       "      <td>0</td>\n",
       "      <td>...</td>\n",
       "      <td>0</td>\n",
       "      <td>0</td>\n",
       "      <td>0</td>\n",
       "      <td>0</td>\n",
       "      <td>0</td>\n",
       "      <td>0</td>\n",
       "      <td>0</td>\n",
       "      <td>0</td>\n",
       "      <td>0</td>\n",
       "      <td>0</td>\n",
       "    </tr>\n",
       "    <tr>\n",
       "      <th>1</th>\n",
       "      <td>1.0</td>\n",
       "      <td>0.153846</td>\n",
       "      <td>0.666667</td>\n",
       "      <td>0.001484</td>\n",
       "      <td>1.0</td>\n",
       "      <td>0.272926</td>\n",
       "      <td>0.041989</td>\n",
       "      <td>0</td>\n",
       "      <td>0</td>\n",
       "      <td>0</td>\n",
       "      <td>...</td>\n",
       "      <td>0</td>\n",
       "      <td>0</td>\n",
       "      <td>0</td>\n",
       "      <td>0</td>\n",
       "      <td>0</td>\n",
       "      <td>0</td>\n",
       "      <td>0</td>\n",
       "      <td>0</td>\n",
       "      <td>0</td>\n",
       "      <td>0</td>\n",
       "    </tr>\n",
       "    <tr>\n",
       "      <th>2</th>\n",
       "      <td>1.0</td>\n",
       "      <td>0.153846</td>\n",
       "      <td>1.000000</td>\n",
       "      <td>0.001554</td>\n",
       "      <td>1.0</td>\n",
       "      <td>0.272926</td>\n",
       "      <td>0.041989</td>\n",
       "      <td>0</td>\n",
       "      <td>0</td>\n",
       "      <td>0</td>\n",
       "      <td>...</td>\n",
       "      <td>0</td>\n",
       "      <td>0</td>\n",
       "      <td>0</td>\n",
       "      <td>0</td>\n",
       "      <td>0</td>\n",
       "      <td>0</td>\n",
       "      <td>0</td>\n",
       "      <td>0</td>\n",
       "      <td>0</td>\n",
       "      <td>0</td>\n",
       "    </tr>\n",
       "    <tr>\n",
       "      <th>3</th>\n",
       "      <td>1.0</td>\n",
       "      <td>0.153846</td>\n",
       "      <td>0.666667</td>\n",
       "      <td>0.001483</td>\n",
       "      <td>1.0</td>\n",
       "      <td>0.272926</td>\n",
       "      <td>0.041989</td>\n",
       "      <td>0</td>\n",
       "      <td>0</td>\n",
       "      <td>0</td>\n",
       "      <td>...</td>\n",
       "      <td>0</td>\n",
       "      <td>0</td>\n",
       "      <td>0</td>\n",
       "      <td>0</td>\n",
       "      <td>0</td>\n",
       "      <td>0</td>\n",
       "      <td>0</td>\n",
       "      <td>0</td>\n",
       "      <td>0</td>\n",
       "      <td>0</td>\n",
       "    </tr>\n",
       "    <tr>\n",
       "      <th>4</th>\n",
       "      <td>1.0</td>\n",
       "      <td>0.153846</td>\n",
       "      <td>0.666667</td>\n",
       "      <td>0.001554</td>\n",
       "      <td>1.0</td>\n",
       "      <td>0.272926</td>\n",
       "      <td>0.041989</td>\n",
       "      <td>0</td>\n",
       "      <td>0</td>\n",
       "      <td>0</td>\n",
       "      <td>...</td>\n",
       "      <td>0</td>\n",
       "      <td>0</td>\n",
       "      <td>0</td>\n",
       "      <td>0</td>\n",
       "      <td>0</td>\n",
       "      <td>0</td>\n",
       "      <td>0</td>\n",
       "      <td>0</td>\n",
       "      <td>0</td>\n",
       "      <td>0</td>\n",
       "    </tr>\n",
       "  </tbody>\n",
       "</table>\n",
       "<p>5 rows × 27 columns</p>\n",
       "</div>"
      ],
      "text/plain": [
       "   availability      bath   balcony  total_sqft  room_size      dist  \\\n",
       "0           1.0  0.076923  0.333333    0.000975        1.0  0.272926   \n",
       "1           1.0  0.153846  0.666667    0.001484        1.0  0.272926   \n",
       "2           1.0  0.153846  1.000000    0.001554        1.0  0.272926   \n",
       "3           1.0  0.153846  0.666667    0.001483        1.0  0.272926   \n",
       "4           1.0  0.153846  0.666667    0.001554        1.0  0.272926   \n",
       "\n",
       "   interaction  size_1 BHK  size_1 Bedroom  size_10 BHK  ...  size_5 BHK  \\\n",
       "0     0.020994           0               0            0  ...           0   \n",
       "1     0.041989           0               0            0  ...           0   \n",
       "2     0.041989           0               0            0  ...           0   \n",
       "3     0.041989           0               0            0  ...           0   \n",
       "4     0.041989           0               0            0  ...           0   \n",
       "\n",
       "   size_5 Bedroom  size_6 BHK  size_6 Bedroom  size_7 BHK  size_7 Bedroom  \\\n",
       "0               0           0               0           0               0   \n",
       "1               0           0               0           0               0   \n",
       "2               0           0               0           0               0   \n",
       "3               0           0               0           0               0   \n",
       "4               0           0               0           0               0   \n",
       "\n",
       "   size_8 BHK  size_8 Bedroom  size_9 BHK  size_9 Bedroom  \n",
       "0           0               0           0               0  \n",
       "1           0               0           0               0  \n",
       "2           0               0           0               0  \n",
       "3           0               0           0               0  \n",
       "4           0               0           0               0  \n",
       "\n",
       "[5 rows x 27 columns]"
      ]
     },
     "execution_count": 1572,
     "metadata": {},
     "output_type": "execute_result"
    }
   ],
   "source": [
    "X=df_4.drop(columns=['price','price_per_square_ft'], axis='columns')\n",
    "X.head()"
   ]
  },
  {
   "cell_type": "code",
   "execution_count": 1573,
   "id": "friendly-shell",
   "metadata": {},
   "outputs": [],
   "source": [
    "y = df_4['price']"
   ]
  },
  {
   "cell_type": "code",
   "execution_count": 1574,
   "id": "capable-judge",
   "metadata": {},
   "outputs": [
    {
     "data": {
      "text/plain": [
       "0.3728767252266847"
      ]
     },
     "execution_count": 1574,
     "metadata": {},
     "output_type": "execute_result"
    }
   ],
   "source": [
    "X_train,X_test,y_train,y_test=train_test_split(X,y,test_size=0.2)\n",
    "\n",
    "model_1=LinearRegression()\n",
    "model_1.fit(X_train,y_train)\n",
    "model_1.score(X_test,y_test)"
   ]
  },
  {
   "cell_type": "code",
   "execution_count": 1575,
   "id": "interracial-recommendation",
   "metadata": {},
   "outputs": [
    {
     "data": {
      "text/plain": [
       "array([ 55.25023596, 114.83625239, 123.35927135, ..., 108.05791991,\n",
       "       113.27432345, 159.17795535])"
      ]
     },
     "execution_count": 1575,
     "metadata": {},
     "output_type": "execute_result"
    }
   ],
   "source": [
    "model_1.predict(X)"
   ]
  },
  {
   "cell_type": "code",
   "execution_count": 1576,
   "id": "republican-buffalo",
   "metadata": {},
   "outputs": [
    {
     "data": {
      "text/plain": [
       "0         70.00\n",
       "1        150.00\n",
       "2        149.00\n",
       "3        160.00\n",
       "4        150.00\n",
       "          ...  \n",
       "10043     61.99\n",
       "10044     62.00\n",
       "10045     48.00\n",
       "10046     55.00\n",
       "10047     78.00\n",
       "Name: price, Length: 10048, dtype: float64"
      ]
     },
     "execution_count": 1576,
     "metadata": {},
     "output_type": "execute_result"
    }
   ],
   "source": [
    "y"
   ]
  },
  {
   "cell_type": "code",
   "execution_count": 1577,
   "id": "smoking-relation",
   "metadata": {},
   "outputs": [
    {
     "data": {
      "text/plain": [
       "104.5544840384231"
      ]
     },
     "execution_count": 1577,
     "metadata": {},
     "output_type": "execute_result"
    }
   ],
   "source": [
    "rmse(model_1.predict(X), y)"
   ]
  },
  {
   "cell_type": "code",
   "execution_count": 1578,
   "id": "front-channel",
   "metadata": {},
   "outputs": [
    {
     "data": {
      "text/html": [
       "<div>\n",
       "<style scoped>\n",
       "    .dataframe tbody tr th:only-of-type {\n",
       "        vertical-align: middle;\n",
       "    }\n",
       "\n",
       "    .dataframe tbody tr th {\n",
       "        vertical-align: top;\n",
       "    }\n",
       "\n",
       "    .dataframe thead th {\n",
       "        text-align: right;\n",
       "    }\n",
       "</style>\n",
       "<table border=\"1\" class=\"dataframe\">\n",
       "  <thead>\n",
       "    <tr style=\"text-align: right;\">\n",
       "      <th></th>\n",
       "      <th>model</th>\n",
       "      <th>shape</th>\n",
       "      <th>best_score</th>\n",
       "      <th>best_params</th>\n",
       "      <th>rmse</th>\n",
       "    </tr>\n",
       "  </thead>\n",
       "  <tbody>\n",
       "    <tr>\n",
       "      <th>0</th>\n",
       "      <td>linear_regression</td>\n",
       "      <td>(10048, 27)</td>\n",
       "      <td>0.375187</td>\n",
       "      <td>{'normalize': True}</td>\n",
       "      <td>104.371454</td>\n",
       "    </tr>\n",
       "    <tr>\n",
       "      <th>1</th>\n",
       "      <td>lasso</td>\n",
       "      <td>(10048, 27)</td>\n",
       "      <td>0.335581</td>\n",
       "      <td>{'alpha': 1, 'selection': 'cyclic'}</td>\n",
       "      <td>108.680808</td>\n",
       "    </tr>\n",
       "    <tr>\n",
       "      <th>2</th>\n",
       "      <td>decision_tree</td>\n",
       "      <td>(10048, 27)</td>\n",
       "      <td>0.332186</td>\n",
       "      <td>{'criterion': 'friedman_mse', 'splitter': 'best'}</td>\n",
       "      <td>7.326994</td>\n",
       "    </tr>\n",
       "  </tbody>\n",
       "</table>\n",
       "</div>"
      ],
      "text/plain": [
       "               model        shape  best_score  \\\n",
       "0  linear_regression  (10048, 27)    0.375187   \n",
       "1              lasso  (10048, 27)    0.335581   \n",
       "2      decision_tree  (10048, 27)    0.332186   \n",
       "\n",
       "                                         best_params        rmse  \n",
       "0                                {'normalize': True}  104.371454  \n",
       "1                {'alpha': 1, 'selection': 'cyclic'}  108.680808  \n",
       "2  {'criterion': 'friedman_mse', 'splitter': 'best'}    7.326994  "
      ]
     },
     "execution_count": 1578,
     "metadata": {},
     "output_type": "execute_result"
    }
   ],
   "source": [
    "def find_best_model_using_gridsearchcv(X,y):\n",
    "    algos = {\n",
    "        'linear_regression' : {\n",
    "            'model': LinearRegression(),\n",
    "            'params': {\n",
    "                'normalize': [True, False]\n",
    "            }\n",
    "        },\n",
    "        'lasso': {\n",
    "            'model': Lasso(),\n",
    "            'params': {\n",
    "                'alpha': [1,2],\n",
    "                'selection': ['random', 'cyclic']\n",
    "            }\n",
    "        },\n",
    "        'decision_tree': {\n",
    "            'model': DecisionTreeRegressor(),\n",
    "            'params': {\n",
    "                'criterion' : ['mse','friedman_mse'],\n",
    "                'splitter': ['best','random']\n",
    "            }\n",
    "        }\n",
    "    }\n",
    "    scores = []\n",
    "    cv = ShuffleSplit(n_splits=5, test_size=0.2)\n",
    "    for algo_name, config in algos.items():\n",
    "        gs =  GridSearchCV(config['model'], config['params'], cv=cv, return_train_score=False)\n",
    "        gs.fit(X,y)\n",
    "        y_pred=gs.predict(X)\n",
    "        gs_rmse = rmse(y,y_pred)\n",
    "        scores.append({\n",
    "            'model': algo_name,\n",
    "            'shape': X.shape,\n",
    "            'best_score': gs.best_score_,\n",
    "            'best_params': gs.best_params_,\n",
    "            'rmse': gs_rmse\n",
    "        })\n",
    "\n",
    "    return pd.DataFrame(scores,columns=['model','shape', 'best_score','best_params','rmse'])\n",
    "\n",
    "find_best_model_using_gridsearchcv(X,y)\n"
   ]
  },
  {
   "cell_type": "code",
   "execution_count": 1579,
   "id": "norman-dragon",
   "metadata": {},
   "outputs": [
    {
     "data": {
      "text/html": [
       "<div>\n",
       "<style scoped>\n",
       "    .dataframe tbody tr th:only-of-type {\n",
       "        vertical-align: middle;\n",
       "    }\n",
       "\n",
       "    .dataframe tbody tr th {\n",
       "        vertical-align: top;\n",
       "    }\n",
       "\n",
       "    .dataframe thead th {\n",
       "        text-align: right;\n",
       "    }\n",
       "</style>\n",
       "<table border=\"1\" class=\"dataframe\">\n",
       "  <thead>\n",
       "    <tr style=\"text-align: right;\">\n",
       "      <th></th>\n",
       "      <th>model</th>\n",
       "      <th>best_score</th>\n",
       "      <th>best_params</th>\n",
       "      <th>rmse</th>\n",
       "    </tr>\n",
       "  </thead>\n",
       "  <tbody>\n",
       "    <tr>\n",
       "      <th>0</th>\n",
       "      <td>DecisionTreeRegressor</td>\n",
       "      <td>0.374796</td>\n",
       "      <td>{'criterion': 'mse', 'splitter': 'best'}</td>\n",
       "      <td>7.326994</td>\n",
       "    </tr>\n",
       "  </tbody>\n",
       "</table>\n",
       "</div>"
      ],
      "text/plain": [
       "                   model  best_score  \\\n",
       "0  DecisionTreeRegressor    0.374796   \n",
       "\n",
       "                                best_params      rmse  \n",
       "0  {'criterion': 'mse', 'splitter': 'best'}  7.326994  "
      ]
     },
     "execution_count": 1579,
     "metadata": {},
     "output_type": "execute_result"
    }
   ],
   "source": [
    "res_df = pd.DataFrame(columns=['model','best_score','best_params','rmse'])\n",
    "# Creating the best model separately\n",
    "\n",
    "cv = ShuffleSplit(n_splits=3, test_size=0.2, random_state=0)\n",
    "gs =  GridSearchCV(\n",
    "    DecisionTreeRegressor(), \n",
    "    {\n",
    "        'criterion' : ['mse','friedman_mse'],\n",
    "        'splitter': ['best','random']\n",
    "    },\n",
    "    cv=cv, \n",
    "    return_train_score=False\n",
    ")\n",
    "gs.fit(X,y)\n",
    "\n",
    "y_pred=gs.predict(X)\n",
    "gs_rmse = rmse(y,y_pred)\n",
    "res_df.append({\n",
    "    \"model\": \"DecisionTreeRegressor\",\n",
    "    \"best_score\": gs.best_score_,\n",
    "    \"best_params\": gs.best_params_,\n",
    "    \"rmse\": gs_rmse\n",
    "}, ignore_index=True)"
   ]
  },
  {
   "cell_type": "code",
   "execution_count": 1580,
   "id": "charitable-fifty",
   "metadata": {},
   "outputs": [
    {
     "name": "stdout",
     "output_type": "stream",
     "text": [
      "Best Hyper Parameter: {'alpha': 0.01, 'l1_ratio': 1}\n",
      "Best Score: 0.36543645503900635\n"
     ]
    }
   ],
   "source": [
    "# Trying Grid Search CV with ElasticNet\n",
    "hyp_param = {'alpha':[0.01, 0.09, 0.1, 0.2], 'l1_ratio':[0.98, 0.99, 0.999, 1, 2]}\n",
    "enet = ElasticNet(normalize=True)\n",
    "hyper_model = GridSearchCV(estimator=enet, param_grid=hyp_param, cv=5, scoring='r2')\n",
    "\n",
    "enet_model = hyper_model.fit(X, y)\n",
    "print(f\"Best Hyper Parameter: {enet_model.best_params_}\")\n",
    "print(f\"Best Score: {enet_model.best_score_}\")"
   ]
  },
  {
   "cell_type": "code",
   "execution_count": 1581,
   "id": "indonesian-protocol",
   "metadata": {},
   "outputs": [
    {
     "data": {
      "text/plain": [
       "104.58982714095839"
      ]
     },
     "execution_count": 1581,
     "metadata": {},
     "output_type": "execute_result"
    }
   ],
   "source": [
    "enet_rmse = rmse(enet_model.predict(X),y)\n",
    "enet_rmse"
   ]
  },
  {
   "cell_type": "code",
   "execution_count": 1582,
   "id": "sporting-brake",
   "metadata": {},
   "outputs": [
    {
     "data": {
      "text/plain": [
       "68.71322314422343"
      ]
     },
     "execution_count": 1582,
     "metadata": {},
     "output_type": "execute_result"
    }
   ],
   "source": [
    "from sklearn.ensemble import RandomForestRegressor\n",
    "\n",
    "x_train,x_test,y_train,y_test=train_test_split(X,y, test_size=0.2)\n",
    "RFC = RandomForestRegressor(n_estimators=20, n_jobs=-1, oob_score=True)\n",
    "RFC.fit(x_train,y_train)\n",
    "y_test_pred = RFC.predict(x_test)\n",
    "rmse(y_test, y_test_pred)"
   ]
  },
  {
   "cell_type": "code",
   "execution_count": 1583,
   "id": "split-saint",
   "metadata": {},
   "outputs": [
    {
     "name": "stdout",
     "output_type": "stream",
     "text": [
      "RMSE for train: 69.15066992294102\n",
      "RMSE for test: 62.17259106816475\n",
      "r2_score for train: 0.7416429617526207\n",
      "r2_score for test: 0.6744426311586398\n"
     ]
    }
   ],
   "source": [
    "from sklearn.model_selection import GridSearchCV\n",
    "\n",
    "x=X\n",
    "\n",
    "x_train,x_test,y_train,y_test=train_test_split(x,y,test_size=0.1,random_state=10)\n",
    "\n",
    "param={'max_depth':[5,10,15,20,30],'min_samples_leaf':[10,15,20,50,100]}\n",
    "\n",
    "gs_rfc=GridSearchCV(estimator=RFC,param_grid=param,cv=4,n_jobs=-1,scoring='r2')\n",
    "\n",
    "gs_rfc.fit(x_train,y_train)\n",
    "\n",
    "gs_rfc.best_estimator_\n",
    "gs_best=gs_rfc.best_estimator_\n",
    "\n",
    "gs_best.fit(x_train,y_train)\n",
    "\n",
    "train_pred=gs_best.predict(x_train)\n",
    "\n",
    "test_pred=gs_best.predict(x_test)\n",
    "\n",
    "\n",
    "print('RMSE for train:',np.sqrt(mean_squared_error(y_train,train_pred)))\n",
    "print('RMSE for test:',np.sqrt(mean_squared_error(y_test,test_pred)))\n",
    "\n",
    "\n",
    "print('r2_score for train:',r2_score(y_train,train_pred))\n",
    "print('r2_score for test:',r2_score(y_test,test_pred))"
   ]
  },
  {
   "cell_type": "code",
   "execution_count": 1584,
   "id": "linear-history",
   "metadata": {},
   "outputs": [
    {
     "name": "stdout",
     "output_type": "stream",
     "text": [
      "0.7789809671609316 62.803772541814425\n"
     ]
    }
   ],
   "source": [
    "from sklearn.ensemble import HistGradientBoostingRegressor\n",
    "\n",
    "est = HistGradientBoostingRegressor().fit(X, y)\n",
    "y_pred = est.predict(X)\n",
    "rmse_hgbr = rmse(y_pred, y)\n",
    "print(est.score(X, y), rmse_hgbr)"
   ]
  },
  {
   "cell_type": "markdown",
   "id": "better-microwave",
   "metadata": {},
   "source": [
    "## PROCESSING THE TEST-DATA"
   ]
  },
  {
   "cell_type": "code",
   "execution_count": 1585,
   "id": "comfortable-advice",
   "metadata": {},
   "outputs": [
    {
     "data": {
      "text/html": [
       "<div>\n",
       "<style scoped>\n",
       "    .dataframe tbody tr th:only-of-type {\n",
       "        vertical-align: middle;\n",
       "    }\n",
       "\n",
       "    .dataframe tbody tr th {\n",
       "        vertical-align: top;\n",
       "    }\n",
       "\n",
       "    .dataframe thead th {\n",
       "        text-align: right;\n",
       "    }\n",
       "</style>\n",
       "<table border=\"1\" class=\"dataframe\">\n",
       "  <thead>\n",
       "    <tr style=\"text-align: right;\">\n",
       "      <th></th>\n",
       "      <th>ID</th>\n",
       "      <th>area_type</th>\n",
       "      <th>availability</th>\n",
       "      <th>location</th>\n",
       "      <th>size</th>\n",
       "      <th>society</th>\n",
       "      <th>total_sqft</th>\n",
       "      <th>bath</th>\n",
       "      <th>balcony</th>\n",
       "    </tr>\n",
       "  </thead>\n",
       "  <tbody>\n",
       "    <tr>\n",
       "      <th>0</th>\n",
       "      <td>0</td>\n",
       "      <td>Super built-up  Area</td>\n",
       "      <td>Ready To Move</td>\n",
       "      <td>chamrajpet</td>\n",
       "      <td>2 BHK</td>\n",
       "      <td>NaN</td>\n",
       "      <td>650</td>\n",
       "      <td>1.0</td>\n",
       "      <td>1.0</td>\n",
       "    </tr>\n",
       "    <tr>\n",
       "      <th>1</th>\n",
       "      <td>1</td>\n",
       "      <td>Super built-up  Area</td>\n",
       "      <td>Ready To Move</td>\n",
       "      <td>7th phase jp nagar</td>\n",
       "      <td>3 BHK</td>\n",
       "      <td>SrncyRe</td>\n",
       "      <td>1370</td>\n",
       "      <td>2.0</td>\n",
       "      <td>1.0</td>\n",
       "    </tr>\n",
       "    <tr>\n",
       "      <th>2</th>\n",
       "      <td>2</td>\n",
       "      <td>Super built-up  Area</td>\n",
       "      <td>Ready To Move</td>\n",
       "      <td>whitefield</td>\n",
       "      <td>3 BHK</td>\n",
       "      <td>AjhalNa</td>\n",
       "      <td>1725</td>\n",
       "      <td>3.0</td>\n",
       "      <td>2.0</td>\n",
       "    </tr>\n",
       "    <tr>\n",
       "      <th>3</th>\n",
       "      <td>3</td>\n",
       "      <td>Built-up  Area</td>\n",
       "      <td>Ready To Move</td>\n",
       "      <td>jalahalli</td>\n",
       "      <td>2 BHK</td>\n",
       "      <td>NaN</td>\n",
       "      <td>1000</td>\n",
       "      <td>2.0</td>\n",
       "      <td>0.0</td>\n",
       "    </tr>\n",
       "    <tr>\n",
       "      <th>4</th>\n",
       "      <td>4</td>\n",
       "      <td>Plot  Area</td>\n",
       "      <td>Ready To Move</td>\n",
       "      <td>tc palaya</td>\n",
       "      <td>1 Bedroom</td>\n",
       "      <td>NaN</td>\n",
       "      <td>1350</td>\n",
       "      <td>1.0</td>\n",
       "      <td>0.0</td>\n",
       "    </tr>\n",
       "  </tbody>\n",
       "</table>\n",
       "</div>"
      ],
      "text/plain": [
       "   ID             area_type   availability            location       size  \\\n",
       "0   0  Super built-up  Area  Ready To Move          chamrajpet      2 BHK   \n",
       "1   1  Super built-up  Area  Ready To Move  7th phase jp nagar      3 BHK   \n",
       "2   2  Super built-up  Area  Ready To Move          whitefield      3 BHK   \n",
       "3   3        Built-up  Area  Ready To Move           jalahalli      2 BHK   \n",
       "4   4            Plot  Area  Ready To Move           tc palaya  1 Bedroom   \n",
       "\n",
       "   society total_sqft  bath  balcony  \n",
       "0      NaN        650   1.0      1.0  \n",
       "1  SrncyRe       1370   2.0      1.0  \n",
       "2  AjhalNa       1725   3.0      2.0  \n",
       "3      NaN       1000   2.0      0.0  \n",
       "4      NaN       1350   1.0      0.0  "
      ]
     },
     "execution_count": 1585,
     "metadata": {},
     "output_type": "execute_result"
    }
   ],
   "source": [
    "df_test.head()"
   ]
  },
  {
   "cell_type": "code",
   "execution_count": 1586,
   "id": "convenient-oracle",
   "metadata": {},
   "outputs": [],
   "source": [
    "df_test['availability'] = df_test['availability'].apply(lambda x: 1 if x==\"Ready To Move\" else 0)"
   ]
  },
  {
   "cell_type": "code",
   "execution_count": 1587,
   "id": "oriented-schedule",
   "metadata": {},
   "outputs": [
    {
     "data": {
      "text/plain": [
       "availability      0\n",
       "location          0\n",
       "size              2\n",
       "total_sqft        0\n",
       "bath              8\n",
       "balcony         105\n",
       "dtype: int64"
      ]
     },
     "execution_count": 1587,
     "metadata": {},
     "output_type": "execute_result"
    }
   ],
   "source": [
    "df_test_1 = df_test.drop(columns=[\"ID\", \"society\", \"area_type\"])\n",
    "df_test_1.isna().sum()"
   ]
  },
  {
   "cell_type": "code",
   "execution_count": 1588,
   "id": "nuclear-scholarship",
   "metadata": {},
   "outputs": [],
   "source": [
    "df_test_1['location'] = df_test_1['location'].fillna('Whitefield')"
   ]
  },
  {
   "cell_type": "code",
   "execution_count": 1589,
   "id": "latin-hacker",
   "metadata": {},
   "outputs": [],
   "source": [
    "df_test_1['size'] = df_test_1['size'].fillna('2 BHK')\n",
    "\n",
    "# Creating 3 additional columns\n",
    "df_test_1['hall'] = np.nan\n",
    "df_test_1['kitchen'] = np.nan\n",
    "df_test_1['room_count'] = np.nan\n",
    "\n",
    "for index, row in df_test_1.iterrows():\n",
    "    split_size(df_test_1, index, df_test_1.loc[index, 'size'])"
   ]
  },
  {
   "cell_type": "code",
   "execution_count": 1590,
   "id": "technological-genesis",
   "metadata": {
    "scrolled": true
   },
   "outputs": [
    {
     "data": {
      "text/html": [
       "<div>\n",
       "<style scoped>\n",
       "    .dataframe tbody tr th:only-of-type {\n",
       "        vertical-align: middle;\n",
       "    }\n",
       "\n",
       "    .dataframe tbody tr th {\n",
       "        vertical-align: top;\n",
       "    }\n",
       "\n",
       "    .dataframe thead th {\n",
       "        text-align: right;\n",
       "    }\n",
       "</style>\n",
       "<table border=\"1\" class=\"dataframe\">\n",
       "  <thead>\n",
       "    <tr style=\"text-align: right;\">\n",
       "      <th></th>\n",
       "      <th>availability</th>\n",
       "      <th>location</th>\n",
       "      <th>size</th>\n",
       "      <th>total_sqft</th>\n",
       "      <th>bath</th>\n",
       "      <th>balcony</th>\n",
       "      <th>hall</th>\n",
       "      <th>kitchen</th>\n",
       "      <th>room_count</th>\n",
       "    </tr>\n",
       "  </thead>\n",
       "  <tbody>\n",
       "    <tr>\n",
       "      <th>0</th>\n",
       "      <td>1</td>\n",
       "      <td>chamrajpet</td>\n",
       "      <td>2 BHK</td>\n",
       "      <td>650</td>\n",
       "      <td>1.0</td>\n",
       "      <td>1.0</td>\n",
       "      <td>1.0</td>\n",
       "      <td>1.0</td>\n",
       "      <td>2</td>\n",
       "    </tr>\n",
       "    <tr>\n",
       "      <th>1</th>\n",
       "      <td>1</td>\n",
       "      <td>7th phase jp nagar</td>\n",
       "      <td>3 BHK</td>\n",
       "      <td>1370</td>\n",
       "      <td>2.0</td>\n",
       "      <td>1.0</td>\n",
       "      <td>1.0</td>\n",
       "      <td>1.0</td>\n",
       "      <td>3</td>\n",
       "    </tr>\n",
       "    <tr>\n",
       "      <th>2</th>\n",
       "      <td>1</td>\n",
       "      <td>whitefield</td>\n",
       "      <td>3 BHK</td>\n",
       "      <td>1725</td>\n",
       "      <td>3.0</td>\n",
       "      <td>2.0</td>\n",
       "      <td>1.0</td>\n",
       "      <td>1.0</td>\n",
       "      <td>3</td>\n",
       "    </tr>\n",
       "    <tr>\n",
       "      <th>3</th>\n",
       "      <td>1</td>\n",
       "      <td>jalahalli</td>\n",
       "      <td>2 BHK</td>\n",
       "      <td>1000</td>\n",
       "      <td>2.0</td>\n",
       "      <td>0.0</td>\n",
       "      <td>1.0</td>\n",
       "      <td>1.0</td>\n",
       "      <td>2</td>\n",
       "    </tr>\n",
       "    <tr>\n",
       "      <th>4</th>\n",
       "      <td>1</td>\n",
       "      <td>tc palaya</td>\n",
       "      <td>1 Bedroom</td>\n",
       "      <td>1350</td>\n",
       "      <td>1.0</td>\n",
       "      <td>0.0</td>\n",
       "      <td>0.0</td>\n",
       "      <td>0.0</td>\n",
       "      <td>1</td>\n",
       "    </tr>\n",
       "  </tbody>\n",
       "</table>\n",
       "</div>"
      ],
      "text/plain": [
       "   availability            location       size total_sqft  bath  balcony  \\\n",
       "0             1          chamrajpet      2 BHK        650   1.0      1.0   \n",
       "1             1  7th phase jp nagar      3 BHK       1370   2.0      1.0   \n",
       "2             1          whitefield      3 BHK       1725   3.0      2.0   \n",
       "3             1           jalahalli      2 BHK       1000   2.0      0.0   \n",
       "4             1           tc palaya  1 Bedroom       1350   1.0      0.0   \n",
       "\n",
       "   hall  kitchen room_count  \n",
       "0   1.0      1.0          2  \n",
       "1   1.0      1.0          3  \n",
       "2   1.0      1.0          3  \n",
       "3   1.0      1.0          2  \n",
       "4   0.0      0.0          1  "
      ]
     },
     "execution_count": 1590,
     "metadata": {},
     "output_type": "execute_result"
    }
   ],
   "source": [
    "df_test_1.head()"
   ]
  },
  {
   "cell_type": "code",
   "execution_count": 1591,
   "id": "strong-generator",
   "metadata": {},
   "outputs": [
    {
     "data": {
      "text/plain": [
       "availability      0\n",
       "location          0\n",
       "size              0\n",
       "total_sqft        0\n",
       "bath              8\n",
       "balcony         105\n",
       "hall              0\n",
       "kitchen           0\n",
       "room_count        0\n",
       "dtype: int64"
      ]
     },
     "execution_count": 1591,
     "metadata": {},
     "output_type": "execute_result"
    }
   ],
   "source": [
    "df_test_1.isna().sum()"
   ]
  },
  {
   "cell_type": "code",
   "execution_count": 1592,
   "id": "facial-afghanistan",
   "metadata": {},
   "outputs": [],
   "source": [
    "# Filling the NaN values in bath with corresponding median for the respective room size\n",
    "for index, row in df_test_1.iterrows():\n",
    "    if np.isnan(df_test_1.loc[index, 'bath']):\n",
    "        df_test_1.loc[index, 'bath'] = median_bath_df.loc[df_test_1.loc[index,'size']].values[0]\n"
   ]
  },
  {
   "cell_type": "code",
   "execution_count": 1593,
   "id": "bacterial-cowboy",
   "metadata": {},
   "outputs": [],
   "source": [
    "# Filling NaN values with corresponding mean for the respective room size\n",
    "for index, row in df_test_1.iterrows():\n",
    "    if np.isnan(df_test_1.loc[index, 'balcony']):\n",
    "        if df_test_1.loc[index,'size'] in balcony_df.index:\n",
    "            df_test_1.loc[index, 'balcony'] = balcony_df.loc[df_test_1.loc[index,'size']].values[0]\n",
    "        else:\n",
    "            df_test_1.loc[index, 'balcony'] = 0"
   ]
  },
  {
   "cell_type": "code",
   "execution_count": 1594,
   "id": "consolidated-brazil",
   "metadata": {},
   "outputs": [],
   "source": [
    "df_test_1[\"total_sqft\"] = df_test_1[\"total_sqft\"].apply(units_in_sq_ft)"
   ]
  },
  {
   "cell_type": "code",
   "execution_count": 1595,
   "id": "large-survival",
   "metadata": {},
   "outputs": [
    {
     "data": {
      "text/plain": [
       "availability    0\n",
       "location        0\n",
       "size            0\n",
       "total_sqft      0\n",
       "bath            0\n",
       "balcony         0\n",
       "hall            0\n",
       "kitchen         0\n",
       "room_count      0\n",
       "dtype: int64"
      ]
     },
     "execution_count": 1595,
     "metadata": {},
     "output_type": "execute_result"
    }
   ],
   "source": [
    "df_test_1.isna().sum()"
   ]
  },
  {
   "cell_type": "code",
   "execution_count": 1596,
   "id": "fundamental-package",
   "metadata": {},
   "outputs": [
    {
     "data": {
      "text/plain": [
       "<AxesSubplot:xlabel='size', ylabel='bath'>"
      ]
     },
     "execution_count": 1596,
     "metadata": {},
     "output_type": "execute_result"
    },
    {
     "data": {
      "image/png": "[encoded data removed]",
      "text/plain": [
       "<Figure size 1080x720 with 1 Axes>"
      ]
     },
     "metadata": {
      "needs_background": "light"
     },
     "output_type": "display_data"
    }
   ],
   "source": [
    "sns.lineplot(x=df_test_1['size'], y=df_test_1['bath'])"
   ]
  },
  {
   "cell_type": "code",
   "execution_count": 1597,
   "id": "other-exception",
   "metadata": {},
   "outputs": [],
   "source": [
    "df_test_1[['total_sqft','room_count']] = df_test_1[['total_sqft','room_count']].astype(float)\n",
    "df_test_1['room_size'] = np.nan\n",
    "for index, row in df_test_1.iterrows():\n",
    "    if df_test_1.loc[index,'total_sqft']/df_test_1.loc[index,'room_count'] < 300:\n",
    "        df_test_1.loc[index, 'room_size'] = 0\n",
    "    else:\n",
    "        df_test_1.loc[index, 'room_size'] = 1"
   ]
  },
  {
   "cell_type": "code",
   "execution_count": 1598,
   "id": "promising-stylus",
   "metadata": {},
   "outputs": [
    {
     "data": {
      "text/html": [
       "<div>\n",
       "<style scoped>\n",
       "    .dataframe tbody tr th:only-of-type {\n",
       "        vertical-align: middle;\n",
       "    }\n",
       "\n",
       "    .dataframe tbody tr th {\n",
       "        vertical-align: top;\n",
       "    }\n",
       "\n",
       "    .dataframe thead th {\n",
       "        text-align: right;\n",
       "    }\n",
       "</style>\n",
       "<table border=\"1\" class=\"dataframe\">\n",
       "  <thead>\n",
       "    <tr style=\"text-align: right;\">\n",
       "      <th></th>\n",
       "      <th>availability</th>\n",
       "      <th>location</th>\n",
       "      <th>size</th>\n",
       "      <th>total_sqft</th>\n",
       "      <th>bath</th>\n",
       "      <th>balcony</th>\n",
       "      <th>hall</th>\n",
       "      <th>kitchen</th>\n",
       "      <th>room_count</th>\n",
       "      <th>room_size</th>\n",
       "    </tr>\n",
       "  </thead>\n",
       "  <tbody>\n",
       "    <tr>\n",
       "      <th>0</th>\n",
       "      <td>1</td>\n",
       "      <td>chamrajpet</td>\n",
       "      <td>2 BHK</td>\n",
       "      <td>650.0</td>\n",
       "      <td>1.0</td>\n",
       "      <td>1.0</td>\n",
       "      <td>1.0</td>\n",
       "      <td>1.0</td>\n",
       "      <td>2.0</td>\n",
       "      <td>1.0</td>\n",
       "    </tr>\n",
       "    <tr>\n",
       "      <th>1</th>\n",
       "      <td>1</td>\n",
       "      <td>7th phase jp nagar</td>\n",
       "      <td>3 BHK</td>\n",
       "      <td>1370.0</td>\n",
       "      <td>2.0</td>\n",
       "      <td>1.0</td>\n",
       "      <td>1.0</td>\n",
       "      <td>1.0</td>\n",
       "      <td>3.0</td>\n",
       "      <td>1.0</td>\n",
       "    </tr>\n",
       "    <tr>\n",
       "      <th>2</th>\n",
       "      <td>1</td>\n",
       "      <td>whitefield</td>\n",
       "      <td>3 BHK</td>\n",
       "      <td>1725.0</td>\n",
       "      <td>3.0</td>\n",
       "      <td>2.0</td>\n",
       "      <td>1.0</td>\n",
       "      <td>1.0</td>\n",
       "      <td>3.0</td>\n",
       "      <td>1.0</td>\n",
       "    </tr>\n",
       "    <tr>\n",
       "      <th>3</th>\n",
       "      <td>1</td>\n",
       "      <td>jalahalli</td>\n",
       "      <td>2 BHK</td>\n",
       "      <td>1000.0</td>\n",
       "      <td>2.0</td>\n",
       "      <td>0.0</td>\n",
       "      <td>1.0</td>\n",
       "      <td>1.0</td>\n",
       "      <td>2.0</td>\n",
       "      <td>1.0</td>\n",
       "    </tr>\n",
       "    <tr>\n",
       "      <th>4</th>\n",
       "      <td>1</td>\n",
       "      <td>tc palaya</td>\n",
       "      <td>1 Bedroom</td>\n",
       "      <td>1350.0</td>\n",
       "      <td>1.0</td>\n",
       "      <td>0.0</td>\n",
       "      <td>0.0</td>\n",
       "      <td>0.0</td>\n",
       "      <td>1.0</td>\n",
       "      <td>1.0</td>\n",
       "    </tr>\n",
       "  </tbody>\n",
       "</table>\n",
       "</div>"
      ],
      "text/plain": [
       "   availability            location       size  total_sqft  bath  balcony  \\\n",
       "0             1          chamrajpet      2 BHK       650.0   1.0      1.0   \n",
       "1             1  7th phase jp nagar      3 BHK      1370.0   2.0      1.0   \n",
       "2             1          whitefield      3 BHK      1725.0   3.0      2.0   \n",
       "3             1           jalahalli      2 BHK      1000.0   2.0      0.0   \n",
       "4             1           tc palaya  1 Bedroom      1350.0   1.0      0.0   \n",
       "\n",
       "   hall  kitchen  room_count  room_size  \n",
       "0   1.0      1.0         2.0        1.0  \n",
       "1   1.0      1.0         3.0        1.0  \n",
       "2   1.0      1.0         3.0        1.0  \n",
       "3   1.0      1.0         2.0        1.0  \n",
       "4   0.0      0.0         1.0        1.0  "
      ]
     },
     "execution_count": 1598,
     "metadata": {},
     "output_type": "execute_result"
    }
   ],
   "source": [
    "df_test_1.head()"
   ]
  },
  {
   "cell_type": "code",
   "execution_count": 1599,
   "id": "brilliant-parks",
   "metadata": {},
   "outputs": [
    {
     "data": {
      "text/html": [
       "<div>\n",
       "<style scoped>\n",
       "    .dataframe tbody tr th:only-of-type {\n",
       "        vertical-align: middle;\n",
       "    }\n",
       "\n",
       "    .dataframe tbody tr th {\n",
       "        vertical-align: top;\n",
       "    }\n",
       "\n",
       "    .dataframe thead th {\n",
       "        text-align: right;\n",
       "    }\n",
       "</style>\n",
       "<table border=\"1\" class=\"dataframe\">\n",
       "  <thead>\n",
       "    <tr style=\"text-align: right;\">\n",
       "      <th></th>\n",
       "      <th>availability</th>\n",
       "      <th>location</th>\n",
       "      <th>size</th>\n",
       "      <th>total_sqft</th>\n",
       "      <th>bath</th>\n",
       "      <th>balcony</th>\n",
       "      <th>hall</th>\n",
       "      <th>kitchen</th>\n",
       "      <th>room_count</th>\n",
       "      <th>room_size</th>\n",
       "      <th>dist</th>\n",
       "    </tr>\n",
       "  </thead>\n",
       "  <tbody>\n",
       "    <tr>\n",
       "      <th>0</th>\n",
       "      <td>1</td>\n",
       "      <td>chamrajpet</td>\n",
       "      <td>2 BHK</td>\n",
       "      <td>650.0</td>\n",
       "      <td>1.0</td>\n",
       "      <td>1.0</td>\n",
       "      <td>1.0</td>\n",
       "      <td>1.0</td>\n",
       "      <td>2.0</td>\n",
       "      <td>1.0</td>\n",
       "      <td>6.7</td>\n",
       "    </tr>\n",
       "    <tr>\n",
       "      <th>1</th>\n",
       "      <td>1</td>\n",
       "      <td>7th phase jp nagar</td>\n",
       "      <td>3 BHK</td>\n",
       "      <td>1370.0</td>\n",
       "      <td>2.0</td>\n",
       "      <td>1.0</td>\n",
       "      <td>1.0</td>\n",
       "      <td>1.0</td>\n",
       "      <td>3.0</td>\n",
       "      <td>1.0</td>\n",
       "      <td>11.0</td>\n",
       "    </tr>\n",
       "    <tr>\n",
       "      <th>2</th>\n",
       "      <td>1</td>\n",
       "      <td>whitefield</td>\n",
       "      <td>3 BHK</td>\n",
       "      <td>1725.0</td>\n",
       "      <td>3.0</td>\n",
       "      <td>2.0</td>\n",
       "      <td>1.0</td>\n",
       "      <td>1.0</td>\n",
       "      <td>3.0</td>\n",
       "      <td>1.0</td>\n",
       "      <td>17.3</td>\n",
       "    </tr>\n",
       "    <tr>\n",
       "      <th>3</th>\n",
       "      <td>1</td>\n",
       "      <td>jalahalli</td>\n",
       "      <td>2 BHK</td>\n",
       "      <td>1000.0</td>\n",
       "      <td>2.0</td>\n",
       "      <td>0.0</td>\n",
       "      <td>1.0</td>\n",
       "      <td>1.0</td>\n",
       "      <td>2.0</td>\n",
       "      <td>1.0</td>\n",
       "      <td>16.6</td>\n",
       "    </tr>\n",
       "    <tr>\n",
       "      <th>4</th>\n",
       "      <td>1</td>\n",
       "      <td>tc palaya</td>\n",
       "      <td>1 Bedroom</td>\n",
       "      <td>1350.0</td>\n",
       "      <td>1.0</td>\n",
       "      <td>0.0</td>\n",
       "      <td>0.0</td>\n",
       "      <td>0.0</td>\n",
       "      <td>1.0</td>\n",
       "      <td>1.0</td>\n",
       "      <td>12.2</td>\n",
       "    </tr>\n",
       "  </tbody>\n",
       "</table>\n",
       "</div>"
      ],
      "text/plain": [
       "   availability            location       size  total_sqft  bath  balcony  \\\n",
       "0             1          chamrajpet      2 BHK       650.0   1.0      1.0   \n",
       "1             1  7th phase jp nagar      3 BHK      1370.0   2.0      1.0   \n",
       "2             1          whitefield      3 BHK      1725.0   3.0      2.0   \n",
       "3             1           jalahalli      2 BHK      1000.0   2.0      0.0   \n",
       "4             1           tc palaya  1 Bedroom      1350.0   1.0      0.0   \n",
       "\n",
       "   hall  kitchen  room_count  room_size  dist  \n",
       "0   1.0      1.0         2.0        1.0   6.7  \n",
       "1   1.0      1.0         3.0        1.0  11.0  \n",
       "2   1.0      1.0         3.0        1.0  17.3  \n",
       "3   1.0      1.0         2.0        1.0  16.6  \n",
       "4   0.0      0.0         1.0        1.0  12.2  "
      ]
     },
     "execution_count": 1599,
     "metadata": {},
     "output_type": "execute_result"
    }
   ],
   "source": [
    "df_test_1['dist'] = df_test_1['location'].apply(get_dist)\n",
    "# Doing min-max scaling on the dist column which is remaining\n",
    "# min_val = df_test_1['dist'].min()\n",
    "# max_val = df_test_1['dist'].max()\n",
    "\n",
    "# df_test_1['dist'] = df_test_1['dist'].apply(min_max_scale, args=(min_val,max_val))\n",
    "df_test_1.head()"
   ]
  },
  {
   "cell_type": "code",
   "execution_count": 1600,
   "id": "seven-hypothesis",
   "metadata": {},
   "outputs": [],
   "source": [
    "df_test_num = df_test_1.select_dtypes(include=np.number)\n",
    "min_max_scaler = preprocessing.MinMaxScaler()\n",
    "df_test_num_scaled = min_max_scaler.fit_transform(df_test_num.values)\n",
    "scaled_test_df = pd.DataFrame(df_test_num_scaled, columns=df_test_num.columns, index=df_test_num.index)"
   ]
  },
  {
   "cell_type": "code",
   "execution_count": 1601,
   "id": "adapted-wildlife",
   "metadata": {},
   "outputs": [
    {
     "data": {
      "text/html": [
       "<div>\n",
       "<style scoped>\n",
       "    .dataframe tbody tr th:only-of-type {\n",
       "        vertical-align: middle;\n",
       "    }\n",
       "\n",
       "    .dataframe tbody tr th {\n",
       "        vertical-align: top;\n",
       "    }\n",
       "\n",
       "    .dataframe thead th {\n",
       "        text-align: right;\n",
       "    }\n",
       "</style>\n",
       "<table border=\"1\" class=\"dataframe\">\n",
       "  <thead>\n",
       "    <tr style=\"text-align: right;\">\n",
       "      <th></th>\n",
       "      <th>availability</th>\n",
       "      <th>total_sqft</th>\n",
       "      <th>bath</th>\n",
       "      <th>balcony</th>\n",
       "      <th>hall</th>\n",
       "      <th>kitchen</th>\n",
       "      <th>room_count</th>\n",
       "      <th>room_size</th>\n",
       "      <th>dist</th>\n",
       "    </tr>\n",
       "  </thead>\n",
       "  <tbody>\n",
       "    <tr>\n",
       "      <th>0</th>\n",
       "      <td>1.0</td>\n",
       "      <td>0.002258</td>\n",
       "      <td>0.000000</td>\n",
       "      <td>0.333333</td>\n",
       "      <td>1.0</td>\n",
       "      <td>1.0</td>\n",
       "      <td>0.058824</td>\n",
       "      <td>1.0</td>\n",
       "      <td>0.104803</td>\n",
       "    </tr>\n",
       "    <tr>\n",
       "      <th>1</th>\n",
       "      <td>1.0</td>\n",
       "      <td>0.005013</td>\n",
       "      <td>0.058824</td>\n",
       "      <td>0.333333</td>\n",
       "      <td>1.0</td>\n",
       "      <td>1.0</td>\n",
       "      <td>0.117647</td>\n",
       "      <td>1.0</td>\n",
       "      <td>0.198690</td>\n",
       "    </tr>\n",
       "    <tr>\n",
       "      <th>2</th>\n",
       "      <td>1.0</td>\n",
       "      <td>0.006372</td>\n",
       "      <td>0.117647</td>\n",
       "      <td>0.666667</td>\n",
       "      <td>1.0</td>\n",
       "      <td>1.0</td>\n",
       "      <td>0.117647</td>\n",
       "      <td>1.0</td>\n",
       "      <td>0.336245</td>\n",
       "    </tr>\n",
       "    <tr>\n",
       "      <th>3</th>\n",
       "      <td>1.0</td>\n",
       "      <td>0.003597</td>\n",
       "      <td>0.058824</td>\n",
       "      <td>0.000000</td>\n",
       "      <td>1.0</td>\n",
       "      <td>1.0</td>\n",
       "      <td>0.058824</td>\n",
       "      <td>1.0</td>\n",
       "      <td>0.320961</td>\n",
       "    </tr>\n",
       "    <tr>\n",
       "      <th>4</th>\n",
       "      <td>1.0</td>\n",
       "      <td>0.004937</td>\n",
       "      <td>0.000000</td>\n",
       "      <td>0.000000</td>\n",
       "      <td>0.0</td>\n",
       "      <td>0.0</td>\n",
       "      <td>0.000000</td>\n",
       "      <td>1.0</td>\n",
       "      <td>0.224891</td>\n",
       "    </tr>\n",
       "  </tbody>\n",
       "</table>\n",
       "</div>"
      ],
      "text/plain": [
       "   availability  total_sqft      bath   balcony  hall  kitchen  room_count  \\\n",
       "0           1.0    0.002258  0.000000  0.333333   1.0      1.0    0.058824   \n",
       "1           1.0    0.005013  0.058824  0.333333   1.0      1.0    0.117647   \n",
       "2           1.0    0.006372  0.117647  0.666667   1.0      1.0    0.117647   \n",
       "3           1.0    0.003597  0.058824  0.000000   1.0      1.0    0.058824   \n",
       "4           1.0    0.004937  0.000000  0.000000   0.0      0.0    0.000000   \n",
       "\n",
       "   room_size      dist  \n",
       "0        1.0  0.104803  \n",
       "1        1.0  0.198690  \n",
       "2        1.0  0.336245  \n",
       "3        1.0  0.320961  \n",
       "4        1.0  0.224891  "
      ]
     },
     "execution_count": 1601,
     "metadata": {},
     "output_type": "execute_result"
    }
   ],
   "source": [
    "scaled_test_df.head()"
   ]
  },
  {
   "cell_type": "code",
   "execution_count": 1602,
   "id": "thorough-receiver",
   "metadata": {},
   "outputs": [
    {
     "data": {
      "text/html": [
       "<div>\n",
       "<style scoped>\n",
       "    .dataframe tbody tr th:only-of-type {\n",
       "        vertical-align: middle;\n",
       "    }\n",
       "\n",
       "    .dataframe tbody tr th {\n",
       "        vertical-align: top;\n",
       "    }\n",
       "\n",
       "    .dataframe thead th {\n",
       "        text-align: right;\n",
       "    }\n",
       "</style>\n",
       "<table border=\"1\" class=\"dataframe\">\n",
       "  <thead>\n",
       "    <tr style=\"text-align: right;\">\n",
       "      <th></th>\n",
       "      <th>location</th>\n",
       "      <th>size</th>\n",
       "      <th>availability</th>\n",
       "      <th>total_sqft</th>\n",
       "      <th>bath</th>\n",
       "      <th>balcony</th>\n",
       "      <th>hall</th>\n",
       "      <th>kitchen</th>\n",
       "      <th>room_count</th>\n",
       "      <th>room_size</th>\n",
       "      <th>dist</th>\n",
       "    </tr>\n",
       "  </thead>\n",
       "  <tbody>\n",
       "    <tr>\n",
       "      <th>0</th>\n",
       "      <td>chamrajpet</td>\n",
       "      <td>2 BHK</td>\n",
       "      <td>1.0</td>\n",
       "      <td>0.002258</td>\n",
       "      <td>0.000000</td>\n",
       "      <td>0.333333</td>\n",
       "      <td>1.0</td>\n",
       "      <td>1.0</td>\n",
       "      <td>0.058824</td>\n",
       "      <td>1.0</td>\n",
       "      <td>0.104803</td>\n",
       "    </tr>\n",
       "    <tr>\n",
       "      <th>1</th>\n",
       "      <td>7th phase jp nagar</td>\n",
       "      <td>3 BHK</td>\n",
       "      <td>1.0</td>\n",
       "      <td>0.005013</td>\n",
       "      <td>0.058824</td>\n",
       "      <td>0.333333</td>\n",
       "      <td>1.0</td>\n",
       "      <td>1.0</td>\n",
       "      <td>0.117647</td>\n",
       "      <td>1.0</td>\n",
       "      <td>0.198690</td>\n",
       "    </tr>\n",
       "    <tr>\n",
       "      <th>2</th>\n",
       "      <td>whitefield</td>\n",
       "      <td>3 BHK</td>\n",
       "      <td>1.0</td>\n",
       "      <td>0.006372</td>\n",
       "      <td>0.117647</td>\n",
       "      <td>0.666667</td>\n",
       "      <td>1.0</td>\n",
       "      <td>1.0</td>\n",
       "      <td>0.117647</td>\n",
       "      <td>1.0</td>\n",
       "      <td>0.336245</td>\n",
       "    </tr>\n",
       "    <tr>\n",
       "      <th>3</th>\n",
       "      <td>jalahalli</td>\n",
       "      <td>2 BHK</td>\n",
       "      <td>1.0</td>\n",
       "      <td>0.003597</td>\n",
       "      <td>0.058824</td>\n",
       "      <td>0.000000</td>\n",
       "      <td>1.0</td>\n",
       "      <td>1.0</td>\n",
       "      <td>0.058824</td>\n",
       "      <td>1.0</td>\n",
       "      <td>0.320961</td>\n",
       "    </tr>\n",
       "    <tr>\n",
       "      <th>4</th>\n",
       "      <td>tc palaya</td>\n",
       "      <td>1 Bedroom</td>\n",
       "      <td>1.0</td>\n",
       "      <td>0.004937</td>\n",
       "      <td>0.000000</td>\n",
       "      <td>0.000000</td>\n",
       "      <td>0.0</td>\n",
       "      <td>0.0</td>\n",
       "      <td>0.000000</td>\n",
       "      <td>1.0</td>\n",
       "      <td>0.224891</td>\n",
       "    </tr>\n",
       "  </tbody>\n",
       "</table>\n",
       "</div>"
      ],
      "text/plain": [
       "             location       size  availability  total_sqft      bath  \\\n",
       "0          chamrajpet      2 BHK           1.0    0.002258  0.000000   \n",
       "1  7th phase jp nagar      3 BHK           1.0    0.005013  0.058824   \n",
       "2          whitefield      3 BHK           1.0    0.006372  0.117647   \n",
       "3           jalahalli      2 BHK           1.0    0.003597  0.058824   \n",
       "4           tc palaya  1 Bedroom           1.0    0.004937  0.000000   \n",
       "\n",
       "    balcony  hall  kitchen  room_count  room_size      dist  \n",
       "0  0.333333   1.0      1.0    0.058824        1.0  0.104803  \n",
       "1  0.333333   1.0      1.0    0.117647        1.0  0.198690  \n",
       "2  0.666667   1.0      1.0    0.117647        1.0  0.336245  \n",
       "3  0.000000   1.0      1.0    0.058824        1.0  0.320961  \n",
       "4  0.000000   0.0      0.0    0.000000        1.0  0.224891  "
      ]
     },
     "execution_count": 1602,
     "metadata": {},
     "output_type": "execute_result"
    }
   ],
   "source": [
    "df_test_normalized = pd.concat([df_test_1.select_dtypes(exclude=np.number), scaled_test_df], axis=1)\n",
    "df_test_normalized.head()"
   ]
  },
  {
   "cell_type": "code",
   "execution_count": 1603,
   "id": "divine-rating",
   "metadata": {},
   "outputs": [],
   "source": [
    "df_test_normalized[\"location\"] = df_test_normalized[\"location\"].apply(lambda x: x.lower().strip().replace('  ', ' '))\n",
    "df_test_normalized['location'] = df_test_normalized['location'].apply(lambda x: x if x in set_location_in_both_train_test_data else 'other')"
   ]
  },
  {
   "cell_type": "code",
   "execution_count": 1604,
   "id": "effective-classification",
   "metadata": {},
   "outputs": [
    {
     "data": {
      "text/plain": [
       "495"
      ]
     },
     "execution_count": 1604,
     "metadata": {},
     "output_type": "execute_result"
    }
   ],
   "source": [
    "len(df_test_normalized['location'].unique())"
   ]
  },
  {
   "cell_type": "code",
   "execution_count": 1605,
   "id": "interstate-scientist",
   "metadata": {},
   "outputs": [
    {
     "data": {
      "text/plain": [
       "location        0\n",
       "size            0\n",
       "availability    0\n",
       "total_sqft      0\n",
       "bath            0\n",
       "balcony         0\n",
       "hall            0\n",
       "kitchen         0\n",
       "room_count      0\n",
       "room_size       0\n",
       "dist            0\n",
       "dtype: int64"
      ]
     },
     "execution_count": 1605,
     "metadata": {},
     "output_type": "execute_result"
    }
   ],
   "source": [
    "df_test_normalized.isna().sum()"
   ]
  },
  {
   "cell_type": "code",
   "execution_count": 1606,
   "id": "medical-slide",
   "metadata": {},
   "outputs": [],
   "source": [
    "df_test_normalized['interaction'] = df_test_normalized['bath'] * df_test_normalized['dist']"
   ]
  },
  {
   "cell_type": "code",
   "execution_count": 1607,
   "id": "negative-indonesian",
   "metadata": {},
   "outputs": [
    {
     "data": {
      "text/html": [
       "<div>\n",
       "<style scoped>\n",
       "    .dataframe tbody tr th:only-of-type {\n",
       "        vertical-align: middle;\n",
       "    }\n",
       "\n",
       "    .dataframe tbody tr th {\n",
       "        vertical-align: top;\n",
       "    }\n",
       "\n",
       "    .dataframe thead th {\n",
       "        text-align: right;\n",
       "    }\n",
       "</style>\n",
       "<table border=\"1\" class=\"dataframe\">\n",
       "  <thead>\n",
       "    <tr style=\"text-align: right;\">\n",
       "      <th></th>\n",
       "      <th>location</th>\n",
       "      <th>size</th>\n",
       "      <th>availability</th>\n",
       "      <th>total_sqft</th>\n",
       "      <th>bath</th>\n",
       "      <th>balcony</th>\n",
       "      <th>hall</th>\n",
       "      <th>kitchen</th>\n",
       "      <th>room_count</th>\n",
       "      <th>room_size</th>\n",
       "      <th>dist</th>\n",
       "      <th>interaction</th>\n",
       "    </tr>\n",
       "  </thead>\n",
       "  <tbody>\n",
       "    <tr>\n",
       "      <th>0</th>\n",
       "      <td>chamrajpet</td>\n",
       "      <td>2 BHK</td>\n",
       "      <td>1.0</td>\n",
       "      <td>0.002258</td>\n",
       "      <td>0.000000</td>\n",
       "      <td>0.333333</td>\n",
       "      <td>1.0</td>\n",
       "      <td>1.0</td>\n",
       "      <td>0.058824</td>\n",
       "      <td>1.0</td>\n",
       "      <td>0.104803</td>\n",
       "      <td>0.000000</td>\n",
       "    </tr>\n",
       "    <tr>\n",
       "      <th>1</th>\n",
       "      <td>7th phase jp nagar</td>\n",
       "      <td>3 BHK</td>\n",
       "      <td>1.0</td>\n",
       "      <td>0.005013</td>\n",
       "      <td>0.058824</td>\n",
       "      <td>0.333333</td>\n",
       "      <td>1.0</td>\n",
       "      <td>1.0</td>\n",
       "      <td>0.117647</td>\n",
       "      <td>1.0</td>\n",
       "      <td>0.198690</td>\n",
       "      <td>0.011688</td>\n",
       "    </tr>\n",
       "    <tr>\n",
       "      <th>2</th>\n",
       "      <td>whitefield</td>\n",
       "      <td>3 BHK</td>\n",
       "      <td>1.0</td>\n",
       "      <td>0.006372</td>\n",
       "      <td>0.117647</td>\n",
       "      <td>0.666667</td>\n",
       "      <td>1.0</td>\n",
       "      <td>1.0</td>\n",
       "      <td>0.117647</td>\n",
       "      <td>1.0</td>\n",
       "      <td>0.336245</td>\n",
       "      <td>0.039558</td>\n",
       "    </tr>\n",
       "    <tr>\n",
       "      <th>3</th>\n",
       "      <td>jalahalli</td>\n",
       "      <td>2 BHK</td>\n",
       "      <td>1.0</td>\n",
       "      <td>0.003597</td>\n",
       "      <td>0.058824</td>\n",
       "      <td>0.000000</td>\n",
       "      <td>1.0</td>\n",
       "      <td>1.0</td>\n",
       "      <td>0.058824</td>\n",
       "      <td>1.0</td>\n",
       "      <td>0.320961</td>\n",
       "      <td>0.018880</td>\n",
       "    </tr>\n",
       "    <tr>\n",
       "      <th>4</th>\n",
       "      <td>tc palaya</td>\n",
       "      <td>1 Bedroom</td>\n",
       "      <td>1.0</td>\n",
       "      <td>0.004937</td>\n",
       "      <td>0.000000</td>\n",
       "      <td>0.000000</td>\n",
       "      <td>0.0</td>\n",
       "      <td>0.0</td>\n",
       "      <td>0.000000</td>\n",
       "      <td>1.0</td>\n",
       "      <td>0.224891</td>\n",
       "      <td>0.000000</td>\n",
       "    </tr>\n",
       "  </tbody>\n",
       "</table>\n",
       "</div>"
      ],
      "text/plain": [
       "             location       size  availability  total_sqft      bath  \\\n",
       "0          chamrajpet      2 BHK           1.0    0.002258  0.000000   \n",
       "1  7th phase jp nagar      3 BHK           1.0    0.005013  0.058824   \n",
       "2          whitefield      3 BHK           1.0    0.006372  0.117647   \n",
       "3           jalahalli      2 BHK           1.0    0.003597  0.058824   \n",
       "4           tc palaya  1 Bedroom           1.0    0.004937  0.000000   \n",
       "\n",
       "    balcony  hall  kitchen  room_count  room_size      dist  interaction  \n",
       "0  0.333333   1.0      1.0    0.058824        1.0  0.104803     0.000000  \n",
       "1  0.333333   1.0      1.0    0.117647        1.0  0.198690     0.011688  \n",
       "2  0.666667   1.0      1.0    0.117647        1.0  0.336245     0.039558  \n",
       "3  0.000000   1.0      1.0    0.058824        1.0  0.320961     0.018880  \n",
       "4  0.000000   0.0      0.0    0.000000        1.0  0.224891     0.000000  "
      ]
     },
     "execution_count": 1607,
     "metadata": {},
     "output_type": "execute_result"
    }
   ],
   "source": [
    "df_test_normalized.head()"
   ]
  },
  {
   "cell_type": "code",
   "execution_count": 1608,
   "id": "irish-subscriber",
   "metadata": {},
   "outputs": [
    {
     "data": {
      "text/html": [
       "<div>\n",
       "<style scoped>\n",
       "    .dataframe tbody tr th:only-of-type {\n",
       "        vertical-align: middle;\n",
       "    }\n",
       "\n",
       "    .dataframe tbody tr th {\n",
       "        vertical-align: top;\n",
       "    }\n",
       "\n",
       "    .dataframe thead th {\n",
       "        text-align: right;\n",
       "    }\n",
       "</style>\n",
       "<table border=\"1\" class=\"dataframe\">\n",
       "  <thead>\n",
       "    <tr style=\"text-align: right;\">\n",
       "      <th></th>\n",
       "      <th>availability</th>\n",
       "      <th>total_sqft</th>\n",
       "      <th>bath</th>\n",
       "      <th>balcony</th>\n",
       "      <th>room_size</th>\n",
       "      <th>dist</th>\n",
       "      <th>interaction</th>\n",
       "      <th>size_1 BHK</th>\n",
       "      <th>size_1 Bedroom</th>\n",
       "      <th>size_10 Bedroom</th>\n",
       "      <th>...</th>\n",
       "      <th>size_5 BHK</th>\n",
       "      <th>size_5 Bedroom</th>\n",
       "      <th>size_6 BHK</th>\n",
       "      <th>size_6 Bedroom</th>\n",
       "      <th>size_7 BHK</th>\n",
       "      <th>size_7 Bedroom</th>\n",
       "      <th>size_8 BHK</th>\n",
       "      <th>size_8 Bedroom</th>\n",
       "      <th>size_9 BHK</th>\n",
       "      <th>size_9 Bedroom</th>\n",
       "    </tr>\n",
       "  </thead>\n",
       "  <tbody>\n",
       "    <tr>\n",
       "      <th>0</th>\n",
       "      <td>1.0</td>\n",
       "      <td>0.002258</td>\n",
       "      <td>0.000000</td>\n",
       "      <td>0.333333</td>\n",
       "      <td>1.0</td>\n",
       "      <td>0.104803</td>\n",
       "      <td>0.000000</td>\n",
       "      <td>0</td>\n",
       "      <td>0</td>\n",
       "      <td>0</td>\n",
       "      <td>...</td>\n",
       "      <td>0</td>\n",
       "      <td>0</td>\n",
       "      <td>0</td>\n",
       "      <td>0</td>\n",
       "      <td>0</td>\n",
       "      <td>0</td>\n",
       "      <td>0</td>\n",
       "      <td>0</td>\n",
       "      <td>0</td>\n",
       "      <td>0</td>\n",
       "    </tr>\n",
       "    <tr>\n",
       "      <th>1</th>\n",
       "      <td>1.0</td>\n",
       "      <td>0.005013</td>\n",
       "      <td>0.058824</td>\n",
       "      <td>0.333333</td>\n",
       "      <td>1.0</td>\n",
       "      <td>0.198690</td>\n",
       "      <td>0.011688</td>\n",
       "      <td>0</td>\n",
       "      <td>0</td>\n",
       "      <td>0</td>\n",
       "      <td>...</td>\n",
       "      <td>0</td>\n",
       "      <td>0</td>\n",
       "      <td>0</td>\n",
       "      <td>0</td>\n",
       "      <td>0</td>\n",
       "      <td>0</td>\n",
       "      <td>0</td>\n",
       "      <td>0</td>\n",
       "      <td>0</td>\n",
       "      <td>0</td>\n",
       "    </tr>\n",
       "    <tr>\n",
       "      <th>2</th>\n",
       "      <td>1.0</td>\n",
       "      <td>0.006372</td>\n",
       "      <td>0.117647</td>\n",
       "      <td>0.666667</td>\n",
       "      <td>1.0</td>\n",
       "      <td>0.336245</td>\n",
       "      <td>0.039558</td>\n",
       "      <td>0</td>\n",
       "      <td>0</td>\n",
       "      <td>0</td>\n",
       "      <td>...</td>\n",
       "      <td>0</td>\n",
       "      <td>0</td>\n",
       "      <td>0</td>\n",
       "      <td>0</td>\n",
       "      <td>0</td>\n",
       "      <td>0</td>\n",
       "      <td>0</td>\n",
       "      <td>0</td>\n",
       "      <td>0</td>\n",
       "      <td>0</td>\n",
       "    </tr>\n",
       "    <tr>\n",
       "      <th>3</th>\n",
       "      <td>1.0</td>\n",
       "      <td>0.003597</td>\n",
       "      <td>0.058824</td>\n",
       "      <td>0.000000</td>\n",
       "      <td>1.0</td>\n",
       "      <td>0.320961</td>\n",
       "      <td>0.018880</td>\n",
       "      <td>0</td>\n",
       "      <td>0</td>\n",
       "      <td>0</td>\n",
       "      <td>...</td>\n",
       "      <td>0</td>\n",
       "      <td>0</td>\n",
       "      <td>0</td>\n",
       "      <td>0</td>\n",
       "      <td>0</td>\n",
       "      <td>0</td>\n",
       "      <td>0</td>\n",
       "      <td>0</td>\n",
       "      <td>0</td>\n",
       "      <td>0</td>\n",
       "    </tr>\n",
       "    <tr>\n",
       "      <th>4</th>\n",
       "      <td>1.0</td>\n",
       "      <td>0.004937</td>\n",
       "      <td>0.000000</td>\n",
       "      <td>0.000000</td>\n",
       "      <td>1.0</td>\n",
       "      <td>0.224891</td>\n",
       "      <td>0.000000</td>\n",
       "      <td>0</td>\n",
       "      <td>1</td>\n",
       "      <td>0</td>\n",
       "      <td>...</td>\n",
       "      <td>0</td>\n",
       "      <td>0</td>\n",
       "      <td>0</td>\n",
       "      <td>0</td>\n",
       "      <td>0</td>\n",
       "      <td>0</td>\n",
       "      <td>0</td>\n",
       "      <td>0</td>\n",
       "      <td>0</td>\n",
       "      <td>0</td>\n",
       "    </tr>\n",
       "  </tbody>\n",
       "</table>\n",
       "<p>5 rows × 27 columns</p>\n",
       "</div>"
      ],
      "text/plain": [
       "   availability  total_sqft      bath   balcony  room_size      dist  \\\n",
       "0           1.0    0.002258  0.000000  0.333333        1.0  0.104803   \n",
       "1           1.0    0.005013  0.058824  0.333333        1.0  0.198690   \n",
       "2           1.0    0.006372  0.117647  0.666667        1.0  0.336245   \n",
       "3           1.0    0.003597  0.058824  0.000000        1.0  0.320961   \n",
       "4           1.0    0.004937  0.000000  0.000000        1.0  0.224891   \n",
       "\n",
       "   interaction  size_1 BHK  size_1 Bedroom  size_10 Bedroom  ...  size_5 BHK  \\\n",
       "0     0.000000           0               0                0  ...           0   \n",
       "1     0.011688           0               0                0  ...           0   \n",
       "2     0.039558           0               0                0  ...           0   \n",
       "3     0.018880           0               0                0  ...           0   \n",
       "4     0.000000           0               1                0  ...           0   \n",
       "\n",
       "   size_5 Bedroom  size_6 BHK  size_6 Bedroom  size_7 BHK  size_7 Bedroom  \\\n",
       "0               0           0               0           0               0   \n",
       "1               0           0               0           0               0   \n",
       "2               0           0               0           0               0   \n",
       "3               0           0               0           0               0   \n",
       "4               0           0               0           0               0   \n",
       "\n",
       "   size_8 BHK  size_8 Bedroom  size_9 BHK  size_9 Bedroom  \n",
       "0           0               0           0               0  \n",
       "1           0               0           0               0  \n",
       "2           0               0           0               0  \n",
       "3           0               0           0               0  \n",
       "4           0               0           0               0  \n",
       "\n",
       "[5 rows x 27 columns]"
      ]
     },
     "execution_count": 1608,
     "metadata": {},
     "output_type": "execute_result"
    }
   ],
   "source": [
    "dummies = pd.get_dummies(data=df_test_normalized.drop(columns=['location']), columns=['size'])\n",
    "# dummies.drop(columns=['location_other'], inplace=True)\n",
    "dummies.drop(columns=[\"hall\",\"kitchen\",\"room_count\"], inplace=True)\n",
    "dummies.head()"
   ]
  },
  {
   "cell_type": "code",
   "execution_count": 1609,
   "id": "weekly-publication",
   "metadata": {},
   "outputs": [
    {
     "data": {
      "text/html": [
       "<div>\n",
       "<style scoped>\n",
       "    .dataframe tbody tr th:only-of-type {\n",
       "        vertical-align: middle;\n",
       "    }\n",
       "\n",
       "    .dataframe tbody tr th {\n",
       "        vertical-align: top;\n",
       "    }\n",
       "\n",
       "    .dataframe thead th {\n",
       "        text-align: right;\n",
       "    }\n",
       "</style>\n",
       "<table border=\"1\" class=\"dataframe\">\n",
       "  <thead>\n",
       "    <tr style=\"text-align: right;\">\n",
       "      <th></th>\n",
       "      <th>availability</th>\n",
       "      <th>total_sqft</th>\n",
       "      <th>bath</th>\n",
       "      <th>balcony</th>\n",
       "      <th>room_size</th>\n",
       "      <th>dist</th>\n",
       "      <th>interaction</th>\n",
       "      <th>size_1 BHK</th>\n",
       "      <th>size_1 Bedroom</th>\n",
       "      <th>size_10 Bedroom</th>\n",
       "      <th>...</th>\n",
       "      <th>size_5 BHK</th>\n",
       "      <th>size_5 Bedroom</th>\n",
       "      <th>size_6 BHK</th>\n",
       "      <th>size_6 Bedroom</th>\n",
       "      <th>size_7 BHK</th>\n",
       "      <th>size_7 Bedroom</th>\n",
       "      <th>size_8 BHK</th>\n",
       "      <th>size_8 Bedroom</th>\n",
       "      <th>size_9 BHK</th>\n",
       "      <th>size_9 Bedroom</th>\n",
       "    </tr>\n",
       "  </thead>\n",
       "  <tbody>\n",
       "    <tr>\n",
       "      <th>0</th>\n",
       "      <td>1.0</td>\n",
       "      <td>0.002258</td>\n",
       "      <td>0.000000</td>\n",
       "      <td>0.333333</td>\n",
       "      <td>1.0</td>\n",
       "      <td>0.104803</td>\n",
       "      <td>0.000000</td>\n",
       "      <td>0</td>\n",
       "      <td>0</td>\n",
       "      <td>0</td>\n",
       "      <td>...</td>\n",
       "      <td>0</td>\n",
       "      <td>0</td>\n",
       "      <td>0</td>\n",
       "      <td>0</td>\n",
       "      <td>0</td>\n",
       "      <td>0</td>\n",
       "      <td>0</td>\n",
       "      <td>0</td>\n",
       "      <td>0</td>\n",
       "      <td>0</td>\n",
       "    </tr>\n",
       "    <tr>\n",
       "      <th>1</th>\n",
       "      <td>1.0</td>\n",
       "      <td>0.005013</td>\n",
       "      <td>0.058824</td>\n",
       "      <td>0.333333</td>\n",
       "      <td>1.0</td>\n",
       "      <td>0.198690</td>\n",
       "      <td>0.011688</td>\n",
       "      <td>0</td>\n",
       "      <td>0</td>\n",
       "      <td>0</td>\n",
       "      <td>...</td>\n",
       "      <td>0</td>\n",
       "      <td>0</td>\n",
       "      <td>0</td>\n",
       "      <td>0</td>\n",
       "      <td>0</td>\n",
       "      <td>0</td>\n",
       "      <td>0</td>\n",
       "      <td>0</td>\n",
       "      <td>0</td>\n",
       "      <td>0</td>\n",
       "    </tr>\n",
       "    <tr>\n",
       "      <th>2</th>\n",
       "      <td>1.0</td>\n",
       "      <td>0.006372</td>\n",
       "      <td>0.117647</td>\n",
       "      <td>0.666667</td>\n",
       "      <td>1.0</td>\n",
       "      <td>0.336245</td>\n",
       "      <td>0.039558</td>\n",
       "      <td>0</td>\n",
       "      <td>0</td>\n",
       "      <td>0</td>\n",
       "      <td>...</td>\n",
       "      <td>0</td>\n",
       "      <td>0</td>\n",
       "      <td>0</td>\n",
       "      <td>0</td>\n",
       "      <td>0</td>\n",
       "      <td>0</td>\n",
       "      <td>0</td>\n",
       "      <td>0</td>\n",
       "      <td>0</td>\n",
       "      <td>0</td>\n",
       "    </tr>\n",
       "    <tr>\n",
       "      <th>3</th>\n",
       "      <td>1.0</td>\n",
       "      <td>0.003597</td>\n",
       "      <td>0.058824</td>\n",
       "      <td>0.000000</td>\n",
       "      <td>1.0</td>\n",
       "      <td>0.320961</td>\n",
       "      <td>0.018880</td>\n",
       "      <td>0</td>\n",
       "      <td>0</td>\n",
       "      <td>0</td>\n",
       "      <td>...</td>\n",
       "      <td>0</td>\n",
       "      <td>0</td>\n",
       "      <td>0</td>\n",
       "      <td>0</td>\n",
       "      <td>0</td>\n",
       "      <td>0</td>\n",
       "      <td>0</td>\n",
       "      <td>0</td>\n",
       "      <td>0</td>\n",
       "      <td>0</td>\n",
       "    </tr>\n",
       "    <tr>\n",
       "      <th>4</th>\n",
       "      <td>1.0</td>\n",
       "      <td>0.004937</td>\n",
       "      <td>0.000000</td>\n",
       "      <td>0.000000</td>\n",
       "      <td>1.0</td>\n",
       "      <td>0.224891</td>\n",
       "      <td>0.000000</td>\n",
       "      <td>0</td>\n",
       "      <td>1</td>\n",
       "      <td>0</td>\n",
       "      <td>...</td>\n",
       "      <td>0</td>\n",
       "      <td>0</td>\n",
       "      <td>0</td>\n",
       "      <td>0</td>\n",
       "      <td>0</td>\n",
       "      <td>0</td>\n",
       "      <td>0</td>\n",
       "      <td>0</td>\n",
       "      <td>0</td>\n",
       "      <td>0</td>\n",
       "    </tr>\n",
       "  </tbody>\n",
       "</table>\n",
       "<p>5 rows × 27 columns</p>\n",
       "</div>"
      ],
      "text/plain": [
       "   availability  total_sqft      bath   balcony  room_size      dist  \\\n",
       "0           1.0    0.002258  0.000000  0.333333        1.0  0.104803   \n",
       "1           1.0    0.005013  0.058824  0.333333        1.0  0.198690   \n",
       "2           1.0    0.006372  0.117647  0.666667        1.0  0.336245   \n",
       "3           1.0    0.003597  0.058824  0.000000        1.0  0.320961   \n",
       "4           1.0    0.004937  0.000000  0.000000        1.0  0.224891   \n",
       "\n",
       "   interaction  size_1 BHK  size_1 Bedroom  size_10 Bedroom  ...  size_5 BHK  \\\n",
       "0     0.000000           0               0                0  ...           0   \n",
       "1     0.011688           0               0                0  ...           0   \n",
       "2     0.039558           0               0                0  ...           0   \n",
       "3     0.018880           0               0                0  ...           0   \n",
       "4     0.000000           0               1                0  ...           0   \n",
       "\n",
       "   size_5 Bedroom  size_6 BHK  size_6 Bedroom  size_7 BHK  size_7 Bedroom  \\\n",
       "0               0           0               0           0               0   \n",
       "1               0           0               0           0               0   \n",
       "2               0           0               0           0               0   \n",
       "3               0           0               0           0               0   \n",
       "4               0           0               0           0               0   \n",
       "\n",
       "   size_8 BHK  size_8 Bedroom  size_9 BHK  size_9 Bedroom  \n",
       "0           0               0           0               0  \n",
       "1           0               0           0               0  \n",
       "2           0               0           0               0  \n",
       "3           0               0           0               0  \n",
       "4           0               0           0               0  \n",
       "\n",
       "[5 rows x 27 columns]"
      ]
     },
     "execution_count": 1609,
     "metadata": {},
     "output_type": "execute_result"
    }
   ],
   "source": [
    "df_test_2 = dummies.copy()\n",
    "df_test_2.head()"
   ]
  },
  {
   "cell_type": "code",
   "execution_count": 1610,
   "id": "liable-works",
   "metadata": {},
   "outputs": [
    {
     "data": {
      "text/plain": [
       "(2664, 27)"
      ]
     },
     "execution_count": 1610,
     "metadata": {},
     "output_type": "execute_result"
    }
   ],
   "source": [
    "df_test_2.shape"
   ]
  },
  {
   "cell_type": "code",
   "execution_count": 1611,
   "id": "hindu-premiere",
   "metadata": {},
   "outputs": [
    {
     "data": {
      "text/plain": [
       "array(['2 BHK', '3 BHK', '1 Bedroom', '4 Bedroom', '1 BHK', '5 Bedroom',\n",
       "       '2 Bedroom', '9 Bedroom', '4 BHK', '6 Bedroom', '3 Bedroom',\n",
       "       '6 BHK', '8 Bedroom', '7 Bedroom', '5 BHK', '7 BHK', '10 Bedroom',\n",
       "       '8 BHK', '18 Bedroom', '9 BHK'], dtype=object)"
      ]
     },
     "execution_count": 1611,
     "metadata": {},
     "output_type": "execute_result"
    }
   ],
   "source": [
    "df_test_normalized['size'].unique()"
   ]
  },
  {
   "cell_type": "code",
   "execution_count": 1612,
   "id": "finnish-ridge",
   "metadata": {},
   "outputs": [
    {
     "data": {
      "text/plain": [
       "array(['2 BHK', '3 BHK', '2 Bedroom', '1 BHK', '3 Bedroom', '4 BHK',\n",
       "       '4 Bedroom', '5 Bedroom', '8 Bedroom', '7 Bedroom', '10 Bedroom',\n",
       "       '6 BHK', '6 Bedroom', '5 BHK', '9 BHK', '9 Bedroom', '1 Bedroom',\n",
       "       '7 BHK', '8 BHK', '10 BHK'], dtype=object)"
      ]
     },
     "execution_count": 1612,
     "metadata": {},
     "output_type": "execute_result"
    }
   ],
   "source": [
    "df_3['size'].unique()"
   ]
  },
  {
   "cell_type": "code",
   "execution_count": 1613,
   "id": "racial-mambo",
   "metadata": {},
   "outputs": [
    {
     "name": "stdout",
     "output_type": "stream",
     "text": [
      "20 20\n",
      "19\n"
     ]
    }
   ],
   "source": [
    "set_size_test = set(df_test_normalized['size'].unique())\n",
    "set_size_train = set(df_3['size'].unique())\n",
    "print(len(set_size_test), len(set_size_train))\n",
    "set_size_train_and_test = set_size_test.intersection(set_size_train)\n",
    "print(len(set_size_train_and_test))"
   ]
  },
  {
   "cell_type": "code",
   "execution_count": 1614,
   "id": "modified-emphasis",
   "metadata": {},
   "outputs": [
    {
     "data": {
      "text/plain": [
       "2 BHK         1055\n",
       "3 BHK          885\n",
       "4 Bedroom      167\n",
       "4 BHK          113\n",
       "1 BHK          103\n",
       "3 Bedroom      101\n",
       "5 Bedroom       65\n",
       "2 Bedroom       48\n",
       "6 Bedroom       37\n",
       "8 Bedroom       19\n",
       "7 Bedroom       18\n",
       "1 Bedroom       17\n",
       "6 BHK            9\n",
       "5 BHK            9\n",
       "7 BHK            5\n",
       "9 Bedroom        5\n",
       "10 Bedroom       4\n",
       "8 BHK            2\n",
       "9 BHK            1\n",
       "18 Bedroom       1\n",
       "Name: size, dtype: int64"
      ]
     },
     "execution_count": 1614,
     "metadata": {},
     "output_type": "execute_result"
    }
   ],
   "source": [
    "df_test_normalized['size'].value_counts()"
   ]
  },
  {
   "cell_type": "markdown",
   "id": "featured-company",
   "metadata": {},
   "source": [
    "## PREDICTION"
   ]
  },
  {
   "cell_type": "markdown",
   "id": "champion-classics",
   "metadata": {},
   "source": [
    "### Using Linear Regression"
   ]
  },
  {
   "cell_type": "code",
   "execution_count": 1615,
   "id": "british-hamburg",
   "metadata": {},
   "outputs": [
    {
     "data": {
      "text/html": [
       "<div>\n",
       "<style scoped>\n",
       "    .dataframe tbody tr th:only-of-type {\n",
       "        vertical-align: middle;\n",
       "    }\n",
       "\n",
       "    .dataframe tbody tr th {\n",
       "        vertical-align: top;\n",
       "    }\n",
       "\n",
       "    .dataframe thead th {\n",
       "        text-align: right;\n",
       "    }\n",
       "</style>\n",
       "<table border=\"1\" class=\"dataframe\">\n",
       "  <thead>\n",
       "    <tr style=\"text-align: right;\">\n",
       "      <th></th>\n",
       "      <th>price</th>\n",
       "    </tr>\n",
       "    <tr>\n",
       "      <th>ID</th>\n",
       "      <th></th>\n",
       "    </tr>\n",
       "  </thead>\n",
       "  <tbody>\n",
       "    <tr>\n",
       "      <th>0</th>\n",
       "      <td>42.375333</td>\n",
       "    </tr>\n",
       "    <tr>\n",
       "      <th>1</th>\n",
       "      <td>17.475000</td>\n",
       "    </tr>\n",
       "    <tr>\n",
       "      <th>2</th>\n",
       "      <td>93.002500</td>\n",
       "    </tr>\n",
       "    <tr>\n",
       "      <th>3</th>\n",
       "      <td>113.200000</td>\n",
       "    </tr>\n",
       "    <tr>\n",
       "      <th>4</th>\n",
       "      <td>52.840000</td>\n",
       "    </tr>\n",
       "    <tr>\n",
       "      <th>5</th>\n",
       "      <td>53.318000</td>\n",
       "    </tr>\n",
       "    <tr>\n",
       "      <th>6</th>\n",
       "      <td>810.000000</td>\n",
       "    </tr>\n",
       "    <tr>\n",
       "      <th>7</th>\n",
       "      <td>114.350000</td>\n",
       "    </tr>\n",
       "    <tr>\n",
       "      <th>8</th>\n",
       "      <td>186.837500</td>\n",
       "    </tr>\n",
       "    <tr>\n",
       "      <th>9</th>\n",
       "      <td>281.052386</td>\n",
       "    </tr>\n",
       "  </tbody>\n",
       "</table>\n",
       "</div>"
      ],
      "text/plain": [
       "         price\n",
       "ID            \n",
       "0    42.375333\n",
       "1    17.475000\n",
       "2    93.002500\n",
       "3   113.200000\n",
       "4    52.840000\n",
       "5    53.318000\n",
       "6   810.000000\n",
       "7   114.350000\n",
       "8   186.837500\n",
       "9   281.052386"
      ]
     },
     "execution_count": 1615,
     "metadata": {},
     "output_type": "execute_result"
    }
   ],
   "source": [
    "y_pred = model_1.predict(df_test_2)\n",
    "df_lin_sol = pd.DataFrame()\n",
    "df_lin_sol['price'] = y_test_pred\n",
    "df_lin_sol.index.name='ID'\n",
    "df_lin_sol.head(10)"
   ]
  },
  {
   "cell_type": "code",
   "execution_count": 1616,
   "id": "theoretical-clothing",
   "metadata": {},
   "outputs": [
    {
     "data": {
      "text/plain": [
       "(2010, 1)"
      ]
     },
     "execution_count": 1616,
     "metadata": {},
     "output_type": "execute_result"
    }
   ],
   "source": [
    "df_lin_sol.shape"
   ]
  },
  {
   "cell_type": "code",
   "execution_count": 1617,
   "id": "colored-south",
   "metadata": {},
   "outputs": [],
   "source": [
    "df_lin_sol.to_csv('lin_sol.csv')"
   ]
  },
  {
   "cell_type": "code",
   "execution_count": 1618,
   "id": "demonstrated-fleece",
   "metadata": {},
   "outputs": [
    {
     "data": {
      "text/plain": [
       "array([175., 175., 217., ..., 150., 450., 150.])"
      ]
     },
     "execution_count": 1618,
     "metadata": {},
     "output_type": "execute_result"
    }
   ],
   "source": [
    "y_test_pred = gs.predict(df_test_2)\n",
    "y_test_pred"
   ]
  },
  {
   "cell_type": "code",
   "execution_count": 1619,
   "id": "critical-lottery",
   "metadata": {},
   "outputs": [
    {
     "data": {
      "text/html": [
       "<div>\n",
       "<style scoped>\n",
       "    .dataframe tbody tr th:only-of-type {\n",
       "        vertical-align: middle;\n",
       "    }\n",
       "\n",
       "    .dataframe tbody tr th {\n",
       "        vertical-align: top;\n",
       "    }\n",
       "\n",
       "    .dataframe thead th {\n",
       "        text-align: right;\n",
       "    }\n",
       "</style>\n",
       "<table border=\"1\" class=\"dataframe\">\n",
       "  <thead>\n",
       "    <tr style=\"text-align: right;\">\n",
       "      <th></th>\n",
       "      <th>price</th>\n",
       "    </tr>\n",
       "    <tr>\n",
       "      <th>ID</th>\n",
       "      <th></th>\n",
       "    </tr>\n",
       "  </thead>\n",
       "  <tbody>\n",
       "    <tr>\n",
       "      <th>0</th>\n",
       "      <td>175.0</td>\n",
       "    </tr>\n",
       "    <tr>\n",
       "      <th>1</th>\n",
       "      <td>175.0</td>\n",
       "    </tr>\n",
       "    <tr>\n",
       "      <th>2</th>\n",
       "      <td>217.0</td>\n",
       "    </tr>\n",
       "    <tr>\n",
       "      <th>3</th>\n",
       "      <td>55.0</td>\n",
       "    </tr>\n",
       "    <tr>\n",
       "      <th>4</th>\n",
       "      <td>35.0</td>\n",
       "    </tr>\n",
       "    <tr>\n",
       "      <th>5</th>\n",
       "      <td>175.0</td>\n",
       "    </tr>\n",
       "    <tr>\n",
       "      <th>6</th>\n",
       "      <td>217.0</td>\n",
       "    </tr>\n",
       "    <tr>\n",
       "      <th>7</th>\n",
       "      <td>217.0</td>\n",
       "    </tr>\n",
       "    <tr>\n",
       "      <th>8</th>\n",
       "      <td>150.0</td>\n",
       "    </tr>\n",
       "    <tr>\n",
       "      <th>9</th>\n",
       "      <td>175.0</td>\n",
       "    </tr>\n",
       "  </tbody>\n",
       "</table>\n",
       "</div>"
      ],
      "text/plain": [
       "    price\n",
       "ID       \n",
       "0   175.0\n",
       "1   175.0\n",
       "2   217.0\n",
       "3    55.0\n",
       "4    35.0\n",
       "5   175.0\n",
       "6   217.0\n",
       "7   217.0\n",
       "8   150.0\n",
       "9   175.0"
      ]
     },
     "execution_count": 1619,
     "metadata": {},
     "output_type": "execute_result"
    }
   ],
   "source": [
    "df_sol = pd.DataFrame()\n",
    "df_sol['price'] = y_test_pred\n",
    "df_sol.index.name='ID'\n",
    "df_sol.head(10)"
   ]
  },
  {
   "cell_type": "code",
   "execution_count": 1620,
   "id": "freelance-description",
   "metadata": {},
   "outputs": [],
   "source": [
    "df_sol.to_csv(\"sol_gs.csv\")"
   ]
  },
  {
   "cell_type": "markdown",
   "id": "architectural-mouth",
   "metadata": {},
   "source": [
    "### Using Elastic Regression Model"
   ]
  },
  {
   "cell_type": "code",
   "execution_count": 1621,
   "id": "chinese-colon",
   "metadata": {},
   "outputs": [
    {
     "data": {
      "text/plain": [
       "array([ 48.40069273,  52.79071342,  55.03560348, ...,  30.91043146,\n",
       "       131.9569636 ,  68.74064192])"
      ]
     },
     "execution_count": 1621,
     "metadata": {},
     "output_type": "execute_result"
    }
   ],
   "source": [
    "y_pred_enet = enet_model.predict(df_test_2)\n",
    "y_pred_enet"
   ]
  },
  {
   "cell_type": "code",
   "execution_count": 1622,
   "id": "international-malta",
   "metadata": {},
   "outputs": [
    {
     "data": {
      "text/html": [
       "<div>\n",
       "<style scoped>\n",
       "    .dataframe tbody tr th:only-of-type {\n",
       "        vertical-align: middle;\n",
       "    }\n",
       "\n",
       "    .dataframe tbody tr th {\n",
       "        vertical-align: top;\n",
       "    }\n",
       "\n",
       "    .dataframe thead th {\n",
       "        text-align: right;\n",
       "    }\n",
       "</style>\n",
       "<table border=\"1\" class=\"dataframe\">\n",
       "  <thead>\n",
       "    <tr style=\"text-align: right;\">\n",
       "      <th></th>\n",
       "      <th>price</th>\n",
       "    </tr>\n",
       "    <tr>\n",
       "      <th>ID</th>\n",
       "      <th></th>\n",
       "    </tr>\n",
       "  </thead>\n",
       "  <tbody>\n",
       "    <tr>\n",
       "      <th>0</th>\n",
       "      <td>48.400693</td>\n",
       "    </tr>\n",
       "    <tr>\n",
       "      <th>1</th>\n",
       "      <td>52.790713</td>\n",
       "    </tr>\n",
       "    <tr>\n",
       "      <th>2</th>\n",
       "      <td>55.035603</td>\n",
       "    </tr>\n",
       "    <tr>\n",
       "      <th>3</th>\n",
       "      <td>-4.077370</td>\n",
       "    </tr>\n",
       "    <tr>\n",
       "      <th>4</th>\n",
       "      <td>54.791670</td>\n",
       "    </tr>\n",
       "    <tr>\n",
       "      <th>5</th>\n",
       "      <td>193.359303</td>\n",
       "    </tr>\n",
       "    <tr>\n",
       "      <th>6</th>\n",
       "      <td>68.200264</td>\n",
       "    </tr>\n",
       "    <tr>\n",
       "      <th>7</th>\n",
       "      <td>14.456376</td>\n",
       "    </tr>\n",
       "    <tr>\n",
       "      <th>8</th>\n",
       "      <td>33.219174</td>\n",
       "    </tr>\n",
       "    <tr>\n",
       "      <th>9</th>\n",
       "      <td>102.240963</td>\n",
       "    </tr>\n",
       "  </tbody>\n",
       "</table>\n",
       "</div>"
      ],
      "text/plain": [
       "         price\n",
       "ID            \n",
       "0    48.400693\n",
       "1    52.790713\n",
       "2    55.035603\n",
       "3    -4.077370\n",
       "4    54.791670\n",
       "5   193.359303\n",
       "6    68.200264\n",
       "7    14.456376\n",
       "8    33.219174\n",
       "9   102.240963"
      ]
     },
     "execution_count": 1622,
     "metadata": {},
     "output_type": "execute_result"
    }
   ],
   "source": [
    "df_sol_enet = pd.DataFrame()\n",
    "df_sol_enet['price'] = y_pred_enet\n",
    "df_sol_enet.index.name='ID'\n",
    "df_sol_enet.head(10)"
   ]
  },
  {
   "cell_type": "code",
   "execution_count": 1623,
   "id": "industrial-equilibrium",
   "metadata": {},
   "outputs": [],
   "source": [
    "df_sol_enet.to_csv(\"sol_enet.csv\")"
   ]
  },
  {
   "cell_type": "code",
   "execution_count": 1624,
   "id": "absent-tract",
   "metadata": {},
   "outputs": [
    {
     "data": {
      "text/plain": [
       "(2664, 1)"
      ]
     },
     "execution_count": 1624,
     "metadata": {},
     "output_type": "execute_result"
    }
   ],
   "source": [
    "df_sol_enet.shape"
   ]
  },
  {
   "cell_type": "markdown",
   "id": "after-reader",
   "metadata": {},
   "source": [
    "### Using Random Forest"
   ]
  },
  {
   "cell_type": "code",
   "execution_count": 1625,
   "id": "acknowledged-terry",
   "metadata": {},
   "outputs": [],
   "source": [
    "y_pred_RFC = RFC.predict(df_test_2)\n",
    "df_sol_RFC = pd.DataFrame()\n",
    "df_sol_RFC['price'] = y_pred_enet\n",
    "df_sol_RFC.index.name='ID'\n",
    "df_sol_RFC.to_csv(\"sol_RFC.csv\")"
   ]
  },
  {
   "cell_type": "code",
   "execution_count": 1626,
   "id": "dated-proceeding",
   "metadata": {},
   "outputs": [
    {
     "data": {
      "text/html": [
       "<div>\n",
       "<style scoped>\n",
       "    .dataframe tbody tr th:only-of-type {\n",
       "        vertical-align: middle;\n",
       "    }\n",
       "\n",
       "    .dataframe tbody tr th {\n",
       "        vertical-align: top;\n",
       "    }\n",
       "\n",
       "    .dataframe thead th {\n",
       "        text-align: right;\n",
       "    }\n",
       "</style>\n",
       "<table border=\"1\" class=\"dataframe\">\n",
       "  <thead>\n",
       "    <tr style=\"text-align: right;\">\n",
       "      <th></th>\n",
       "      <th>price</th>\n",
       "    </tr>\n",
       "    <tr>\n",
       "      <th>ID</th>\n",
       "      <th></th>\n",
       "    </tr>\n",
       "  </thead>\n",
       "  <tbody>\n",
       "    <tr>\n",
       "      <th>0</th>\n",
       "      <td>48.400693</td>\n",
       "    </tr>\n",
       "    <tr>\n",
       "      <th>1</th>\n",
       "      <td>52.790713</td>\n",
       "    </tr>\n",
       "    <tr>\n",
       "      <th>2</th>\n",
       "      <td>55.035603</td>\n",
       "    </tr>\n",
       "    <tr>\n",
       "      <th>3</th>\n",
       "      <td>-4.077370</td>\n",
       "    </tr>\n",
       "    <tr>\n",
       "      <th>4</th>\n",
       "      <td>54.791670</td>\n",
       "    </tr>\n",
       "    <tr>\n",
       "      <th>5</th>\n",
       "      <td>193.359303</td>\n",
       "    </tr>\n",
       "    <tr>\n",
       "      <th>6</th>\n",
       "      <td>68.200264</td>\n",
       "    </tr>\n",
       "    <tr>\n",
       "      <th>7</th>\n",
       "      <td>14.456376</td>\n",
       "    </tr>\n",
       "    <tr>\n",
       "      <th>8</th>\n",
       "      <td>33.219174</td>\n",
       "    </tr>\n",
       "    <tr>\n",
       "      <th>9</th>\n",
       "      <td>102.240963</td>\n",
       "    </tr>\n",
       "  </tbody>\n",
       "</table>\n",
       "</div>"
      ],
      "text/plain": [
       "         price\n",
       "ID            \n",
       "0    48.400693\n",
       "1    52.790713\n",
       "2    55.035603\n",
       "3    -4.077370\n",
       "4    54.791670\n",
       "5   193.359303\n",
       "6    68.200264\n",
       "7    14.456376\n",
       "8    33.219174\n",
       "9   102.240963"
      ]
     },
     "execution_count": 1626,
     "metadata": {},
     "output_type": "execute_result"
    }
   ],
   "source": [
    "df_sol_RFC.head(10)"
   ]
  },
  {
   "cell_type": "markdown",
   "id": "neutral-liechtenstein",
   "metadata": {},
   "source": [
    "### Using GridSearch CV on Random Forest"
   ]
  },
  {
   "cell_type": "code",
   "execution_count": 1627,
   "id": "conditional-coach",
   "metadata": {},
   "outputs": [],
   "source": [
    "y_pred_GS_CV = gs_best.predict(df_test_2)\n",
    "df_sol_GS_CV = pd.DataFrame()\n",
    "df_sol_GS_CV['price'] = y_pred_GS_CV\n",
    "df_sol_GS_CV.index.name='ID'\n",
    "df_sol_GS_CV.to_csv(\"sol_GS_CV.csv\")"
   ]
  },
  {
   "cell_type": "code",
   "execution_count": 1628,
   "id": "electric-sender",
   "metadata": {},
   "outputs": [
    {
     "data": {
      "text/html": [
       "<div>\n",
       "<style scoped>\n",
       "    .dataframe tbody tr th:only-of-type {\n",
       "        vertical-align: middle;\n",
       "    }\n",
       "\n",
       "    .dataframe tbody tr th {\n",
       "        vertical-align: top;\n",
       "    }\n",
       "\n",
       "    .dataframe thead th {\n",
       "        text-align: right;\n",
       "    }\n",
       "</style>\n",
       "<table border=\"1\" class=\"dataframe\">\n",
       "  <thead>\n",
       "    <tr style=\"text-align: right;\">\n",
       "      <th></th>\n",
       "      <th>price</th>\n",
       "    </tr>\n",
       "    <tr>\n",
       "      <th>ID</th>\n",
       "      <th></th>\n",
       "    </tr>\n",
       "  </thead>\n",
       "  <tbody>\n",
       "    <tr>\n",
       "      <th>0</th>\n",
       "      <td>787.237050</td>\n",
       "    </tr>\n",
       "    <tr>\n",
       "      <th>1</th>\n",
       "      <td>595.215658</td>\n",
       "    </tr>\n",
       "    <tr>\n",
       "      <th>2</th>\n",
       "      <td>374.931034</td>\n",
       "    </tr>\n",
       "    <tr>\n",
       "      <th>3</th>\n",
       "      <td>62.583791</td>\n",
       "    </tr>\n",
       "    <tr>\n",
       "      <th>4</th>\n",
       "      <td>80.560590</td>\n",
       "    </tr>\n",
       "    <tr>\n",
       "      <th>5</th>\n",
       "      <td>625.248029</td>\n",
       "    </tr>\n",
       "    <tr>\n",
       "      <th>6</th>\n",
       "      <td>388.173359</td>\n",
       "    </tr>\n",
       "    <tr>\n",
       "      <th>7</th>\n",
       "      <td>510.561692</td>\n",
       "    </tr>\n",
       "    <tr>\n",
       "      <th>8</th>\n",
       "      <td>388.173359</td>\n",
       "    </tr>\n",
       "    <tr>\n",
       "      <th>9</th>\n",
       "      <td>595.215658</td>\n",
       "    </tr>\n",
       "  </tbody>\n",
       "</table>\n",
       "</div>"
      ],
      "text/plain": [
       "         price\n",
       "ID            \n",
       "0   787.237050\n",
       "1   595.215658\n",
       "2   374.931034\n",
       "3    62.583791\n",
       "4    80.560590\n",
       "5   625.248029\n",
       "6   388.173359\n",
       "7   510.561692\n",
       "8   388.173359\n",
       "9   595.215658"
      ]
     },
     "execution_count": 1628,
     "metadata": {},
     "output_type": "execute_result"
    }
   ],
   "source": [
    "df_sol_GS_CV.head(10)"
   ]
  },
  {
   "cell_type": "code",
   "execution_count": 1629,
   "id": "hollywood-guinea",
   "metadata": {},
   "outputs": [],
   "source": [
    "y_pred_hgbr = est.predict(df_test_2)\n",
    "df_sol_hgbr = pd.DataFrame()\n",
    "df_sol_hgbr['price'] = y_pred_hgbr\n",
    "df_sol_hgbr.index.name='ID'\n",
    "df_sol_hgbr.to_csv(\"sol_HGBR.csv\")"
   ]
  },
  {
   "cell_type": "code",
   "execution_count": 1630,
   "id": "eligible-budapest",
   "metadata": {},
   "outputs": [
    {
     "data": {
      "text/html": [
       "<div>\n",
       "<style scoped>\n",
       "    .dataframe tbody tr th:only-of-type {\n",
       "        vertical-align: middle;\n",
       "    }\n",
       "\n",
       "    .dataframe tbody tr th {\n",
       "        vertical-align: top;\n",
       "    }\n",
       "\n",
       "    .dataframe thead th {\n",
       "        text-align: right;\n",
       "    }\n",
       "</style>\n",
       "<table border=\"1\" class=\"dataframe\">\n",
       "  <thead>\n",
       "    <tr style=\"text-align: right;\">\n",
       "      <th></th>\n",
       "      <th>price</th>\n",
       "    </tr>\n",
       "    <tr>\n",
       "      <th>ID</th>\n",
       "      <th></th>\n",
       "    </tr>\n",
       "  </thead>\n",
       "  <tbody>\n",
       "    <tr>\n",
       "      <th>0</th>\n",
       "      <td>498.378893</td>\n",
       "    </tr>\n",
       "    <tr>\n",
       "      <th>1</th>\n",
       "      <td>453.926529</td>\n",
       "    </tr>\n",
       "    <tr>\n",
       "      <th>2</th>\n",
       "      <td>343.602853</td>\n",
       "    </tr>\n",
       "    <tr>\n",
       "      <th>3</th>\n",
       "      <td>37.338151</td>\n",
       "    </tr>\n",
       "    <tr>\n",
       "      <th>4</th>\n",
       "      <td>43.539758</td>\n",
       "    </tr>\n",
       "    <tr>\n",
       "      <th>5</th>\n",
       "      <td>695.889071</td>\n",
       "    </tr>\n",
       "    <tr>\n",
       "      <th>6</th>\n",
       "      <td>343.602853</td>\n",
       "    </tr>\n",
       "    <tr>\n",
       "      <th>7</th>\n",
       "      <td>470.617645</td>\n",
       "    </tr>\n",
       "    <tr>\n",
       "      <th>8</th>\n",
       "      <td>343.602853</td>\n",
       "    </tr>\n",
       "    <tr>\n",
       "      <th>9</th>\n",
       "      <td>498.378893</td>\n",
       "    </tr>\n",
       "  </tbody>\n",
       "</table>\n",
       "</div>"
      ],
      "text/plain": [
       "         price\n",
       "ID            \n",
       "0   498.378893\n",
       "1   453.926529\n",
       "2   343.602853\n",
       "3    37.338151\n",
       "4    43.539758\n",
       "5   695.889071\n",
       "6   343.602853\n",
       "7   470.617645\n",
       "8   343.602853\n",
       "9   498.378893"
      ]
     },
     "execution_count": 1630,
     "metadata": {},
     "output_type": "execute_result"
    }
   ],
   "source": [
    "df_sol_hgbr.head(10)"
   ]
  },
  {
   "cell_type": "code",
   "execution_count": null,
   "id": "concrete-documentation",
   "metadata": {},
   "outputs": [],
   "source": []
  }
 ],
 "metadata": {
  "kernelspec": {
   "display_name": "Python 3",
   "language": "python",
   "name": "python3"
  },
  "language_info": {
   "codemirror_mode": {
    "name": "ipython",
    "version": 3
   },
   "file_extension": ".py",
   "mimetype": "text/x-python",
   "name": "python",
   "nbconvert_exporter": "python",
   "pygments_lexer": "ipython3",
   "version": "3.7.9"
  }
 },
 "nbformat": 4,
 "nbformat_minor": 5
}
