{
 "cells": [
  {
   "cell_type": "markdown",
   "id": "usual-cause",
   "metadata": {},
   "source": [
    "train.csv :\n",
    "·      area_type: The type of the house area feature 'total_sqft' specifies.\n",
    "·      availability: The availability date or availability status of the property.\n",
    "·      location: The locality of the property in Bengaluru city.\n",
    "·      size: The size of the housing property in BHK (or Bedrooms etc.,).\n",
    "·      society: The name of the Apartment. This name is encrypted for confidentiality.\n",
    "·      total_sqft: The 'area_type' area of the property.\n",
    "·      bath: Number of bathrooms available in the house.\n",
    "·      balcony: Number of balcony/balconies the house has.\n",
    "·      price: Price of the housing property in Lakhs. (target feature)\n",
    " \n",
    "The `test.csv` dataset contains similar information to train.csv but does not disclose the “price” feature. The price has to be predicted through your model.\n",
    " \n",
    "avg_rent.csv :\n",
    "·      location : The locality of the property in the bengaluru city.\n",
    "·      avg_2bhk_rent : Average rent of two BHK flat in that location\n",
    " \n",
    " \n",
    "dist_from_city_centre.csv : \n",
    "·      location : The locality of the property in the bengaluru city.\n",
    "·      dist_from_city : Distance of the location from city center"
   ]
  },
  {
   "cell_type": "code",
   "execution_count": 1371,
   "id": "macro-scottish",
   "metadata": {},
   "outputs": [],
   "source": [
    "import numpy as np\n",
    "import re\n",
    "import pandas as pd \n",
    "import matplotlib\n",
    "import matplotlib.pyplot as plt\n",
    "import seaborn as sns\n",
    "plt.style.use('fivethirtyeight')\n",
    "matplotlib.rcParams['font.family'] = \"Arial\"\n",
    "\n",
    "%matplotlib inline\n",
    "import collections\n",
    "import itertools\n",
    "import scipy.stats as stats\n",
    "from scipy.stats import norm\n",
    "from scipy.special import boxcox1p\n",
    "import statsmodels\n",
    "import statsmodels.api as sm\n",
    "from statsmodels.stats.outliers_influence import variance_inflation_factor\n",
    "#print(statsmodels.__version__)\n",
    "from sklearn.preprocessing import scale, StandardScaler, RobustScaler, OneHotEncoder\n",
    "from sklearn.compose import ColumnTransformer\n",
    "from sklearn.model_selection import train_test_split, cross_val_score, GridSearchCV, KFold, StratifiedKFold, RandomizedSearchCV\n",
    "from sklearn.linear_model import Ridge, RidgeCV, Lasso, LassoCV, LinearRegression, ElasticNet\n",
    "from sklearn.metrics import mean_squared_error, r2_score\n",
    "from sklearn.gaussian_process import GaussianProcessRegressor\n",
    "from sklearn.ensemble import RandomForestRegressor, GradientBoostingRegressor\n",
    "from sklearn.utils import resample\n",
    "\n",
    "from sklearn.model_selection import ShuffleSplit\n",
    "from sklearn.linear_model import Lasso\n",
    "from sklearn.tree import DecisionTreeRegressor\n",
    "from statsmodels.tools.eval_measures import rmse\n",
    "\n",
    "import warnings\n",
    "\n",
    "warnings.filterwarnings(\"ignore\")"
   ]
  },
  {
   "cell_type": "code",
   "execution_count": 1372,
   "id": "turned-restriction",
   "metadata": {},
   "outputs": [
    {
     "data": {
      "text/html": [
       "<div>\n",
       "<style scoped>\n",
       "    .dataframe tbody tr th:only-of-type {\n",
       "        vertical-align: middle;\n",
       "    }\n",
       "\n",
       "    .dataframe tbody tr th {\n",
       "        vertical-align: top;\n",
       "    }\n",
       "\n",
       "    .dataframe thead th {\n",
       "        text-align: right;\n",
       "    }\n",
       "</style>\n",
       "<table border=\"1\" class=\"dataframe\">\n",
       "  <thead>\n",
       "    <tr style=\"text-align: right;\">\n",
       "      <th></th>\n",
       "      <th>location</th>\n",
       "      <th>avg_2bhk_rent</th>\n",
       "    </tr>\n",
       "  </thead>\n",
       "  <tbody>\n",
       "    <tr>\n",
       "      <th>0</th>\n",
       "      <td>Krishnarajapura</td>\n",
       "      <td>11954</td>\n",
       "    </tr>\n",
       "    <tr>\n",
       "      <th>1</th>\n",
       "      <td>Sarjapur</td>\n",
       "      <td>45000</td>\n",
       "    </tr>\n",
       "    <tr>\n",
       "      <th>2</th>\n",
       "      <td>Whitefield Hope Farm Junction</td>\n",
       "      <td>26370</td>\n",
       "    </tr>\n",
       "    <tr>\n",
       "      <th>3</th>\n",
       "      <td>Devanahalli</td>\n",
       "      <td>17302</td>\n",
       "    </tr>\n",
       "    <tr>\n",
       "      <th>4</th>\n",
       "      <td>Whitefield</td>\n",
       "      <td>14981</td>\n",
       "    </tr>\n",
       "  </tbody>\n",
       "</table>\n",
       "</div>"
      ],
      "text/plain": [
       "                        location  avg_2bhk_rent\n",
       "0                Krishnarajapura          11954\n",
       "1                       Sarjapur          45000\n",
       "2  Whitefield Hope Farm Junction          26370\n",
       "3                    Devanahalli          17302\n",
       "4                     Whitefield          14981"
      ]
     },
     "execution_count": 1372,
     "metadata": {},
     "output_type": "execute_result"
    }
   ],
   "source": [
    "df = pd.read_csv(\"train.csv\")\n",
    "df_rent = pd.read_csv(\"avg_rent.csv\")\n",
    "df_dist = pd.read_csv(\"dist_from_city_centre.csv\")\n",
    "df_test = pd.read_csv(\"test.csv\")\n",
    "df_rent.head()"
   ]
  },
  {
   "cell_type": "code",
   "execution_count": 1373,
   "id": "controversial-north",
   "metadata": {},
   "outputs": [
    {
     "data": {
      "text/html": [
       "<div>\n",
       "<style scoped>\n",
       "    .dataframe tbody tr th:only-of-type {\n",
       "        vertical-align: middle;\n",
       "    }\n",
       "\n",
       "    .dataframe tbody tr th {\n",
       "        vertical-align: top;\n",
       "    }\n",
       "\n",
       "    .dataframe thead th {\n",
       "        text-align: right;\n",
       "    }\n",
       "</style>\n",
       "<table border=\"1\" class=\"dataframe\">\n",
       "  <thead>\n",
       "    <tr style=\"text-align: right;\">\n",
       "      <th></th>\n",
       "      <th>ID</th>\n",
       "      <th>area_type</th>\n",
       "      <th>availability</th>\n",
       "      <th>location</th>\n",
       "      <th>size</th>\n",
       "      <th>society</th>\n",
       "      <th>total_sqft</th>\n",
       "      <th>bath</th>\n",
       "      <th>balcony</th>\n",
       "      <th>price</th>\n",
       "    </tr>\n",
       "  </thead>\n",
       "  <tbody>\n",
       "    <tr>\n",
       "      <th>0</th>\n",
       "      <td>0</td>\n",
       "      <td>Super built-up  Area</td>\n",
       "      <td>19-Dec</td>\n",
       "      <td>Electronic City Phase II</td>\n",
       "      <td>2 BHK</td>\n",
       "      <td>Coomee</td>\n",
       "      <td>1056</td>\n",
       "      <td>2.0</td>\n",
       "      <td>1.0</td>\n",
       "      <td>39.07</td>\n",
       "    </tr>\n",
       "    <tr>\n",
       "      <th>1</th>\n",
       "      <td>1</td>\n",
       "      <td>Plot  Area</td>\n",
       "      <td>Ready To Move</td>\n",
       "      <td>Chikka Tirupathi</td>\n",
       "      <td>4 Bedroom</td>\n",
       "      <td>Theanmp</td>\n",
       "      <td>2600</td>\n",
       "      <td>5.0</td>\n",
       "      <td>3.0</td>\n",
       "      <td>120.00</td>\n",
       "    </tr>\n",
       "    <tr>\n",
       "      <th>2</th>\n",
       "      <td>2</td>\n",
       "      <td>Built-up  Area</td>\n",
       "      <td>Ready To Move</td>\n",
       "      <td>Uttarahalli</td>\n",
       "      <td>3 BHK</td>\n",
       "      <td>NaN</td>\n",
       "      <td>1440</td>\n",
       "      <td>2.0</td>\n",
       "      <td>3.0</td>\n",
       "      <td>62.00</td>\n",
       "    </tr>\n",
       "    <tr>\n",
       "      <th>3</th>\n",
       "      <td>3</td>\n",
       "      <td>Super built-up  Area</td>\n",
       "      <td>Ready To Move</td>\n",
       "      <td>Lingadheeranahalli</td>\n",
       "      <td>3 BHK</td>\n",
       "      <td>Soiewre</td>\n",
       "      <td>1521</td>\n",
       "      <td>3.0</td>\n",
       "      <td>1.0</td>\n",
       "      <td>95.00</td>\n",
       "    </tr>\n",
       "    <tr>\n",
       "      <th>4</th>\n",
       "      <td>4</td>\n",
       "      <td>Super built-up  Area</td>\n",
       "      <td>Ready To Move</td>\n",
       "      <td>Kothanur</td>\n",
       "      <td>2 BHK</td>\n",
       "      <td>NaN</td>\n",
       "      <td>1200</td>\n",
       "      <td>2.0</td>\n",
       "      <td>1.0</td>\n",
       "      <td>51.00</td>\n",
       "    </tr>\n",
       "  </tbody>\n",
       "</table>\n",
       "</div>"
      ],
      "text/plain": [
       "   ID             area_type   availability                  location  \\\n",
       "0   0  Super built-up  Area         19-Dec  Electronic City Phase II   \n",
       "1   1            Plot  Area  Ready To Move          Chikka Tirupathi   \n",
       "2   2        Built-up  Area  Ready To Move               Uttarahalli   \n",
       "3   3  Super built-up  Area  Ready To Move        Lingadheeranahalli   \n",
       "4   4  Super built-up  Area  Ready To Move                  Kothanur   \n",
       "\n",
       "        size  society total_sqft  bath  balcony   price  \n",
       "0      2 BHK  Coomee        1056   2.0      1.0   39.07  \n",
       "1  4 Bedroom  Theanmp       2600   5.0      3.0  120.00  \n",
       "2      3 BHK      NaN       1440   2.0      3.0   62.00  \n",
       "3      3 BHK  Soiewre       1521   3.0      1.0   95.00  \n",
       "4      2 BHK      NaN       1200   2.0      1.0   51.00  "
      ]
     },
     "execution_count": 1373,
     "metadata": {},
     "output_type": "execute_result"
    }
   ],
   "source": [
    "df.head()"
   ]
  },
  {
   "cell_type": "code",
   "execution_count": 1374,
   "id": "wanted-board",
   "metadata": {},
   "outputs": [
    {
     "data": {
      "text/plain": [
       "ID                 0\n",
       "area_type          0\n",
       "availability       0\n",
       "location           1\n",
       "size              14\n",
       "society         4428\n",
       "total_sqft         0\n",
       "bath              65\n",
       "balcony          504\n",
       "price              0\n",
       "dtype: int64"
      ]
     },
     "execution_count": 1374,
     "metadata": {},
     "output_type": "execute_result"
    }
   ],
   "source": [
    "df.isna().sum()"
   ]
  },
  {
   "cell_type": "code",
   "execution_count": 1375,
   "id": "indian-stanley",
   "metadata": {},
   "outputs": [],
   "source": [
    "# Encoding Availability\n",
    "df['availability'] = df['availability'].apply(lambda x: 1 if x==\"Ready To Move\" else 0)"
   ]
  },
  {
   "cell_type": "markdown",
   "id": "loaded-original",
   "metadata": {},
   "source": [
    "## PRELIMINARY CLEAN-UPS"
   ]
  },
  {
   "cell_type": "code",
   "execution_count": 1376,
   "id": "small-civilization",
   "metadata": {},
   "outputs": [
    {
     "data": {
      "text/plain": [
       "2.0    4069\n",
       "1.0    3894\n",
       "3.0    1342\n",
       "0.0     847\n",
       "Name: balcony, dtype: int64"
      ]
     },
     "execution_count": 1376,
     "metadata": {},
     "output_type": "execute_result"
    }
   ],
   "source": [
    "df.balcony.value_counts()"
   ]
  },
  {
   "cell_type": "code",
   "execution_count": 1377,
   "id": "integral-briefing",
   "metadata": {},
   "outputs": [
    {
     "data": {
      "text/plain": [
       "<AxesSubplot:xlabel='size', ylabel='balcony'>"
      ]
     },
     "execution_count": 1377,
     "metadata": {},
     "output_type": "execute_result"
    },
    {
     "data": {
      "image/png": "[encoded data removed]",
      "text/plain": [
       "<Figure size 432x288 with 1 Axes>"
      ]
     },
     "metadata": {
      "needs_background": "light"
     },
     "output_type": "display_data"
    }
   ],
   "source": [
    "sns.scatterplot(x=df['size'], y=df.balcony)"
   ]
  },
  {
   "cell_type": "code",
   "execution_count": 1378,
   "id": "enabling-manufacturer",
   "metadata": {},
   "outputs": [
    {
     "data": {
      "text/html": [
       "<div>\n",
       "<style scoped>\n",
       "    .dataframe tbody tr th:only-of-type {\n",
       "        vertical-align: middle;\n",
       "    }\n",
       "\n",
       "    .dataframe tbody tr th {\n",
       "        vertical-align: top;\n",
       "    }\n",
       "\n",
       "    .dataframe thead th {\n",
       "        text-align: right;\n",
       "    }\n",
       "</style>\n",
       "<table border=\"1\" class=\"dataframe\">\n",
       "  <thead>\n",
       "    <tr style=\"text-align: right;\">\n",
       "      <th></th>\n",
       "      <th>ID</th>\n",
       "      <th>area_type</th>\n",
       "      <th>availability</th>\n",
       "      <th>location</th>\n",
       "      <th>size</th>\n",
       "      <th>society</th>\n",
       "      <th>total_sqft</th>\n",
       "      <th>bath</th>\n",
       "      <th>balcony</th>\n",
       "      <th>price</th>\n",
       "    </tr>\n",
       "  </thead>\n",
       "  <tbody>\n",
       "    <tr>\n",
       "      <th>6</th>\n",
       "      <td>6</td>\n",
       "      <td>Super built-up  Area</td>\n",
       "      <td>0</td>\n",
       "      <td>Old Airport Road</td>\n",
       "      <td>4 BHK</td>\n",
       "      <td>Jaades</td>\n",
       "      <td>2732</td>\n",
       "      <td>4.0</td>\n",
       "      <td>NaN</td>\n",
       "      <td>204.00</td>\n",
       "    </tr>\n",
       "    <tr>\n",
       "      <th>7</th>\n",
       "      <td>7</td>\n",
       "      <td>Super built-up  Area</td>\n",
       "      <td>1</td>\n",
       "      <td>Rajaji Nagar</td>\n",
       "      <td>4 BHK</td>\n",
       "      <td>Brway G</td>\n",
       "      <td>3300</td>\n",
       "      <td>4.0</td>\n",
       "      <td>NaN</td>\n",
       "      <td>600.00</td>\n",
       "    </tr>\n",
       "    <tr>\n",
       "      <th>9</th>\n",
       "      <td>9</td>\n",
       "      <td>Plot  Area</td>\n",
       "      <td>1</td>\n",
       "      <td>Gandhi Bazar</td>\n",
       "      <td>6 Bedroom</td>\n",
       "      <td>NaN</td>\n",
       "      <td>1020</td>\n",
       "      <td>6.0</td>\n",
       "      <td>NaN</td>\n",
       "      <td>370.00</td>\n",
       "    </tr>\n",
       "    <tr>\n",
       "      <th>34</th>\n",
       "      <td>34</td>\n",
       "      <td>Built-up  Area</td>\n",
       "      <td>1</td>\n",
       "      <td>Kasturi Nagar</td>\n",
       "      <td>3 BHK</td>\n",
       "      <td>Kantsce</td>\n",
       "      <td>1925</td>\n",
       "      <td>3.0</td>\n",
       "      <td>NaN</td>\n",
       "      <td>125.00</td>\n",
       "    </tr>\n",
       "    <tr>\n",
       "      <th>40</th>\n",
       "      <td>40</td>\n",
       "      <td>Built-up  Area</td>\n",
       "      <td>1</td>\n",
       "      <td>Murugeshpalya</td>\n",
       "      <td>2 BHK</td>\n",
       "      <td>Gentson</td>\n",
       "      <td>1296</td>\n",
       "      <td>2.0</td>\n",
       "      <td>NaN</td>\n",
       "      <td>81.00</td>\n",
       "    </tr>\n",
       "    <tr>\n",
       "      <th>...</th>\n",
       "      <td>...</td>\n",
       "      <td>...</td>\n",
       "      <td>...</td>\n",
       "      <td>...</td>\n",
       "      <td>...</td>\n",
       "      <td>...</td>\n",
       "      <td>...</td>\n",
       "      <td>...</td>\n",
       "      <td>...</td>\n",
       "      <td>...</td>\n",
       "    </tr>\n",
       "    <tr>\n",
       "      <th>10560</th>\n",
       "      <td>10560</td>\n",
       "      <td>Built-up  Area</td>\n",
       "      <td>1</td>\n",
       "      <td>HSR Layout</td>\n",
       "      <td>5 Bedroom</td>\n",
       "      <td>NaN</td>\n",
       "      <td>4200</td>\n",
       "      <td>5.0</td>\n",
       "      <td>NaN</td>\n",
       "      <td>245.00</td>\n",
       "    </tr>\n",
       "    <tr>\n",
       "      <th>10561</th>\n",
       "      <td>10561</td>\n",
       "      <td>Super built-up  Area</td>\n",
       "      <td>1</td>\n",
       "      <td>Thubarahalli</td>\n",
       "      <td>3 BHK</td>\n",
       "      <td>Asnts a</td>\n",
       "      <td>1540</td>\n",
       "      <td>3.0</td>\n",
       "      <td>NaN</td>\n",
       "      <td>90.00</td>\n",
       "    </tr>\n",
       "    <tr>\n",
       "      <th>10593</th>\n",
       "      <td>10593</td>\n",
       "      <td>Built-up  Area</td>\n",
       "      <td>1</td>\n",
       "      <td>Marathahalli</td>\n",
       "      <td>4 Bedroom</td>\n",
       "      <td>Vemes H</td>\n",
       "      <td>3090</td>\n",
       "      <td>4.0</td>\n",
       "      <td>NaN</td>\n",
       "      <td>350.00</td>\n",
       "    </tr>\n",
       "    <tr>\n",
       "      <th>10634</th>\n",
       "      <td>10634</td>\n",
       "      <td>Plot  Area</td>\n",
       "      <td>0</td>\n",
       "      <td>Rajankunte</td>\n",
       "      <td>NaN</td>\n",
       "      <td>NaN</td>\n",
       "      <td>1575</td>\n",
       "      <td>NaN</td>\n",
       "      <td>NaN</td>\n",
       "      <td>31.11</td>\n",
       "    </tr>\n",
       "    <tr>\n",
       "      <th>10649</th>\n",
       "      <td>10649</td>\n",
       "      <td>Plot  Area</td>\n",
       "      <td>1</td>\n",
       "      <td>Banashankari Stage III</td>\n",
       "      <td>9 Bedroom</td>\n",
       "      <td>NaN</td>\n",
       "      <td>1560</td>\n",
       "      <td>9.0</td>\n",
       "      <td>NaN</td>\n",
       "      <td>200.00</td>\n",
       "    </tr>\n",
       "  </tbody>\n",
       "</table>\n",
       "<p>504 rows × 10 columns</p>\n",
       "</div>"
      ],
      "text/plain": [
       "          ID             area_type  availability                location  \\\n",
       "6          6  Super built-up  Area             0        Old Airport Road   \n",
       "7          7  Super built-up  Area             1            Rajaji Nagar   \n",
       "9          9            Plot  Area             1            Gandhi Bazar   \n",
       "34        34        Built-up  Area             1           Kasturi Nagar   \n",
       "40        40        Built-up  Area             1           Murugeshpalya   \n",
       "...      ...                   ...           ...                     ...   \n",
       "10560  10560        Built-up  Area             1              HSR Layout   \n",
       "10561  10561  Super built-up  Area             1            Thubarahalli   \n",
       "10593  10593        Built-up  Area             1            Marathahalli   \n",
       "10634  10634            Plot  Area             0              Rajankunte   \n",
       "10649  10649            Plot  Area             1  Banashankari Stage III   \n",
       "\n",
       "            size  society total_sqft  bath  balcony   price  \n",
       "6          4 BHK  Jaades        2732   4.0      NaN  204.00  \n",
       "7          4 BHK  Brway G       3300   4.0      NaN  600.00  \n",
       "9      6 Bedroom      NaN       1020   6.0      NaN  370.00  \n",
       "34         3 BHK  Kantsce       1925   3.0      NaN  125.00  \n",
       "40         2 BHK  Gentson       1296   2.0      NaN   81.00  \n",
       "...          ...      ...        ...   ...      ...     ...  \n",
       "10560  5 Bedroom      NaN       4200   5.0      NaN  245.00  \n",
       "10561      3 BHK  Asnts a       1540   3.0      NaN   90.00  \n",
       "10593  4 Bedroom  Vemes H       3090   4.0      NaN  350.00  \n",
       "10634        NaN      NaN       1575   NaN      NaN   31.11  \n",
       "10649  9 Bedroom      NaN       1560   9.0      NaN  200.00  \n",
       "\n",
       "[504 rows x 10 columns]"
      ]
     },
     "execution_count": 1378,
     "metadata": {},
     "output_type": "execute_result"
    }
   ],
   "source": [
    "df[df['balcony'].isna()]"
   ]
  },
  {
   "cell_type": "code",
   "execution_count": 1379,
   "id": "minor-marker",
   "metadata": {},
   "outputs": [],
   "source": [
    "# Dropping the ID column for its redundancy\n",
    "# Getting rid of society to avoid imputing huge amount of null values\n",
    "# Availability doesnt much determine the price of a house\n",
    "df.drop(columns=[\"ID\", \"society\"], axis=1, inplace=True)"
   ]
  },
  {
   "cell_type": "code",
   "execution_count": 1380,
   "id": "angry-nightlife",
   "metadata": {},
   "outputs": [
    {
     "data": {
      "text/plain": [
       "area_type         0\n",
       "availability      0\n",
       "location          1\n",
       "size             14\n",
       "total_sqft        0\n",
       "bath             65\n",
       "balcony         504\n",
       "price             0\n",
       "dtype: int64"
      ]
     },
     "execution_count": 1380,
     "metadata": {},
     "output_type": "execute_result"
    }
   ],
   "source": [
    "df.isna().sum()"
   ]
  },
  {
   "cell_type": "code",
   "execution_count": 1381,
   "id": "phantom-finland",
   "metadata": {},
   "outputs": [
    {
     "data": {
      "text/plain": [
       "Whitefield                        433\n",
       "Sarjapur  Road                    303\n",
       "Electronic City                   234\n",
       "Kanakpura Road                    217\n",
       "Thanisandra                       178\n",
       "                                 ... \n",
       "Banashankari3rd stage bigbazar      1\n",
       "Vijaya Bank Colony                  1\n",
       "ITI Employees Layout                1\n",
       "Junnasandra                         1\n",
       " Anekal                             1\n",
       "Name: location, Length: 1197, dtype: int64"
      ]
     },
     "execution_count": 1381,
     "metadata": {},
     "output_type": "execute_result"
    }
   ],
   "source": [
    "df['location'].value_counts()"
   ]
  },
  {
   "cell_type": "code",
   "execution_count": 1382,
   "id": "smart-german",
   "metadata": {},
   "outputs": [],
   "source": [
    "# Replacing 1 NaN in location with mode of the dataset\n",
    "df['location'] = df['location'].fillna('Whitefield')"
   ]
  },
  {
   "cell_type": "code",
   "execution_count": 1383,
   "id": "accredited-lawsuit",
   "metadata": {},
   "outputs": [
    {
     "data": {
      "text/plain": [
       "2 BHK         4146\n",
       "3 BHK         3425\n",
       "4 Bedroom      659\n",
       "4 BHK          478\n",
       "3 Bedroom      446\n",
       "1 BHK          435\n",
       "2 Bedroom      281\n",
       "5 Bedroom      232\n",
       "6 Bedroom      154\n",
       "1 Bedroom       88\n",
       "7 Bedroom       65\n",
       "8 Bedroom       65\n",
       "5 BHK           50\n",
       "9 Bedroom       41\n",
       "6 BHK           21\n",
       "1 RK            13\n",
       "7 BHK           12\n",
       "10 Bedroom       8\n",
       "9 BHK            7\n",
       "8 BHK            3\n",
       "11 BHK           2\n",
       "10 BHK           2\n",
       "11 Bedroom       2\n",
       "14 BHK           1\n",
       "27 BHK           1\n",
       "19 BHK           1\n",
       "43 Bedroom       1\n",
       "12 Bedroom       1\n",
       "16 BHK           1\n",
       "13 BHK           1\n",
       "Name: size, dtype: int64"
      ]
     },
     "execution_count": 1383,
     "metadata": {},
     "output_type": "execute_result"
    }
   ],
   "source": [
    "# Replacing Size with highest occuring categorical value\n",
    "df['size'].value_counts()"
   ]
  },
  {
   "cell_type": "code",
   "execution_count": 1384,
   "id": "pacific-fusion",
   "metadata": {},
   "outputs": [],
   "source": [
    "df['size'] = df['size'].fillna('2 BHK')\n",
    "\n",
    "# Creating 3 additional columns\n",
    "df['hall'] = np.nan\n",
    "df['kitchen'] = np.nan\n",
    "df['room_count'] = np.nan"
   ]
  },
  {
   "cell_type": "code",
   "execution_count": 1385,
   "id": "august-camping",
   "metadata": {},
   "outputs": [],
   "source": [
    "# We are splitting the values in size into 3 columns:  Hall | Kitchen | Room_Count\n",
    "# This is important as 1RK is different from 1 BHK\n",
    "\n",
    "\n",
    "def split_size(df, index, size):\n",
    "    df.loc[index, 'room_count'] = str(size).split()[0]\n",
    "    if str(size).split()[1] == \"BHK\":\n",
    "        df.loc[index, 'hall'] = 1\n",
    "        df.loc[index, 'kitchen'] = 1\n",
    "    elif str(size).split()[1] == \"RK\":\n",
    "        df.loc[index, 'hall'] = 0\n",
    "        df.loc[index, 'kitchen'] = 1\n",
    "    else:\n",
    "        df.loc[index, 'hall'] = 0\n",
    "        df.loc[index, 'kitchen'] = 0\n",
    "    \n",
    "\n",
    "# get_room_count = lambda x: int(str(x).split()[0]) if isinstance(x,str) else x"
   ]
  },
  {
   "cell_type": "code",
   "execution_count": 1386,
   "id": "developing-incident",
   "metadata": {},
   "outputs": [
    {
     "data": {
      "text/html": [
       "<div>\n",
       "<style scoped>\n",
       "    .dataframe tbody tr th:only-of-type {\n",
       "        vertical-align: middle;\n",
       "    }\n",
       "\n",
       "    .dataframe tbody tr th {\n",
       "        vertical-align: top;\n",
       "    }\n",
       "\n",
       "    .dataframe thead th {\n",
       "        text-align: right;\n",
       "    }\n",
       "</style>\n",
       "<table border=\"1\" class=\"dataframe\">\n",
       "  <thead>\n",
       "    <tr style=\"text-align: right;\">\n",
       "      <th></th>\n",
       "      <th>area_type</th>\n",
       "      <th>availability</th>\n",
       "      <th>location</th>\n",
       "      <th>size</th>\n",
       "      <th>total_sqft</th>\n",
       "      <th>bath</th>\n",
       "      <th>balcony</th>\n",
       "      <th>price</th>\n",
       "      <th>hall</th>\n",
       "      <th>kitchen</th>\n",
       "      <th>room_count</th>\n",
       "    </tr>\n",
       "  </thead>\n",
       "  <tbody>\n",
       "    <tr>\n",
       "      <th>0</th>\n",
       "      <td>Super built-up  Area</td>\n",
       "      <td>0</td>\n",
       "      <td>Electronic City Phase II</td>\n",
       "      <td>2 BHK</td>\n",
       "      <td>1056</td>\n",
       "      <td>2.0</td>\n",
       "      <td>1.0</td>\n",
       "      <td>39.07</td>\n",
       "      <td>1.0</td>\n",
       "      <td>1.0</td>\n",
       "      <td>2</td>\n",
       "    </tr>\n",
       "    <tr>\n",
       "      <th>1</th>\n",
       "      <td>Plot  Area</td>\n",
       "      <td>1</td>\n",
       "      <td>Chikka Tirupathi</td>\n",
       "      <td>4 Bedroom</td>\n",
       "      <td>2600</td>\n",
       "      <td>5.0</td>\n",
       "      <td>3.0</td>\n",
       "      <td>120.00</td>\n",
       "      <td>0.0</td>\n",
       "      <td>0.0</td>\n",
       "      <td>4</td>\n",
       "    </tr>\n",
       "    <tr>\n",
       "      <th>2</th>\n",
       "      <td>Built-up  Area</td>\n",
       "      <td>1</td>\n",
       "      <td>Uttarahalli</td>\n",
       "      <td>3 BHK</td>\n",
       "      <td>1440</td>\n",
       "      <td>2.0</td>\n",
       "      <td>3.0</td>\n",
       "      <td>62.00</td>\n",
       "      <td>1.0</td>\n",
       "      <td>1.0</td>\n",
       "      <td>3</td>\n",
       "    </tr>\n",
       "    <tr>\n",
       "      <th>3</th>\n",
       "      <td>Super built-up  Area</td>\n",
       "      <td>1</td>\n",
       "      <td>Lingadheeranahalli</td>\n",
       "      <td>3 BHK</td>\n",
       "      <td>1521</td>\n",
       "      <td>3.0</td>\n",
       "      <td>1.0</td>\n",
       "      <td>95.00</td>\n",
       "      <td>1.0</td>\n",
       "      <td>1.0</td>\n",
       "      <td>3</td>\n",
       "    </tr>\n",
       "    <tr>\n",
       "      <th>4</th>\n",
       "      <td>Super built-up  Area</td>\n",
       "      <td>1</td>\n",
       "      <td>Kothanur</td>\n",
       "      <td>2 BHK</td>\n",
       "      <td>1200</td>\n",
       "      <td>2.0</td>\n",
       "      <td>1.0</td>\n",
       "      <td>51.00</td>\n",
       "      <td>1.0</td>\n",
       "      <td>1.0</td>\n",
       "      <td>2</td>\n",
       "    </tr>\n",
       "  </tbody>\n",
       "</table>\n",
       "</div>"
      ],
      "text/plain": [
       "              area_type  availability                  location       size  \\\n",
       "0  Super built-up  Area             0  Electronic City Phase II      2 BHK   \n",
       "1            Plot  Area             1          Chikka Tirupathi  4 Bedroom   \n",
       "2        Built-up  Area             1               Uttarahalli      3 BHK   \n",
       "3  Super built-up  Area             1        Lingadheeranahalli      3 BHK   \n",
       "4  Super built-up  Area             1                  Kothanur      2 BHK   \n",
       "\n",
       "  total_sqft  bath  balcony   price  hall  kitchen room_count  \n",
       "0       1056   2.0      1.0   39.07   1.0      1.0          2  \n",
       "1       2600   5.0      3.0  120.00   0.0      0.0          4  \n",
       "2       1440   2.0      3.0   62.00   1.0      1.0          3  \n",
       "3       1521   3.0      1.0   95.00   1.0      1.0          3  \n",
       "4       1200   2.0      1.0   51.00   1.0      1.0          2  "
      ]
     },
     "execution_count": 1386,
     "metadata": {},
     "output_type": "execute_result"
    }
   ],
   "source": [
    "for index, row in df.iterrows():\n",
    "    split_size(df, index, df.loc[index, 'size'])\n",
    "\n",
    "df.head()"
   ]
  },
  {
   "cell_type": "code",
   "execution_count": 1387,
   "id": "skilled-haiti",
   "metadata": {},
   "outputs": [
    {
     "data": {
      "text/plain": [
       "2.0"
      ]
     },
     "execution_count": 1387,
     "metadata": {},
     "output_type": "execute_result"
    }
   ],
   "source": [
    "df['bath'].median()"
   ]
  },
  {
   "cell_type": "code",
   "execution_count": 1388,
   "id": "roman-ranking",
   "metadata": {},
   "outputs": [
    {
     "data": {
      "text/html": [
       "<div>\n",
       "<style scoped>\n",
       "    .dataframe tbody tr th:only-of-type {\n",
       "        vertical-align: middle;\n",
       "    }\n",
       "\n",
       "    .dataframe tbody tr th {\n",
       "        vertical-align: top;\n",
       "    }\n",
       "\n",
       "    .dataframe thead th {\n",
       "        text-align: right;\n",
       "    }\n",
       "</style>\n",
       "<table border=\"1\" class=\"dataframe\">\n",
       "  <thead>\n",
       "    <tr style=\"text-align: right;\">\n",
       "      <th></th>\n",
       "      <th>bath</th>\n",
       "    </tr>\n",
       "    <tr>\n",
       "      <th>size</th>\n",
       "      <th></th>\n",
       "    </tr>\n",
       "  </thead>\n",
       "  <tbody>\n",
       "    <tr>\n",
       "      <th>1 BHK</th>\n",
       "      <td>1.0</td>\n",
       "    </tr>\n",
       "    <tr>\n",
       "      <th>1 Bedroom</th>\n",
       "      <td>1.0</td>\n",
       "    </tr>\n",
       "    <tr>\n",
       "      <th>1 RK</th>\n",
       "      <td>1.0</td>\n",
       "    </tr>\n",
       "    <tr>\n",
       "      <th>10 BHK</th>\n",
       "      <td>12.0</td>\n",
       "    </tr>\n",
       "    <tr>\n",
       "      <th>10 Bedroom</th>\n",
       "      <td>10.0</td>\n",
       "    </tr>\n",
       "    <tr>\n",
       "      <th>11 BHK</th>\n",
       "      <td>10.5</td>\n",
       "    </tr>\n",
       "    <tr>\n",
       "      <th>11 Bedroom</th>\n",
       "      <td>8.5</td>\n",
       "    </tr>\n",
       "    <tr>\n",
       "      <th>12 Bedroom</th>\n",
       "      <td>6.0</td>\n",
       "    </tr>\n",
       "    <tr>\n",
       "      <th>13 BHK</th>\n",
       "      <td>13.0</td>\n",
       "    </tr>\n",
       "    <tr>\n",
       "      <th>14 BHK</th>\n",
       "      <td>15.0</td>\n",
       "    </tr>\n",
       "    <tr>\n",
       "      <th>16 BHK</th>\n",
       "      <td>16.0</td>\n",
       "    </tr>\n",
       "    <tr>\n",
       "      <th>19 BHK</th>\n",
       "      <td>16.0</td>\n",
       "    </tr>\n",
       "    <tr>\n",
       "      <th>2 BHK</th>\n",
       "      <td>2.0</td>\n",
       "    </tr>\n",
       "    <tr>\n",
       "      <th>2 Bedroom</th>\n",
       "      <td>2.0</td>\n",
       "    </tr>\n",
       "    <tr>\n",
       "      <th>27 BHK</th>\n",
       "      <td>27.0</td>\n",
       "    </tr>\n",
       "    <tr>\n",
       "      <th>3 BHK</th>\n",
       "      <td>3.0</td>\n",
       "    </tr>\n",
       "    <tr>\n",
       "      <th>3 Bedroom</th>\n",
       "      <td>3.0</td>\n",
       "    </tr>\n",
       "    <tr>\n",
       "      <th>4 BHK</th>\n",
       "      <td>4.0</td>\n",
       "    </tr>\n",
       "    <tr>\n",
       "      <th>4 Bedroom</th>\n",
       "      <td>4.0</td>\n",
       "    </tr>\n",
       "    <tr>\n",
       "      <th>43 Bedroom</th>\n",
       "      <td>40.0</td>\n",
       "    </tr>\n",
       "    <tr>\n",
       "      <th>5 BHK</th>\n",
       "      <td>5.0</td>\n",
       "    </tr>\n",
       "    <tr>\n",
       "      <th>5 Bedroom</th>\n",
       "      <td>5.0</td>\n",
       "    </tr>\n",
       "    <tr>\n",
       "      <th>6 BHK</th>\n",
       "      <td>6.0</td>\n",
       "    </tr>\n",
       "    <tr>\n",
       "      <th>6 Bedroom</th>\n",
       "      <td>6.0</td>\n",
       "    </tr>\n",
       "    <tr>\n",
       "      <th>7 BHK</th>\n",
       "      <td>7.0</td>\n",
       "    </tr>\n",
       "    <tr>\n",
       "      <th>7 Bedroom</th>\n",
       "      <td>7.0</td>\n",
       "    </tr>\n",
       "    <tr>\n",
       "      <th>8 BHK</th>\n",
       "      <td>6.0</td>\n",
       "    </tr>\n",
       "    <tr>\n",
       "      <th>8 Bedroom</th>\n",
       "      <td>8.0</td>\n",
       "    </tr>\n",
       "    <tr>\n",
       "      <th>9 BHK</th>\n",
       "      <td>9.0</td>\n",
       "    </tr>\n",
       "    <tr>\n",
       "      <th>9 Bedroom</th>\n",
       "      <td>9.0</td>\n",
       "    </tr>\n",
       "  </tbody>\n",
       "</table>\n",
       "</div>"
      ],
      "text/plain": [
       "            bath\n",
       "size            \n",
       "1 BHK        1.0\n",
       "1 Bedroom    1.0\n",
       "1 RK         1.0\n",
       "10 BHK      12.0\n",
       "10 Bedroom  10.0\n",
       "11 BHK      10.5\n",
       "11 Bedroom   8.5\n",
       "12 Bedroom   6.0\n",
       "13 BHK      13.0\n",
       "14 BHK      15.0\n",
       "16 BHK      16.0\n",
       "19 BHK      16.0\n",
       "2 BHK        2.0\n",
       "2 Bedroom    2.0\n",
       "27 BHK      27.0\n",
       "3 BHK        3.0\n",
       "3 Bedroom    3.0\n",
       "4 BHK        4.0\n",
       "4 Bedroom    4.0\n",
       "43 Bedroom  40.0\n",
       "5 BHK        5.0\n",
       "5 Bedroom    5.0\n",
       "6 BHK        6.0\n",
       "6 Bedroom    6.0\n",
       "7 BHK        7.0\n",
       "7 Bedroom    7.0\n",
       "8 BHK        6.0\n",
       "8 Bedroom    8.0\n",
       "9 BHK        9.0\n",
       "9 Bedroom    9.0"
      ]
     },
     "execution_count": 1388,
     "metadata": {},
     "output_type": "execute_result"
    }
   ],
   "source": [
    "median_bath_df = pd.DataFrame(df.groupby('size')['bath'].median())\n",
    "median_bath_df"
   ]
  },
  {
   "cell_type": "code",
   "execution_count": 1389,
   "id": "velvet-packet",
   "metadata": {},
   "outputs": [],
   "source": [
    "# Filling the NaN values in bath with corresponding median for the respective room size\n",
    "for index, row in df.iterrows():\n",
    "    if np.isnan(df.loc[index, 'bath']):\n",
    "        df.loc[index, 'bath'] = median_bath_df.loc[df.loc[index,'size']].values[0]"
   ]
  },
  {
   "cell_type": "code",
   "execution_count": 1390,
   "id": "anonymous-armor",
   "metadata": {},
   "outputs": [
    {
     "data": {
      "text/html": [
       "<div>\n",
       "<style scoped>\n",
       "    .dataframe tbody tr th:only-of-type {\n",
       "        vertical-align: middle;\n",
       "    }\n",
       "\n",
       "    .dataframe tbody tr th {\n",
       "        vertical-align: top;\n",
       "    }\n",
       "\n",
       "    .dataframe thead th {\n",
       "        text-align: right;\n",
       "    }\n",
       "</style>\n",
       "<table border=\"1\" class=\"dataframe\">\n",
       "  <thead>\n",
       "    <tr style=\"text-align: right;\">\n",
       "      <th></th>\n",
       "      <th>balcony</th>\n",
       "    </tr>\n",
       "    <tr>\n",
       "      <th>size</th>\n",
       "      <th></th>\n",
       "    </tr>\n",
       "  </thead>\n",
       "  <tbody>\n",
       "    <tr>\n",
       "      <th>1 BHK</th>\n",
       "      <td>1.0</td>\n",
       "    </tr>\n",
       "    <tr>\n",
       "      <th>1 Bedroom</th>\n",
       "      <td>0.0</td>\n",
       "    </tr>\n",
       "    <tr>\n",
       "      <th>1 RK</th>\n",
       "      <td>0.0</td>\n",
       "    </tr>\n",
       "    <tr>\n",
       "      <th>10 BHK</th>\n",
       "      <td>NaN</td>\n",
       "    </tr>\n",
       "    <tr>\n",
       "      <th>10 Bedroom</th>\n",
       "      <td>3.0</td>\n",
       "    </tr>\n",
       "    <tr>\n",
       "      <th>11 BHK</th>\n",
       "      <td>3.0</td>\n",
       "    </tr>\n",
       "    <tr>\n",
       "      <th>11 Bedroom</th>\n",
       "      <td>1.5</td>\n",
       "    </tr>\n",
       "    <tr>\n",
       "      <th>12 Bedroom</th>\n",
       "      <td>2.0</td>\n",
       "    </tr>\n",
       "    <tr>\n",
       "      <th>13 BHK</th>\n",
       "      <td>0.0</td>\n",
       "    </tr>\n",
       "    <tr>\n",
       "      <th>14 BHK</th>\n",
       "      <td>0.0</td>\n",
       "    </tr>\n",
       "    <tr>\n",
       "      <th>16 BHK</th>\n",
       "      <td>NaN</td>\n",
       "    </tr>\n",
       "    <tr>\n",
       "      <th>19 BHK</th>\n",
       "      <td>NaN</td>\n",
       "    </tr>\n",
       "    <tr>\n",
       "      <th>2 BHK</th>\n",
       "      <td>1.0</td>\n",
       "    </tr>\n",
       "    <tr>\n",
       "      <th>2 Bedroom</th>\n",
       "      <td>1.0</td>\n",
       "    </tr>\n",
       "    <tr>\n",
       "      <th>27 BHK</th>\n",
       "      <td>0.0</td>\n",
       "    </tr>\n",
       "    <tr>\n",
       "      <th>3 BHK</th>\n",
       "      <td>2.0</td>\n",
       "    </tr>\n",
       "    <tr>\n",
       "      <th>3 Bedroom</th>\n",
       "      <td>1.0</td>\n",
       "    </tr>\n",
       "    <tr>\n",
       "      <th>4 BHK</th>\n",
       "      <td>2.0</td>\n",
       "    </tr>\n",
       "    <tr>\n",
       "      <th>4 Bedroom</th>\n",
       "      <td>2.0</td>\n",
       "    </tr>\n",
       "    <tr>\n",
       "      <th>43 Bedroom</th>\n",
       "      <td>0.0</td>\n",
       "    </tr>\n",
       "    <tr>\n",
       "      <th>5 BHK</th>\n",
       "      <td>2.0</td>\n",
       "    </tr>\n",
       "    <tr>\n",
       "      <th>5 Bedroom</th>\n",
       "      <td>2.0</td>\n",
       "    </tr>\n",
       "    <tr>\n",
       "      <th>6 BHK</th>\n",
       "      <td>2.0</td>\n",
       "    </tr>\n",
       "    <tr>\n",
       "      <th>6 Bedroom</th>\n",
       "      <td>2.0</td>\n",
       "    </tr>\n",
       "    <tr>\n",
       "      <th>7 BHK</th>\n",
       "      <td>3.0</td>\n",
       "    </tr>\n",
       "    <tr>\n",
       "      <th>7 Bedroom</th>\n",
       "      <td>2.0</td>\n",
       "    </tr>\n",
       "    <tr>\n",
       "      <th>8 BHK</th>\n",
       "      <td>3.0</td>\n",
       "    </tr>\n",
       "    <tr>\n",
       "      <th>8 Bedroom</th>\n",
       "      <td>2.0</td>\n",
       "    </tr>\n",
       "    <tr>\n",
       "      <th>9 BHK</th>\n",
       "      <td>3.0</td>\n",
       "    </tr>\n",
       "    <tr>\n",
       "      <th>9 Bedroom</th>\n",
       "      <td>2.0</td>\n",
       "    </tr>\n",
       "  </tbody>\n",
       "</table>\n",
       "</div>"
      ],
      "text/plain": [
       "            balcony\n",
       "size               \n",
       "1 BHK           1.0\n",
       "1 Bedroom       0.0\n",
       "1 RK            0.0\n",
       "10 BHK          NaN\n",
       "10 Bedroom      3.0\n",
       "11 BHK          3.0\n",
       "11 Bedroom      1.5\n",
       "12 Bedroom      2.0\n",
       "13 BHK          0.0\n",
       "14 BHK          0.0\n",
       "16 BHK          NaN\n",
       "19 BHK          NaN\n",
       "2 BHK           1.0\n",
       "2 Bedroom       1.0\n",
       "27 BHK          0.0\n",
       "3 BHK           2.0\n",
       "3 Bedroom       1.0\n",
       "4 BHK           2.0\n",
       "4 Bedroom       2.0\n",
       "43 Bedroom      0.0\n",
       "5 BHK           2.0\n",
       "5 Bedroom       2.0\n",
       "6 BHK           2.0\n",
       "6 Bedroom       2.0\n",
       "7 BHK           3.0\n",
       "7 Bedroom       2.0\n",
       "8 BHK           3.0\n",
       "8 Bedroom       2.0\n",
       "9 BHK           3.0\n",
       "9 Bedroom       2.0"
      ]
     },
     "execution_count": 1390,
     "metadata": {},
     "output_type": "execute_result"
    }
   ],
   "source": [
    "# Replacing all the NaN values in balcony witht the median of the subgroup based on number of rooms\n",
    "balcony_df = pd.DataFrame(df.groupby('size')['balcony'].median())\n",
    "balcony_df"
   ]
  },
  {
   "cell_type": "code",
   "execution_count": 1391,
   "id": "unknown-tragedy",
   "metadata": {},
   "outputs": [],
   "source": [
    "# We can see that for properties with higher the bedroom size dont have bath. And most of our NaN are for bedrooms\n",
    "# > 10. Setting all NaN as 0\n",
    "balcony_df.fillna(0, inplace=True)"
   ]
  },
  {
   "cell_type": "code",
   "execution_count": 1392,
   "id": "occasional-england",
   "metadata": {},
   "outputs": [
    {
     "data": {
      "text/html": [
       "<div>\n",
       "<style scoped>\n",
       "    .dataframe tbody tr th:only-of-type {\n",
       "        vertical-align: middle;\n",
       "    }\n",
       "\n",
       "    .dataframe tbody tr th {\n",
       "        vertical-align: top;\n",
       "    }\n",
       "\n",
       "    .dataframe thead th {\n",
       "        text-align: right;\n",
       "    }\n",
       "</style>\n",
       "<table border=\"1\" class=\"dataframe\">\n",
       "  <thead>\n",
       "    <tr style=\"text-align: right;\">\n",
       "      <th></th>\n",
       "      <th>area_type</th>\n",
       "      <th>availability</th>\n",
       "      <th>location</th>\n",
       "      <th>size</th>\n",
       "      <th>total_sqft</th>\n",
       "      <th>bath</th>\n",
       "      <th>balcony</th>\n",
       "      <th>price</th>\n",
       "      <th>hall</th>\n",
       "      <th>kitchen</th>\n",
       "      <th>room_count</th>\n",
       "    </tr>\n",
       "  </thead>\n",
       "  <tbody>\n",
       "    <tr>\n",
       "      <th>0</th>\n",
       "      <td>Super built-up  Area</td>\n",
       "      <td>0</td>\n",
       "      <td>Electronic City Phase II</td>\n",
       "      <td>2 BHK</td>\n",
       "      <td>1056</td>\n",
       "      <td>2.0</td>\n",
       "      <td>1.0</td>\n",
       "      <td>39.07</td>\n",
       "      <td>1.0</td>\n",
       "      <td>1.0</td>\n",
       "      <td>2</td>\n",
       "    </tr>\n",
       "    <tr>\n",
       "      <th>1</th>\n",
       "      <td>Plot  Area</td>\n",
       "      <td>1</td>\n",
       "      <td>Chikka Tirupathi</td>\n",
       "      <td>4 Bedroom</td>\n",
       "      <td>2600</td>\n",
       "      <td>5.0</td>\n",
       "      <td>3.0</td>\n",
       "      <td>120.00</td>\n",
       "      <td>0.0</td>\n",
       "      <td>0.0</td>\n",
       "      <td>4</td>\n",
       "    </tr>\n",
       "    <tr>\n",
       "      <th>2</th>\n",
       "      <td>Built-up  Area</td>\n",
       "      <td>1</td>\n",
       "      <td>Uttarahalli</td>\n",
       "      <td>3 BHK</td>\n",
       "      <td>1440</td>\n",
       "      <td>2.0</td>\n",
       "      <td>3.0</td>\n",
       "      <td>62.00</td>\n",
       "      <td>1.0</td>\n",
       "      <td>1.0</td>\n",
       "      <td>3</td>\n",
       "    </tr>\n",
       "    <tr>\n",
       "      <th>3</th>\n",
       "      <td>Super built-up  Area</td>\n",
       "      <td>1</td>\n",
       "      <td>Lingadheeranahalli</td>\n",
       "      <td>3 BHK</td>\n",
       "      <td>1521</td>\n",
       "      <td>3.0</td>\n",
       "      <td>1.0</td>\n",
       "      <td>95.00</td>\n",
       "      <td>1.0</td>\n",
       "      <td>1.0</td>\n",
       "      <td>3</td>\n",
       "    </tr>\n",
       "    <tr>\n",
       "      <th>4</th>\n",
       "      <td>Super built-up  Area</td>\n",
       "      <td>1</td>\n",
       "      <td>Kothanur</td>\n",
       "      <td>2 BHK</td>\n",
       "      <td>1200</td>\n",
       "      <td>2.0</td>\n",
       "      <td>1.0</td>\n",
       "      <td>51.00</td>\n",
       "      <td>1.0</td>\n",
       "      <td>1.0</td>\n",
       "      <td>2</td>\n",
       "    </tr>\n",
       "  </tbody>\n",
       "</table>\n",
       "</div>"
      ],
      "text/plain": [
       "              area_type  availability                  location       size  \\\n",
       "0  Super built-up  Area             0  Electronic City Phase II      2 BHK   \n",
       "1            Plot  Area             1          Chikka Tirupathi  4 Bedroom   \n",
       "2        Built-up  Area             1               Uttarahalli      3 BHK   \n",
       "3  Super built-up  Area             1        Lingadheeranahalli      3 BHK   \n",
       "4  Super built-up  Area             1                  Kothanur      2 BHK   \n",
       "\n",
       "  total_sqft  bath  balcony   price  hall  kitchen room_count  \n",
       "0       1056   2.0      1.0   39.07   1.0      1.0          2  \n",
       "1       2600   5.0      3.0  120.00   0.0      0.0          4  \n",
       "2       1440   2.0      3.0   62.00   1.0      1.0          3  \n",
       "3       1521   3.0      1.0   95.00   1.0      1.0          3  \n",
       "4       1200   2.0      1.0   51.00   1.0      1.0          2  "
      ]
     },
     "execution_count": 1392,
     "metadata": {},
     "output_type": "execute_result"
    }
   ],
   "source": [
    "# Filling NaN values with corresponding mean for the respective room size\n",
    "for index, row in df.iterrows():\n",
    "    if np.isnan(df.loc[index, 'balcony']):\n",
    "        df.loc[index, 'balcony'] = balcony_df.loc[df.loc[index,'size']].values[0]\n",
    "df.head()"
   ]
  },
  {
   "cell_type": "code",
   "execution_count": 1393,
   "id": "constant-commerce",
   "metadata": {},
   "outputs": [
    {
     "data": {
      "text/plain": [
       "area_type       0\n",
       "availability    0\n",
       "location        0\n",
       "size            0\n",
       "total_sqft      0\n",
       "bath            0\n",
       "balcony         0\n",
       "price           0\n",
       "hall            0\n",
       "kitchen         0\n",
       "room_count      0\n",
       "dtype: int64"
      ]
     },
     "execution_count": 1393,
     "metadata": {},
     "output_type": "execute_result"
    }
   ],
   "source": [
    "df.isna().sum()"
   ]
  },
  {
   "cell_type": "code",
   "execution_count": 1394,
   "id": "streaming-foundation",
   "metadata": {},
   "outputs": [
    {
     "data": {
      "text/plain": [
       "area_type       0\n",
       "availability    0\n",
       "location        0\n",
       "size            0\n",
       "total_sqft      0\n",
       "bath            0\n",
       "balcony         0\n",
       "price           0\n",
       "hall            0\n",
       "kitchen         0\n",
       "room_count      0\n",
       "dtype: int64"
      ]
     },
     "execution_count": 1394,
     "metadata": {},
     "output_type": "execute_result"
    }
   ],
   "source": [
    "df.dropna(inplace=True)\n",
    "df.isna().sum()"
   ]
  },
  {
   "cell_type": "code",
   "execution_count": 1395,
   "id": "individual-country",
   "metadata": {},
   "outputs": [
    {
     "data": {
      "text/plain": [
       "(10656, 11)"
      ]
     },
     "execution_count": 1395,
     "metadata": {},
     "output_type": "execute_result"
    }
   ],
   "source": [
    "df.shape"
   ]
  },
  {
   "cell_type": "code",
   "execution_count": 1329,
   "id": "center-chapel",
   "metadata": {},
   "outputs": [
    {
     "data": {
      "text/plain": [
       "2     4441\n",
       "3     3871\n",
       "4     1137\n",
       "1      536\n",
       "5      282\n",
       "6      175\n",
       "7       77\n",
       "8       68\n",
       "9       48\n",
       "10      10\n",
       "11       4\n",
       "27       1\n",
       "43       1\n",
       "12       1\n",
       "13       1\n",
       "14       1\n",
       "Name: size, dtype: int64"
      ]
     },
     "execution_count": 1329,
     "metadata": {},
     "output_type": "execute_result"
    }
   ],
   "source": [
    "df['size'].value_counts()"
   ]
  },
  {
   "cell_type": "code",
   "execution_count": 1396,
   "id": "visible-jurisdiction",
   "metadata": {
    "scrolled": true
   },
   "outputs": [
    {
     "data": {
      "text/html": [
       "<div>\n",
       "<style scoped>\n",
       "    .dataframe tbody tr th:only-of-type {\n",
       "        vertical-align: middle;\n",
       "    }\n",
       "\n",
       "    .dataframe tbody tr th {\n",
       "        vertical-align: top;\n",
       "    }\n",
       "\n",
       "    .dataframe thead th {\n",
       "        text-align: right;\n",
       "    }\n",
       "</style>\n",
       "<table border=\"1\" class=\"dataframe\">\n",
       "  <thead>\n",
       "    <tr style=\"text-align: right;\">\n",
       "      <th></th>\n",
       "      <th>area_type</th>\n",
       "      <th>availability</th>\n",
       "      <th>location</th>\n",
       "      <th>size</th>\n",
       "      <th>total_sqft</th>\n",
       "      <th>bath</th>\n",
       "      <th>balcony</th>\n",
       "      <th>price</th>\n",
       "      <th>hall</th>\n",
       "      <th>kitchen</th>\n",
       "      <th>room_count</th>\n",
       "      <th>total_sqft_is_alphanumeric</th>\n",
       "    </tr>\n",
       "  </thead>\n",
       "  <tbody>\n",
       "    <tr>\n",
       "      <th>410</th>\n",
       "      <td>Super built-up  Area</td>\n",
       "      <td>1</td>\n",
       "      <td>Kengeri</td>\n",
       "      <td>1 BHK</td>\n",
       "      <td>34.46Sq. Meter</td>\n",
       "      <td>1.0</td>\n",
       "      <td>0.0</td>\n",
       "      <td>18.5</td>\n",
       "      <td>1.0</td>\n",
       "      <td>1.0</td>\n",
       "      <td>1</td>\n",
       "      <td>True</td>\n",
       "    </tr>\n",
       "    <tr>\n",
       "      <th>648</th>\n",
       "      <td>Built-up  Area</td>\n",
       "      <td>1</td>\n",
       "      <td>Arekere</td>\n",
       "      <td>9 Bedroom</td>\n",
       "      <td>4125Perch</td>\n",
       "      <td>9.0</td>\n",
       "      <td>2.0</td>\n",
       "      <td>265.0</td>\n",
       "      <td>0.0</td>\n",
       "      <td>0.0</td>\n",
       "      <td>9</td>\n",
       "      <td>True</td>\n",
       "    </tr>\n",
       "    <tr>\n",
       "      <th>775</th>\n",
       "      <td>Built-up  Area</td>\n",
       "      <td>1</td>\n",
       "      <td>Basavanagara</td>\n",
       "      <td>1 BHK</td>\n",
       "      <td>1000Sq. Meter</td>\n",
       "      <td>2.0</td>\n",
       "      <td>1.0</td>\n",
       "      <td>93.0</td>\n",
       "      <td>1.0</td>\n",
       "      <td>1.0</td>\n",
       "      <td>1</td>\n",
       "      <td>True</td>\n",
       "    </tr>\n",
       "    <tr>\n",
       "      <th>872</th>\n",
       "      <td>Super built-up  Area</td>\n",
       "      <td>1</td>\n",
       "      <td>Singapura Village</td>\n",
       "      <td>2 BHK</td>\n",
       "      <td>1100Sq. Yards</td>\n",
       "      <td>2.0</td>\n",
       "      <td>1.0</td>\n",
       "      <td>45.0</td>\n",
       "      <td>1.0</td>\n",
       "      <td>1.0</td>\n",
       "      <td>2</td>\n",
       "      <td>True</td>\n",
       "    </tr>\n",
       "    <tr>\n",
       "      <th>1019</th>\n",
       "      <td>Plot  Area</td>\n",
       "      <td>0</td>\n",
       "      <td>Marathi Layout</td>\n",
       "      <td>1 Bedroom</td>\n",
       "      <td>5.31Acres</td>\n",
       "      <td>1.0</td>\n",
       "      <td>0.0</td>\n",
       "      <td>110.0</td>\n",
       "      <td>0.0</td>\n",
       "      <td>0.0</td>\n",
       "      <td>1</td>\n",
       "      <td>True</td>\n",
       "    </tr>\n",
       "  </tbody>\n",
       "</table>\n",
       "</div>"
      ],
      "text/plain": [
       "                 area_type  availability           location       size  \\\n",
       "410   Super built-up  Area             1            Kengeri      1 BHK   \n",
       "648         Built-up  Area             1            Arekere  9 Bedroom   \n",
       "775         Built-up  Area             1       Basavanagara      1 BHK   \n",
       "872   Super built-up  Area             1  Singapura Village      2 BHK   \n",
       "1019            Plot  Area             0     Marathi Layout  1 Bedroom   \n",
       "\n",
       "          total_sqft  bath  balcony  price  hall  kitchen room_count  \\\n",
       "410   34.46Sq. Meter   1.0      0.0   18.5   1.0      1.0          1   \n",
       "648        4125Perch   9.0      2.0  265.0   0.0      0.0          9   \n",
       "775    1000Sq. Meter   2.0      1.0   93.0   1.0      1.0          1   \n",
       "872    1100Sq. Yards   2.0      1.0   45.0   1.0      1.0          2   \n",
       "1019       5.31Acres   1.0      0.0  110.0   0.0      0.0          1   \n",
       "\n",
       "      total_sqft_is_alphanumeric  \n",
       "410                         True  \n",
       "648                         True  \n",
       "775                         True  \n",
       "872                         True  \n",
       "1019                        True  "
      ]
     },
     "execution_count": 1396,
     "metadata": {},
     "output_type": "execute_result"
    }
   ],
   "source": [
    "# Finding all the rows in total_sqft which contain different units\n",
    "df['total_sqft_is_alphanumeric'] = list(map(lambda x: re.search(r'[a-zA-Z]',x) != None, df['total_sqft']))\n",
    "df.loc[df['total_sqft_is_alphanumeric']==True].head()"
   ]
  },
  {
   "cell_type": "markdown",
   "id": "professional-wagner",
   "metadata": {},
   "source": [
    "We can see that there are multiple units which are used here:\n",
    "SqMeter/Acres/SqYards/Grounds/Cents/Guntha/Perch\n",
    "\n",
    "Using calculators from https://housing.com/calculators/ground-to-square-feet\n",
    "* 1 Ground =  2400.352024 sq.ft\n",
    "* 1 Perch = 272.25 sq.ft\n",
    "* 1 acre = 43560.00001 sq.ft\n",
    "* 1 Guntha = 1089 sq.ft\n",
    "* 1 sq.yards = 9.000000878 sq.ft\n",
    "* 1 sq.meters = 10.76391042 sq.ft\n",
    "* 1 Cents = 435.56 sq.ft"
   ]
  },
  {
   "cell_type": "code",
   "execution_count": 1397,
   "id": "noble-brook",
   "metadata": {},
   "outputs": [],
   "source": [
    "def return_in_sq_ft(value, units):\n",
    "    units = units.lower()\n",
    "    value=float(value)\n",
    "    if units==\"grounds\":\n",
    "        return value*2400.352024\n",
    "    elif units==\"perch\":\n",
    "        return value*272.25\n",
    "    elif units==\"acres\":\n",
    "        return value*43560.00001\n",
    "    elif units==\"guntha\":\n",
    "        return value*1089\n",
    "    elif units==\"sq.yards\":\n",
    "        return value*9.000000878\n",
    "    elif units==\"sq.meter\":\n",
    "        return value*10.76391042\n",
    "    elif units==\"cents\":\n",
    "        return value*435.56\n",
    "    else:\n",
    "        print(f\"{units} not FOUND\")\n",
    "\n",
    "def units_in_sq_ft(value):\n",
    "    if re.search(r'[a-zA-Z]',value) != None:\n",
    "        \n",
    "        s_arr = re.findall(r'\\d+[.]?\\d*|[A-Za-z.]+', value)\n",
    "        return return_in_sq_ft(s_arr[0], \"\".join(s_arr[1:]))\n",
    "    elif value.find(\"-\")!=-1:\n",
    "        return (float(value.split(\"-\")[0])+float(value.split(\"-\")[1]))/2\n",
    "    else:\n",
    "        return float(value)\n",
    "\n",
    "df[\"total_sqft\"] = df[\"total_sqft\"].apply(units_in_sq_ft)"
   ]
  },
  {
   "cell_type": "code",
   "execution_count": 1398,
   "id": "cheap-disability",
   "metadata": {},
   "outputs": [],
   "source": [
    "df.drop(columns=[\"total_sqft_is_alphanumeric\"], inplace=True)"
   ]
  },
  {
   "cell_type": "code",
   "execution_count": 1409,
   "id": "downtown-amendment",
   "metadata": {},
   "outputs": [
    {
     "data": {
      "text/plain": [
       "2     4441\n",
       "3     3871\n",
       "4     1137\n",
       "1      536\n",
       "5      282\n",
       "6      175\n",
       "7       77\n",
       "8       68\n",
       "9       48\n",
       "10      10\n",
       "11       4\n",
       "14       1\n",
       "12       1\n",
       "16       1\n",
       "43       1\n",
       "27       1\n",
       "19       1\n",
       "13       1\n",
       "Name: room_count, dtype: int64"
      ]
     },
     "execution_count": 1409,
     "metadata": {},
     "output_type": "execute_result"
    }
   ],
   "source": [
    "df.room_count.value_counts()"
   ]
  },
  {
   "cell_type": "code",
   "execution_count": 1421,
   "id": "vanilla-timothy",
   "metadata": {},
   "outputs": [],
   "source": [
    "df[['total_sqft','price','room_count']] = df[['total_sqft','price','room_count']].astype(float)\n"
   ]
  },
  {
   "cell_type": "code",
   "execution_count": 1427,
   "id": "developmental-machine",
   "metadata": {},
   "outputs": [
    {
     "name": "stdout",
     "output_type": "stream",
     "text": [
      "total_sqft\n",
      "1100.0 1680.0\n",
      "price\n",
      "50.0 120.0\n",
      "room_count\n",
      "2.0 3.0\n"
     ]
    },
    {
     "data": {
      "text/plain": [
       "<AxesSubplot:>"
      ]
     },
     "execution_count": 1427,
     "metadata": {},
     "output_type": "execute_result"
    },
    {
     "data": {
      "image/png": "[encoded data removed]",
      "text/plain": [
       "<Figure size 432x288 with 1 Axes>"
      ]
     },
     "metadata": {
      "needs_background": "light"
     },
     "output_type": "display_data"
    }
   ],
   "source": [
    "# Getting rid of the outliers from originally numeric column\n",
    "df_o = df[['total_sqft','price','room_count']]\n",
    "for col in df_o.columns:\n",
    "    tempdata = df_o.sort_values(by=col)[col]\n",
    "    print(col)\n",
    "    q1,q3 = tempdata.quantile([0.25,0.75])\n",
    "    print(q1,q3)\n",
    "    IQR = q1-q3\n",
    "    lr = q1-1.5*IQR\n",
    "    ur = q3+1.5*IQR\n",
    "    # Replacing the values \n",
    "    df_o[col].apply(lambda x: x if x <= ur else ur)\n",
    "    df_o[col].apply(lambda x: x if x >= lr else lr)\n",
    "\n",
    "sns.boxplot(data=df_o)"
   ]
  },
  {
   "cell_type": "code",
   "execution_count": 1428,
   "id": "invalid-obligation",
   "metadata": {},
   "outputs": [
    {
     "data": {
      "text/html": [
       "<div>\n",
       "<style scoped>\n",
       "    .dataframe tbody tr th:only-of-type {\n",
       "        vertical-align: middle;\n",
       "    }\n",
       "\n",
       "    .dataframe tbody tr th {\n",
       "        vertical-align: top;\n",
       "    }\n",
       "\n",
       "    .dataframe thead th {\n",
       "        text-align: right;\n",
       "    }\n",
       "</style>\n",
       "<table border=\"1\" class=\"dataframe\">\n",
       "  <thead>\n",
       "    <tr style=\"text-align: right;\">\n",
       "      <th></th>\n",
       "      <th>total_sqft</th>\n",
       "      <th>price</th>\n",
       "      <th>room_count</th>\n",
       "    </tr>\n",
       "  </thead>\n",
       "  <tbody>\n",
       "    <tr>\n",
       "      <th>0</th>\n",
       "      <td>1056.0</td>\n",
       "      <td>39.07</td>\n",
       "      <td>2.0</td>\n",
       "    </tr>\n",
       "    <tr>\n",
       "      <th>1</th>\n",
       "      <td>2600.0</td>\n",
       "      <td>120.00</td>\n",
       "      <td>4.0</td>\n",
       "    </tr>\n",
       "    <tr>\n",
       "      <th>2</th>\n",
       "      <td>1440.0</td>\n",
       "      <td>62.00</td>\n",
       "      <td>3.0</td>\n",
       "    </tr>\n",
       "    <tr>\n",
       "      <th>3</th>\n",
       "      <td>1521.0</td>\n",
       "      <td>95.00</td>\n",
       "      <td>3.0</td>\n",
       "    </tr>\n",
       "    <tr>\n",
       "      <th>4</th>\n",
       "      <td>1200.0</td>\n",
       "      <td>51.00</td>\n",
       "      <td>2.0</td>\n",
       "    </tr>\n",
       "  </tbody>\n",
       "</table>\n",
       "</div>"
      ],
      "text/plain": [
       "   total_sqft   price  room_count\n",
       "0      1056.0   39.07         2.0\n",
       "1      2600.0  120.00         4.0\n",
       "2      1440.0   62.00         3.0\n",
       "3      1521.0   95.00         3.0\n",
       "4      1200.0   51.00         2.0"
      ]
     },
     "execution_count": 1428,
     "metadata": {},
     "output_type": "execute_result"
    }
   ],
   "source": [
    "df_o.head()"
   ]
  },
  {
   "cell_type": "code",
   "execution_count": null,
   "id": "respected-referral",
   "metadata": {},
   "outputs": [],
   "source": [
    "df.drop(columns=['total_sqft','price','room_count'], inplace=True)\n",
    "df.con"
   ]
  },
  {
   "cell_type": "markdown",
   "id": "falling-rider",
   "metadata": {},
   "source": [
    "### Adding per square-feet price"
   ]
  },
  {
   "cell_type": "code",
   "execution_count": 1333,
   "id": "referenced-translation",
   "metadata": {},
   "outputs": [
    {
     "data": {
      "text/html": [
       "<div>\n",
       "<style scoped>\n",
       "    .dataframe tbody tr th:only-of-type {\n",
       "        vertical-align: middle;\n",
       "    }\n",
       "\n",
       "    .dataframe tbody tr th {\n",
       "        vertical-align: top;\n",
       "    }\n",
       "\n",
       "    .dataframe thead th {\n",
       "        text-align: right;\n",
       "    }\n",
       "</style>\n",
       "<table border=\"1\" class=\"dataframe\">\n",
       "  <thead>\n",
       "    <tr style=\"text-align: right;\">\n",
       "      <th></th>\n",
       "      <th>area_type</th>\n",
       "      <th>availability</th>\n",
       "      <th>location</th>\n",
       "      <th>size</th>\n",
       "      <th>total_sqft</th>\n",
       "      <th>bath</th>\n",
       "      <th>balcony</th>\n",
       "      <th>price</th>\n",
       "      <th>price_per_square_ft</th>\n",
       "    </tr>\n",
       "  </thead>\n",
       "  <tbody>\n",
       "    <tr>\n",
       "      <th>0</th>\n",
       "      <td>Super built-up  Area</td>\n",
       "      <td>0</td>\n",
       "      <td>Electronic City Phase II</td>\n",
       "      <td>2</td>\n",
       "      <td>1056.0</td>\n",
       "      <td>2.0</td>\n",
       "      <td>1.0</td>\n",
       "      <td>39.07</td>\n",
       "      <td>36998.106061</td>\n",
       "    </tr>\n",
       "    <tr>\n",
       "      <th>1</th>\n",
       "      <td>Plot  Area</td>\n",
       "      <td>1</td>\n",
       "      <td>Chikka Tirupathi</td>\n",
       "      <td>4</td>\n",
       "      <td>2600.0</td>\n",
       "      <td>5.0</td>\n",
       "      <td>3.0</td>\n",
       "      <td>120.00</td>\n",
       "      <td>46153.846154</td>\n",
       "    </tr>\n",
       "    <tr>\n",
       "      <th>2</th>\n",
       "      <td>Built-up  Area</td>\n",
       "      <td>1</td>\n",
       "      <td>Uttarahalli</td>\n",
       "      <td>3</td>\n",
       "      <td>1440.0</td>\n",
       "      <td>2.0</td>\n",
       "      <td>3.0</td>\n",
       "      <td>62.00</td>\n",
       "      <td>43055.555556</td>\n",
       "    </tr>\n",
       "    <tr>\n",
       "      <th>3</th>\n",
       "      <td>Super built-up  Area</td>\n",
       "      <td>1</td>\n",
       "      <td>Lingadheeranahalli</td>\n",
       "      <td>3</td>\n",
       "      <td>1521.0</td>\n",
       "      <td>3.0</td>\n",
       "      <td>1.0</td>\n",
       "      <td>95.00</td>\n",
       "      <td>62458.908613</td>\n",
       "    </tr>\n",
       "    <tr>\n",
       "      <th>4</th>\n",
       "      <td>Super built-up  Area</td>\n",
       "      <td>1</td>\n",
       "      <td>Kothanur</td>\n",
       "      <td>2</td>\n",
       "      <td>1200.0</td>\n",
       "      <td>2.0</td>\n",
       "      <td>1.0</td>\n",
       "      <td>51.00</td>\n",
       "      <td>42500.000000</td>\n",
       "    </tr>\n",
       "  </tbody>\n",
       "</table>\n",
       "</div>"
      ],
      "text/plain": [
       "              area_type  availability                  location  size  \\\n",
       "0  Super built-up  Area             0  Electronic City Phase II     2   \n",
       "1            Plot  Area             1          Chikka Tirupathi     4   \n",
       "2        Built-up  Area             1               Uttarahalli     3   \n",
       "3  Super built-up  Area             1        Lingadheeranahalli     3   \n",
       "4  Super built-up  Area             1                  Kothanur     2   \n",
       "\n",
       "   total_sqft  bath  balcony   price  price_per_square_ft  \n",
       "0      1056.0   2.0      1.0   39.07         36998.106061  \n",
       "1      2600.0   5.0      3.0  120.00         46153.846154  \n",
       "2      1440.0   2.0      3.0   62.00         43055.555556  \n",
       "3      1521.0   3.0      1.0   95.00         62458.908613  \n",
       "4      1200.0   2.0      1.0   51.00         42500.000000  "
      ]
     },
     "execution_count": 1333,
     "metadata": {},
     "output_type": "execute_result"
    }
   ],
   "source": [
    "df['price_per_square_ft'] = (df['price']*1000000)/df['total_sqft']\n",
    "df.head()"
   ]
  },
  {
   "cell_type": "markdown",
   "id": "weekly-moscow",
   "metadata": {},
   "source": [
    "### Finding all the unique Locations"
   ]
  },
  {
   "cell_type": "code",
   "execution_count": 1334,
   "id": "opening-workplace",
   "metadata": {},
   "outputs": [
    {
     "data": {
      "text/html": [
       "<div>\n",
       "<style scoped>\n",
       "    .dataframe tbody tr th:only-of-type {\n",
       "        vertical-align: middle;\n",
       "    }\n",
       "\n",
       "    .dataframe tbody tr th {\n",
       "        vertical-align: top;\n",
       "    }\n",
       "\n",
       "    .dataframe thead th {\n",
       "        text-align: right;\n",
       "    }\n",
       "</style>\n",
       "<table border=\"1\" class=\"dataframe\">\n",
       "  <thead>\n",
       "    <tr style=\"text-align: right;\">\n",
       "      <th></th>\n",
       "      <th>area_type</th>\n",
       "      <th>availability</th>\n",
       "      <th>location</th>\n",
       "      <th>size</th>\n",
       "      <th>total_sqft</th>\n",
       "      <th>bath</th>\n",
       "      <th>balcony</th>\n",
       "      <th>price</th>\n",
       "      <th>price_per_square_ft</th>\n",
       "    </tr>\n",
       "  </thead>\n",
       "  <tbody>\n",
       "    <tr>\n",
       "      <th>0</th>\n",
       "      <td>Super built-up  Area</td>\n",
       "      <td>0</td>\n",
       "      <td>Electronic City Phase II</td>\n",
       "      <td>2</td>\n",
       "      <td>1056.0</td>\n",
       "      <td>2.0</td>\n",
       "      <td>1.0</td>\n",
       "      <td>39.07</td>\n",
       "      <td>36998.106061</td>\n",
       "    </tr>\n",
       "    <tr>\n",
       "      <th>1</th>\n",
       "      <td>Plot  Area</td>\n",
       "      <td>1</td>\n",
       "      <td>Chikka Tirupathi</td>\n",
       "      <td>4</td>\n",
       "      <td>2600.0</td>\n",
       "      <td>5.0</td>\n",
       "      <td>3.0</td>\n",
       "      <td>120.00</td>\n",
       "      <td>46153.846154</td>\n",
       "    </tr>\n",
       "    <tr>\n",
       "      <th>2</th>\n",
       "      <td>Built-up  Area</td>\n",
       "      <td>1</td>\n",
       "      <td>Uttarahalli</td>\n",
       "      <td>3</td>\n",
       "      <td>1440.0</td>\n",
       "      <td>2.0</td>\n",
       "      <td>3.0</td>\n",
       "      <td>62.00</td>\n",
       "      <td>43055.555556</td>\n",
       "    </tr>\n",
       "    <tr>\n",
       "      <th>3</th>\n",
       "      <td>Super built-up  Area</td>\n",
       "      <td>1</td>\n",
       "      <td>Lingadheeranahalli</td>\n",
       "      <td>3</td>\n",
       "      <td>1521.0</td>\n",
       "      <td>3.0</td>\n",
       "      <td>1.0</td>\n",
       "      <td>95.00</td>\n",
       "      <td>62458.908613</td>\n",
       "    </tr>\n",
       "    <tr>\n",
       "      <th>4</th>\n",
       "      <td>Super built-up  Area</td>\n",
       "      <td>1</td>\n",
       "      <td>Kothanur</td>\n",
       "      <td>2</td>\n",
       "      <td>1200.0</td>\n",
       "      <td>2.0</td>\n",
       "      <td>1.0</td>\n",
       "      <td>51.00</td>\n",
       "      <td>42500.000000</td>\n",
       "    </tr>\n",
       "  </tbody>\n",
       "</table>\n",
       "</div>"
      ],
      "text/plain": [
       "              area_type  availability                  location  size  \\\n",
       "0  Super built-up  Area             0  Electronic City Phase II     2   \n",
       "1            Plot  Area             1          Chikka Tirupathi     4   \n",
       "2        Built-up  Area             1               Uttarahalli     3   \n",
       "3  Super built-up  Area             1        Lingadheeranahalli     3   \n",
       "4  Super built-up  Area             1                  Kothanur     2   \n",
       "\n",
       "   total_sqft  bath  balcony   price  price_per_square_ft  \n",
       "0      1056.0   2.0      1.0   39.07         36998.106061  \n",
       "1      2600.0   5.0      3.0  120.00         46153.846154  \n",
       "2      1440.0   2.0      3.0   62.00         43055.555556  \n",
       "3      1521.0   3.0      1.0   95.00         62458.908613  \n",
       "4      1200.0   2.0      1.0   51.00         42500.000000  "
      ]
     },
     "execution_count": 1334,
     "metadata": {},
     "output_type": "execute_result"
    }
   ],
   "source": [
    "# Removing all the rows where the room-size are lesser that even 300 sq.ft\n",
    "df_1 = df[~(df['total_sqft']/df['size'] < 300)]\n",
    "df_1.head()"
   ]
  },
  {
   "cell_type": "code",
   "execution_count": 1335,
   "id": "fundamental-antique",
   "metadata": {},
   "outputs": [
    {
     "data": {
      "text/plain": [
       "(10051, 9)"
      ]
     },
     "execution_count": 1335,
     "metadata": {},
     "output_type": "execute_result"
    }
   ],
   "source": [
    "df_1.shape"
   ]
  },
  {
   "cell_type": "code",
   "execution_count": 1336,
   "id": "pediatric-remove",
   "metadata": {},
   "outputs": [
    {
     "data": {
      "text/plain": [
       "(9519, 9)"
      ]
     },
     "execution_count": 1336,
     "metadata": {},
     "output_type": "execute_result"
    }
   ],
   "source": [
    "# Erasing the outliers from each group of locations\n",
    "def remove_pps_outliers(df):\n",
    "    df_out=pd.DataFrame()\n",
    "    for key,subdf in df.groupby('location'):\n",
    "        m=np.mean(subdf.price_per_square_ft)\n",
    "        st=np.std(subdf.price_per_square_ft)\n",
    "        reduced_df=subdf[(subdf.price_per_square_ft>(m-3*st))& (subdf.price_per_square_ft<(m+3*st))]\n",
    "        df_out=pd.concat([df_out,reduced_df],ignore_index=True)\n",
    "    return df_out\n",
    "df_2=remove_pps_outliers(df_1)\n",
    "df_2.shape"
   ]
  },
  {
   "cell_type": "code",
   "execution_count": 1337,
   "id": "continuous-continuity",
   "metadata": {},
   "outputs": [
    {
     "data": {
      "text/plain": [
       "Text(0, 0.5, 'Count')"
      ]
     },
     "execution_count": 1337,
     "metadata": {},
     "output_type": "execute_result"
    },
    {
     "data": {
      "image/png": "[encoded data removed]",
      "text/plain": [
       "<Figure size 432x288 with 1 Axes>"
      ]
     },
     "metadata": {
      "needs_background": "light"
     },
     "output_type": "display_data"
    }
   ],
   "source": [
    "sns.histplot(df_2['price_per_square_ft'])\n",
    "plt.ylabel('Count')"
   ]
  },
  {
   "cell_type": "code",
   "execution_count": 1338,
   "id": "shaped-lunch",
   "metadata": {},
   "outputs": [
    {
     "data": {
      "text/plain": [
       "Text(0, 0.5, 'Count')"
      ]
     },
     "execution_count": 1338,
     "metadata": {},
     "output_type": "execute_result"
    },
    {
     "data": {
      "image/png": "[encoded data removed]",
      "text/plain": [
       "<Figure size 432x288 with 1 Axes>"
      ]
     },
     "metadata": {
      "needs_background": "light"
     },
     "output_type": "display_data"
    }
   ],
   "source": [
    "sns.histplot(df_2['bath'])\n",
    "plt.ylabel('Count')"
   ]
  },
  {
   "cell_type": "code",
   "execution_count": 1339,
   "id": "swiss-melbourne",
   "metadata": {},
   "outputs": [
    {
     "data": {
      "text/html": [
       "<div>\n",
       "<style scoped>\n",
       "    .dataframe tbody tr th:only-of-type {\n",
       "        vertical-align: middle;\n",
       "    }\n",
       "\n",
       "    .dataframe tbody tr th {\n",
       "        vertical-align: top;\n",
       "    }\n",
       "\n",
       "    .dataframe thead th {\n",
       "        text-align: right;\n",
       "    }\n",
       "</style>\n",
       "<table border=\"1\" class=\"dataframe\">\n",
       "  <thead>\n",
       "    <tr style=\"text-align: right;\">\n",
       "      <th></th>\n",
       "      <th>area_type</th>\n",
       "      <th>availability</th>\n",
       "      <th>location</th>\n",
       "      <th>size</th>\n",
       "      <th>total_sqft</th>\n",
       "      <th>bath</th>\n",
       "      <th>balcony</th>\n",
       "      <th>price</th>\n",
       "      <th>price_per_square_ft</th>\n",
       "    </tr>\n",
       "  </thead>\n",
       "  <tbody>\n",
       "    <tr>\n",
       "      <th>0</th>\n",
       "      <td>Super built-up  Area</td>\n",
       "      <td>1</td>\n",
       "      <td>Devarabeesana Halli</td>\n",
       "      <td>2</td>\n",
       "      <td>1100.0</td>\n",
       "      <td>2.0</td>\n",
       "      <td>1.0</td>\n",
       "      <td>70.0</td>\n",
       "      <td>63636.363636</td>\n",
       "    </tr>\n",
       "    <tr>\n",
       "      <th>1</th>\n",
       "      <td>Super built-up  Area</td>\n",
       "      <td>1</td>\n",
       "      <td>Devarabeesana Halli</td>\n",
       "      <td>3</td>\n",
       "      <td>1672.0</td>\n",
       "      <td>3.0</td>\n",
       "      <td>2.0</td>\n",
       "      <td>150.0</td>\n",
       "      <td>89712.918660</td>\n",
       "    </tr>\n",
       "    <tr>\n",
       "      <th>2</th>\n",
       "      <td>Built-up  Area</td>\n",
       "      <td>1</td>\n",
       "      <td>Devarabeesana Halli</td>\n",
       "      <td>3</td>\n",
       "      <td>1750.0</td>\n",
       "      <td>3.0</td>\n",
       "      <td>3.0</td>\n",
       "      <td>149.0</td>\n",
       "      <td>85142.857143</td>\n",
       "    </tr>\n",
       "    <tr>\n",
       "      <th>3</th>\n",
       "      <td>Super built-up  Area</td>\n",
       "      <td>1</td>\n",
       "      <td>Devarabeesana Halli</td>\n",
       "      <td>3</td>\n",
       "      <td>1670.0</td>\n",
       "      <td>3.0</td>\n",
       "      <td>2.0</td>\n",
       "      <td>160.0</td>\n",
       "      <td>95808.383234</td>\n",
       "    </tr>\n",
       "    <tr>\n",
       "      <th>4</th>\n",
       "      <td>Super built-up  Area</td>\n",
       "      <td>1</td>\n",
       "      <td>Devarabeesana Halli</td>\n",
       "      <td>3</td>\n",
       "      <td>1750.0</td>\n",
       "      <td>3.0</td>\n",
       "      <td>2.0</td>\n",
       "      <td>150.0</td>\n",
       "      <td>85714.285714</td>\n",
       "    </tr>\n",
       "  </tbody>\n",
       "</table>\n",
       "</div>"
      ],
      "text/plain": [
       "              area_type  availability              location  size  total_sqft  \\\n",
       "0  Super built-up  Area             1   Devarabeesana Halli     2      1100.0   \n",
       "1  Super built-up  Area             1   Devarabeesana Halli     3      1672.0   \n",
       "2        Built-up  Area             1   Devarabeesana Halli     3      1750.0   \n",
       "3  Super built-up  Area             1   Devarabeesana Halli     3      1670.0   \n",
       "4  Super built-up  Area             1   Devarabeesana Halli     3      1750.0   \n",
       "\n",
       "   bath  balcony  price  price_per_square_ft  \n",
       "0   2.0      1.0   70.0         63636.363636  \n",
       "1   3.0      2.0  150.0         89712.918660  \n",
       "2   3.0      3.0  149.0         85142.857143  \n",
       "3   3.0      2.0  160.0         95808.383234  \n",
       "4   3.0      2.0  150.0         85714.285714  "
      ]
     },
     "execution_count": 1339,
     "metadata": {},
     "output_type": "execute_result"
    }
   ],
   "source": [
    "df_2.head()"
   ]
  },
  {
   "cell_type": "markdown",
   "id": "hired-proceeding",
   "metadata": {},
   "source": [
    "## CHECKING FOR OUTLIERS"
   ]
  },
  {
   "cell_type": "code",
   "execution_count": 1340,
   "id": "circular-damages",
   "metadata": {},
   "outputs": [
    {
     "data": {
      "text/plain": [
       "<AxesSubplot:xlabel='price'>"
      ]
     },
     "execution_count": 1340,
     "metadata": {},
     "output_type": "execute_result"
    },
    {
     "data": {
      "image/png": "[encoded data removed]",
      "text/plain": [
       "<Figure size 432x288 with 1 Axes>"
      ]
     },
     "metadata": {
      "needs_background": "light"
     },
     "output_type": "display_data"
    }
   ],
   "source": [
    "# First checking the target column\n",
    "sns.boxplot(df_2['price'])"
   ]
  },
  {
   "cell_type": "markdown",
   "id": "accomplished-politics",
   "metadata": {},
   "source": [
    "We are keeping the outliers for price, as we might be needed to predict such cases in Test Data"
   ]
  },
  {
   "cell_type": "code",
   "execution_count": 1341,
   "id": "pediatric-sculpture",
   "metadata": {},
   "outputs": [
    {
     "data": {
      "image/png": "[encoded data removed]",
      "text/plain": [
       "<Figure size 1080x720 with 1 Axes>"
      ]
     },
     "metadata": {
      "needs_background": "light"
     },
     "output_type": "display_data"
    }
   ],
   "source": [
    "def plot_multiple_size_with_price(size_1, size_2, location, df):\n",
    "    bhk_first = df[(df['location']==location) & (df['size']==size_1)]\n",
    "    bhk_second = df[(df['location']==location) & (df['size']==size_2)]\n",
    "    matplotlib.rcParams['figure.figsize'] = (15,10)\n",
    "    plt.scatter(bhk_first.total_sqft,bhk_first.price,color='blue',label=str(size_1)+\" BHK\", s=50)\n",
    "    plt.scatter(bhk_second.total_sqft,bhk_second.price,marker='+',color='red',label=str(size_2)+\" BHK\", s=50)\n",
    "    \n",
    "    plt.xlabel(\"Total Square Feet Area\")\n",
    "    plt.ylabel(\"Price (Lakh Indian Rupees)\")\n",
    "    plt.title(location)\n",
    "    plt.legend()\n",
    "\n",
    "plot_multiple_size_with_price(1,2, \"Whitefield\", df_2)"
   ]
  },
  {
   "cell_type": "code",
   "execution_count": 1342,
   "id": "palestinian-construction",
   "metadata": {},
   "outputs": [
    {
     "data": {
      "image/png": "[encoded data removed]",
      "text/plain": [
       "<Figure size 1080x720 with 1 Axes>"
      ]
     },
     "metadata": {
      "needs_background": "light"
     },
     "output_type": "display_data"
    }
   ],
   "source": [
    "plot_multiple_size_with_price(2,3, \"Whitefield\", df_2)"
   ]
  },
  {
   "cell_type": "code",
   "execution_count": 1343,
   "id": "medium-optimization",
   "metadata": {},
   "outputs": [
    {
     "data": {
      "image/png": "[encoded data removed]",
      "text/plain": [
       "<Figure size 1080x720 with 1 Axes>"
      ]
     },
     "metadata": {
      "needs_background": "light"
     },
     "output_type": "display_data"
    }
   ],
   "source": [
    "plot_multiple_size_with_price(2,3, \"Hebbal\", df_2)"
   ]
  },
  {
   "cell_type": "markdown",
   "id": "thorough-scene",
   "metadata": {},
   "source": [
    "In a location, when the square feet increases as well as the number of rooms increase, still certain houses with lower space and room number are priced higher than larger houses. Those rows need to be removed. We will find the mean price of a house of a particular size. And if the per square foot rate of the house is less than mean of smaller size house, then we will get rid of it."
   ]
  },
  {
   "cell_type": "code",
   "execution_count": 1344,
   "id": "occupied-asthma",
   "metadata": {},
   "outputs": [
    {
     "data": {
      "text/plain": [
       "(7776, 9)"
      ]
     },
     "execution_count": 1344,
     "metadata": {},
     "output_type": "execute_result"
    }
   ],
   "source": [
    "def remove_irregularly_priced_houses(df):\n",
    "    exclusion_indices = np.array([])\n",
    "    for location, location_df in df.groupby('location'):\n",
    "        bhk_stats = {}\n",
    "        for size, size_df in location_df.groupby('size'):\n",
    "            bhk_stats[size] = {\n",
    "                'mean': np.mean(size_df.price_per_square_ft),\n",
    "                'std': np.std(size_df.price_per_square_ft),\n",
    "                'count': size_df.shape[0]\n",
    "            }\n",
    "        for size, size_df in location_df.groupby('size'):\n",
    "            stats = bhk_stats.get(size-1)\n",
    "            if stats and stats['count'] > 5:\n",
    "                exclusion_indices = np.append(exclusion_indices, size_df[size_df.price_per_square_ft<(stats['mean'])].index.values)\n",
    "    return df.drop(exclusion_indices, axis='index')\n",
    "\n",
    "df_3 = remove_irregularly_priced_houses(df_2)\n",
    "df_3.shape"
   ]
  },
  {
   "cell_type": "code",
   "execution_count": 1193,
   "id": "conservative-movie",
   "metadata": {},
   "outputs": [
    {
     "data": {
      "image/png": "[encoded data removed]",
      "text/plain": [
       "<Figure size 1080x720 with 1 Axes>"
      ]
     },
     "metadata": {
      "needs_background": "light"
     },
     "output_type": "display_data"
    }
   ],
   "source": [
    "plot_multiple_size_with_price(2,3, \"Hebbal\", df_3)"
   ]
  },
  {
   "cell_type": "markdown",
   "id": "applicable-jordan",
   "metadata": {},
   "source": [
    "We can see that the number of 3 BHKs with lesser price-per-square-feet as compared to 2 BHK are removed."
   ]
  },
  {
   "cell_type": "markdown",
   "id": "necessary-crazy",
   "metadata": {},
   "source": [
    "## Doing PREPROCESSING"
   ]
  },
  {
   "cell_type": "code",
   "execution_count": 1194,
   "id": "referenced-endorsement",
   "metadata": {},
   "outputs": [
    {
     "data": {
      "text/html": [
       "<div>\n",
       "<style scoped>\n",
       "    .dataframe tbody tr th:only-of-type {\n",
       "        vertical-align: middle;\n",
       "    }\n",
       "\n",
       "    .dataframe tbody tr th {\n",
       "        vertical-align: top;\n",
       "    }\n",
       "\n",
       "    .dataframe thead th {\n",
       "        text-align: right;\n",
       "    }\n",
       "</style>\n",
       "<table border=\"1\" class=\"dataframe\">\n",
       "  <thead>\n",
       "    <tr style=\"text-align: right;\">\n",
       "      <th></th>\n",
       "      <th>size</th>\n",
       "      <th>total_sqft</th>\n",
       "      <th>bath</th>\n",
       "      <th>balcony</th>\n",
       "      <th>price_per_square_ft</th>\n",
       "    </tr>\n",
       "  </thead>\n",
       "  <tbody>\n",
       "    <tr>\n",
       "      <th>0</th>\n",
       "      <td>0.222222</td>\n",
       "      <td>0.002101</td>\n",
       "      <td>0.153846</td>\n",
       "      <td>0.666667</td>\n",
       "      <td>0.116245</td>\n",
       "    </tr>\n",
       "    <tr>\n",
       "      <th>1</th>\n",
       "      <td>0.222222</td>\n",
       "      <td>0.002220</td>\n",
       "      <td>0.153846</td>\n",
       "      <td>1.000000</td>\n",
       "      <td>0.110302</td>\n",
       "    </tr>\n",
       "    <tr>\n",
       "      <th>2</th>\n",
       "      <td>0.222222</td>\n",
       "      <td>0.002098</td>\n",
       "      <td>0.153846</td>\n",
       "      <td>0.666667</td>\n",
       "      <td>0.124173</td>\n",
       "    </tr>\n",
       "    <tr>\n",
       "      <th>3</th>\n",
       "      <td>0.222222</td>\n",
       "      <td>0.002220</td>\n",
       "      <td>0.153846</td>\n",
       "      <td>0.666667</td>\n",
       "      <td>0.111045</td>\n",
       "    </tr>\n",
       "    <tr>\n",
       "      <th>4</th>\n",
       "      <td>0.222222</td>\n",
       "      <td>0.001455</td>\n",
       "      <td>0.076923</td>\n",
       "      <td>1.000000</td>\n",
       "      <td>0.045348</td>\n",
       "    </tr>\n",
       "  </tbody>\n",
       "</table>\n",
       "</div>"
      ],
      "text/plain": [
       "       size  total_sqft      bath   balcony  price_per_square_ft\n",
       "0  0.222222    0.002101  0.153846  0.666667             0.116245\n",
       "1  0.222222    0.002220  0.153846  1.000000             0.110302\n",
       "2  0.222222    0.002098  0.153846  0.666667             0.124173\n",
       "3  0.222222    0.002220  0.153846  0.666667             0.111045\n",
       "4  0.222222    0.001455  0.076923  1.000000             0.045348"
      ]
     },
     "execution_count": 1194,
     "metadata": {},
     "output_type": "execute_result"
    }
   ],
   "source": [
    "from sklearn import preprocessing\n",
    "\n",
    "df_2_num = df_2.select_dtypes(include=np.number)\n",
    "# Dropping the future target column from Scaling\n",
    "df_2_num.drop(columns=['price'], inplace=True)\n",
    "min_max_scaler = preprocessing.MinMaxScaler()\n",
    "df_2_num_scaled = min_max_scaler.fit_transform(df_2_num.values)\n",
    "scaled_df = pd.DataFrame(df_2_num_scaled, columns=df_2_num.columns)\n",
    "scaled_df.head()"
   ]
  },
  {
   "cell_type": "code",
   "execution_count": 1195,
   "id": "exciting-petite",
   "metadata": {},
   "outputs": [
    {
     "data": {
      "text/html": [
       "<div>\n",
       "<style scoped>\n",
       "    .dataframe tbody tr th:only-of-type {\n",
       "        vertical-align: middle;\n",
       "    }\n",
       "\n",
       "    .dataframe tbody tr th {\n",
       "        vertical-align: top;\n",
       "    }\n",
       "\n",
       "    .dataframe thead th {\n",
       "        text-align: right;\n",
       "    }\n",
       "</style>\n",
       "<table border=\"1\" class=\"dataframe\">\n",
       "  <thead>\n",
       "    <tr style=\"text-align: right;\">\n",
       "      <th></th>\n",
       "      <th>location</th>\n",
       "      <th>size</th>\n",
       "      <th>total_sqft</th>\n",
       "      <th>bath</th>\n",
       "      <th>balcony</th>\n",
       "      <th>price_per_square_ft</th>\n",
       "      <th>price</th>\n",
       "    </tr>\n",
       "  </thead>\n",
       "  <tbody>\n",
       "    <tr>\n",
       "      <th>0</th>\n",
       "      <td>Devarabeesana Halli</td>\n",
       "      <td>0.222222</td>\n",
       "      <td>0.002101</td>\n",
       "      <td>0.153846</td>\n",
       "      <td>0.666667</td>\n",
       "      <td>0.116245</td>\n",
       "      <td>150.0</td>\n",
       "    </tr>\n",
       "    <tr>\n",
       "      <th>1</th>\n",
       "      <td>Devarabeesana Halli</td>\n",
       "      <td>0.222222</td>\n",
       "      <td>0.002220</td>\n",
       "      <td>0.153846</td>\n",
       "      <td>1.000000</td>\n",
       "      <td>0.110302</td>\n",
       "      <td>149.0</td>\n",
       "    </tr>\n",
       "    <tr>\n",
       "      <th>2</th>\n",
       "      <td>Devarabeesana Halli</td>\n",
       "      <td>0.222222</td>\n",
       "      <td>0.002098</td>\n",
       "      <td>0.153846</td>\n",
       "      <td>0.666667</td>\n",
       "      <td>0.124173</td>\n",
       "      <td>160.0</td>\n",
       "    </tr>\n",
       "    <tr>\n",
       "      <th>3</th>\n",
       "      <td>Devarabeesana Halli</td>\n",
       "      <td>0.222222</td>\n",
       "      <td>0.002220</td>\n",
       "      <td>0.153846</td>\n",
       "      <td>0.666667</td>\n",
       "      <td>0.111045</td>\n",
       "      <td>150.0</td>\n",
       "    </tr>\n",
       "    <tr>\n",
       "      <th>4</th>\n",
       "      <td>Devarachikkanahalli</td>\n",
       "      <td>0.222222</td>\n",
       "      <td>0.001455</td>\n",
       "      <td>0.076923</td>\n",
       "      <td>1.000000</td>\n",
       "      <td>0.045348</td>\n",
       "      <td>44.0</td>\n",
       "    </tr>\n",
       "  </tbody>\n",
       "</table>\n",
       "</div>"
      ],
      "text/plain": [
       "               location      size  total_sqft      bath   balcony  \\\n",
       "0   Devarabeesana Halli  0.222222    0.002101  0.153846  0.666667   \n",
       "1   Devarabeesana Halli  0.222222    0.002220  0.153846  1.000000   \n",
       "2   Devarabeesana Halli  0.222222    0.002098  0.153846  0.666667   \n",
       "3   Devarabeesana Halli  0.222222    0.002220  0.153846  0.666667   \n",
       "4   Devarachikkanahalli  0.222222    0.001455  0.076923  1.000000   \n",
       "\n",
       "   price_per_square_ft  price  \n",
       "0             0.116245  150.0  \n",
       "1             0.110302  149.0  \n",
       "2             0.124173  160.0  \n",
       "3             0.111045  150.0  \n",
       "4             0.045348   44.0  "
      ]
     },
     "execution_count": 1195,
     "metadata": {},
     "output_type": "execute_result"
    }
   ],
   "source": [
    "df_2_normalized = pd.concat([df_2.select_dtypes(exclude=np.number), scaled_df, df_2['price']], axis=1)\n",
    "df_2_normalized.head()"
   ]
  },
  {
   "cell_type": "code",
   "execution_count": 1196,
   "id": "consolidated-throat",
   "metadata": {},
   "outputs": [],
   "source": [
    "df_2['location'] = df_2['location'].apply(lambda x: x.lower().strip().replace('  ', ' '))\n",
    "df_2_normalized['location'] = df_2_normalized['location'].apply(lambda x: x.lower().strip().replace('  ', ' '))\n",
    "df_test['location'] = df_test['location'].apply(lambda x: x.lower().strip().replace('  ', ' '))\n",
    "df_dist['location'] = df_dist['location'].apply(lambda x: x.lower().strip().replace('  ', ' '))\n",
    "\n",
    "set_locations_train_data = set(df_2['location'].unique())\n",
    "set_locations_test_data = set(df_test['location'].unique())\n",
    "set_location_dist = set(df_dist['location'].unique())\n",
    "set_location_in_both_train_test_data = set_locations_test_data.intersection(set_locations_train_data)"
   ]
  },
  {
   "cell_type": "code",
   "execution_count": 1197,
   "id": "portuguese-insert",
   "metadata": {},
   "outputs": [
    {
     "name": "stdout",
     "output_type": "stream",
     "text": [
      "701\n"
     ]
    }
   ],
   "source": [
    "print(len(set_locations_train_data))"
   ]
  },
  {
   "cell_type": "code",
   "execution_count": 1198,
   "id": "regulation-douglas",
   "metadata": {},
   "outputs": [
    {
     "name": "stdout",
     "output_type": "stream",
     "text": [
      "669\n"
     ]
    }
   ],
   "source": [
    "print(len(set_locations_test_data))"
   ]
  },
  {
   "cell_type": "code",
   "execution_count": 1199,
   "id": "equivalent-repeat",
   "metadata": {},
   "outputs": [
    {
     "name": "stdout",
     "output_type": "stream",
     "text": [
      "479\n"
     ]
    }
   ],
   "source": [
    "print(len(set_location_in_both_train_test_data))"
   ]
  },
  {
   "cell_type": "markdown",
   "id": "extensive-referral",
   "metadata": {},
   "source": [
    "In order to have the same number of columns in both train and test data, we need to set any location which is not present in both train and test data as other"
   ]
  },
  {
   "cell_type": "code",
   "execution_count": 1200,
   "id": "handed-preliminary",
   "metadata": {},
   "outputs": [
    {
     "name": "stdout",
     "output_type": "stream",
     "text": [
      "480\n"
     ]
    }
   ],
   "source": [
    "# Setting the location which are in train as well as in test and setting the other locations as other\n",
    "df_2_normalized['location'] = df_2_normalized['location'].apply(lambda x: x if x in set_location_in_both_train_test_data else 'other')\n",
    "\n",
    "print(f\"{len(df_2_normalized['location'].unique())}\")"
   ]
  },
  {
   "cell_type": "code",
   "execution_count": 1201,
   "id": "frozen-portland",
   "metadata": {},
   "outputs": [
    {
     "data": {
      "text/html": [
       "<div>\n",
       "<style scoped>\n",
       "    .dataframe tbody tr th:only-of-type {\n",
       "        vertical-align: middle;\n",
       "    }\n",
       "\n",
       "    .dataframe tbody tr th {\n",
       "        vertical-align: top;\n",
       "    }\n",
       "\n",
       "    .dataframe thead th {\n",
       "        text-align: right;\n",
       "    }\n",
       "</style>\n",
       "<table border=\"1\" class=\"dataframe\">\n",
       "  <thead>\n",
       "    <tr style=\"text-align: right;\">\n",
       "      <th></th>\n",
       "      <th>location</th>\n",
       "      <th>size</th>\n",
       "      <th>total_sqft</th>\n",
       "      <th>bath</th>\n",
       "      <th>balcony</th>\n",
       "      <th>price</th>\n",
       "      <th>price_per_square_ft</th>\n",
       "    </tr>\n",
       "  </thead>\n",
       "  <tbody>\n",
       "    <tr>\n",
       "      <th>0</th>\n",
       "      <td>devarabeesana halli</td>\n",
       "      <td>3</td>\n",
       "      <td>1672.0</td>\n",
       "      <td>3.0</td>\n",
       "      <td>2.0</td>\n",
       "      <td>150.0</td>\n",
       "      <td>89712.918660</td>\n",
       "    </tr>\n",
       "    <tr>\n",
       "      <th>1</th>\n",
       "      <td>devarabeesana halli</td>\n",
       "      <td>3</td>\n",
       "      <td>1750.0</td>\n",
       "      <td>3.0</td>\n",
       "      <td>3.0</td>\n",
       "      <td>149.0</td>\n",
       "      <td>85142.857143</td>\n",
       "    </tr>\n",
       "    <tr>\n",
       "      <th>2</th>\n",
       "      <td>devarabeesana halli</td>\n",
       "      <td>3</td>\n",
       "      <td>1670.0</td>\n",
       "      <td>3.0</td>\n",
       "      <td>2.0</td>\n",
       "      <td>160.0</td>\n",
       "      <td>95808.383234</td>\n",
       "    </tr>\n",
       "    <tr>\n",
       "      <th>3</th>\n",
       "      <td>devarabeesana halli</td>\n",
       "      <td>3</td>\n",
       "      <td>1750.0</td>\n",
       "      <td>3.0</td>\n",
       "      <td>2.0</td>\n",
       "      <td>150.0</td>\n",
       "      <td>85714.285714</td>\n",
       "    </tr>\n",
       "    <tr>\n",
       "      <th>4</th>\n",
       "      <td>devarachikkanahalli</td>\n",
       "      <td>3</td>\n",
       "      <td>1250.0</td>\n",
       "      <td>2.0</td>\n",
       "      <td>3.0</td>\n",
       "      <td>44.0</td>\n",
       "      <td>35200.000000</td>\n",
       "    </tr>\n",
       "  </tbody>\n",
       "</table>\n",
       "</div>"
      ],
      "text/plain": [
       "              location  size  total_sqft  bath  balcony  price  \\\n",
       "0  devarabeesana halli     3      1672.0   3.0      2.0  150.0   \n",
       "1  devarabeesana halli     3      1750.0   3.0      3.0  149.0   \n",
       "2  devarabeesana halli     3      1670.0   3.0      2.0  160.0   \n",
       "3  devarabeesana halli     3      1750.0   3.0      2.0  150.0   \n",
       "4  devarachikkanahalli     3      1250.0   2.0      3.0   44.0   \n",
       "\n",
       "   price_per_square_ft  \n",
       "0         89712.918660  \n",
       "1         85142.857143  \n",
       "2         95808.383234  \n",
       "3         85714.285714  \n",
       "4         35200.000000  "
      ]
     },
     "execution_count": 1201,
     "metadata": {},
     "output_type": "execute_result"
    }
   ],
   "source": [
    "df_2.head()"
   ]
  },
  {
   "cell_type": "code",
   "execution_count": 1203,
   "id": "welcome-recovery",
   "metadata": {},
   "outputs": [
    {
     "data": {
      "text/plain": [
       "88"
      ]
     },
     "execution_count": 1203,
     "metadata": {},
     "output_type": "execute_result"
    }
   ],
   "source": [
    "df_rent[\"location\"] = df_rent[\"location\"].apply(lambda x: x.lower().strip().replace('  ', ' '))\n",
    "len(set(df_rent[\"location\"].unique()).intersection(set_location_in_both_train_test_data))"
   ]
  },
  {
   "cell_type": "markdown",
   "id": "leading-language",
   "metadata": {},
   "source": [
    "Since columns whose locations are present in test-data and train data and in rent data is so less... we would never be able to use this table for analysis."
   ]
  },
  {
   "cell_type": "code",
   "execution_count": 1204,
   "id": "caring-wrestling",
   "metadata": {},
   "outputs": [
    {
     "data": {
      "text/plain": [
       "421"
      ]
     },
     "execution_count": 1204,
     "metadata": {},
     "output_type": "execute_result"
    }
   ],
   "source": [
    "df_dist[\"location\"] = df_dist[\"location\"].apply(lambda x: x.lower().strip().replace('  ', ' '))\n",
    "len(set(df_dist[\"location\"].unique()).intersection(set_location_in_both_train_test_data))"
   ]
  },
  {
   "cell_type": "code",
   "execution_count": 1205,
   "id": "forced-spray",
   "metadata": {},
   "outputs": [],
   "source": [
    "# Setting the location distance from CITY Centre as well in df_2\n",
    "df_3 = df_2_normalized.copy()"
   ]
  },
  {
   "cell_type": "code",
   "execution_count": 1206,
   "id": "dated-lewis",
   "metadata": {},
   "outputs": [
    {
     "data": {
      "text/html": [
       "<div>\n",
       "<style scoped>\n",
       "    .dataframe tbody tr th:only-of-type {\n",
       "        vertical-align: middle;\n",
       "    }\n",
       "\n",
       "    .dataframe tbody tr th {\n",
       "        vertical-align: top;\n",
       "    }\n",
       "\n",
       "    .dataframe thead th {\n",
       "        text-align: right;\n",
       "    }\n",
       "</style>\n",
       "<table border=\"1\" class=\"dataframe\">\n",
       "  <thead>\n",
       "    <tr style=\"text-align: right;\">\n",
       "      <th></th>\n",
       "      <th>location</th>\n",
       "      <th>size</th>\n",
       "      <th>total_sqft</th>\n",
       "      <th>bath</th>\n",
       "      <th>balcony</th>\n",
       "      <th>price_per_square_ft</th>\n",
       "      <th>price</th>\n",
       "    </tr>\n",
       "  </thead>\n",
       "  <tbody>\n",
       "    <tr>\n",
       "      <th>0</th>\n",
       "      <td>devarabeesana halli</td>\n",
       "      <td>0.222222</td>\n",
       "      <td>0.002101</td>\n",
       "      <td>0.153846</td>\n",
       "      <td>0.666667</td>\n",
       "      <td>0.116245</td>\n",
       "      <td>150.0</td>\n",
       "    </tr>\n",
       "    <tr>\n",
       "      <th>1</th>\n",
       "      <td>devarabeesana halli</td>\n",
       "      <td>0.222222</td>\n",
       "      <td>0.002220</td>\n",
       "      <td>0.153846</td>\n",
       "      <td>1.000000</td>\n",
       "      <td>0.110302</td>\n",
       "      <td>149.0</td>\n",
       "    </tr>\n",
       "    <tr>\n",
       "      <th>2</th>\n",
       "      <td>devarabeesana halli</td>\n",
       "      <td>0.222222</td>\n",
       "      <td>0.002098</td>\n",
       "      <td>0.153846</td>\n",
       "      <td>0.666667</td>\n",
       "      <td>0.124173</td>\n",
       "      <td>160.0</td>\n",
       "    </tr>\n",
       "    <tr>\n",
       "      <th>3</th>\n",
       "      <td>devarabeesana halli</td>\n",
       "      <td>0.222222</td>\n",
       "      <td>0.002220</td>\n",
       "      <td>0.153846</td>\n",
       "      <td>0.666667</td>\n",
       "      <td>0.111045</td>\n",
       "      <td>150.0</td>\n",
       "    </tr>\n",
       "    <tr>\n",
       "      <th>4</th>\n",
       "      <td>devarachikkanahalli</td>\n",
       "      <td>0.222222</td>\n",
       "      <td>0.001455</td>\n",
       "      <td>0.076923</td>\n",
       "      <td>1.000000</td>\n",
       "      <td>0.045348</td>\n",
       "      <td>44.0</td>\n",
       "    </tr>\n",
       "  </tbody>\n",
       "</table>\n",
       "</div>"
      ],
      "text/plain": [
       "              location      size  total_sqft      bath   balcony  \\\n",
       "0  devarabeesana halli  0.222222    0.002101  0.153846  0.666667   \n",
       "1  devarabeesana halli  0.222222    0.002220  0.153846  1.000000   \n",
       "2  devarabeesana halli  0.222222    0.002098  0.153846  0.666667   \n",
       "3  devarabeesana halli  0.222222    0.002220  0.153846  0.666667   \n",
       "4  devarachikkanahalli  0.222222    0.001455  0.076923  1.000000   \n",
       "\n",
       "   price_per_square_ft  price  \n",
       "0             0.116245  150.0  \n",
       "1             0.110302  149.0  \n",
       "2             0.124173  160.0  \n",
       "3             0.111045  150.0  \n",
       "4             0.045348   44.0  "
      ]
     },
     "execution_count": 1206,
     "metadata": {},
     "output_type": "execute_result"
    }
   ],
   "source": [
    "df_3.head()"
   ]
  },
  {
   "cell_type": "code",
   "execution_count": 1207,
   "id": "responsible-scratch",
   "metadata": {},
   "outputs": [
    {
     "data": {
      "text/plain": [
       "<matplotlib.collections.LineCollection at 0x7ff7b06740d0>"
      ]
     },
     "execution_count": 1207,
     "metadata": {},
     "output_type": "execute_result"
    },
    {
     "data": {
      "image/png": "[encoded data removed]",
      "text/plain": [
       "<Figure size 1080x720 with 1 Axes>"
      ]
     },
     "metadata": {
      "needs_background": "light"
     },
     "output_type": "display_data"
    }
   ],
   "source": [
    "sns.distplot(df_dist['dist_from_city'], kde=True)\n",
    "plt.vlines(x=df_dist['dist_from_city'].mean(), ymin=0, ymax=0.1, colors='r', linestyles='dashed')\n",
    "plt.vlines(x=df_dist['dist_from_city'].median(), ymin=0, ymax=0.1, colors='g', linestyles='dashed')"
   ]
  },
  {
   "cell_type": "code",
   "execution_count": 1208,
   "id": "wrapped-museum",
   "metadata": {},
   "outputs": [
    {
     "data": {
      "text/plain": [
       "location               0\n",
       "size                   0\n",
       "total_sqft             0\n",
       "bath                   0\n",
       "balcony                0\n",
       "price_per_square_ft    0\n",
       "price                  0\n",
       "dtype: int64"
      ]
     },
     "execution_count": 1208,
     "metadata": {},
     "output_type": "execute_result"
    }
   ],
   "source": [
    "df_3.isna().sum()"
   ]
  },
  {
   "cell_type": "code",
   "execution_count": 1209,
   "id": "distinguished-threshold",
   "metadata": {},
   "outputs": [
    {
     "data": {
      "text/html": [
       "<div>\n",
       "<style scoped>\n",
       "    .dataframe tbody tr th:only-of-type {\n",
       "        vertical-align: middle;\n",
       "    }\n",
       "\n",
       "    .dataframe tbody tr th {\n",
       "        vertical-align: top;\n",
       "    }\n",
       "\n",
       "    .dataframe thead th {\n",
       "        text-align: right;\n",
       "    }\n",
       "</style>\n",
       "<table border=\"1\" class=\"dataframe\">\n",
       "  <thead>\n",
       "    <tr style=\"text-align: right;\">\n",
       "      <th></th>\n",
       "      <th>location</th>\n",
       "      <th>size</th>\n",
       "      <th>total_sqft</th>\n",
       "      <th>bath</th>\n",
       "      <th>balcony</th>\n",
       "      <th>price_per_square_ft</th>\n",
       "      <th>price</th>\n",
       "    </tr>\n",
       "  </thead>\n",
       "  <tbody>\n",
       "    <tr>\n",
       "      <th>0</th>\n",
       "      <td>devarabeesana halli</td>\n",
       "      <td>0.222222</td>\n",
       "      <td>0.002101</td>\n",
       "      <td>0.153846</td>\n",
       "      <td>0.666667</td>\n",
       "      <td>0.116245</td>\n",
       "      <td>150.00</td>\n",
       "    </tr>\n",
       "    <tr>\n",
       "      <th>1</th>\n",
       "      <td>devarabeesana halli</td>\n",
       "      <td>0.222222</td>\n",
       "      <td>0.002220</td>\n",
       "      <td>0.153846</td>\n",
       "      <td>1.000000</td>\n",
       "      <td>0.110302</td>\n",
       "      <td>149.00</td>\n",
       "    </tr>\n",
       "    <tr>\n",
       "      <th>2</th>\n",
       "      <td>devarabeesana halli</td>\n",
       "      <td>0.222222</td>\n",
       "      <td>0.002098</td>\n",
       "      <td>0.153846</td>\n",
       "      <td>0.666667</td>\n",
       "      <td>0.124173</td>\n",
       "      <td>160.00</td>\n",
       "    </tr>\n",
       "    <tr>\n",
       "      <th>3</th>\n",
       "      <td>devarabeesana halli</td>\n",
       "      <td>0.222222</td>\n",
       "      <td>0.002220</td>\n",
       "      <td>0.153846</td>\n",
       "      <td>0.666667</td>\n",
       "      <td>0.111045</td>\n",
       "      <td>150.00</td>\n",
       "    </tr>\n",
       "    <tr>\n",
       "      <th>4</th>\n",
       "      <td>devarachikkanahalli</td>\n",
       "      <td>0.222222</td>\n",
       "      <td>0.001455</td>\n",
       "      <td>0.076923</td>\n",
       "      <td>1.000000</td>\n",
       "      <td>0.045348</td>\n",
       "      <td>44.00</td>\n",
       "    </tr>\n",
       "    <tr>\n",
       "      <th>...</th>\n",
       "      <td>...</td>\n",
       "      <td>...</td>\n",
       "      <td>...</td>\n",
       "      <td>...</td>\n",
       "      <td>...</td>\n",
       "      <td>...</td>\n",
       "      <td>...</td>\n",
       "    </tr>\n",
       "    <tr>\n",
       "      <th>8774</th>\n",
       "      <td>other</td>\n",
       "      <td>0.222222</td>\n",
       "      <td>0.002266</td>\n",
       "      <td>0.153846</td>\n",
       "      <td>0.333333</td>\n",
       "      <td>0.061549</td>\n",
       "      <td>84.83</td>\n",
       "    </tr>\n",
       "    <tr>\n",
       "      <th>8775</th>\n",
       "      <td>other</td>\n",
       "      <td>0.111111</td>\n",
       "      <td>0.001565</td>\n",
       "      <td>0.076923</td>\n",
       "      <td>0.333333</td>\n",
       "      <td>0.060553</td>\n",
       "      <td>61.99</td>\n",
       "    </tr>\n",
       "    <tr>\n",
       "      <th>8776</th>\n",
       "      <td>other</td>\n",
       "      <td>0.111111</td>\n",
       "      <td>0.000888</td>\n",
       "      <td>0.076923</td>\n",
       "      <td>0.333333</td>\n",
       "      <td>0.070508</td>\n",
       "      <td>48.00</td>\n",
       "    </tr>\n",
       "    <tr>\n",
       "      <th>8777</th>\n",
       "      <td>other</td>\n",
       "      <td>0.111111</td>\n",
       "      <td>0.001072</td>\n",
       "      <td>0.076923</td>\n",
       "      <td>0.333333</td>\n",
       "      <td>0.071099</td>\n",
       "      <td>55.00</td>\n",
       "    </tr>\n",
       "    <tr>\n",
       "      <th>8778</th>\n",
       "      <td>other</td>\n",
       "      <td>0.222222</td>\n",
       "      <td>0.001684</td>\n",
       "      <td>0.076923</td>\n",
       "      <td>0.333333</td>\n",
       "      <td>0.072028</td>\n",
       "      <td>78.00</td>\n",
       "    </tr>\n",
       "  </tbody>\n",
       "</table>\n",
       "<p>8779 rows × 7 columns</p>\n",
       "</div>"
      ],
      "text/plain": [
       "                 location      size  total_sqft      bath   balcony  \\\n",
       "0     devarabeesana halli  0.222222    0.002101  0.153846  0.666667   \n",
       "1     devarabeesana halli  0.222222    0.002220  0.153846  1.000000   \n",
       "2     devarabeesana halli  0.222222    0.002098  0.153846  0.666667   \n",
       "3     devarabeesana halli  0.222222    0.002220  0.153846  0.666667   \n",
       "4     devarachikkanahalli  0.222222    0.001455  0.076923  1.000000   \n",
       "...                   ...       ...         ...       ...       ...   \n",
       "8774                other  0.222222    0.002266  0.153846  0.333333   \n",
       "8775                other  0.111111    0.001565  0.076923  0.333333   \n",
       "8776                other  0.111111    0.000888  0.076923  0.333333   \n",
       "8777                other  0.111111    0.001072  0.076923  0.333333   \n",
       "8778                other  0.222222    0.001684  0.076923  0.333333   \n",
       "\n",
       "      price_per_square_ft   price  \n",
       "0                0.116245  150.00  \n",
       "1                0.110302  149.00  \n",
       "2                0.124173  160.00  \n",
       "3                0.111045  150.00  \n",
       "4                0.045348   44.00  \n",
       "...                   ...     ...  \n",
       "8774             0.061549   84.83  \n",
       "8775             0.060553   61.99  \n",
       "8776             0.070508   48.00  \n",
       "8777             0.071099   55.00  \n",
       "8778             0.072028   78.00  \n",
       "\n",
       "[8779 rows x 7 columns]"
      ]
     },
     "execution_count": 1209,
     "metadata": {},
     "output_type": "execute_result"
    }
   ],
   "source": [
    "df_3.dropna()"
   ]
  },
  {
   "cell_type": "code",
   "execution_count": 1067,
   "id": "sealed-raising",
   "metadata": {},
   "outputs": [],
   "source": [
    "def min_max_scale(x, min_val, max_val):\n",
    "    return (x - min_val)/(max_val - min_val)\n"
   ]
  },
  {
   "cell_type": "code",
   "execution_count": 1210,
   "id": "devoted-bulgaria",
   "metadata": {},
   "outputs": [
    {
     "name": "stdout",
     "output_type": "stream",
     "text": [
      "('size',)\n",
      "('total_sqft',)\n",
      "('bath',)\n",
      "('balcony',)\n",
      "0.3104557061079295 ('balcony',)\n"
     ]
    },
    {
     "data": {
      "text/plain": [
       "Index(['size', 'total_sqft', 'bath', 'balcony'], dtype='object')"
      ]
     },
     "execution_count": 1210,
     "metadata": {},
     "output_type": "execute_result"
    }
   ],
   "source": [
    "# Optimizing number of features in OLS model\n",
    "from itertools import combinations\n",
    "\n",
    "X_num = df_3.select_dtypes(include=np.number)\n",
    "X_num.drop(columns=[\"price\", \"price_per_square_ft\"], inplace=True)\n",
    "out = df_3[\"price\"]\n",
    "\n",
    "column_list = X_num.columns\n",
    "interactions = list(combinations(column_list, 1))\n",
    "\n",
    "interaction_dict = {}\n",
    "for interaction in interactions:\n",
    "    print(interaction)\n",
    "    int_2_cols = X_num.copy()\n",
    "    int_2_cols['int'] = int_2_cols[interaction[0]]\n",
    "    lr = LinearRegression()\n",
    "    lr.fit(int_2_cols, out)\n",
    "    interaction_dict[lr.score(int_2_cols, out)] = interaction\n",
    "\n",
    "top_5 = sorted(interaction_dict.keys(), reverse = True)[:5]\n",
    "for interaction in top_5:\n",
    "    print(interaction, interaction_dict[interaction])\n",
    "column_list"
   ]
  },
  {
   "cell_type": "code",
   "execution_count": 1211,
   "id": "greek-underground",
   "metadata": {},
   "outputs": [
    {
     "name": "stdout",
     "output_type": "stream",
     "text": [
      "0.4993052223782195 ('total_sqft', 'balcony')\n",
      "0.38714084087035283 ('total_sqft', 'bath')\n",
      "0.3820194850269335 ('size', 'total_sqft')\n",
      "0.31989103744804037 ('bath', 'balcony')\n",
      "0.3187229576589541 ('size', 'balcony')\n"
     ]
    },
    {
     "data": {
      "text/plain": [
       "Index(['size', 'total_sqft', 'bath', 'balcony'], dtype='object')"
      ]
     },
     "execution_count": 1211,
     "metadata": {},
     "output_type": "execute_result"
    }
   ],
   "source": [
    "# Optimizing number of features in OLS model\n",
    "from itertools import combinations\n",
    "\n",
    "X_num = df_3.select_dtypes(include=np.number)\n",
    "X_num.drop(columns=[\"price\", \"price_per_square_ft\"], inplace=True)\n",
    "out = df_3[\"price\"]\n",
    "\n",
    "column_list = X_num.columns\n",
    "interactions = list(combinations(column_list, 2))\n",
    "\n",
    "interaction_dict = {}\n",
    "for interaction in interactions:\n",
    "    int_2_cols = X_num.copy()\n",
    "    int_2_cols['int'] = int_2_cols[interaction[0]] * int_2_cols[interaction[1]]\n",
    "    lr = LinearRegression()\n",
    "    lr.fit(int_2_cols, out)\n",
    "    interaction_dict[lr.score(int_2_cols, out)] = interaction\n",
    "\n",
    "top_5 = sorted(interaction_dict.keys(), reverse = True)[:5]\n",
    "for interaction in top_5:\n",
    "    print(interaction, interaction_dict[interaction])\n",
    "column_list"
   ]
  },
  {
   "cell_type": "code",
   "execution_count": 1212,
   "id": "bacterial-ottawa",
   "metadata": {},
   "outputs": [
    {
     "name": "stdout",
     "output_type": "stream",
     "text": [
      "0.46023353682785917 ('total_sqft', 'bath', 'balcony')\n",
      "0.45951836000219093 ('size', 'total_sqft', 'balcony')\n",
      "0.34426708282231433 ('size', 'total_sqft', 'bath')\n",
      "0.31196470069607307 ('size', 'bath', 'balcony')\n"
     ]
    },
    {
     "data": {
      "text/plain": [
       "Index(['size', 'total_sqft', 'bath', 'balcony'], dtype='object')"
      ]
     },
     "execution_count": 1212,
     "metadata": {},
     "output_type": "execute_result"
    }
   ],
   "source": [
    "# Optimizing number of features in OLS model\n",
    "from itertools import combinations\n",
    "\n",
    "X_num = df_3.select_dtypes(include=np.number)\n",
    "X_num.drop(columns=[\"price\", \"price_per_square_ft\"], inplace=True)\n",
    "out = df_3[\"price\"]\n",
    "\n",
    "column_list = X_num.columns\n",
    "interactions = list(combinations(column_list, 3))\n",
    "\n",
    "interaction_dict = {}\n",
    "for interaction in interactions:\n",
    "    int_2_cols = X_num.copy()\n",
    "    int_2_cols['int'] = int_2_cols[interaction[0]] * int_2_cols[interaction[1]] * int_2_cols[interaction[2]]\n",
    "    lr = LinearRegression()\n",
    "    lr.fit(int_2_cols, out)\n",
    "    interaction_dict[lr.score(int_2_cols, out)] = interaction\n",
    "\n",
    "top_5 = sorted(interaction_dict.keys(), reverse = True)[:5]\n",
    "for interaction in top_5:\n",
    "    print(interaction, interaction_dict[interaction])\n",
    "column_list"
   ]
  },
  {
   "cell_type": "code",
   "execution_count": 1213,
   "id": "color-trustee",
   "metadata": {},
   "outputs": [
    {
     "data": {
      "text/plain": [
       "location               0\n",
       "size                   0\n",
       "total_sqft             0\n",
       "bath                   0\n",
       "balcony                0\n",
       "price_per_square_ft    0\n",
       "price                  0\n",
       "dtype: int64"
      ]
     },
     "execution_count": 1213,
     "metadata": {},
     "output_type": "execute_result"
    }
   ],
   "source": [
    "df_3.isna().sum()"
   ]
  },
  {
   "cell_type": "code",
   "execution_count": 1214,
   "id": "indonesian-disclaimer",
   "metadata": {},
   "outputs": [
    {
     "data": {
      "text/html": [
       "<div>\n",
       "<style scoped>\n",
       "    .dataframe tbody tr th:only-of-type {\n",
       "        vertical-align: middle;\n",
       "    }\n",
       "\n",
       "    .dataframe tbody tr th {\n",
       "        vertical-align: top;\n",
       "    }\n",
       "\n",
       "    .dataframe thead th {\n",
       "        text-align: right;\n",
       "    }\n",
       "</style>\n",
       "<table border=\"1\" class=\"dataframe\">\n",
       "  <thead>\n",
       "    <tr style=\"text-align: right;\">\n",
       "      <th></th>\n",
       "      <th>size</th>\n",
       "      <th>total_sqft</th>\n",
       "      <th>bath</th>\n",
       "      <th>balcony</th>\n",
       "      <th>price_per_square_ft</th>\n",
       "      <th>price</th>\n",
       "      <th>location_1st block hbr layout</th>\n",
       "      <th>location_1st block hrbr layout</th>\n",
       "      <th>location_1st block jayanagar</th>\n",
       "      <th>location_1st block koramangala</th>\n",
       "      <th>...</th>\n",
       "      <th>location_volagerekallahalli</th>\n",
       "      <th>location_whitefield</th>\n",
       "      <th>location_wilson garden</th>\n",
       "      <th>location_yelachenahalli</th>\n",
       "      <th>location_yelahanka</th>\n",
       "      <th>location_yelahanka new town</th>\n",
       "      <th>location_yelenahalli</th>\n",
       "      <th>location_yemlur</th>\n",
       "      <th>location_yeshwanthpur</th>\n",
       "      <th>location_yeshwanthpur industrial suburb</th>\n",
       "    </tr>\n",
       "  </thead>\n",
       "  <tbody>\n",
       "    <tr>\n",
       "      <th>0</th>\n",
       "      <td>0.222222</td>\n",
       "      <td>0.002101</td>\n",
       "      <td>0.153846</td>\n",
       "      <td>0.666667</td>\n",
       "      <td>0.116245</td>\n",
       "      <td>150.0</td>\n",
       "      <td>0</td>\n",
       "      <td>0</td>\n",
       "      <td>0</td>\n",
       "      <td>0</td>\n",
       "      <td>...</td>\n",
       "      <td>0</td>\n",
       "      <td>0</td>\n",
       "      <td>0</td>\n",
       "      <td>0</td>\n",
       "      <td>0</td>\n",
       "      <td>0</td>\n",
       "      <td>0</td>\n",
       "      <td>0</td>\n",
       "      <td>0</td>\n",
       "      <td>0</td>\n",
       "    </tr>\n",
       "    <tr>\n",
       "      <th>1</th>\n",
       "      <td>0.222222</td>\n",
       "      <td>0.002220</td>\n",
       "      <td>0.153846</td>\n",
       "      <td>1.000000</td>\n",
       "      <td>0.110302</td>\n",
       "      <td>149.0</td>\n",
       "      <td>0</td>\n",
       "      <td>0</td>\n",
       "      <td>0</td>\n",
       "      <td>0</td>\n",
       "      <td>...</td>\n",
       "      <td>0</td>\n",
       "      <td>0</td>\n",
       "      <td>0</td>\n",
       "      <td>0</td>\n",
       "      <td>0</td>\n",
       "      <td>0</td>\n",
       "      <td>0</td>\n",
       "      <td>0</td>\n",
       "      <td>0</td>\n",
       "      <td>0</td>\n",
       "    </tr>\n",
       "    <tr>\n",
       "      <th>2</th>\n",
       "      <td>0.222222</td>\n",
       "      <td>0.002098</td>\n",
       "      <td>0.153846</td>\n",
       "      <td>0.666667</td>\n",
       "      <td>0.124173</td>\n",
       "      <td>160.0</td>\n",
       "      <td>0</td>\n",
       "      <td>0</td>\n",
       "      <td>0</td>\n",
       "      <td>0</td>\n",
       "      <td>...</td>\n",
       "      <td>0</td>\n",
       "      <td>0</td>\n",
       "      <td>0</td>\n",
       "      <td>0</td>\n",
       "      <td>0</td>\n",
       "      <td>0</td>\n",
       "      <td>0</td>\n",
       "      <td>0</td>\n",
       "      <td>0</td>\n",
       "      <td>0</td>\n",
       "    </tr>\n",
       "    <tr>\n",
       "      <th>3</th>\n",
       "      <td>0.222222</td>\n",
       "      <td>0.002220</td>\n",
       "      <td>0.153846</td>\n",
       "      <td>0.666667</td>\n",
       "      <td>0.111045</td>\n",
       "      <td>150.0</td>\n",
       "      <td>0</td>\n",
       "      <td>0</td>\n",
       "      <td>0</td>\n",
       "      <td>0</td>\n",
       "      <td>...</td>\n",
       "      <td>0</td>\n",
       "      <td>0</td>\n",
       "      <td>0</td>\n",
       "      <td>0</td>\n",
       "      <td>0</td>\n",
       "      <td>0</td>\n",
       "      <td>0</td>\n",
       "      <td>0</td>\n",
       "      <td>0</td>\n",
       "      <td>0</td>\n",
       "    </tr>\n",
       "    <tr>\n",
       "      <th>4</th>\n",
       "      <td>0.222222</td>\n",
       "      <td>0.001455</td>\n",
       "      <td>0.076923</td>\n",
       "      <td>1.000000</td>\n",
       "      <td>0.045348</td>\n",
       "      <td>44.0</td>\n",
       "      <td>0</td>\n",
       "      <td>0</td>\n",
       "      <td>0</td>\n",
       "      <td>0</td>\n",
       "      <td>...</td>\n",
       "      <td>0</td>\n",
       "      <td>0</td>\n",
       "      <td>0</td>\n",
       "      <td>0</td>\n",
       "      <td>0</td>\n",
       "      <td>0</td>\n",
       "      <td>0</td>\n",
       "      <td>0</td>\n",
       "      <td>0</td>\n",
       "      <td>0</td>\n",
       "    </tr>\n",
       "  </tbody>\n",
       "</table>\n",
       "<p>5 rows × 485 columns</p>\n",
       "</div>"
      ],
      "text/plain": [
       "       size  total_sqft      bath   balcony  price_per_square_ft  price  \\\n",
       "0  0.222222    0.002101  0.153846  0.666667             0.116245  150.0   \n",
       "1  0.222222    0.002220  0.153846  1.000000             0.110302  149.0   \n",
       "2  0.222222    0.002098  0.153846  0.666667             0.124173  160.0   \n",
       "3  0.222222    0.002220  0.153846  0.666667             0.111045  150.0   \n",
       "4  0.222222    0.001455  0.076923  1.000000             0.045348   44.0   \n",
       "\n",
       "   location_1st block hbr layout  location_1st block hrbr layout  \\\n",
       "0                              0                               0   \n",
       "1                              0                               0   \n",
       "2                              0                               0   \n",
       "3                              0                               0   \n",
       "4                              0                               0   \n",
       "\n",
       "   location_1st block jayanagar  location_1st block koramangala  ...  \\\n",
       "0                             0                               0  ...   \n",
       "1                             0                               0  ...   \n",
       "2                             0                               0  ...   \n",
       "3                             0                               0  ...   \n",
       "4                             0                               0  ...   \n",
       "\n",
       "   location_volagerekallahalli  location_whitefield  location_wilson garden  \\\n",
       "0                            0                    0                       0   \n",
       "1                            0                    0                       0   \n",
       "2                            0                    0                       0   \n",
       "3                            0                    0                       0   \n",
       "4                            0                    0                       0   \n",
       "\n",
       "   location_yelachenahalli  location_yelahanka  location_yelahanka new town  \\\n",
       "0                        0                   0                            0   \n",
       "1                        0                   0                            0   \n",
       "2                        0                   0                            0   \n",
       "3                        0                   0                            0   \n",
       "4                        0                   0                            0   \n",
       "\n",
       "   location_yelenahalli  location_yemlur  location_yeshwanthpur  \\\n",
       "0                     0                0                      0   \n",
       "1                     0                0                      0   \n",
       "2                     0                0                      0   \n",
       "3                     0                0                      0   \n",
       "4                     0                0                      0   \n",
       "\n",
       "   location_yeshwanthpur industrial suburb  \n",
       "0                                        0  \n",
       "1                                        0  \n",
       "2                                        0  \n",
       "3                                        0  \n",
       "4                                        0  \n",
       "\n",
       "[5 rows x 485 columns]"
      ]
     },
     "execution_count": 1214,
     "metadata": {},
     "output_type": "execute_result"
    }
   ],
   "source": [
    "# Dummy encoding for location\n",
    "dummies = pd.get_dummies(data=df_3, columns=['location'])\n",
    "dummies.drop(columns=['location_other'], inplace=True)\n",
    "dummies.head()"
   ]
  },
  {
   "cell_type": "code",
   "execution_count": 1215,
   "id": "incredible-pointer",
   "metadata": {},
   "outputs": [
    {
     "data": {
      "text/html": [
       "<div>\n",
       "<style scoped>\n",
       "    .dataframe tbody tr th:only-of-type {\n",
       "        vertical-align: middle;\n",
       "    }\n",
       "\n",
       "    .dataframe tbody tr th {\n",
       "        vertical-align: top;\n",
       "    }\n",
       "\n",
       "    .dataframe thead th {\n",
       "        text-align: right;\n",
       "    }\n",
       "</style>\n",
       "<table border=\"1\" class=\"dataframe\">\n",
       "  <thead>\n",
       "    <tr style=\"text-align: right;\">\n",
       "      <th></th>\n",
       "      <th>size</th>\n",
       "      <th>total_sqft</th>\n",
       "      <th>bath</th>\n",
       "      <th>balcony</th>\n",
       "      <th>price_per_square_ft</th>\n",
       "      <th>price</th>\n",
       "      <th>location_1st block hbr layout</th>\n",
       "      <th>location_1st block hrbr layout</th>\n",
       "      <th>location_1st block jayanagar</th>\n",
       "      <th>location_1st block koramangala</th>\n",
       "      <th>...</th>\n",
       "      <th>location_volagerekallahalli</th>\n",
       "      <th>location_whitefield</th>\n",
       "      <th>location_wilson garden</th>\n",
       "      <th>location_yelachenahalli</th>\n",
       "      <th>location_yelahanka</th>\n",
       "      <th>location_yelahanka new town</th>\n",
       "      <th>location_yelenahalli</th>\n",
       "      <th>location_yemlur</th>\n",
       "      <th>location_yeshwanthpur</th>\n",
       "      <th>location_yeshwanthpur industrial suburb</th>\n",
       "    </tr>\n",
       "  </thead>\n",
       "  <tbody>\n",
       "    <tr>\n",
       "      <th>0</th>\n",
       "      <td>0.222222</td>\n",
       "      <td>0.002101</td>\n",
       "      <td>0.153846</td>\n",
       "      <td>0.666667</td>\n",
       "      <td>0.116245</td>\n",
       "      <td>150.0</td>\n",
       "      <td>0</td>\n",
       "      <td>0</td>\n",
       "      <td>0</td>\n",
       "      <td>0</td>\n",
       "      <td>...</td>\n",
       "      <td>0</td>\n",
       "      <td>0</td>\n",
       "      <td>0</td>\n",
       "      <td>0</td>\n",
       "      <td>0</td>\n",
       "      <td>0</td>\n",
       "      <td>0</td>\n",
       "      <td>0</td>\n",
       "      <td>0</td>\n",
       "      <td>0</td>\n",
       "    </tr>\n",
       "    <tr>\n",
       "      <th>1</th>\n",
       "      <td>0.222222</td>\n",
       "      <td>0.002220</td>\n",
       "      <td>0.153846</td>\n",
       "      <td>1.000000</td>\n",
       "      <td>0.110302</td>\n",
       "      <td>149.0</td>\n",
       "      <td>0</td>\n",
       "      <td>0</td>\n",
       "      <td>0</td>\n",
       "      <td>0</td>\n",
       "      <td>...</td>\n",
       "      <td>0</td>\n",
       "      <td>0</td>\n",
       "      <td>0</td>\n",
       "      <td>0</td>\n",
       "      <td>0</td>\n",
       "      <td>0</td>\n",
       "      <td>0</td>\n",
       "      <td>0</td>\n",
       "      <td>0</td>\n",
       "      <td>0</td>\n",
       "    </tr>\n",
       "    <tr>\n",
       "      <th>2</th>\n",
       "      <td>0.222222</td>\n",
       "      <td>0.002098</td>\n",
       "      <td>0.153846</td>\n",
       "      <td>0.666667</td>\n",
       "      <td>0.124173</td>\n",
       "      <td>160.0</td>\n",
       "      <td>0</td>\n",
       "      <td>0</td>\n",
       "      <td>0</td>\n",
       "      <td>0</td>\n",
       "      <td>...</td>\n",
       "      <td>0</td>\n",
       "      <td>0</td>\n",
       "      <td>0</td>\n",
       "      <td>0</td>\n",
       "      <td>0</td>\n",
       "      <td>0</td>\n",
       "      <td>0</td>\n",
       "      <td>0</td>\n",
       "      <td>0</td>\n",
       "      <td>0</td>\n",
       "    </tr>\n",
       "    <tr>\n",
       "      <th>3</th>\n",
       "      <td>0.222222</td>\n",
       "      <td>0.002220</td>\n",
       "      <td>0.153846</td>\n",
       "      <td>0.666667</td>\n",
       "      <td>0.111045</td>\n",
       "      <td>150.0</td>\n",
       "      <td>0</td>\n",
       "      <td>0</td>\n",
       "      <td>0</td>\n",
       "      <td>0</td>\n",
       "      <td>...</td>\n",
       "      <td>0</td>\n",
       "      <td>0</td>\n",
       "      <td>0</td>\n",
       "      <td>0</td>\n",
       "      <td>0</td>\n",
       "      <td>0</td>\n",
       "      <td>0</td>\n",
       "      <td>0</td>\n",
       "      <td>0</td>\n",
       "      <td>0</td>\n",
       "    </tr>\n",
       "    <tr>\n",
       "      <th>4</th>\n",
       "      <td>0.222222</td>\n",
       "      <td>0.001455</td>\n",
       "      <td>0.076923</td>\n",
       "      <td>1.000000</td>\n",
       "      <td>0.045348</td>\n",
       "      <td>44.0</td>\n",
       "      <td>0</td>\n",
       "      <td>0</td>\n",
       "      <td>0</td>\n",
       "      <td>0</td>\n",
       "      <td>...</td>\n",
       "      <td>0</td>\n",
       "      <td>0</td>\n",
       "      <td>0</td>\n",
       "      <td>0</td>\n",
       "      <td>0</td>\n",
       "      <td>0</td>\n",
       "      <td>0</td>\n",
       "      <td>0</td>\n",
       "      <td>0</td>\n",
       "      <td>0</td>\n",
       "    </tr>\n",
       "  </tbody>\n",
       "</table>\n",
       "<p>5 rows × 485 columns</p>\n",
       "</div>"
      ],
      "text/plain": [
       "       size  total_sqft      bath   balcony  price_per_square_ft  price  \\\n",
       "0  0.222222    0.002101  0.153846  0.666667             0.116245  150.0   \n",
       "1  0.222222    0.002220  0.153846  1.000000             0.110302  149.0   \n",
       "2  0.222222    0.002098  0.153846  0.666667             0.124173  160.0   \n",
       "3  0.222222    0.002220  0.153846  0.666667             0.111045  150.0   \n",
       "4  0.222222    0.001455  0.076923  1.000000             0.045348   44.0   \n",
       "\n",
       "   location_1st block hbr layout  location_1st block hrbr layout  \\\n",
       "0                              0                               0   \n",
       "1                              0                               0   \n",
       "2                              0                               0   \n",
       "3                              0                               0   \n",
       "4                              0                               0   \n",
       "\n",
       "   location_1st block jayanagar  location_1st block koramangala  ...  \\\n",
       "0                             0                               0  ...   \n",
       "1                             0                               0  ...   \n",
       "2                             0                               0  ...   \n",
       "3                             0                               0  ...   \n",
       "4                             0                               0  ...   \n",
       "\n",
       "   location_volagerekallahalli  location_whitefield  location_wilson garden  \\\n",
       "0                            0                    0                       0   \n",
       "1                            0                    0                       0   \n",
       "2                            0                    0                       0   \n",
       "3                            0                    0                       0   \n",
       "4                            0                    0                       0   \n",
       "\n",
       "   location_yelachenahalli  location_yelahanka  location_yelahanka new town  \\\n",
       "0                        0                   0                            0   \n",
       "1                        0                   0                            0   \n",
       "2                        0                   0                            0   \n",
       "3                        0                   0                            0   \n",
       "4                        0                   0                            0   \n",
       "\n",
       "   location_yelenahalli  location_yemlur  location_yeshwanthpur  \\\n",
       "0                     0                0                      0   \n",
       "1                     0                0                      0   \n",
       "2                     0                0                      0   \n",
       "3                     0                0                      0   \n",
       "4                     0                0                      0   \n",
       "\n",
       "   location_yeshwanthpur industrial suburb  \n",
       "0                                        0  \n",
       "1                                        0  \n",
       "2                                        0  \n",
       "3                                        0  \n",
       "4                                        0  \n",
       "\n",
       "[5 rows x 485 columns]"
      ]
     },
     "execution_count": 1215,
     "metadata": {},
     "output_type": "execute_result"
    }
   ],
   "source": [
    "df_4 = dummies.copy()\n",
    "df_4.head()"
   ]
  },
  {
   "cell_type": "code",
   "execution_count": 1216,
   "id": "white-extension",
   "metadata": {},
   "outputs": [
    {
     "data": {
      "text/html": [
       "<div>\n",
       "<style scoped>\n",
       "    .dataframe tbody tr th:only-of-type {\n",
       "        vertical-align: middle;\n",
       "    }\n",
       "\n",
       "    .dataframe tbody tr th {\n",
       "        vertical-align: top;\n",
       "    }\n",
       "\n",
       "    .dataframe thead th {\n",
       "        text-align: right;\n",
       "    }\n",
       "</style>\n",
       "<table border=\"1\" class=\"dataframe\">\n",
       "  <thead>\n",
       "    <tr style=\"text-align: right;\">\n",
       "      <th></th>\n",
       "      <th>size</th>\n",
       "      <th>total_sqft</th>\n",
       "      <th>bath</th>\n",
       "      <th>balcony</th>\n",
       "      <th>price_per_square_ft</th>\n",
       "      <th>location_1st block hbr layout</th>\n",
       "      <th>location_1st block hrbr layout</th>\n",
       "      <th>location_1st block jayanagar</th>\n",
       "      <th>location_1st block koramangala</th>\n",
       "      <th>location_1st phase jp nagar</th>\n",
       "      <th>...</th>\n",
       "      <th>location_volagerekallahalli</th>\n",
       "      <th>location_whitefield</th>\n",
       "      <th>location_wilson garden</th>\n",
       "      <th>location_yelachenahalli</th>\n",
       "      <th>location_yelahanka</th>\n",
       "      <th>location_yelahanka new town</th>\n",
       "      <th>location_yelenahalli</th>\n",
       "      <th>location_yemlur</th>\n",
       "      <th>location_yeshwanthpur</th>\n",
       "      <th>location_yeshwanthpur industrial suburb</th>\n",
       "    </tr>\n",
       "  </thead>\n",
       "  <tbody>\n",
       "    <tr>\n",
       "      <th>0</th>\n",
       "      <td>0.222222</td>\n",
       "      <td>0.002101</td>\n",
       "      <td>0.153846</td>\n",
       "      <td>0.666667</td>\n",
       "      <td>0.116245</td>\n",
       "      <td>0</td>\n",
       "      <td>0</td>\n",
       "      <td>0</td>\n",
       "      <td>0</td>\n",
       "      <td>0</td>\n",
       "      <td>...</td>\n",
       "      <td>0</td>\n",
       "      <td>0</td>\n",
       "      <td>0</td>\n",
       "      <td>0</td>\n",
       "      <td>0</td>\n",
       "      <td>0</td>\n",
       "      <td>0</td>\n",
       "      <td>0</td>\n",
       "      <td>0</td>\n",
       "      <td>0</td>\n",
       "    </tr>\n",
       "    <tr>\n",
       "      <th>1</th>\n",
       "      <td>0.222222</td>\n",
       "      <td>0.002220</td>\n",
       "      <td>0.153846</td>\n",
       "      <td>1.000000</td>\n",
       "      <td>0.110302</td>\n",
       "      <td>0</td>\n",
       "      <td>0</td>\n",
       "      <td>0</td>\n",
       "      <td>0</td>\n",
       "      <td>0</td>\n",
       "      <td>...</td>\n",
       "      <td>0</td>\n",
       "      <td>0</td>\n",
       "      <td>0</td>\n",
       "      <td>0</td>\n",
       "      <td>0</td>\n",
       "      <td>0</td>\n",
       "      <td>0</td>\n",
       "      <td>0</td>\n",
       "      <td>0</td>\n",
       "      <td>0</td>\n",
       "    </tr>\n",
       "    <tr>\n",
       "      <th>2</th>\n",
       "      <td>0.222222</td>\n",
       "      <td>0.002098</td>\n",
       "      <td>0.153846</td>\n",
       "      <td>0.666667</td>\n",
       "      <td>0.124173</td>\n",
       "      <td>0</td>\n",
       "      <td>0</td>\n",
       "      <td>0</td>\n",
       "      <td>0</td>\n",
       "      <td>0</td>\n",
       "      <td>...</td>\n",
       "      <td>0</td>\n",
       "      <td>0</td>\n",
       "      <td>0</td>\n",
       "      <td>0</td>\n",
       "      <td>0</td>\n",
       "      <td>0</td>\n",
       "      <td>0</td>\n",
       "      <td>0</td>\n",
       "      <td>0</td>\n",
       "      <td>0</td>\n",
       "    </tr>\n",
       "    <tr>\n",
       "      <th>3</th>\n",
       "      <td>0.222222</td>\n",
       "      <td>0.002220</td>\n",
       "      <td>0.153846</td>\n",
       "      <td>0.666667</td>\n",
       "      <td>0.111045</td>\n",
       "      <td>0</td>\n",
       "      <td>0</td>\n",
       "      <td>0</td>\n",
       "      <td>0</td>\n",
       "      <td>0</td>\n",
       "      <td>...</td>\n",
       "      <td>0</td>\n",
       "      <td>0</td>\n",
       "      <td>0</td>\n",
       "      <td>0</td>\n",
       "      <td>0</td>\n",
       "      <td>0</td>\n",
       "      <td>0</td>\n",
       "      <td>0</td>\n",
       "      <td>0</td>\n",
       "      <td>0</td>\n",
       "    </tr>\n",
       "    <tr>\n",
       "      <th>4</th>\n",
       "      <td>0.222222</td>\n",
       "      <td>0.001455</td>\n",
       "      <td>0.076923</td>\n",
       "      <td>1.000000</td>\n",
       "      <td>0.045348</td>\n",
       "      <td>0</td>\n",
       "      <td>0</td>\n",
       "      <td>0</td>\n",
       "      <td>0</td>\n",
       "      <td>0</td>\n",
       "      <td>...</td>\n",
       "      <td>0</td>\n",
       "      <td>0</td>\n",
       "      <td>0</td>\n",
       "      <td>0</td>\n",
       "      <td>0</td>\n",
       "      <td>0</td>\n",
       "      <td>0</td>\n",
       "      <td>0</td>\n",
       "      <td>0</td>\n",
       "      <td>0</td>\n",
       "    </tr>\n",
       "  </tbody>\n",
       "</table>\n",
       "<p>5 rows × 484 columns</p>\n",
       "</div>"
      ],
      "text/plain": [
       "       size  total_sqft      bath   balcony  price_per_square_ft  \\\n",
       "0  0.222222    0.002101  0.153846  0.666667             0.116245   \n",
       "1  0.222222    0.002220  0.153846  1.000000             0.110302   \n",
       "2  0.222222    0.002098  0.153846  0.666667             0.124173   \n",
       "3  0.222222    0.002220  0.153846  0.666667             0.111045   \n",
       "4  0.222222    0.001455  0.076923  1.000000             0.045348   \n",
       "\n",
       "   location_1st block hbr layout  location_1st block hrbr layout  \\\n",
       "0                              0                               0   \n",
       "1                              0                               0   \n",
       "2                              0                               0   \n",
       "3                              0                               0   \n",
       "4                              0                               0   \n",
       "\n",
       "   location_1st block jayanagar  location_1st block koramangala  \\\n",
       "0                             0                               0   \n",
       "1                             0                               0   \n",
       "2                             0                               0   \n",
       "3                             0                               0   \n",
       "4                             0                               0   \n",
       "\n",
       "   location_1st phase jp nagar  ...  location_volagerekallahalli  \\\n",
       "0                            0  ...                            0   \n",
       "1                            0  ...                            0   \n",
       "2                            0  ...                            0   \n",
       "3                            0  ...                            0   \n",
       "4                            0  ...                            0   \n",
       "\n",
       "   location_whitefield  location_wilson garden  location_yelachenahalli  \\\n",
       "0                    0                       0                        0   \n",
       "1                    0                       0                        0   \n",
       "2                    0                       0                        0   \n",
       "3                    0                       0                        0   \n",
       "4                    0                       0                        0   \n",
       "\n",
       "   location_yelahanka  location_yelahanka new town  location_yelenahalli  \\\n",
       "0                   0                            0                     0   \n",
       "1                   0                            0                     0   \n",
       "2                   0                            0                     0   \n",
       "3                   0                            0                     0   \n",
       "4                   0                            0                     0   \n",
       "\n",
       "   location_yemlur  location_yeshwanthpur  \\\n",
       "0                0                      0   \n",
       "1                0                      0   \n",
       "2                0                      0   \n",
       "3                0                      0   \n",
       "4                0                      0   \n",
       "\n",
       "   location_yeshwanthpur industrial suburb  \n",
       "0                                        0  \n",
       "1                                        0  \n",
       "2                                        0  \n",
       "3                                        0  \n",
       "4                                        0  \n",
       "\n",
       "[5 rows x 484 columns]"
      ]
     },
     "execution_count": 1216,
     "metadata": {},
     "output_type": "execute_result"
    }
   ],
   "source": [
    "X=df_4.drop(columns=['price'], axis='columns')\n",
    "X.head()"
   ]
  },
  {
   "cell_type": "code",
   "execution_count": 1217,
   "id": "friendly-shell",
   "metadata": {},
   "outputs": [],
   "source": [
    "y = df_4['price']"
   ]
  },
  {
   "cell_type": "code",
   "execution_count": 1218,
   "id": "capable-judge",
   "metadata": {},
   "outputs": [
    {
     "data": {
      "text/plain": [
       "-6.529415829690514e+21"
      ]
     },
     "execution_count": 1218,
     "metadata": {},
     "output_type": "execute_result"
    }
   ],
   "source": [
    "X_train,X_test,y_train,y_test=train_test_split(X,y,test_size=0.2)\n",
    "\n",
    "model_1=LinearRegression()\n",
    "model_1.fit(X_train,y_train)\n",
    "model_1.score(X_test,y_test)"
   ]
  },
  {
   "cell_type": "code",
   "execution_count": 1219,
   "id": "interracial-recommendation",
   "metadata": {},
   "outputs": [
    {
     "data": {
      "text/plain": [
       "array([153.17084483, 145.18170435, 165.44154593, ...,  62.28099155,\n",
       "        63.29628514,  82.86931226])"
      ]
     },
     "execution_count": 1219,
     "metadata": {},
     "output_type": "execute_result"
    }
   ],
   "source": [
    "model_1.predict(X)"
   ]
  },
  {
   "cell_type": "code",
   "execution_count": 1220,
   "id": "republican-buffalo",
   "metadata": {},
   "outputs": [
    {
     "data": {
      "text/plain": [
       "0       150.00\n",
       "1       149.00\n",
       "2       160.00\n",
       "3       150.00\n",
       "4        44.00\n",
       "         ...  \n",
       "8774     84.83\n",
       "8775     61.99\n",
       "8776     48.00\n",
       "8777     55.00\n",
       "8778     78.00\n",
       "Name: price, Length: 8779, dtype: float64"
      ]
     },
     "execution_count": 1220,
     "metadata": {},
     "output_type": "execute_result"
    }
   ],
   "source": [
    "y"
   ]
  },
  {
   "cell_type": "code",
   "execution_count": 1221,
   "id": "smoking-relation",
   "metadata": {},
   "outputs": [
    {
     "data": {
      "text/plain": [
       "4160613375450.3696"
      ]
     },
     "execution_count": 1221,
     "metadata": {},
     "output_type": "execute_result"
    }
   ],
   "source": [
    "rmse(model_1.predict(X), y)"
   ]
  },
  {
   "cell_type": "markdown",
   "id": "recreational-african",
   "metadata": {},
   "source": [
    "#### Dropping the price_per_square_feet column"
   ]
  },
  {
   "cell_type": "code",
   "execution_count": 1222,
   "id": "overhead-thing",
   "metadata": {},
   "outputs": [
    {
     "data": {
      "text/plain": [
       "(8779, 483)"
      ]
     },
     "execution_count": 1222,
     "metadata": {},
     "output_type": "execute_result"
    }
   ],
   "source": [
    "X_1 = X.drop(columns=[\"price_per_square_ft\"])\n",
    "X_1.shape"
   ]
  },
  {
   "cell_type": "code",
   "execution_count": 1223,
   "id": "valuable-organic",
   "metadata": {},
   "outputs": [
    {
     "data": {
      "text/plain": [
       "-1.8145244084376389e+22"
      ]
     },
     "execution_count": 1223,
     "metadata": {},
     "output_type": "execute_result"
    }
   ],
   "source": [
    "X_train,X_test,y_train,y_test=train_test_split(X_1,y,test_size=0.2)\n",
    "\n",
    "model_3=LinearRegression()\n",
    "model_3.fit(X_train,y_train)\n",
    "model_3.score(X_test,y_test)"
   ]
  },
  {
   "cell_type": "code",
   "execution_count": 1227,
   "id": "front-channel",
   "metadata": {},
   "outputs": [
    {
     "data": {
      "text/html": [
       "<div>\n",
       "<style scoped>\n",
       "    .dataframe tbody tr th:only-of-type {\n",
       "        vertical-align: middle;\n",
       "    }\n",
       "\n",
       "    .dataframe tbody tr th {\n",
       "        vertical-align: top;\n",
       "    }\n",
       "\n",
       "    .dataframe thead th {\n",
       "        text-align: right;\n",
       "    }\n",
       "</style>\n",
       "<table border=\"1\" class=\"dataframe\">\n",
       "  <thead>\n",
       "    <tr style=\"text-align: right;\">\n",
       "      <th></th>\n",
       "      <th>model</th>\n",
       "      <th>shape</th>\n",
       "      <th>best_score</th>\n",
       "      <th>best_params</th>\n",
       "      <th>rmse</th>\n",
       "    </tr>\n",
       "  </thead>\n",
       "  <tbody>\n",
       "    <tr>\n",
       "      <th>0</th>\n",
       "      <td>linear_regression</td>\n",
       "      <td>(8779, 483)</td>\n",
       "      <td>-4.061036e+23</td>\n",
       "      <td>{'normalize': False}</td>\n",
       "      <td>75.738358</td>\n",
       "    </tr>\n",
       "    <tr>\n",
       "      <th>1</th>\n",
       "      <td>lasso</td>\n",
       "      <td>(8779, 483)</td>\n",
       "      <td>3.089086e-01</td>\n",
       "      <td>{'alpha': 1, 'selection': 'cyclic'}</td>\n",
       "      <td>95.450130</td>\n",
       "    </tr>\n",
       "    <tr>\n",
       "      <th>2</th>\n",
       "      <td>decision_tree</td>\n",
       "      <td>(8779, 483)</td>\n",
       "      <td>4.388455e-01</td>\n",
       "      <td>{'criterion': 'mse', 'splitter': 'random'}</td>\n",
       "      <td>7.134933</td>\n",
       "    </tr>\n",
       "  </tbody>\n",
       "</table>\n",
       "</div>"
      ],
      "text/plain": [
       "               model        shape    best_score  \\\n",
       "0  linear_regression  (8779, 483) -4.061036e+23   \n",
       "1              lasso  (8779, 483)  3.089086e-01   \n",
       "2      decision_tree  (8779, 483)  4.388455e-01   \n",
       "\n",
       "                                  best_params       rmse  \n",
       "0                        {'normalize': False}  75.738358  \n",
       "1         {'alpha': 1, 'selection': 'cyclic'}  95.450130  \n",
       "2  {'criterion': 'mse', 'splitter': 'random'}   7.134933  "
      ]
     },
     "execution_count": 1227,
     "metadata": {},
     "output_type": "execute_result"
    }
   ],
   "source": [
    "\n",
    "\n",
    "def find_best_model_using_gridsearchcv(X,y):\n",
    "    algos = {\n",
    "        'linear_regression' : {\n",
    "            'model': LinearRegression(),\n",
    "            'params': {\n",
    "                'normalize': [True, False]\n",
    "            }\n",
    "        },\n",
    "        'lasso': {\n",
    "            'model': Lasso(),\n",
    "            'params': {\n",
    "                'alpha': [1,2],\n",
    "                'selection': ['random', 'cyclic']\n",
    "            }\n",
    "        },\n",
    "        'decision_tree': {\n",
    "            'model': DecisionTreeRegressor(),\n",
    "            'params': {\n",
    "                'criterion' : ['mse','friedman_mse'],\n",
    "                'splitter': ['best','random']\n",
    "            }\n",
    "        }\n",
    "    }\n",
    "    scores = []\n",
    "    cv = ShuffleSplit(n_splits=5, test_size=0.3, random_state=25)\n",
    "    for algo_name, config in algos.items():\n",
    "        gs =  GridSearchCV(config['model'], config['params'], cv=cv, return_train_score=False)\n",
    "        gs.fit(X,y)\n",
    "        y_pred=gs.predict(X)\n",
    "        gs_rmse = rmse(y,y_pred)\n",
    "        scores.append({\n",
    "            'model': algo_name,\n",
    "            'shape': X.shape,\n",
    "            'best_score': gs.best_score_,\n",
    "            'best_params': gs.best_params_,\n",
    "            'rmse': gs_rmse\n",
    "        })\n",
    "\n",
    "    return pd.DataFrame(scores,columns=['model','shape', 'best_score','best_params','rmse'])\n",
    "\n",
    "find_best_model_using_gridsearchcv(X_1,y)\n"
   ]
  },
  {
   "cell_type": "code",
   "execution_count": 1228,
   "id": "entertaining-volunteer",
   "metadata": {},
   "outputs": [
    {
     "data": {
      "text/plain": [
       "(8779, 483)"
      ]
     },
     "execution_count": 1228,
     "metadata": {},
     "output_type": "execute_result"
    }
   ],
   "source": [
    "X_1.shape"
   ]
  },
  {
   "cell_type": "code",
   "execution_count": 1229,
   "id": "norman-dragon",
   "metadata": {},
   "outputs": [
    {
     "data": {
      "text/html": [
       "<div>\n",
       "<style scoped>\n",
       "    .dataframe tbody tr th:only-of-type {\n",
       "        vertical-align: middle;\n",
       "    }\n",
       "\n",
       "    .dataframe tbody tr th {\n",
       "        vertical-align: top;\n",
       "    }\n",
       "\n",
       "    .dataframe thead th {\n",
       "        text-align: right;\n",
       "    }\n",
       "</style>\n",
       "<table border=\"1\" class=\"dataframe\">\n",
       "  <thead>\n",
       "    <tr style=\"text-align: right;\">\n",
       "      <th></th>\n",
       "      <th>model</th>\n",
       "      <th>best_score</th>\n",
       "      <th>best_params</th>\n",
       "      <th>rmse</th>\n",
       "    </tr>\n",
       "  </thead>\n",
       "  <tbody>\n",
       "    <tr>\n",
       "      <th>0</th>\n",
       "      <td>DecisionTreeRegressor</td>\n",
       "      <td>0.537517</td>\n",
       "      <td>{'criterion': 'friedman_mse', 'splitter': 'best'}</td>\n",
       "      <td>7.134933</td>\n",
       "    </tr>\n",
       "  </tbody>\n",
       "</table>\n",
       "</div>"
      ],
      "text/plain": [
       "                   model  best_score  \\\n",
       "0  DecisionTreeRegressor    0.537517   \n",
       "\n",
       "                                         best_params      rmse  \n",
       "0  {'criterion': 'friedman_mse', 'splitter': 'best'}  7.134933  "
      ]
     },
     "execution_count": 1229,
     "metadata": {},
     "output_type": "execute_result"
    }
   ],
   "source": [
    "res_df = pd.DataFrame(columns=['model','best_score','best_params','rmse'])\n",
    "# Creating the best model separately\n",
    "\n",
    "cv = ShuffleSplit(n_splits=5, test_size=0.1, random_state=0)\n",
    "gs =  GridSearchCV(\n",
    "    DecisionTreeRegressor(), \n",
    "    {\n",
    "        'criterion' : ['mse','friedman_mse'],\n",
    "        'splitter': ['best','random']\n",
    "    },\n",
    "    cv=cv, \n",
    "    return_train_score=False\n",
    ")\n",
    "gs.fit(X_1,y)\n",
    "\n",
    "y_pred=gs.predict(X_1)\n",
    "gs_rmse = rmse(y,y_pred)\n",
    "res_df.append({\n",
    "    \"model\": \"DecisionTreeRegressor\",\n",
    "    \"best_score\": gs.best_score_,\n",
    "    \"best_params\": gs.best_params_,\n",
    "    \"rmse\": gs_rmse\n",
    "}, ignore_index=True)"
   ]
  },
  {
   "cell_type": "code",
   "execution_count": 1230,
   "id": "charitable-fifty",
   "metadata": {},
   "outputs": [
    {
     "name": "stdout",
     "output_type": "stream",
     "text": [
      "Best Hyper Parameter: {'alpha': 0.21, 'l1_ratio': 0.98}\n",
      "Best Score: 0.007387587369492188\n"
     ]
    }
   ],
   "source": [
    "# Trying Grid Search CV with ElasticNet\n",
    "hyp_param = {'alpha':[0.18, 0.19, 0.2, 0.21], 'l1_ratio':[0.90,0.95, 0.98]}\n",
    "enet = ElasticNet(normalize=True)\n",
    "hyper_model = GridSearchCV(estimator=enet, param_grid=hyp_param, cv=5, scoring='r2')\n",
    "\n",
    "enet_model = hyper_model.fit(X_1, y)\n",
    "print(f\"Best Hyper Parameter: {enet_model.best_params_}\")\n",
    "print(f\"Best Score: {enet_model.best_score_}\")"
   ]
  },
  {
   "cell_type": "code",
   "execution_count": 1231,
   "id": "indonesian-protocol",
   "metadata": {},
   "outputs": [
    {
     "data": {
      "text/plain": [
       "113.31506580680062"
      ]
     },
     "execution_count": 1231,
     "metadata": {},
     "output_type": "execute_result"
    }
   ],
   "source": [
    "enet_rmse = rmse(enet_model.predict(X_1),y)\n",
    "enet_rmse"
   ]
  },
  {
   "cell_type": "code",
   "execution_count": 1233,
   "id": "sporting-brake",
   "metadata": {},
   "outputs": [
    {
     "data": {
      "text/plain": [
       "51.351533580978604"
      ]
     },
     "execution_count": 1233,
     "metadata": {},
     "output_type": "execute_result"
    }
   ],
   "source": [
    "from sklearn.ensemble import RandomForestRegressor\n",
    "\n",
    "x_train,x_test,y_train,y_test=train_test_split(X_1,y, test_size=0.1)\n",
    "RFC = RandomForestRegressor(n_estimators=75, n_jobs=-1, oob_score=True, random_state=10)\n",
    "RFC.fit(x_train,y_train)\n",
    "y_test_pred = RFC.predict(x_test)\n",
    "rmse(y_test, y_test_pred)"
   ]
  },
  {
   "cell_type": "code",
   "execution_count": 1234,
   "id": "split-saint",
   "metadata": {},
   "outputs": [
    {
     "name": "stdout",
     "output_type": "stream",
     "text": [
      "RMSE for train: 64.233117450204\n",
      "RMSE for test: 77.26679052949432\n",
      "r2_score for train: 0.6808304367585163\n",
      "r2_score for test: 0.5972523187818751\n"
     ]
    }
   ],
   "source": [
    "from sklearn.model_selection import GridSearchCV\n",
    "\n",
    "x=X_1\n",
    "\n",
    "x_train,x_test,y_train,y_test=train_test_split(x,y,test_size=0.1,random_state=10)\n",
    "\n",
    "param={'max_depth':[5,10,15,20,30],'min_samples_leaf':[10,15,20,50,100]}\n",
    "\n",
    "gs_rfc=GridSearchCV(estimator=RFC,param_grid=param,cv=4,n_jobs=-1,scoring='r2')\n",
    "\n",
    "gs_rfc.fit(x_train,y_train)\n",
    "\n",
    "gs_rfc.best_estimator_\n",
    "gs_best=gs_rfc.best_estimator_\n",
    "\n",
    "gs_best.fit(x_train,y_train)\n",
    "\n",
    "train_pred=gs_best.predict(x_train)\n",
    "\n",
    "test_pred=gs_best.predict(x_test)\n",
    "\n",
    "\n",
    "print('RMSE for train:',np.sqrt(mean_squared_error(y_train,train_pred)))\n",
    "print('RMSE for test:',np.sqrt(mean_squared_error(y_test,test_pred)))\n",
    "\n",
    "\n",
    "print('r2_score for train:',r2_score(y_train,train_pred))\n",
    "print('r2_score for test:',r2_score(y_test,test_pred))"
   ]
  },
  {
   "cell_type": "code",
   "execution_count": 1235,
   "id": "linear-history",
   "metadata": {},
   "outputs": [
    {
     "name": "stdout",
     "output_type": "stream",
     "text": [
      "0.739011552175718 58.512482756656425\n"
     ]
    }
   ],
   "source": [
    "from sklearn.ensemble import HistGradientBoostingRegressor\n",
    "\n",
    "est = HistGradientBoostingRegressor().fit(X_1, y)\n",
    "y_pred = est.predict(X_1)\n",
    "rmse_hgbr = rmse(y_pred, y)\n",
    "print(est.score(X_1, y), rmse_hgbr)"
   ]
  },
  {
   "cell_type": "markdown",
   "id": "better-microwave",
   "metadata": {},
   "source": [
    "## PROCESSING THE TEST-DATA"
   ]
  },
  {
   "cell_type": "code",
   "execution_count": 1236,
   "id": "comfortable-advice",
   "metadata": {},
   "outputs": [
    {
     "data": {
      "text/html": [
       "<div>\n",
       "<style scoped>\n",
       "    .dataframe tbody tr th:only-of-type {\n",
       "        vertical-align: middle;\n",
       "    }\n",
       "\n",
       "    .dataframe tbody tr th {\n",
       "        vertical-align: top;\n",
       "    }\n",
       "\n",
       "    .dataframe thead th {\n",
       "        text-align: right;\n",
       "    }\n",
       "</style>\n",
       "<table border=\"1\" class=\"dataframe\">\n",
       "  <thead>\n",
       "    <tr style=\"text-align: right;\">\n",
       "      <th></th>\n",
       "      <th>ID</th>\n",
       "      <th>area_type</th>\n",
       "      <th>availability</th>\n",
       "      <th>location</th>\n",
       "      <th>size</th>\n",
       "      <th>society</th>\n",
       "      <th>total_sqft</th>\n",
       "      <th>bath</th>\n",
       "      <th>balcony</th>\n",
       "    </tr>\n",
       "  </thead>\n",
       "  <tbody>\n",
       "    <tr>\n",
       "      <th>0</th>\n",
       "      <td>0</td>\n",
       "      <td>Super built-up  Area</td>\n",
       "      <td>Ready To Move</td>\n",
       "      <td>chamrajpet</td>\n",
       "      <td>2 BHK</td>\n",
       "      <td>NaN</td>\n",
       "      <td>650</td>\n",
       "      <td>1.0</td>\n",
       "      <td>1.0</td>\n",
       "    </tr>\n",
       "    <tr>\n",
       "      <th>1</th>\n",
       "      <td>1</td>\n",
       "      <td>Super built-up  Area</td>\n",
       "      <td>Ready To Move</td>\n",
       "      <td>7th phase jp nagar</td>\n",
       "      <td>3 BHK</td>\n",
       "      <td>SrncyRe</td>\n",
       "      <td>1370</td>\n",
       "      <td>2.0</td>\n",
       "      <td>1.0</td>\n",
       "    </tr>\n",
       "    <tr>\n",
       "      <th>2</th>\n",
       "      <td>2</td>\n",
       "      <td>Super built-up  Area</td>\n",
       "      <td>Ready To Move</td>\n",
       "      <td>whitefield</td>\n",
       "      <td>3 BHK</td>\n",
       "      <td>AjhalNa</td>\n",
       "      <td>1725</td>\n",
       "      <td>3.0</td>\n",
       "      <td>2.0</td>\n",
       "    </tr>\n",
       "    <tr>\n",
       "      <th>3</th>\n",
       "      <td>3</td>\n",
       "      <td>Built-up  Area</td>\n",
       "      <td>Ready To Move</td>\n",
       "      <td>jalahalli</td>\n",
       "      <td>2 BHK</td>\n",
       "      <td>NaN</td>\n",
       "      <td>1000</td>\n",
       "      <td>2.0</td>\n",
       "      <td>0.0</td>\n",
       "    </tr>\n",
       "    <tr>\n",
       "      <th>4</th>\n",
       "      <td>4</td>\n",
       "      <td>Plot  Area</td>\n",
       "      <td>Ready To Move</td>\n",
       "      <td>tc palaya</td>\n",
       "      <td>1 Bedroom</td>\n",
       "      <td>NaN</td>\n",
       "      <td>1350</td>\n",
       "      <td>1.0</td>\n",
       "      <td>0.0</td>\n",
       "    </tr>\n",
       "  </tbody>\n",
       "</table>\n",
       "</div>"
      ],
      "text/plain": [
       "   ID             area_type   availability            location       size  \\\n",
       "0   0  Super built-up  Area  Ready To Move          chamrajpet      2 BHK   \n",
       "1   1  Super built-up  Area  Ready To Move  7th phase jp nagar      3 BHK   \n",
       "2   2  Super built-up  Area  Ready To Move          whitefield      3 BHK   \n",
       "3   3        Built-up  Area  Ready To Move           jalahalli      2 BHK   \n",
       "4   4            Plot  Area  Ready To Move           tc palaya  1 Bedroom   \n",
       "\n",
       "   society total_sqft  bath  balcony  \n",
       "0      NaN        650   1.0      1.0  \n",
       "1  SrncyRe       1370   2.0      1.0  \n",
       "2  AjhalNa       1725   3.0      2.0  \n",
       "3      NaN       1000   2.0      0.0  \n",
       "4      NaN       1350   1.0      0.0  "
      ]
     },
     "execution_count": 1236,
     "metadata": {},
     "output_type": "execute_result"
    }
   ],
   "source": [
    "df_test.head()"
   ]
  },
  {
   "cell_type": "code",
   "execution_count": 1237,
   "id": "oriented-schedule",
   "metadata": {},
   "outputs": [
    {
     "data": {
      "text/plain": [
       "location        0\n",
       "size            2\n",
       "total_sqft      0\n",
       "bath            8\n",
       "balcony       105\n",
       "dtype: int64"
      ]
     },
     "execution_count": 1237,
     "metadata": {},
     "output_type": "execute_result"
    }
   ],
   "source": [
    "df_test_1 = df_test.drop(columns=[\"ID\", \"area_type\", \"availability\", \"society\"])\n",
    "df_test_1.isna().sum()"
   ]
  },
  {
   "cell_type": "code",
   "execution_count": 1238,
   "id": "latin-hacker",
   "metadata": {},
   "outputs": [],
   "source": [
    "df_test_1['size'] = df_test_1['size'].fillna('2 BHK')"
   ]
  },
  {
   "cell_type": "code",
   "execution_count": 1239,
   "id": "frank-mississippi",
   "metadata": {},
   "outputs": [],
   "source": [
    "df_test_1['size']=df_test_1['size'].apply(get_room_count)"
   ]
  },
  {
   "cell_type": "code",
   "execution_count": 1240,
   "id": "technological-genesis",
   "metadata": {
    "scrolled": true
   },
   "outputs": [
    {
     "data": {
      "text/html": [
       "<div>\n",
       "<style scoped>\n",
       "    .dataframe tbody tr th:only-of-type {\n",
       "        vertical-align: middle;\n",
       "    }\n",
       "\n",
       "    .dataframe tbody tr th {\n",
       "        vertical-align: top;\n",
       "    }\n",
       "\n",
       "    .dataframe thead th {\n",
       "        text-align: right;\n",
       "    }\n",
       "</style>\n",
       "<table border=\"1\" class=\"dataframe\">\n",
       "  <thead>\n",
       "    <tr style=\"text-align: right;\">\n",
       "      <th></th>\n",
       "      <th>location</th>\n",
       "      <th>size</th>\n",
       "      <th>total_sqft</th>\n",
       "      <th>bath</th>\n",
       "      <th>balcony</th>\n",
       "    </tr>\n",
       "  </thead>\n",
       "  <tbody>\n",
       "    <tr>\n",
       "      <th>0</th>\n",
       "      <td>chamrajpet</td>\n",
       "      <td>2</td>\n",
       "      <td>650</td>\n",
       "      <td>1.0</td>\n",
       "      <td>1.0</td>\n",
       "    </tr>\n",
       "    <tr>\n",
       "      <th>1</th>\n",
       "      <td>7th phase jp nagar</td>\n",
       "      <td>3</td>\n",
       "      <td>1370</td>\n",
       "      <td>2.0</td>\n",
       "      <td>1.0</td>\n",
       "    </tr>\n",
       "    <tr>\n",
       "      <th>2</th>\n",
       "      <td>whitefield</td>\n",
       "      <td>3</td>\n",
       "      <td>1725</td>\n",
       "      <td>3.0</td>\n",
       "      <td>2.0</td>\n",
       "    </tr>\n",
       "    <tr>\n",
       "      <th>3</th>\n",
       "      <td>jalahalli</td>\n",
       "      <td>2</td>\n",
       "      <td>1000</td>\n",
       "      <td>2.0</td>\n",
       "      <td>0.0</td>\n",
       "    </tr>\n",
       "    <tr>\n",
       "      <th>4</th>\n",
       "      <td>tc palaya</td>\n",
       "      <td>1</td>\n",
       "      <td>1350</td>\n",
       "      <td>1.0</td>\n",
       "      <td>0.0</td>\n",
       "    </tr>\n",
       "  </tbody>\n",
       "</table>\n",
       "</div>"
      ],
      "text/plain": [
       "             location  size total_sqft  bath  balcony\n",
       "0          chamrajpet     2        650   1.0      1.0\n",
       "1  7th phase jp nagar     3       1370   2.0      1.0\n",
       "2          whitefield     3       1725   3.0      2.0\n",
       "3           jalahalli     2       1000   2.0      0.0\n",
       "4           tc palaya     1       1350   1.0      0.0"
      ]
     },
     "execution_count": 1240,
     "metadata": {},
     "output_type": "execute_result"
    }
   ],
   "source": [
    "df_test_1.head()"
   ]
  },
  {
   "cell_type": "code",
   "execution_count": 1241,
   "id": "strong-generator",
   "metadata": {},
   "outputs": [
    {
     "data": {
      "text/plain": [
       "location        0\n",
       "size            0\n",
       "total_sqft      0\n",
       "bath            8\n",
       "balcony       105\n",
       "dtype: int64"
      ]
     },
     "execution_count": 1241,
     "metadata": {},
     "output_type": "execute_result"
    }
   ],
   "source": [
    "df_test_1.isna().sum()"
   ]
  },
  {
   "cell_type": "code",
   "execution_count": 1242,
   "id": "facial-afghanistan",
   "metadata": {},
   "outputs": [],
   "source": [
    "# Filling the NaN values in bath with corresponding median for the respective room size\n",
    "for index, row in df_test_1.iterrows():\n",
    "    if np.isnan(df_test_1.loc[index, 'bath']):\n",
    "        df_test_1.loc[index, 'bath'] = median_bath_df.loc[df_test_1.loc[index,'size']].values[0]\n"
   ]
  },
  {
   "cell_type": "code",
   "execution_count": 1243,
   "id": "bacterial-cowboy",
   "metadata": {},
   "outputs": [],
   "source": [
    "# Filling NaN values with corresponding mean for the respective room size\n",
    "for index, row in df_test_1.iterrows():\n",
    "    if np.isnan(df_test_1.loc[index, 'balcony']):\n",
    "        if df_test_1.loc[index,'size'] in balcony_df.index:\n",
    "            df_test_1.loc[index, 'balcony'] = balcony_df.loc[df_test_1.loc[index,'size']].values[0]\n",
    "        else:\n",
    "            df_test_1.loc[index, 'balcony'] = 0"
   ]
  },
  {
   "cell_type": "code",
   "execution_count": 1244,
   "id": "consolidated-brazil",
   "metadata": {},
   "outputs": [],
   "source": [
    "df_test_1[\"total_sqft\"] = df_test_1[\"total_sqft\"].apply(units_in_sq_ft)"
   ]
  },
  {
   "cell_type": "code",
   "execution_count": 1245,
   "id": "large-survival",
   "metadata": {},
   "outputs": [
    {
     "data": {
      "text/plain": [
       "location      0\n",
       "size          0\n",
       "total_sqft    0\n",
       "bath          0\n",
       "balcony       0\n",
       "dtype: int64"
      ]
     },
     "execution_count": 1245,
     "metadata": {},
     "output_type": "execute_result"
    }
   ],
   "source": [
    "df_test_1.isna().sum()"
   ]
  },
  {
   "cell_type": "code",
   "execution_count": 1246,
   "id": "fundamental-package",
   "metadata": {},
   "outputs": [
    {
     "data": {
      "text/plain": [
       "<AxesSubplot:xlabel='size', ylabel='bath'>"
      ]
     },
     "execution_count": 1246,
     "metadata": {},
     "output_type": "execute_result"
    },
    {
     "data": {
      "image/png": "[encoded data removed]",
      "text/plain": [
       "<Figure size 1080x720 with 1 Axes>"
      ]
     },
     "metadata": {
      "needs_background": "light"
     },
     "output_type": "display_data"
    }
   ],
   "source": [
    "sns.lineplot(x=df_test_1['size'], y=df_test_1['bath'])"
   ]
  },
  {
   "cell_type": "code",
   "execution_count": 1247,
   "id": "utility-retreat",
   "metadata": {},
   "outputs": [
    {
     "data": {
      "text/html": [
       "<div>\n",
       "<style scoped>\n",
       "    .dataframe tbody tr th:only-of-type {\n",
       "        vertical-align: middle;\n",
       "    }\n",
       "\n",
       "    .dataframe tbody tr th {\n",
       "        vertical-align: top;\n",
       "    }\n",
       "\n",
       "    .dataframe thead th {\n",
       "        text-align: right;\n",
       "    }\n",
       "</style>\n",
       "<table border=\"1\" class=\"dataframe\">\n",
       "  <thead>\n",
       "    <tr style=\"text-align: right;\">\n",
       "      <th></th>\n",
       "      <th>location</th>\n",
       "      <th>size</th>\n",
       "      <th>total_sqft</th>\n",
       "      <th>bath</th>\n",
       "      <th>balcony</th>\n",
       "    </tr>\n",
       "  </thead>\n",
       "  <tbody>\n",
       "    <tr>\n",
       "      <th>0</th>\n",
       "      <td>chamrajpet</td>\n",
       "      <td>2</td>\n",
       "      <td>650.0</td>\n",
       "      <td>1.0</td>\n",
       "      <td>1.0</td>\n",
       "    </tr>\n",
       "    <tr>\n",
       "      <th>1</th>\n",
       "      <td>7th phase jp nagar</td>\n",
       "      <td>3</td>\n",
       "      <td>1370.0</td>\n",
       "      <td>2.0</td>\n",
       "      <td>1.0</td>\n",
       "    </tr>\n",
       "    <tr>\n",
       "      <th>2</th>\n",
       "      <td>whitefield</td>\n",
       "      <td>3</td>\n",
       "      <td>1725.0</td>\n",
       "      <td>3.0</td>\n",
       "      <td>2.0</td>\n",
       "    </tr>\n",
       "    <tr>\n",
       "      <th>3</th>\n",
       "      <td>jalahalli</td>\n",
       "      <td>2</td>\n",
       "      <td>1000.0</td>\n",
       "      <td>2.0</td>\n",
       "      <td>0.0</td>\n",
       "    </tr>\n",
       "    <tr>\n",
       "      <th>4</th>\n",
       "      <td>tc palaya</td>\n",
       "      <td>1</td>\n",
       "      <td>1350.0</td>\n",
       "      <td>1.0</td>\n",
       "      <td>0.0</td>\n",
       "    </tr>\n",
       "  </tbody>\n",
       "</table>\n",
       "</div>"
      ],
      "text/plain": [
       "             location  size  total_sqft  bath  balcony\n",
       "0          chamrajpet     2       650.0   1.0      1.0\n",
       "1  7th phase jp nagar     3      1370.0   2.0      1.0\n",
       "2          whitefield     3      1725.0   3.0      2.0\n",
       "3           jalahalli     2      1000.0   2.0      0.0\n",
       "4           tc palaya     1      1350.0   1.0      0.0"
      ]
     },
     "execution_count": 1247,
     "metadata": {},
     "output_type": "execute_result"
    }
   ],
   "source": [
    "df_test_1.head()"
   ]
  },
  {
   "cell_type": "code",
   "execution_count": 1248,
   "id": "seven-hypothesis",
   "metadata": {},
   "outputs": [],
   "source": [
    "df_test_num = df_test_1.select_dtypes(include=np.number)\n",
    "min_max_scaler = preprocessing.MinMaxScaler()\n",
    "df_test_num_scaled = min_max_scaler.fit_transform(df_test_num.values)\n",
    "scaled_test_df = pd.DataFrame(df_test_num_scaled, columns=df_test_num.columns)"
   ]
  },
  {
   "cell_type": "code",
   "execution_count": 1249,
   "id": "adapted-wildlife",
   "metadata": {},
   "outputs": [
    {
     "data": {
      "text/html": [
       "<div>\n",
       "<style scoped>\n",
       "    .dataframe tbody tr th:only-of-type {\n",
       "        vertical-align: middle;\n",
       "    }\n",
       "\n",
       "    .dataframe tbody tr th {\n",
       "        vertical-align: top;\n",
       "    }\n",
       "\n",
       "    .dataframe thead th {\n",
       "        text-align: right;\n",
       "    }\n",
       "</style>\n",
       "<table border=\"1\" class=\"dataframe\">\n",
       "  <thead>\n",
       "    <tr style=\"text-align: right;\">\n",
       "      <th></th>\n",
       "      <th>size</th>\n",
       "      <th>total_sqft</th>\n",
       "      <th>bath</th>\n",
       "      <th>balcony</th>\n",
       "    </tr>\n",
       "  </thead>\n",
       "  <tbody>\n",
       "    <tr>\n",
       "      <th>0</th>\n",
       "      <td>0.058824</td>\n",
       "      <td>0.002258</td>\n",
       "      <td>0.000000</td>\n",
       "      <td>0.333333</td>\n",
       "    </tr>\n",
       "    <tr>\n",
       "      <th>1</th>\n",
       "      <td>0.117647</td>\n",
       "      <td>0.005013</td>\n",
       "      <td>0.058824</td>\n",
       "      <td>0.333333</td>\n",
       "    </tr>\n",
       "    <tr>\n",
       "      <th>2</th>\n",
       "      <td>0.117647</td>\n",
       "      <td>0.006372</td>\n",
       "      <td>0.117647</td>\n",
       "      <td>0.666667</td>\n",
       "    </tr>\n",
       "    <tr>\n",
       "      <th>3</th>\n",
       "      <td>0.058824</td>\n",
       "      <td>0.003597</td>\n",
       "      <td>0.058824</td>\n",
       "      <td>0.000000</td>\n",
       "    </tr>\n",
       "    <tr>\n",
       "      <th>4</th>\n",
       "      <td>0.000000</td>\n",
       "      <td>0.004937</td>\n",
       "      <td>0.000000</td>\n",
       "      <td>0.000000</td>\n",
       "    </tr>\n",
       "  </tbody>\n",
       "</table>\n",
       "</div>"
      ],
      "text/plain": [
       "       size  total_sqft      bath   balcony\n",
       "0  0.058824    0.002258  0.000000  0.333333\n",
       "1  0.117647    0.005013  0.058824  0.333333\n",
       "2  0.117647    0.006372  0.117647  0.666667\n",
       "3  0.058824    0.003597  0.058824  0.000000\n",
       "4  0.000000    0.004937  0.000000  0.000000"
      ]
     },
     "execution_count": 1249,
     "metadata": {},
     "output_type": "execute_result"
    }
   ],
   "source": [
    "scaled_test_df.head()"
   ]
  },
  {
   "cell_type": "code",
   "execution_count": 1250,
   "id": "thorough-receiver",
   "metadata": {},
   "outputs": [
    {
     "data": {
      "text/html": [
       "<div>\n",
       "<style scoped>\n",
       "    .dataframe tbody tr th:only-of-type {\n",
       "        vertical-align: middle;\n",
       "    }\n",
       "\n",
       "    .dataframe tbody tr th {\n",
       "        vertical-align: top;\n",
       "    }\n",
       "\n",
       "    .dataframe thead th {\n",
       "        text-align: right;\n",
       "    }\n",
       "</style>\n",
       "<table border=\"1\" class=\"dataframe\">\n",
       "  <thead>\n",
       "    <tr style=\"text-align: right;\">\n",
       "      <th></th>\n",
       "      <th>location</th>\n",
       "      <th>size</th>\n",
       "      <th>total_sqft</th>\n",
       "      <th>bath</th>\n",
       "      <th>balcony</th>\n",
       "    </tr>\n",
       "  </thead>\n",
       "  <tbody>\n",
       "    <tr>\n",
       "      <th>0</th>\n",
       "      <td>chamrajpet</td>\n",
       "      <td>0.058824</td>\n",
       "      <td>0.002258</td>\n",
       "      <td>0.000000</td>\n",
       "      <td>0.333333</td>\n",
       "    </tr>\n",
       "    <tr>\n",
       "      <th>1</th>\n",
       "      <td>7th phase jp nagar</td>\n",
       "      <td>0.117647</td>\n",
       "      <td>0.005013</td>\n",
       "      <td>0.058824</td>\n",
       "      <td>0.333333</td>\n",
       "    </tr>\n",
       "    <tr>\n",
       "      <th>2</th>\n",
       "      <td>whitefield</td>\n",
       "      <td>0.117647</td>\n",
       "      <td>0.006372</td>\n",
       "      <td>0.117647</td>\n",
       "      <td>0.666667</td>\n",
       "    </tr>\n",
       "    <tr>\n",
       "      <th>3</th>\n",
       "      <td>jalahalli</td>\n",
       "      <td>0.058824</td>\n",
       "      <td>0.003597</td>\n",
       "      <td>0.058824</td>\n",
       "      <td>0.000000</td>\n",
       "    </tr>\n",
       "    <tr>\n",
       "      <th>4</th>\n",
       "      <td>tc palaya</td>\n",
       "      <td>0.000000</td>\n",
       "      <td>0.004937</td>\n",
       "      <td>0.000000</td>\n",
       "      <td>0.000000</td>\n",
       "    </tr>\n",
       "  </tbody>\n",
       "</table>\n",
       "</div>"
      ],
      "text/plain": [
       "             location      size  total_sqft      bath   balcony\n",
       "0          chamrajpet  0.058824    0.002258  0.000000  0.333333\n",
       "1  7th phase jp nagar  0.117647    0.005013  0.058824  0.333333\n",
       "2          whitefield  0.117647    0.006372  0.117647  0.666667\n",
       "3           jalahalli  0.058824    0.003597  0.058824  0.000000\n",
       "4           tc palaya  0.000000    0.004937  0.000000  0.000000"
      ]
     },
     "execution_count": 1250,
     "metadata": {},
     "output_type": "execute_result"
    }
   ],
   "source": [
    "df_test_normalized = pd.concat([df_test_1.select_dtypes(exclude=np.number), scaled_test_df], axis=1)\n",
    "df_test_normalized.head()"
   ]
  },
  {
   "cell_type": "code",
   "execution_count": 1251,
   "id": "divine-rating",
   "metadata": {},
   "outputs": [],
   "source": [
    "df_test_normalized['location'] = df_test_normalized['location'].apply(lambda x: x if x in set_location_in_both_train_test_data else 'other')"
   ]
  },
  {
   "cell_type": "code",
   "execution_count": 1252,
   "id": "effective-classification",
   "metadata": {},
   "outputs": [
    {
     "data": {
      "text/plain": [
       "480"
      ]
     },
     "execution_count": 1252,
     "metadata": {},
     "output_type": "execute_result"
    }
   ],
   "source": [
    "len(df_test_normalized['location'].unique())"
   ]
  },
  {
   "cell_type": "code",
   "execution_count": 1253,
   "id": "interstate-scientist",
   "metadata": {},
   "outputs": [
    {
     "data": {
      "text/plain": [
       "location      0\n",
       "size          0\n",
       "total_sqft    0\n",
       "bath          0\n",
       "balcony       0\n",
       "dtype: int64"
      ]
     },
     "execution_count": 1253,
     "metadata": {},
     "output_type": "execute_result"
    }
   ],
   "source": [
    "df_test_normalized.isna().sum()"
   ]
  },
  {
   "cell_type": "code",
   "execution_count": 1254,
   "id": "irish-subscriber",
   "metadata": {},
   "outputs": [
    {
     "data": {
      "text/html": [
       "<div>\n",
       "<style scoped>\n",
       "    .dataframe tbody tr th:only-of-type {\n",
       "        vertical-align: middle;\n",
       "    }\n",
       "\n",
       "    .dataframe tbody tr th {\n",
       "        vertical-align: top;\n",
       "    }\n",
       "\n",
       "    .dataframe thead th {\n",
       "        text-align: right;\n",
       "    }\n",
       "</style>\n",
       "<table border=\"1\" class=\"dataframe\">\n",
       "  <thead>\n",
       "    <tr style=\"text-align: right;\">\n",
       "      <th></th>\n",
       "      <th>size</th>\n",
       "      <th>total_sqft</th>\n",
       "      <th>bath</th>\n",
       "      <th>balcony</th>\n",
       "      <th>location_1st block hbr layout</th>\n",
       "      <th>location_1st block hrbr layout</th>\n",
       "      <th>location_1st block jayanagar</th>\n",
       "      <th>location_1st block koramangala</th>\n",
       "      <th>location_1st phase jp nagar</th>\n",
       "      <th>location_1st stage indira nagar</th>\n",
       "      <th>...</th>\n",
       "      <th>location_volagerekallahalli</th>\n",
       "      <th>location_whitefield</th>\n",
       "      <th>location_wilson garden</th>\n",
       "      <th>location_yelachenahalli</th>\n",
       "      <th>location_yelahanka</th>\n",
       "      <th>location_yelahanka new town</th>\n",
       "      <th>location_yelenahalli</th>\n",
       "      <th>location_yemlur</th>\n",
       "      <th>location_yeshwanthpur</th>\n",
       "      <th>location_yeshwanthpur industrial suburb</th>\n",
       "    </tr>\n",
       "  </thead>\n",
       "  <tbody>\n",
       "    <tr>\n",
       "      <th>0</th>\n",
       "      <td>0.058824</td>\n",
       "      <td>0.002258</td>\n",
       "      <td>0.000000</td>\n",
       "      <td>0.333333</td>\n",
       "      <td>0</td>\n",
       "      <td>0</td>\n",
       "      <td>0</td>\n",
       "      <td>0</td>\n",
       "      <td>0</td>\n",
       "      <td>0</td>\n",
       "      <td>...</td>\n",
       "      <td>0</td>\n",
       "      <td>0</td>\n",
       "      <td>0</td>\n",
       "      <td>0</td>\n",
       "      <td>0</td>\n",
       "      <td>0</td>\n",
       "      <td>0</td>\n",
       "      <td>0</td>\n",
       "      <td>0</td>\n",
       "      <td>0</td>\n",
       "    </tr>\n",
       "    <tr>\n",
       "      <th>1</th>\n",
       "      <td>0.117647</td>\n",
       "      <td>0.005013</td>\n",
       "      <td>0.058824</td>\n",
       "      <td>0.333333</td>\n",
       "      <td>0</td>\n",
       "      <td>0</td>\n",
       "      <td>0</td>\n",
       "      <td>0</td>\n",
       "      <td>0</td>\n",
       "      <td>0</td>\n",
       "      <td>...</td>\n",
       "      <td>0</td>\n",
       "      <td>0</td>\n",
       "      <td>0</td>\n",
       "      <td>0</td>\n",
       "      <td>0</td>\n",
       "      <td>0</td>\n",
       "      <td>0</td>\n",
       "      <td>0</td>\n",
       "      <td>0</td>\n",
       "      <td>0</td>\n",
       "    </tr>\n",
       "    <tr>\n",
       "      <th>2</th>\n",
       "      <td>0.117647</td>\n",
       "      <td>0.006372</td>\n",
       "      <td>0.117647</td>\n",
       "      <td>0.666667</td>\n",
       "      <td>0</td>\n",
       "      <td>0</td>\n",
       "      <td>0</td>\n",
       "      <td>0</td>\n",
       "      <td>0</td>\n",
       "      <td>0</td>\n",
       "      <td>...</td>\n",
       "      <td>0</td>\n",
       "      <td>1</td>\n",
       "      <td>0</td>\n",
       "      <td>0</td>\n",
       "      <td>0</td>\n",
       "      <td>0</td>\n",
       "      <td>0</td>\n",
       "      <td>0</td>\n",
       "      <td>0</td>\n",
       "      <td>0</td>\n",
       "    </tr>\n",
       "    <tr>\n",
       "      <th>3</th>\n",
       "      <td>0.058824</td>\n",
       "      <td>0.003597</td>\n",
       "      <td>0.058824</td>\n",
       "      <td>0.000000</td>\n",
       "      <td>0</td>\n",
       "      <td>0</td>\n",
       "      <td>0</td>\n",
       "      <td>0</td>\n",
       "      <td>0</td>\n",
       "      <td>0</td>\n",
       "      <td>...</td>\n",
       "      <td>0</td>\n",
       "      <td>0</td>\n",
       "      <td>0</td>\n",
       "      <td>0</td>\n",
       "      <td>0</td>\n",
       "      <td>0</td>\n",
       "      <td>0</td>\n",
       "      <td>0</td>\n",
       "      <td>0</td>\n",
       "      <td>0</td>\n",
       "    </tr>\n",
       "    <tr>\n",
       "      <th>4</th>\n",
       "      <td>0.000000</td>\n",
       "      <td>0.004937</td>\n",
       "      <td>0.000000</td>\n",
       "      <td>0.000000</td>\n",
       "      <td>0</td>\n",
       "      <td>0</td>\n",
       "      <td>0</td>\n",
       "      <td>0</td>\n",
       "      <td>0</td>\n",
       "      <td>0</td>\n",
       "      <td>...</td>\n",
       "      <td>0</td>\n",
       "      <td>0</td>\n",
       "      <td>0</td>\n",
       "      <td>0</td>\n",
       "      <td>0</td>\n",
       "      <td>0</td>\n",
       "      <td>0</td>\n",
       "      <td>0</td>\n",
       "      <td>0</td>\n",
       "      <td>0</td>\n",
       "    </tr>\n",
       "  </tbody>\n",
       "</table>\n",
       "<p>5 rows × 483 columns</p>\n",
       "</div>"
      ],
      "text/plain": [
       "       size  total_sqft      bath   balcony  location_1st block hbr layout  \\\n",
       "0  0.058824    0.002258  0.000000  0.333333                              0   \n",
       "1  0.117647    0.005013  0.058824  0.333333                              0   \n",
       "2  0.117647    0.006372  0.117647  0.666667                              0   \n",
       "3  0.058824    0.003597  0.058824  0.000000                              0   \n",
       "4  0.000000    0.004937  0.000000  0.000000                              0   \n",
       "\n",
       "   location_1st block hrbr layout  location_1st block jayanagar  \\\n",
       "0                               0                             0   \n",
       "1                               0                             0   \n",
       "2                               0                             0   \n",
       "3                               0                             0   \n",
       "4                               0                             0   \n",
       "\n",
       "   location_1st block koramangala  location_1st phase jp nagar  \\\n",
       "0                               0                            0   \n",
       "1                               0                            0   \n",
       "2                               0                            0   \n",
       "3                               0                            0   \n",
       "4                               0                            0   \n",
       "\n",
       "   location_1st stage indira nagar  ...  location_volagerekallahalli  \\\n",
       "0                                0  ...                            0   \n",
       "1                                0  ...                            0   \n",
       "2                                0  ...                            0   \n",
       "3                                0  ...                            0   \n",
       "4                                0  ...                            0   \n",
       "\n",
       "   location_whitefield  location_wilson garden  location_yelachenahalli  \\\n",
       "0                    0                       0                        0   \n",
       "1                    0                       0                        0   \n",
       "2                    1                       0                        0   \n",
       "3                    0                       0                        0   \n",
       "4                    0                       0                        0   \n",
       "\n",
       "   location_yelahanka  location_yelahanka new town  location_yelenahalli  \\\n",
       "0                   0                            0                     0   \n",
       "1                   0                            0                     0   \n",
       "2                   0                            0                     0   \n",
       "3                   0                            0                     0   \n",
       "4                   0                            0                     0   \n",
       "\n",
       "   location_yemlur  location_yeshwanthpur  \\\n",
       "0                0                      0   \n",
       "1                0                      0   \n",
       "2                0                      0   \n",
       "3                0                      0   \n",
       "4                0                      0   \n",
       "\n",
       "   location_yeshwanthpur industrial suburb  \n",
       "0                                        0  \n",
       "1                                        0  \n",
       "2                                        0  \n",
       "3                                        0  \n",
       "4                                        0  \n",
       "\n",
       "[5 rows x 483 columns]"
      ]
     },
     "execution_count": 1254,
     "metadata": {},
     "output_type": "execute_result"
    }
   ],
   "source": [
    "dummies = pd.get_dummies(data=df_test_normalized, columns=['location'])\n",
    "dummies.drop(columns=['location_other'], inplace=True)\n",
    "\n",
    "dummies.head()"
   ]
  },
  {
   "cell_type": "code",
   "execution_count": 1255,
   "id": "weekly-publication",
   "metadata": {},
   "outputs": [
    {
     "data": {
      "text/html": [
       "<div>\n",
       "<style scoped>\n",
       "    .dataframe tbody tr th:only-of-type {\n",
       "        vertical-align: middle;\n",
       "    }\n",
       "\n",
       "    .dataframe tbody tr th {\n",
       "        vertical-align: top;\n",
       "    }\n",
       "\n",
       "    .dataframe thead th {\n",
       "        text-align: right;\n",
       "    }\n",
       "</style>\n",
       "<table border=\"1\" class=\"dataframe\">\n",
       "  <thead>\n",
       "    <tr style=\"text-align: right;\">\n",
       "      <th></th>\n",
       "      <th>size</th>\n",
       "      <th>total_sqft</th>\n",
       "      <th>bath</th>\n",
       "      <th>balcony</th>\n",
       "      <th>location_1st block hbr layout</th>\n",
       "      <th>location_1st block hrbr layout</th>\n",
       "      <th>location_1st block jayanagar</th>\n",
       "      <th>location_1st block koramangala</th>\n",
       "      <th>location_1st phase jp nagar</th>\n",
       "      <th>location_1st stage indira nagar</th>\n",
       "      <th>...</th>\n",
       "      <th>location_volagerekallahalli</th>\n",
       "      <th>location_whitefield</th>\n",
       "      <th>location_wilson garden</th>\n",
       "      <th>location_yelachenahalli</th>\n",
       "      <th>location_yelahanka</th>\n",
       "      <th>location_yelahanka new town</th>\n",
       "      <th>location_yelenahalli</th>\n",
       "      <th>location_yemlur</th>\n",
       "      <th>location_yeshwanthpur</th>\n",
       "      <th>location_yeshwanthpur industrial suburb</th>\n",
       "    </tr>\n",
       "  </thead>\n",
       "  <tbody>\n",
       "    <tr>\n",
       "      <th>0</th>\n",
       "      <td>0.058824</td>\n",
       "      <td>0.002258</td>\n",
       "      <td>0.000000</td>\n",
       "      <td>0.333333</td>\n",
       "      <td>0</td>\n",
       "      <td>0</td>\n",
       "      <td>0</td>\n",
       "      <td>0</td>\n",
       "      <td>0</td>\n",
       "      <td>0</td>\n",
       "      <td>...</td>\n",
       "      <td>0</td>\n",
       "      <td>0</td>\n",
       "      <td>0</td>\n",
       "      <td>0</td>\n",
       "      <td>0</td>\n",
       "      <td>0</td>\n",
       "      <td>0</td>\n",
       "      <td>0</td>\n",
       "      <td>0</td>\n",
       "      <td>0</td>\n",
       "    </tr>\n",
       "    <tr>\n",
       "      <th>1</th>\n",
       "      <td>0.117647</td>\n",
       "      <td>0.005013</td>\n",
       "      <td>0.058824</td>\n",
       "      <td>0.333333</td>\n",
       "      <td>0</td>\n",
       "      <td>0</td>\n",
       "      <td>0</td>\n",
       "      <td>0</td>\n",
       "      <td>0</td>\n",
       "      <td>0</td>\n",
       "      <td>...</td>\n",
       "      <td>0</td>\n",
       "      <td>0</td>\n",
       "      <td>0</td>\n",
       "      <td>0</td>\n",
       "      <td>0</td>\n",
       "      <td>0</td>\n",
       "      <td>0</td>\n",
       "      <td>0</td>\n",
       "      <td>0</td>\n",
       "      <td>0</td>\n",
       "    </tr>\n",
       "    <tr>\n",
       "      <th>2</th>\n",
       "      <td>0.117647</td>\n",
       "      <td>0.006372</td>\n",
       "      <td>0.117647</td>\n",
       "      <td>0.666667</td>\n",
       "      <td>0</td>\n",
       "      <td>0</td>\n",
       "      <td>0</td>\n",
       "      <td>0</td>\n",
       "      <td>0</td>\n",
       "      <td>0</td>\n",
       "      <td>...</td>\n",
       "      <td>0</td>\n",
       "      <td>1</td>\n",
       "      <td>0</td>\n",
       "      <td>0</td>\n",
       "      <td>0</td>\n",
       "      <td>0</td>\n",
       "      <td>0</td>\n",
       "      <td>0</td>\n",
       "      <td>0</td>\n",
       "      <td>0</td>\n",
       "    </tr>\n",
       "    <tr>\n",
       "      <th>3</th>\n",
       "      <td>0.058824</td>\n",
       "      <td>0.003597</td>\n",
       "      <td>0.058824</td>\n",
       "      <td>0.000000</td>\n",
       "      <td>0</td>\n",
       "      <td>0</td>\n",
       "      <td>0</td>\n",
       "      <td>0</td>\n",
       "      <td>0</td>\n",
       "      <td>0</td>\n",
       "      <td>...</td>\n",
       "      <td>0</td>\n",
       "      <td>0</td>\n",
       "      <td>0</td>\n",
       "      <td>0</td>\n",
       "      <td>0</td>\n",
       "      <td>0</td>\n",
       "      <td>0</td>\n",
       "      <td>0</td>\n",
       "      <td>0</td>\n",
       "      <td>0</td>\n",
       "    </tr>\n",
       "    <tr>\n",
       "      <th>4</th>\n",
       "      <td>0.000000</td>\n",
       "      <td>0.004937</td>\n",
       "      <td>0.000000</td>\n",
       "      <td>0.000000</td>\n",
       "      <td>0</td>\n",
       "      <td>0</td>\n",
       "      <td>0</td>\n",
       "      <td>0</td>\n",
       "      <td>0</td>\n",
       "      <td>0</td>\n",
       "      <td>...</td>\n",
       "      <td>0</td>\n",
       "      <td>0</td>\n",
       "      <td>0</td>\n",
       "      <td>0</td>\n",
       "      <td>0</td>\n",
       "      <td>0</td>\n",
       "      <td>0</td>\n",
       "      <td>0</td>\n",
       "      <td>0</td>\n",
       "      <td>0</td>\n",
       "    </tr>\n",
       "  </tbody>\n",
       "</table>\n",
       "<p>5 rows × 483 columns</p>\n",
       "</div>"
      ],
      "text/plain": [
       "       size  total_sqft      bath   balcony  location_1st block hbr layout  \\\n",
       "0  0.058824    0.002258  0.000000  0.333333                              0   \n",
       "1  0.117647    0.005013  0.058824  0.333333                              0   \n",
       "2  0.117647    0.006372  0.117647  0.666667                              0   \n",
       "3  0.058824    0.003597  0.058824  0.000000                              0   \n",
       "4  0.000000    0.004937  0.000000  0.000000                              0   \n",
       "\n",
       "   location_1st block hrbr layout  location_1st block jayanagar  \\\n",
       "0                               0                             0   \n",
       "1                               0                             0   \n",
       "2                               0                             0   \n",
       "3                               0                             0   \n",
       "4                               0                             0   \n",
       "\n",
       "   location_1st block koramangala  location_1st phase jp nagar  \\\n",
       "0                               0                            0   \n",
       "1                               0                            0   \n",
       "2                               0                            0   \n",
       "3                               0                            0   \n",
       "4                               0                            0   \n",
       "\n",
       "   location_1st stage indira nagar  ...  location_volagerekallahalli  \\\n",
       "0                                0  ...                            0   \n",
       "1                                0  ...                            0   \n",
       "2                                0  ...                            0   \n",
       "3                                0  ...                            0   \n",
       "4                                0  ...                            0   \n",
       "\n",
       "   location_whitefield  location_wilson garden  location_yelachenahalli  \\\n",
       "0                    0                       0                        0   \n",
       "1                    0                       0                        0   \n",
       "2                    1                       0                        0   \n",
       "3                    0                       0                        0   \n",
       "4                    0                       0                        0   \n",
       "\n",
       "   location_yelahanka  location_yelahanka new town  location_yelenahalli  \\\n",
       "0                   0                            0                     0   \n",
       "1                   0                            0                     0   \n",
       "2                   0                            0                     0   \n",
       "3                   0                            0                     0   \n",
       "4                   0                            0                     0   \n",
       "\n",
       "   location_yemlur  location_yeshwanthpur  \\\n",
       "0                0                      0   \n",
       "1                0                      0   \n",
       "2                0                      0   \n",
       "3                0                      0   \n",
       "4                0                      0   \n",
       "\n",
       "   location_yeshwanthpur industrial suburb  \n",
       "0                                        0  \n",
       "1                                        0  \n",
       "2                                        0  \n",
       "3                                        0  \n",
       "4                                        0  \n",
       "\n",
       "[5 rows x 483 columns]"
      ]
     },
     "execution_count": 1255,
     "metadata": {},
     "output_type": "execute_result"
    }
   ],
   "source": [
    "df_test_2 = dummies.copy()\n",
    "df_test_2.head()"
   ]
  },
  {
   "cell_type": "code",
   "execution_count": 1256,
   "id": "liable-works",
   "metadata": {},
   "outputs": [
    {
     "data": {
      "text/plain": [
       "(2664, 483)"
      ]
     },
     "execution_count": 1256,
     "metadata": {},
     "output_type": "execute_result"
    }
   ],
   "source": [
    "df_test_2.shape"
   ]
  },
  {
   "cell_type": "code",
   "execution_count": 1257,
   "id": "demonstrated-fleece",
   "metadata": {},
   "outputs": [
    {
     "data": {
      "text/plain": [
       "array([116.  , 230.  , 901.  , ...,  60.  ,  93.  , 159.75])"
      ]
     },
     "execution_count": 1257,
     "metadata": {},
     "output_type": "execute_result"
    }
   ],
   "source": [
    "y_test_pred = gs.predict(df_test_2)\n",
    "y_test_pred"
   ]
  },
  {
   "cell_type": "code",
   "execution_count": 1258,
   "id": "critical-lottery",
   "metadata": {},
   "outputs": [
    {
     "data": {
      "text/html": [
       "<div>\n",
       "<style scoped>\n",
       "    .dataframe tbody tr th:only-of-type {\n",
       "        vertical-align: middle;\n",
       "    }\n",
       "\n",
       "    .dataframe tbody tr th {\n",
       "        vertical-align: top;\n",
       "    }\n",
       "\n",
       "    .dataframe thead th {\n",
       "        text-align: right;\n",
       "    }\n",
       "</style>\n",
       "<table border=\"1\" class=\"dataframe\">\n",
       "  <thead>\n",
       "    <tr style=\"text-align: right;\">\n",
       "      <th></th>\n",
       "      <th>price</th>\n",
       "    </tr>\n",
       "    <tr>\n",
       "      <th>ID</th>\n",
       "      <th></th>\n",
       "    </tr>\n",
       "  </thead>\n",
       "  <tbody>\n",
       "    <tr>\n",
       "      <th>0</th>\n",
       "      <td>116.0</td>\n",
       "    </tr>\n",
       "    <tr>\n",
       "      <th>1</th>\n",
       "      <td>230.0</td>\n",
       "    </tr>\n",
       "    <tr>\n",
       "      <th>2</th>\n",
       "      <td>901.0</td>\n",
       "    </tr>\n",
       "    <tr>\n",
       "      <th>3</th>\n",
       "      <td>260.0</td>\n",
       "    </tr>\n",
       "    <tr>\n",
       "      <th>4</th>\n",
       "      <td>138.0</td>\n",
       "    </tr>\n",
       "  </tbody>\n",
       "</table>\n",
       "</div>"
      ],
      "text/plain": [
       "    price\n",
       "ID       \n",
       "0   116.0\n",
       "1   230.0\n",
       "2   901.0\n",
       "3   260.0\n",
       "4   138.0"
      ]
     },
     "execution_count": 1258,
     "metadata": {},
     "output_type": "execute_result"
    }
   ],
   "source": [
    "df_sol = pd.DataFrame()\n",
    "df_sol['price'] = y_test_pred\n",
    "df_sol.index.name='ID'\n",
    "df_sol.head()"
   ]
  },
  {
   "cell_type": "code",
   "execution_count": 1259,
   "id": "freelance-description",
   "metadata": {},
   "outputs": [],
   "source": [
    "df_sol.to_csv(\"sol_gs.csv\")"
   ]
  },
  {
   "cell_type": "markdown",
   "id": "architectural-mouth",
   "metadata": {},
   "source": [
    "### Using Elastic Regression Model"
   ]
  },
  {
   "cell_type": "code",
   "execution_count": 1260,
   "id": "chinese-colon",
   "metadata": {},
   "outputs": [
    {
     "data": {
      "text/plain": [
       "array([94.95514948, 96.4220652 , 97.29830754, ..., 95.83139182,\n",
       "       98.76522327, 94.36447609])"
      ]
     },
     "execution_count": 1260,
     "metadata": {},
     "output_type": "execute_result"
    }
   ],
   "source": [
    "y_pred_enet = enet_model.predict(df_test_2)\n",
    "y_pred_enet"
   ]
  },
  {
   "cell_type": "code",
   "execution_count": 1261,
   "id": "international-malta",
   "metadata": {},
   "outputs": [
    {
     "data": {
      "text/html": [
       "<div>\n",
       "<style scoped>\n",
       "    .dataframe tbody tr th:only-of-type {\n",
       "        vertical-align: middle;\n",
       "    }\n",
       "\n",
       "    .dataframe tbody tr th {\n",
       "        vertical-align: top;\n",
       "    }\n",
       "\n",
       "    .dataframe thead th {\n",
       "        text-align: right;\n",
       "    }\n",
       "</style>\n",
       "<table border=\"1\" class=\"dataframe\">\n",
       "  <thead>\n",
       "    <tr style=\"text-align: right;\">\n",
       "      <th></th>\n",
       "      <th>price</th>\n",
       "    </tr>\n",
       "    <tr>\n",
       "      <th>ID</th>\n",
       "      <th></th>\n",
       "    </tr>\n",
       "  </thead>\n",
       "  <tbody>\n",
       "    <tr>\n",
       "      <th>0</th>\n",
       "      <td>94.955149</td>\n",
       "    </tr>\n",
       "    <tr>\n",
       "      <th>1</th>\n",
       "      <td>96.422065</td>\n",
       "    </tr>\n",
       "    <tr>\n",
       "      <th>2</th>\n",
       "      <td>97.298308</td>\n",
       "    </tr>\n",
       "    <tr>\n",
       "      <th>3</th>\n",
       "      <td>95.831392</td>\n",
       "    </tr>\n",
       "    <tr>\n",
       "      <th>4</th>\n",
       "      <td>94.364476</td>\n",
       "    </tr>\n",
       "  </tbody>\n",
       "</table>\n",
       "</div>"
      ],
      "text/plain": [
       "        price\n",
       "ID           \n",
       "0   94.955149\n",
       "1   96.422065\n",
       "2   97.298308\n",
       "3   95.831392\n",
       "4   94.364476"
      ]
     },
     "execution_count": 1261,
     "metadata": {},
     "output_type": "execute_result"
    }
   ],
   "source": [
    "df_sol_enet = pd.DataFrame()\n",
    "df_sol_enet['price'] = y_pred_enet\n",
    "df_sol_enet.index.name='ID'\n",
    "df_sol_enet.head()"
   ]
  },
  {
   "cell_type": "code",
   "execution_count": 1262,
   "id": "industrial-equilibrium",
   "metadata": {},
   "outputs": [],
   "source": [
    "df_sol_enet.to_csv(\"sol_enet.csv\")"
   ]
  },
  {
   "cell_type": "markdown",
   "id": "after-reader",
   "metadata": {},
   "source": [
    "### Using Random Forest"
   ]
  },
  {
   "cell_type": "code",
   "execution_count": 1263,
   "id": "acknowledged-terry",
   "metadata": {},
   "outputs": [],
   "source": [
    "y_pred_RFC = RFC.predict(df_test_2)\n",
    "df_sol_RFC = pd.DataFrame()\n",
    "df_sol_RFC['price'] = y_pred_enet\n",
    "df_sol_RFC.index.name='ID'\n",
    "df_sol_RFC.to_csv(\"sol_RFC.csv\")"
   ]
  },
  {
   "cell_type": "markdown",
   "id": "neutral-liechtenstein",
   "metadata": {},
   "source": [
    "### Using GridSearch CV on Random Forest"
   ]
  },
  {
   "cell_type": "code",
   "execution_count": 1264,
   "id": "conditional-coach",
   "metadata": {},
   "outputs": [],
   "source": [
    "y_pred_GS_CV = gs_best.predict(df_test_2)\n",
    "df_sol_GS_CV = pd.DataFrame()\n",
    "df_sol_GS_CV['price'] = y_pred_GS_CV\n",
    "df_sol_GS_CV.index.name='ID'\n",
    "df_sol_GS_CV.to_csv(\"sol_GS_CV.csv\")"
   ]
  },
  {
   "cell_type": "code",
   "execution_count": 1265,
   "id": "hollywood-guinea",
   "metadata": {},
   "outputs": [],
   "source": [
    "y_pred_hgbr = est.predict(df_test_2)\n",
    "df_sol_hgbr = pd.DataFrame()\n",
    "df_sol_hgbr['price'] = y_pred_hgbr\n",
    "df_sol_hgbr.index.name='ID'\n",
    "df_sol_hgbr.to_csv(\"sol_HGBR.csv\")"
   ]
  },
  {
   "cell_type": "code",
   "execution_count": null,
   "id": "eligible-budapest",
   "metadata": {},
   "outputs": [],
   "source": []
  }
 ],
 "metadata": {
  "kernelspec": {
   "display_name": "Python 3",
   "language": "python",
   "name": "python3"
  },
  "language_info": {
   "codemirror_mode": {
    "name": "ipython",
    "version": 3
   },
   "file_extension": ".py",
   "mimetype": "text/x-python",
   "name": "python",
   "nbconvert_exporter": "python",
   "pygments_lexer": "ipython3",
   "version": "3.7.9"
  }
 },
 "nbformat": 4,
 "nbformat_minor": 5
}
